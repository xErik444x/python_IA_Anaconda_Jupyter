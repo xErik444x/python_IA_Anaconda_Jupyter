{
 "cells": [
  {
   "cell_type": "markdown",
   "id": "e5a2ce47",
   "metadata": {},
   "source": [
    "# Regresión Lineal"
   ]
  },
  {
   "cell_type": "code",
   "execution_count": 2,
   "id": "3ed61ad7",
   "metadata": {},
   "outputs": [],
   "source": [
    "import pandas as pd\n",
    "import numpy as np\n",
    "import matplotlib.pyplot as plt\n",
    "import seaborn as sns"
   ]
  },
  {
   "cell_type": "code",
   "execution_count": 3,
   "id": "119b1797",
   "metadata": {},
   "outputs": [
    {
     "data": {
      "text/plain": [
       "'C:\\\\Users\\\\erik_\\\\Curso-IA-Udemy\\\\Regresión lineal'"
      ]
     },
     "execution_count": 3,
     "metadata": {},
     "output_type": "execute_result"
    }
   ],
   "source": [
    "pwd"
   ]
  },
  {
   "cell_type": "code",
   "execution_count": 4,
   "id": "94daddf6",
   "metadata": {},
   "outputs": [
    {
     "name": "stdout",
     "output_type": "stream",
     "text": [
      "C:\\Users\\erik_\\Curso-IA-Udemy\\Regresión lineal\\datasets\n"
     ]
    }
   ],
   "source": [
    "cd ./datasets\n"
   ]
  },
  {
   "cell_type": "code",
   "execution_count": 5,
   "id": "649efd69",
   "metadata": {},
   "outputs": [
    {
     "data": {
      "text/plain": [
       "'C:\\\\Users\\\\erik_\\\\Curso-IA-Udemy\\\\Regresión lineal\\\\datasets'"
      ]
     },
     "execution_count": 5,
     "metadata": {},
     "output_type": "execute_result"
    }
   ],
   "source": [
    "pwd\n"
   ]
  },
  {
   "cell_type": "code",
   "execution_count": 6,
   "id": "15d58b25",
   "metadata": {},
   "outputs": [
    {
     "name": "stdout",
     "output_type": "stream",
     "text": [
      " El volumen de la unidad C no tiene etiqueta.\n",
      " El número de serie del volumen es: 9C30-9931\n",
      "\n",
      " Directorio de C:\\Users\\erik_\\Curso-IA-Udemy\\Regresión lineal\\datasets\n",
      "\n",
      "17/07/2021  13:35    <DIR>          .\n",
      "17/07/2021  13:35    <DIR>          ..\n",
      "17/07/2021  13:32           726.209 USA_Housing.csv\n",
      "               1 archivos        726.209 bytes\n",
      "               2 dirs  46.525.173.760 bytes libres\n"
     ]
    }
   ],
   "source": [
    "ls\n"
   ]
  },
  {
   "cell_type": "code",
   "execution_count": 7,
   "id": "5e1602c9",
   "metadata": {},
   "outputs": [],
   "source": [
    "casas = pd.read_csv(\"USA_Housing.csv\")"
   ]
  },
  {
   "cell_type": "code",
   "execution_count": 8,
   "id": "362d95fd",
   "metadata": {
    "scrolled": false
   },
   "outputs": [
    {
     "data": {
      "text/html": [
       "<div>\n",
       "<style scoped>\n",
       "    .dataframe tbody tr th:only-of-type {\n",
       "        vertical-align: middle;\n",
       "    }\n",
       "\n",
       "    .dataframe tbody tr th {\n",
       "        vertical-align: top;\n",
       "    }\n",
       "\n",
       "    .dataframe thead th {\n",
       "        text-align: right;\n",
       "    }\n",
       "</style>\n",
       "<table border=\"1\" class=\"dataframe\">\n",
       "  <thead>\n",
       "    <tr style=\"text-align: right;\">\n",
       "      <th></th>\n",
       "      <th>Avg. Area Income</th>\n",
       "      <th>Avg. Area House Age</th>\n",
       "      <th>Avg. Area Number of Rooms</th>\n",
       "      <th>Avg. Area Number of Bedrooms</th>\n",
       "      <th>Area Population</th>\n",
       "      <th>Price</th>\n",
       "      <th>Address</th>\n",
       "    </tr>\n",
       "  </thead>\n",
       "  <tbody>\n",
       "    <tr>\n",
       "      <th>0</th>\n",
       "      <td>79545.458574</td>\n",
       "      <td>5.682861</td>\n",
       "      <td>7.009188</td>\n",
       "      <td>4.09</td>\n",
       "      <td>23086.800503</td>\n",
       "      <td>1.059034e+06</td>\n",
       "      <td>208 Michael Ferry Apt. 674\\nLaurabury, NE 3701...</td>\n",
       "    </tr>\n",
       "    <tr>\n",
       "      <th>1</th>\n",
       "      <td>79248.642455</td>\n",
       "      <td>6.002900</td>\n",
       "      <td>6.730821</td>\n",
       "      <td>3.09</td>\n",
       "      <td>40173.072174</td>\n",
       "      <td>1.505891e+06</td>\n",
       "      <td>188 Johnson Views Suite 079\\nLake Kathleen, CA...</td>\n",
       "    </tr>\n",
       "    <tr>\n",
       "      <th>2</th>\n",
       "      <td>61287.067179</td>\n",
       "      <td>5.865890</td>\n",
       "      <td>8.512727</td>\n",
       "      <td>5.13</td>\n",
       "      <td>36882.159400</td>\n",
       "      <td>1.058988e+06</td>\n",
       "      <td>9127 Elizabeth Stravenue\\nDanieltown, WI 06482...</td>\n",
       "    </tr>\n",
       "    <tr>\n",
       "      <th>3</th>\n",
       "      <td>63345.240046</td>\n",
       "      <td>7.188236</td>\n",
       "      <td>5.586729</td>\n",
       "      <td>3.26</td>\n",
       "      <td>34310.242831</td>\n",
       "      <td>1.260617e+06</td>\n",
       "      <td>USS Barnett\\nFPO AP 44820</td>\n",
       "    </tr>\n",
       "    <tr>\n",
       "      <th>4</th>\n",
       "      <td>59982.197226</td>\n",
       "      <td>5.040555</td>\n",
       "      <td>7.839388</td>\n",
       "      <td>4.23</td>\n",
       "      <td>26354.109472</td>\n",
       "      <td>6.309435e+05</td>\n",
       "      <td>USNS Raymond\\nFPO AE 09386</td>\n",
       "    </tr>\n",
       "    <tr>\n",
       "      <th>...</th>\n",
       "      <td>...</td>\n",
       "      <td>...</td>\n",
       "      <td>...</td>\n",
       "      <td>...</td>\n",
       "      <td>...</td>\n",
       "      <td>...</td>\n",
       "      <td>...</td>\n",
       "    </tr>\n",
       "    <tr>\n",
       "      <th>4995</th>\n",
       "      <td>60567.944140</td>\n",
       "      <td>7.830362</td>\n",
       "      <td>6.137356</td>\n",
       "      <td>3.46</td>\n",
       "      <td>22837.361035</td>\n",
       "      <td>1.060194e+06</td>\n",
       "      <td>USNS Williams\\nFPO AP 30153-7653</td>\n",
       "    </tr>\n",
       "    <tr>\n",
       "      <th>4996</th>\n",
       "      <td>78491.275435</td>\n",
       "      <td>6.999135</td>\n",
       "      <td>6.576763</td>\n",
       "      <td>4.02</td>\n",
       "      <td>25616.115489</td>\n",
       "      <td>1.482618e+06</td>\n",
       "      <td>PSC 9258, Box 8489\\nAPO AA 42991-3352</td>\n",
       "    </tr>\n",
       "    <tr>\n",
       "      <th>4997</th>\n",
       "      <td>63390.686886</td>\n",
       "      <td>7.250591</td>\n",
       "      <td>4.805081</td>\n",
       "      <td>2.13</td>\n",
       "      <td>33266.145490</td>\n",
       "      <td>1.030730e+06</td>\n",
       "      <td>4215 Tracy Garden Suite 076\\nJoshualand, VA 01...</td>\n",
       "    </tr>\n",
       "    <tr>\n",
       "      <th>4998</th>\n",
       "      <td>68001.331235</td>\n",
       "      <td>5.534388</td>\n",
       "      <td>7.130144</td>\n",
       "      <td>5.44</td>\n",
       "      <td>42625.620156</td>\n",
       "      <td>1.198657e+06</td>\n",
       "      <td>USS Wallace\\nFPO AE 73316</td>\n",
       "    </tr>\n",
       "    <tr>\n",
       "      <th>4999</th>\n",
       "      <td>65510.581804</td>\n",
       "      <td>5.992305</td>\n",
       "      <td>6.792336</td>\n",
       "      <td>4.07</td>\n",
       "      <td>46501.283803</td>\n",
       "      <td>1.298950e+06</td>\n",
       "      <td>37778 George Ridges Apt. 509\\nEast Holly, NV 2...</td>\n",
       "    </tr>\n",
       "  </tbody>\n",
       "</table>\n",
       "<p>5000 rows × 7 columns</p>\n",
       "</div>"
      ],
      "text/plain": [
       "      Avg. Area Income  Avg. Area House Age  Avg. Area Number of Rooms  \\\n",
       "0         79545.458574             5.682861                   7.009188   \n",
       "1         79248.642455             6.002900                   6.730821   \n",
       "2         61287.067179             5.865890                   8.512727   \n",
       "3         63345.240046             7.188236                   5.586729   \n",
       "4         59982.197226             5.040555                   7.839388   \n",
       "...                ...                  ...                        ...   \n",
       "4995      60567.944140             7.830362                   6.137356   \n",
       "4996      78491.275435             6.999135                   6.576763   \n",
       "4997      63390.686886             7.250591                   4.805081   \n",
       "4998      68001.331235             5.534388                   7.130144   \n",
       "4999      65510.581804             5.992305                   6.792336   \n",
       "\n",
       "      Avg. Area Number of Bedrooms  Area Population         Price  \\\n",
       "0                             4.09     23086.800503  1.059034e+06   \n",
       "1                             3.09     40173.072174  1.505891e+06   \n",
       "2                             5.13     36882.159400  1.058988e+06   \n",
       "3                             3.26     34310.242831  1.260617e+06   \n",
       "4                             4.23     26354.109472  6.309435e+05   \n",
       "...                            ...              ...           ...   \n",
       "4995                          3.46     22837.361035  1.060194e+06   \n",
       "4996                          4.02     25616.115489  1.482618e+06   \n",
       "4997                          2.13     33266.145490  1.030730e+06   \n",
       "4998                          5.44     42625.620156  1.198657e+06   \n",
       "4999                          4.07     46501.283803  1.298950e+06   \n",
       "\n",
       "                                                Address  \n",
       "0     208 Michael Ferry Apt. 674\\nLaurabury, NE 3701...  \n",
       "1     188 Johnson Views Suite 079\\nLake Kathleen, CA...  \n",
       "2     9127 Elizabeth Stravenue\\nDanieltown, WI 06482...  \n",
       "3                             USS Barnett\\nFPO AP 44820  \n",
       "4                            USNS Raymond\\nFPO AE 09386  \n",
       "...                                                 ...  \n",
       "4995                   USNS Williams\\nFPO AP 30153-7653  \n",
       "4996              PSC 9258, Box 8489\\nAPO AA 42991-3352  \n",
       "4997  4215 Tracy Garden Suite 076\\nJoshualand, VA 01...  \n",
       "4998                          USS Wallace\\nFPO AE 73316  \n",
       "4999  37778 George Ridges Apt. 509\\nEast Holly, NV 2...  \n",
       "\n",
       "[5000 rows x 7 columns]"
      ]
     },
     "execution_count": 8,
     "metadata": {},
     "output_type": "execute_result"
    }
   ],
   "source": [
    "casas"
   ]
  },
  {
   "cell_type": "code",
   "execution_count": 9,
   "id": "85620fee",
   "metadata": {
    "scrolled": true
   },
   "outputs": [
    {
     "data": {
      "text/html": [
       "<div>\n",
       "<style scoped>\n",
       "    .dataframe tbody tr th:only-of-type {\n",
       "        vertical-align: middle;\n",
       "    }\n",
       "\n",
       "    .dataframe tbody tr th {\n",
       "        vertical-align: top;\n",
       "    }\n",
       "\n",
       "    .dataframe thead th {\n",
       "        text-align: right;\n",
       "    }\n",
       "</style>\n",
       "<table border=\"1\" class=\"dataframe\">\n",
       "  <thead>\n",
       "    <tr style=\"text-align: right;\">\n",
       "      <th></th>\n",
       "      <th>Avg. Area Income</th>\n",
       "      <th>Avg. Area House Age</th>\n",
       "      <th>Avg. Area Number of Rooms</th>\n",
       "      <th>Avg. Area Number of Bedrooms</th>\n",
       "      <th>Area Population</th>\n",
       "      <th>Price</th>\n",
       "      <th>Address</th>\n",
       "    </tr>\n",
       "  </thead>\n",
       "  <tbody>\n",
       "    <tr>\n",
       "      <th>0</th>\n",
       "      <td>79545.458574</td>\n",
       "      <td>5.682861</td>\n",
       "      <td>7.009188</td>\n",
       "      <td>4.09</td>\n",
       "      <td>23086.800503</td>\n",
       "      <td>1.059034e+06</td>\n",
       "      <td>208 Michael Ferry Apt. 674\\nLaurabury, NE 3701...</td>\n",
       "    </tr>\n",
       "    <tr>\n",
       "      <th>1</th>\n",
       "      <td>79248.642455</td>\n",
       "      <td>6.002900</td>\n",
       "      <td>6.730821</td>\n",
       "      <td>3.09</td>\n",
       "      <td>40173.072174</td>\n",
       "      <td>1.505891e+06</td>\n",
       "      <td>188 Johnson Views Suite 079\\nLake Kathleen, CA...</td>\n",
       "    </tr>\n",
       "    <tr>\n",
       "      <th>2</th>\n",
       "      <td>61287.067179</td>\n",
       "      <td>5.865890</td>\n",
       "      <td>8.512727</td>\n",
       "      <td>5.13</td>\n",
       "      <td>36882.159400</td>\n",
       "      <td>1.058988e+06</td>\n",
       "      <td>9127 Elizabeth Stravenue\\nDanieltown, WI 06482...</td>\n",
       "    </tr>\n",
       "    <tr>\n",
       "      <th>3</th>\n",
       "      <td>63345.240046</td>\n",
       "      <td>7.188236</td>\n",
       "      <td>5.586729</td>\n",
       "      <td>3.26</td>\n",
       "      <td>34310.242831</td>\n",
       "      <td>1.260617e+06</td>\n",
       "      <td>USS Barnett\\nFPO AP 44820</td>\n",
       "    </tr>\n",
       "    <tr>\n",
       "      <th>4</th>\n",
       "      <td>59982.197226</td>\n",
       "      <td>5.040555</td>\n",
       "      <td>7.839388</td>\n",
       "      <td>4.23</td>\n",
       "      <td>26354.109472</td>\n",
       "      <td>6.309435e+05</td>\n",
       "      <td>USNS Raymond\\nFPO AE 09386</td>\n",
       "    </tr>\n",
       "    <tr>\n",
       "      <th>5</th>\n",
       "      <td>80175.754159</td>\n",
       "      <td>4.988408</td>\n",
       "      <td>6.104512</td>\n",
       "      <td>4.04</td>\n",
       "      <td>26748.428425</td>\n",
       "      <td>1.068138e+06</td>\n",
       "      <td>06039 Jennifer Islands Apt. 443\\nTracyport, KS...</td>\n",
       "    </tr>\n",
       "    <tr>\n",
       "      <th>6</th>\n",
       "      <td>64698.463428</td>\n",
       "      <td>6.025336</td>\n",
       "      <td>8.147760</td>\n",
       "      <td>3.41</td>\n",
       "      <td>60828.249085</td>\n",
       "      <td>1.502056e+06</td>\n",
       "      <td>4759 Daniel Shoals Suite 442\\nNguyenburgh, CO ...</td>\n",
       "    </tr>\n",
       "    <tr>\n",
       "      <th>7</th>\n",
       "      <td>78394.339278</td>\n",
       "      <td>6.989780</td>\n",
       "      <td>6.620478</td>\n",
       "      <td>2.42</td>\n",
       "      <td>36516.358972</td>\n",
       "      <td>1.573937e+06</td>\n",
       "      <td>972 Joyce Viaduct\\nLake William, TN 17778-6483</td>\n",
       "    </tr>\n",
       "    <tr>\n",
       "      <th>8</th>\n",
       "      <td>59927.660813</td>\n",
       "      <td>5.362126</td>\n",
       "      <td>6.393121</td>\n",
       "      <td>2.30</td>\n",
       "      <td>29387.396003</td>\n",
       "      <td>7.988695e+05</td>\n",
       "      <td>USS Gilbert\\nFPO AA 20957</td>\n",
       "    </tr>\n",
       "    <tr>\n",
       "      <th>9</th>\n",
       "      <td>81885.927184</td>\n",
       "      <td>4.423672</td>\n",
       "      <td>8.167688</td>\n",
       "      <td>6.10</td>\n",
       "      <td>40149.965749</td>\n",
       "      <td>1.545155e+06</td>\n",
       "      <td>Unit 9446 Box 0958\\nDPO AE 97025</td>\n",
       "    </tr>\n",
       "    <tr>\n",
       "      <th>10</th>\n",
       "      <td>80527.472083</td>\n",
       "      <td>8.093513</td>\n",
       "      <td>5.042747</td>\n",
       "      <td>4.10</td>\n",
       "      <td>47224.359840</td>\n",
       "      <td>1.707046e+06</td>\n",
       "      <td>6368 John Motorway Suite 700\\nJanetbury, NM 26854</td>\n",
       "    </tr>\n",
       "    <tr>\n",
       "      <th>11</th>\n",
       "      <td>50593.695497</td>\n",
       "      <td>4.496513</td>\n",
       "      <td>7.467627</td>\n",
       "      <td>4.49</td>\n",
       "      <td>34343.991886</td>\n",
       "      <td>6.637324e+05</td>\n",
       "      <td>911 Castillo Park Apt. 717\\nDavisborough, PW 7...</td>\n",
       "    </tr>\n",
       "    <tr>\n",
       "      <th>12</th>\n",
       "      <td>39033.809237</td>\n",
       "      <td>7.671755</td>\n",
       "      <td>7.250029</td>\n",
       "      <td>3.10</td>\n",
       "      <td>39220.361467</td>\n",
       "      <td>1.042814e+06</td>\n",
       "      <td>209 Natasha Stream Suite 961\\nHuffmanland, NE ...</td>\n",
       "    </tr>\n",
       "    <tr>\n",
       "      <th>13</th>\n",
       "      <td>73163.663441</td>\n",
       "      <td>6.919535</td>\n",
       "      <td>5.993188</td>\n",
       "      <td>2.27</td>\n",
       "      <td>32326.123139</td>\n",
       "      <td>1.291332e+06</td>\n",
       "      <td>829 Welch Track Apt. 992\\nNorth John, AR 26532...</td>\n",
       "    </tr>\n",
       "    <tr>\n",
       "      <th>14</th>\n",
       "      <td>69391.380184</td>\n",
       "      <td>5.344776</td>\n",
       "      <td>8.406418</td>\n",
       "      <td>4.37</td>\n",
       "      <td>35521.294033</td>\n",
       "      <td>1.402818e+06</td>\n",
       "      <td>PSC 5330, Box 4420\\nAPO AP 08302</td>\n",
       "    </tr>\n",
       "    <tr>\n",
       "      <th>15</th>\n",
       "      <td>73091.866746</td>\n",
       "      <td>5.443156</td>\n",
       "      <td>8.517513</td>\n",
       "      <td>4.01</td>\n",
       "      <td>23929.524053</td>\n",
       "      <td>1.306675e+06</td>\n",
       "      <td>2278 Shannon View\\nNorth Carriemouth, NM 84617</td>\n",
       "    </tr>\n",
       "    <tr>\n",
       "      <th>16</th>\n",
       "      <td>79706.963058</td>\n",
       "      <td>5.067890</td>\n",
       "      <td>8.219771</td>\n",
       "      <td>3.12</td>\n",
       "      <td>39717.813576</td>\n",
       "      <td>1.556787e+06</td>\n",
       "      <td>064 Hayley Unions\\nNicholsborough, HI 44161-1887</td>\n",
       "    </tr>\n",
       "    <tr>\n",
       "      <th>17</th>\n",
       "      <td>61929.077018</td>\n",
       "      <td>4.788550</td>\n",
       "      <td>5.097010</td>\n",
       "      <td>4.30</td>\n",
       "      <td>24595.901498</td>\n",
       "      <td>5.284852e+05</td>\n",
       "      <td>5498 Rachel Locks\\nNew Gregoryshire, PW 54755</td>\n",
       "    </tr>\n",
       "    <tr>\n",
       "      <th>18</th>\n",
       "      <td>63508.194299</td>\n",
       "      <td>5.947165</td>\n",
       "      <td>7.187774</td>\n",
       "      <td>5.12</td>\n",
       "      <td>35719.653052</td>\n",
       "      <td>1.019426e+06</td>\n",
       "      <td>Unit 7424 Box 2786\\nDPO AE 71255</td>\n",
       "    </tr>\n",
       "    <tr>\n",
       "      <th>19</th>\n",
       "      <td>62085.276403</td>\n",
       "      <td>5.739411</td>\n",
       "      <td>7.091808</td>\n",
       "      <td>5.49</td>\n",
       "      <td>44922.106702</td>\n",
       "      <td>1.030591e+06</td>\n",
       "      <td>19696 Benjamin Cape\\nStephentown, ME 36952-4733</td>\n",
       "    </tr>\n",
       "  </tbody>\n",
       "</table>\n",
       "</div>"
      ],
      "text/plain": [
       "    Avg. Area Income  Avg. Area House Age  Avg. Area Number of Rooms  \\\n",
       "0       79545.458574             5.682861                   7.009188   \n",
       "1       79248.642455             6.002900                   6.730821   \n",
       "2       61287.067179             5.865890                   8.512727   \n",
       "3       63345.240046             7.188236                   5.586729   \n",
       "4       59982.197226             5.040555                   7.839388   \n",
       "5       80175.754159             4.988408                   6.104512   \n",
       "6       64698.463428             6.025336                   8.147760   \n",
       "7       78394.339278             6.989780                   6.620478   \n",
       "8       59927.660813             5.362126                   6.393121   \n",
       "9       81885.927184             4.423672                   8.167688   \n",
       "10      80527.472083             8.093513                   5.042747   \n",
       "11      50593.695497             4.496513                   7.467627   \n",
       "12      39033.809237             7.671755                   7.250029   \n",
       "13      73163.663441             6.919535                   5.993188   \n",
       "14      69391.380184             5.344776                   8.406418   \n",
       "15      73091.866746             5.443156                   8.517513   \n",
       "16      79706.963058             5.067890                   8.219771   \n",
       "17      61929.077018             4.788550                   5.097010   \n",
       "18      63508.194299             5.947165                   7.187774   \n",
       "19      62085.276403             5.739411                   7.091808   \n",
       "\n",
       "    Avg. Area Number of Bedrooms  Area Population         Price  \\\n",
       "0                           4.09     23086.800503  1.059034e+06   \n",
       "1                           3.09     40173.072174  1.505891e+06   \n",
       "2                           5.13     36882.159400  1.058988e+06   \n",
       "3                           3.26     34310.242831  1.260617e+06   \n",
       "4                           4.23     26354.109472  6.309435e+05   \n",
       "5                           4.04     26748.428425  1.068138e+06   \n",
       "6                           3.41     60828.249085  1.502056e+06   \n",
       "7                           2.42     36516.358972  1.573937e+06   \n",
       "8                           2.30     29387.396003  7.988695e+05   \n",
       "9                           6.10     40149.965749  1.545155e+06   \n",
       "10                          4.10     47224.359840  1.707046e+06   \n",
       "11                          4.49     34343.991886  6.637324e+05   \n",
       "12                          3.10     39220.361467  1.042814e+06   \n",
       "13                          2.27     32326.123139  1.291332e+06   \n",
       "14                          4.37     35521.294033  1.402818e+06   \n",
       "15                          4.01     23929.524053  1.306675e+06   \n",
       "16                          3.12     39717.813576  1.556787e+06   \n",
       "17                          4.30     24595.901498  5.284852e+05   \n",
       "18                          5.12     35719.653052  1.019426e+06   \n",
       "19                          5.49     44922.106702  1.030591e+06   \n",
       "\n",
       "                                              Address  \n",
       "0   208 Michael Ferry Apt. 674\\nLaurabury, NE 3701...  \n",
       "1   188 Johnson Views Suite 079\\nLake Kathleen, CA...  \n",
       "2   9127 Elizabeth Stravenue\\nDanieltown, WI 06482...  \n",
       "3                           USS Barnett\\nFPO AP 44820  \n",
       "4                          USNS Raymond\\nFPO AE 09386  \n",
       "5   06039 Jennifer Islands Apt. 443\\nTracyport, KS...  \n",
       "6   4759 Daniel Shoals Suite 442\\nNguyenburgh, CO ...  \n",
       "7      972 Joyce Viaduct\\nLake William, TN 17778-6483  \n",
       "8                           USS Gilbert\\nFPO AA 20957  \n",
       "9                    Unit 9446 Box 0958\\nDPO AE 97025  \n",
       "10  6368 John Motorway Suite 700\\nJanetbury, NM 26854  \n",
       "11  911 Castillo Park Apt. 717\\nDavisborough, PW 7...  \n",
       "12  209 Natasha Stream Suite 961\\nHuffmanland, NE ...  \n",
       "13  829 Welch Track Apt. 992\\nNorth John, AR 26532...  \n",
       "14                   PSC 5330, Box 4420\\nAPO AP 08302  \n",
       "15     2278 Shannon View\\nNorth Carriemouth, NM 84617  \n",
       "16   064 Hayley Unions\\nNicholsborough, HI 44161-1887  \n",
       "17      5498 Rachel Locks\\nNew Gregoryshire, PW 54755  \n",
       "18                   Unit 7424 Box 2786\\nDPO AE 71255  \n",
       "19    19696 Benjamin Cape\\nStephentown, ME 36952-4733  "
      ]
     },
     "execution_count": 9,
     "metadata": {},
     "output_type": "execute_result"
    }
   ],
   "source": [
    "casas.head(20)"
   ]
  },
  {
   "cell_type": "code",
   "execution_count": 10,
   "id": "8baf4bcd",
   "metadata": {},
   "outputs": [
    {
     "name": "stdout",
     "output_type": "stream",
     "text": [
      "<class 'pandas.core.frame.DataFrame'>\n",
      "RangeIndex: 5000 entries, 0 to 4999\n",
      "Data columns (total 7 columns):\n",
      " #   Column                        Non-Null Count  Dtype  \n",
      "---  ------                        --------------  -----  \n",
      " 0   Avg. Area Income              5000 non-null   float64\n",
      " 1   Avg. Area House Age           5000 non-null   float64\n",
      " 2   Avg. Area Number of Rooms     5000 non-null   float64\n",
      " 3   Avg. Area Number of Bedrooms  5000 non-null   float64\n",
      " 4   Area Population               5000 non-null   float64\n",
      " 5   Price                         5000 non-null   float64\n",
      " 6   Address                       5000 non-null   object \n",
      "dtypes: float64(6), object(1)\n",
      "memory usage: 273.6+ KB\n"
     ]
    }
   ],
   "source": [
    "casas.info()"
   ]
  },
  {
   "cell_type": "code",
   "execution_count": 11,
   "id": "116d6ec0",
   "metadata": {},
   "outputs": [
    {
     "data": {
      "text/html": [
       "<div>\n",
       "<style scoped>\n",
       "    .dataframe tbody tr th:only-of-type {\n",
       "        vertical-align: middle;\n",
       "    }\n",
       "\n",
       "    .dataframe tbody tr th {\n",
       "        vertical-align: top;\n",
       "    }\n",
       "\n",
       "    .dataframe thead th {\n",
       "        text-align: right;\n",
       "    }\n",
       "</style>\n",
       "<table border=\"1\" class=\"dataframe\">\n",
       "  <thead>\n",
       "    <tr style=\"text-align: right;\">\n",
       "      <th></th>\n",
       "      <th>Avg. Area Income</th>\n",
       "      <th>Avg. Area House Age</th>\n",
       "      <th>Avg. Area Number of Rooms</th>\n",
       "      <th>Avg. Area Number of Bedrooms</th>\n",
       "      <th>Area Population</th>\n",
       "      <th>Price</th>\n",
       "    </tr>\n",
       "  </thead>\n",
       "  <tbody>\n",
       "    <tr>\n",
       "      <th>count</th>\n",
       "      <td>5000.000000</td>\n",
       "      <td>5000.000000</td>\n",
       "      <td>5000.000000</td>\n",
       "      <td>5000.000000</td>\n",
       "      <td>5000.000000</td>\n",
       "      <td>5.000000e+03</td>\n",
       "    </tr>\n",
       "    <tr>\n",
       "      <th>mean</th>\n",
       "      <td>68583.108984</td>\n",
       "      <td>5.977222</td>\n",
       "      <td>6.987792</td>\n",
       "      <td>3.981330</td>\n",
       "      <td>36163.516039</td>\n",
       "      <td>1.232073e+06</td>\n",
       "    </tr>\n",
       "    <tr>\n",
       "      <th>std</th>\n",
       "      <td>10657.991214</td>\n",
       "      <td>0.991456</td>\n",
       "      <td>1.005833</td>\n",
       "      <td>1.234137</td>\n",
       "      <td>9925.650114</td>\n",
       "      <td>3.531176e+05</td>\n",
       "    </tr>\n",
       "    <tr>\n",
       "      <th>min</th>\n",
       "      <td>17796.631190</td>\n",
       "      <td>2.644304</td>\n",
       "      <td>3.236194</td>\n",
       "      <td>2.000000</td>\n",
       "      <td>172.610686</td>\n",
       "      <td>1.593866e+04</td>\n",
       "    </tr>\n",
       "    <tr>\n",
       "      <th>25%</th>\n",
       "      <td>61480.562388</td>\n",
       "      <td>5.322283</td>\n",
       "      <td>6.299250</td>\n",
       "      <td>3.140000</td>\n",
       "      <td>29403.928702</td>\n",
       "      <td>9.975771e+05</td>\n",
       "    </tr>\n",
       "    <tr>\n",
       "      <th>50%</th>\n",
       "      <td>68804.286404</td>\n",
       "      <td>5.970429</td>\n",
       "      <td>7.002902</td>\n",
       "      <td>4.050000</td>\n",
       "      <td>36199.406689</td>\n",
       "      <td>1.232669e+06</td>\n",
       "    </tr>\n",
       "    <tr>\n",
       "      <th>75%</th>\n",
       "      <td>75783.338666</td>\n",
       "      <td>6.650808</td>\n",
       "      <td>7.665871</td>\n",
       "      <td>4.490000</td>\n",
       "      <td>42861.290769</td>\n",
       "      <td>1.471210e+06</td>\n",
       "    </tr>\n",
       "    <tr>\n",
       "      <th>max</th>\n",
       "      <td>107701.748378</td>\n",
       "      <td>9.519088</td>\n",
       "      <td>10.759588</td>\n",
       "      <td>6.500000</td>\n",
       "      <td>69621.713378</td>\n",
       "      <td>2.469066e+06</td>\n",
       "    </tr>\n",
       "  </tbody>\n",
       "</table>\n",
       "</div>"
      ],
      "text/plain": [
       "       Avg. Area Income  Avg. Area House Age  Avg. Area Number of Rooms  \\\n",
       "count       5000.000000          5000.000000                5000.000000   \n",
       "mean       68583.108984             5.977222                   6.987792   \n",
       "std        10657.991214             0.991456                   1.005833   \n",
       "min        17796.631190             2.644304                   3.236194   \n",
       "25%        61480.562388             5.322283                   6.299250   \n",
       "50%        68804.286404             5.970429                   7.002902   \n",
       "75%        75783.338666             6.650808                   7.665871   \n",
       "max       107701.748378             9.519088                  10.759588   \n",
       "\n",
       "       Avg. Area Number of Bedrooms  Area Population         Price  \n",
       "count                   5000.000000      5000.000000  5.000000e+03  \n",
       "mean                       3.981330     36163.516039  1.232073e+06  \n",
       "std                        1.234137      9925.650114  3.531176e+05  \n",
       "min                        2.000000       172.610686  1.593866e+04  \n",
       "25%                        3.140000     29403.928702  9.975771e+05  \n",
       "50%                        4.050000     36199.406689  1.232669e+06  \n",
       "75%                        4.490000     42861.290769  1.471210e+06  \n",
       "max                        6.500000     69621.713378  2.469066e+06  "
      ]
     },
     "execution_count": 11,
     "metadata": {},
     "output_type": "execute_result"
    }
   ],
   "source": [
    "casas.describe()"
   ]
  },
  {
   "cell_type": "code",
   "execution_count": 12,
   "id": "e8dc753e",
   "metadata": {},
   "outputs": [
    {
     "data": {
      "text/plain": [
       "Index(['Avg. Area Income', 'Avg. Area House Age', 'Avg. Area Number of Rooms',\n",
       "       'Avg. Area Number of Bedrooms', 'Area Population', 'Price', 'Address'],\n",
       "      dtype='object')"
      ]
     },
     "execution_count": 12,
     "metadata": {},
     "output_type": "execute_result"
    }
   ],
   "source": [
    "casas.columns"
   ]
  },
  {
   "cell_type": "code",
   "execution_count": 13,
   "id": "8929a736",
   "metadata": {},
   "outputs": [
    {
     "data": {
      "text/plain": [
       "0       1.059034e+06\n",
       "1       1.505891e+06\n",
       "2       1.058988e+06\n",
       "3       1.260617e+06\n",
       "4       6.309435e+05\n",
       "            ...     \n",
       "4995    1.060194e+06\n",
       "4996    1.482618e+06\n",
       "4997    1.030730e+06\n",
       "4998    1.198657e+06\n",
       "4999    1.298950e+06\n",
       "Name: Price, Length: 5000, dtype: float64"
      ]
     },
     "execution_count": 13,
     "metadata": {},
     "output_type": "execute_result"
    }
   ],
   "source": [
    "casas[\"Price\"]"
   ]
  },
  {
   "cell_type": "code",
   "execution_count": 18,
   "id": "d09a7ed7",
   "metadata": {},
   "outputs": [
    {
     "name": "stderr",
     "output_type": "stream",
     "text": [
      "H:\\programasparapython\\Anaconda3\\lib\\site-packages\\seaborn\\distributions.py:2557: FutureWarning: `distplot` is a deprecated function and will be removed in a future version. Please adapt your code to use either `displot` (a figure-level function with similar flexibility) or `histplot` (an axes-level function for histograms).\n",
      "  warnings.warn(msg, FutureWarning)\n"
     ]
    },
    {
     "data": {
      "text/plain": [
       "<AxesSubplot:xlabel='Price', ylabel='Density'>"
      ]
     },
     "execution_count": 18,
     "metadata": {},
     "output_type": "execute_result"
    },
    {
     "data": {
      "image/png": "[encoded data removed]",
      "text/plain": [
       "<Figure size 432x288 with 1 Axes>"
      ]
     },
     "metadata": {
      "needs_background": "light"
     },
     "output_type": "display_data"
    }
   ],
   "source": [
    "sns.distplot(casas[\"Price\"])"
   ]
  },
  {
   "cell_type": "code",
   "execution_count": 21,
   "id": "9e19cfe0",
   "metadata": {},
   "outputs": [
    {
     "data": {
      "text/plain": [
       "<AxesSubplot:>"
      ]
     },
     "execution_count": 21,
     "metadata": {},
     "output_type": "execute_result"
    },
    {
     "data": {
      "image/png": "[encoded data removed]",
      "text/plain": [
       "<Figure size 432x288 with 2 Axes>"
      ]
     },
     "metadata": {
      "needs_background": "light"
     },
     "output_type": "display_data"
    }
   ],
   "source": [
    "sns.heatmap(casas.corr(),annot=True) #corr, relacion entre las columnas"
   ]
  },
  {
   "cell_type": "markdown",
   "id": "d7683ea0",
   "metadata": {},
   "source": [
    "# machine learning"
   ]
  },
  {
   "cell_type": "code",
   "execution_count": 22,
   "id": "a1006577",
   "metadata": {},
   "outputs": [],
   "source": [
    "from sklearn.model_selection import train_test_split\n",
    "from sklearn.linear_model import LinearRegression"
   ]
  },
  {
   "cell_type": "code",
   "execution_count": 23,
   "id": "f329df62",
   "metadata": {},
   "outputs": [
    {
     "data": {
      "text/html": [
       "<div>\n",
       "<style scoped>\n",
       "    .dataframe tbody tr th:only-of-type {\n",
       "        vertical-align: middle;\n",
       "    }\n",
       "\n",
       "    .dataframe tbody tr th {\n",
       "        vertical-align: top;\n",
       "    }\n",
       "\n",
       "    .dataframe thead th {\n",
       "        text-align: right;\n",
       "    }\n",
       "</style>\n",
       "<table border=\"1\" class=\"dataframe\">\n",
       "  <thead>\n",
       "    <tr style=\"text-align: right;\">\n",
       "      <th></th>\n",
       "      <th>Avg. Area Income</th>\n",
       "      <th>Avg. Area House Age</th>\n",
       "      <th>Avg. Area Number of Rooms</th>\n",
       "      <th>Avg. Area Number of Bedrooms</th>\n",
       "      <th>Area Population</th>\n",
       "      <th>Price</th>\n",
       "      <th>Address</th>\n",
       "    </tr>\n",
       "  </thead>\n",
       "  <tbody>\n",
       "    <tr>\n",
       "      <th>0</th>\n",
       "      <td>79545.458574</td>\n",
       "      <td>5.682861</td>\n",
       "      <td>7.009188</td>\n",
       "      <td>4.09</td>\n",
       "      <td>23086.800503</td>\n",
       "      <td>1.059034e+06</td>\n",
       "      <td>208 Michael Ferry Apt. 674\\nLaurabury, NE 3701...</td>\n",
       "    </tr>\n",
       "    <tr>\n",
       "      <th>1</th>\n",
       "      <td>79248.642455</td>\n",
       "      <td>6.002900</td>\n",
       "      <td>6.730821</td>\n",
       "      <td>3.09</td>\n",
       "      <td>40173.072174</td>\n",
       "      <td>1.505891e+06</td>\n",
       "      <td>188 Johnson Views Suite 079\\nLake Kathleen, CA...</td>\n",
       "    </tr>\n",
       "    <tr>\n",
       "      <th>2</th>\n",
       "      <td>61287.067179</td>\n",
       "      <td>5.865890</td>\n",
       "      <td>8.512727</td>\n",
       "      <td>5.13</td>\n",
       "      <td>36882.159400</td>\n",
       "      <td>1.058988e+06</td>\n",
       "      <td>9127 Elizabeth Stravenue\\nDanieltown, WI 06482...</td>\n",
       "    </tr>\n",
       "    <tr>\n",
       "      <th>3</th>\n",
       "      <td>63345.240046</td>\n",
       "      <td>7.188236</td>\n",
       "      <td>5.586729</td>\n",
       "      <td>3.26</td>\n",
       "      <td>34310.242831</td>\n",
       "      <td>1.260617e+06</td>\n",
       "      <td>USS Barnett\\nFPO AP 44820</td>\n",
       "    </tr>\n",
       "    <tr>\n",
       "      <th>4</th>\n",
       "      <td>59982.197226</td>\n",
       "      <td>5.040555</td>\n",
       "      <td>7.839388</td>\n",
       "      <td>4.23</td>\n",
       "      <td>26354.109472</td>\n",
       "      <td>6.309435e+05</td>\n",
       "      <td>USNS Raymond\\nFPO AE 09386</td>\n",
       "    </tr>\n",
       "  </tbody>\n",
       "</table>\n",
       "</div>"
      ],
      "text/plain": [
       "   Avg. Area Income  Avg. Area House Age  Avg. Area Number of Rooms  \\\n",
       "0      79545.458574             5.682861                   7.009188   \n",
       "1      79248.642455             6.002900                   6.730821   \n",
       "2      61287.067179             5.865890                   8.512727   \n",
       "3      63345.240046             7.188236                   5.586729   \n",
       "4      59982.197226             5.040555                   7.839388   \n",
       "\n",
       "   Avg. Area Number of Bedrooms  Area Population         Price  \\\n",
       "0                          4.09     23086.800503  1.059034e+06   \n",
       "1                          3.09     40173.072174  1.505891e+06   \n",
       "2                          5.13     36882.159400  1.058988e+06   \n",
       "3                          3.26     34310.242831  1.260617e+06   \n",
       "4                          4.23     26354.109472  6.309435e+05   \n",
       "\n",
       "                                             Address  \n",
       "0  208 Michael Ferry Apt. 674\\nLaurabury, NE 3701...  \n",
       "1  188 Johnson Views Suite 079\\nLake Kathleen, CA...  \n",
       "2  9127 Elizabeth Stravenue\\nDanieltown, WI 06482...  \n",
       "3                          USS Barnett\\nFPO AP 44820  \n",
       "4                         USNS Raymond\\nFPO AE 09386  "
      ]
     },
     "execution_count": 23,
     "metadata": {},
     "output_type": "execute_result"
    }
   ],
   "source": [
    "casas.head()"
   ]
  },
  {
   "cell_type": "code",
   "execution_count": 25,
   "id": "3637092f",
   "metadata": {},
   "outputs": [
    {
     "data": {
      "text/plain": [
       "Index(['Avg. Area Income', 'Avg. Area House Age', 'Avg. Area Number of Rooms',\n",
       "       'Avg. Area Number of Bedrooms', 'Area Population', 'Price', 'Address'],\n",
       "      dtype='object')"
      ]
     },
     "execution_count": 25,
     "metadata": {},
     "output_type": "execute_result"
    }
   ],
   "source": [
    "casas.columns"
   ]
  },
  {
   "cell_type": "code",
   "execution_count": 28,
   "id": "c5ca610e",
   "metadata": {},
   "outputs": [],
   "source": [
    "#x las numericas, la Y la variable objetivo, en este caso es el precio.\n",
    "#Queremos adivinar un precio a futuro segun las caracteristicas"
   ]
  },
  {
   "cell_type": "code",
   "execution_count": 32,
   "id": "4ac9d39c",
   "metadata": {},
   "outputs": [],
   "source": [
    "X = casas[['Avg. Area Income', 'Avg. Area House Age',\n",
    "           'Avg. Area Number of Rooms','Avg. Area Number of Bedrooms',\n",
    "           'Area Population']]"
   ]
  },
  {
   "cell_type": "code",
   "execution_count": 33,
   "id": "84b2c53a",
   "metadata": {},
   "outputs": [
    {
     "data": {
      "text/html": [
       "<div>\n",
       "<style scoped>\n",
       "    .dataframe tbody tr th:only-of-type {\n",
       "        vertical-align: middle;\n",
       "    }\n",
       "\n",
       "    .dataframe tbody tr th {\n",
       "        vertical-align: top;\n",
       "    }\n",
       "\n",
       "    .dataframe thead th {\n",
       "        text-align: right;\n",
       "    }\n",
       "</style>\n",
       "<table border=\"1\" class=\"dataframe\">\n",
       "  <thead>\n",
       "    <tr style=\"text-align: right;\">\n",
       "      <th></th>\n",
       "      <th>Avg. Area Income</th>\n",
       "      <th>Avg. Area House Age</th>\n",
       "      <th>Avg. Area Number of Rooms</th>\n",
       "      <th>Avg. Area Number of Bedrooms</th>\n",
       "      <th>Area Population</th>\n",
       "    </tr>\n",
       "  </thead>\n",
       "  <tbody>\n",
       "    <tr>\n",
       "      <th>0</th>\n",
       "      <td>79545.458574</td>\n",
       "      <td>5.682861</td>\n",
       "      <td>7.009188</td>\n",
       "      <td>4.09</td>\n",
       "      <td>23086.800503</td>\n",
       "    </tr>\n",
       "    <tr>\n",
       "      <th>1</th>\n",
       "      <td>79248.642455</td>\n",
       "      <td>6.002900</td>\n",
       "      <td>6.730821</td>\n",
       "      <td>3.09</td>\n",
       "      <td>40173.072174</td>\n",
       "    </tr>\n",
       "    <tr>\n",
       "      <th>2</th>\n",
       "      <td>61287.067179</td>\n",
       "      <td>5.865890</td>\n",
       "      <td>8.512727</td>\n",
       "      <td>5.13</td>\n",
       "      <td>36882.159400</td>\n",
       "    </tr>\n",
       "    <tr>\n",
       "      <th>3</th>\n",
       "      <td>63345.240046</td>\n",
       "      <td>7.188236</td>\n",
       "      <td>5.586729</td>\n",
       "      <td>3.26</td>\n",
       "      <td>34310.242831</td>\n",
       "    </tr>\n",
       "    <tr>\n",
       "      <th>4</th>\n",
       "      <td>59982.197226</td>\n",
       "      <td>5.040555</td>\n",
       "      <td>7.839388</td>\n",
       "      <td>4.23</td>\n",
       "      <td>26354.109472</td>\n",
       "    </tr>\n",
       "    <tr>\n",
       "      <th>...</th>\n",
       "      <td>...</td>\n",
       "      <td>...</td>\n",
       "      <td>...</td>\n",
       "      <td>...</td>\n",
       "      <td>...</td>\n",
       "    </tr>\n",
       "    <tr>\n",
       "      <th>4995</th>\n",
       "      <td>60567.944140</td>\n",
       "      <td>7.830362</td>\n",
       "      <td>6.137356</td>\n",
       "      <td>3.46</td>\n",
       "      <td>22837.361035</td>\n",
       "    </tr>\n",
       "    <tr>\n",
       "      <th>4996</th>\n",
       "      <td>78491.275435</td>\n",
       "      <td>6.999135</td>\n",
       "      <td>6.576763</td>\n",
       "      <td>4.02</td>\n",
       "      <td>25616.115489</td>\n",
       "    </tr>\n",
       "    <tr>\n",
       "      <th>4997</th>\n",
       "      <td>63390.686886</td>\n",
       "      <td>7.250591</td>\n",
       "      <td>4.805081</td>\n",
       "      <td>2.13</td>\n",
       "      <td>33266.145490</td>\n",
       "    </tr>\n",
       "    <tr>\n",
       "      <th>4998</th>\n",
       "      <td>68001.331235</td>\n",
       "      <td>5.534388</td>\n",
       "      <td>7.130144</td>\n",
       "      <td>5.44</td>\n",
       "      <td>42625.620156</td>\n",
       "    </tr>\n",
       "    <tr>\n",
       "      <th>4999</th>\n",
       "      <td>65510.581804</td>\n",
       "      <td>5.992305</td>\n",
       "      <td>6.792336</td>\n",
       "      <td>4.07</td>\n",
       "      <td>46501.283803</td>\n",
       "    </tr>\n",
       "  </tbody>\n",
       "</table>\n",
       "<p>5000 rows × 5 columns</p>\n",
       "</div>"
      ],
      "text/plain": [
       "      Avg. Area Income  Avg. Area House Age  Avg. Area Number of Rooms  \\\n",
       "0         79545.458574             5.682861                   7.009188   \n",
       "1         79248.642455             6.002900                   6.730821   \n",
       "2         61287.067179             5.865890                   8.512727   \n",
       "3         63345.240046             7.188236                   5.586729   \n",
       "4         59982.197226             5.040555                   7.839388   \n",
       "...                ...                  ...                        ...   \n",
       "4995      60567.944140             7.830362                   6.137356   \n",
       "4996      78491.275435             6.999135                   6.576763   \n",
       "4997      63390.686886             7.250591                   4.805081   \n",
       "4998      68001.331235             5.534388                   7.130144   \n",
       "4999      65510.581804             5.992305                   6.792336   \n",
       "\n",
       "      Avg. Area Number of Bedrooms  Area Population  \n",
       "0                             4.09     23086.800503  \n",
       "1                             3.09     40173.072174  \n",
       "2                             5.13     36882.159400  \n",
       "3                             3.26     34310.242831  \n",
       "4                             4.23     26354.109472  \n",
       "...                            ...              ...  \n",
       "4995                          3.46     22837.361035  \n",
       "4996                          4.02     25616.115489  \n",
       "4997                          2.13     33266.145490  \n",
       "4998                          5.44     42625.620156  \n",
       "4999                          4.07     46501.283803  \n",
       "\n",
       "[5000 rows x 5 columns]"
      ]
     },
     "execution_count": 33,
     "metadata": {},
     "output_type": "execute_result"
    }
   ],
   "source": [
    "X"
   ]
  },
  {
   "cell_type": "code",
   "execution_count": 34,
   "id": "19cf795b",
   "metadata": {},
   "outputs": [],
   "source": [
    "Y = casas[\"Price\"]"
   ]
  },
  {
   "cell_type": "code",
   "execution_count": 71,
   "id": "c2628c6b",
   "metadata": {},
   "outputs": [],
   "source": [
    "X_train, X_test, Y_train, Y_test = train_test_split(X,Y,test_size=0.3,random_state=42) #dejamos el 30% para pruebas\n",
    "#el random_state es la seed para hacer un random"
   ]
  },
  {
   "cell_type": "code",
   "execution_count": 72,
   "id": "eefe9491",
   "metadata": {},
   "outputs": [
    {
     "data": {
      "text/html": [
       "<div>\n",
       "<style scoped>\n",
       "    .dataframe tbody tr th:only-of-type {\n",
       "        vertical-align: middle;\n",
       "    }\n",
       "\n",
       "    .dataframe tbody tr th {\n",
       "        vertical-align: top;\n",
       "    }\n",
       "\n",
       "    .dataframe thead th {\n",
       "        text-align: right;\n",
       "    }\n",
       "</style>\n",
       "<table border=\"1\" class=\"dataframe\">\n",
       "  <thead>\n",
       "    <tr style=\"text-align: right;\">\n",
       "      <th></th>\n",
       "      <th>Avg. Area Income</th>\n",
       "      <th>Avg. Area House Age</th>\n",
       "      <th>Avg. Area Number of Rooms</th>\n",
       "      <th>Avg. Area Number of Bedrooms</th>\n",
       "      <th>Area Population</th>\n",
       "    </tr>\n",
       "  </thead>\n",
       "  <tbody>\n",
       "    <tr>\n",
       "      <th>1840</th>\n",
       "      <td>55245.337288</td>\n",
       "      <td>3.965745</td>\n",
       "      <td>8.961106</td>\n",
       "      <td>4.38</td>\n",
       "      <td>43557.943435</td>\n",
       "    </tr>\n",
       "    <tr>\n",
       "      <th>2115</th>\n",
       "      <td>62305.638407</td>\n",
       "      <td>6.490769</td>\n",
       "      <td>7.647362</td>\n",
       "      <td>3.19</td>\n",
       "      <td>47066.617420</td>\n",
       "    </tr>\n",
       "    <tr>\n",
       "      <th>4437</th>\n",
       "      <td>77345.472379</td>\n",
       "      <td>5.407515</td>\n",
       "      <td>8.243178</td>\n",
       "      <td>3.11</td>\n",
       "      <td>26706.911029</td>\n",
       "    </tr>\n",
       "    <tr>\n",
       "      <th>1146</th>\n",
       "      <td>65846.171039</td>\n",
       "      <td>6.385374</td>\n",
       "      <td>6.804131</td>\n",
       "      <td>3.18</td>\n",
       "      <td>28214.363551</td>\n",
       "    </tr>\n",
       "    <tr>\n",
       "      <th>2486</th>\n",
       "      <td>69350.793357</td>\n",
       "      <td>6.910415</td>\n",
       "      <td>8.288048</td>\n",
       "      <td>4.29</td>\n",
       "      <td>36779.058567</td>\n",
       "    </tr>\n",
       "    <tr>\n",
       "      <th>...</th>\n",
       "      <td>...</td>\n",
       "      <td>...</td>\n",
       "      <td>...</td>\n",
       "      <td>...</td>\n",
       "      <td>...</td>\n",
       "    </tr>\n",
       "    <tr>\n",
       "      <th>4426</th>\n",
       "      <td>76223.561256</td>\n",
       "      <td>6.371627</td>\n",
       "      <td>5.342217</td>\n",
       "      <td>2.42</td>\n",
       "      <td>30165.337445</td>\n",
       "    </tr>\n",
       "    <tr>\n",
       "      <th>466</th>\n",
       "      <td>56685.014442</td>\n",
       "      <td>6.958045</td>\n",
       "      <td>7.502115</td>\n",
       "      <td>3.38</td>\n",
       "      <td>43322.166854</td>\n",
       "    </tr>\n",
       "    <tr>\n",
       "      <th>3092</th>\n",
       "      <td>66195.337714</td>\n",
       "      <td>6.507971</td>\n",
       "      <td>6.611861</td>\n",
       "      <td>3.14</td>\n",
       "      <td>37288.923574</td>\n",
       "    </tr>\n",
       "    <tr>\n",
       "      <th>3772</th>\n",
       "      <td>58694.515017</td>\n",
       "      <td>7.394768</td>\n",
       "      <td>9.269453</td>\n",
       "      <td>4.32</td>\n",
       "      <td>49960.977236</td>\n",
       "    </tr>\n",
       "    <tr>\n",
       "      <th>860</th>\n",
       "      <td>61162.580254</td>\n",
       "      <td>5.896316</td>\n",
       "      <td>7.880521</td>\n",
       "      <td>6.04</td>\n",
       "      <td>36033.701431</td>\n",
       "    </tr>\n",
       "  </tbody>\n",
       "</table>\n",
       "<p>3500 rows × 5 columns</p>\n",
       "</div>"
      ],
      "text/plain": [
       "      Avg. Area Income  Avg. Area House Age  Avg. Area Number of Rooms  \\\n",
       "1840      55245.337288             3.965745                   8.961106   \n",
       "2115      62305.638407             6.490769                   7.647362   \n",
       "4437      77345.472379             5.407515                   8.243178   \n",
       "1146      65846.171039             6.385374                   6.804131   \n",
       "2486      69350.793357             6.910415                   8.288048   \n",
       "...                ...                  ...                        ...   \n",
       "4426      76223.561256             6.371627                   5.342217   \n",
       "466       56685.014442             6.958045                   7.502115   \n",
       "3092      66195.337714             6.507971                   6.611861   \n",
       "3772      58694.515017             7.394768                   9.269453   \n",
       "860       61162.580254             5.896316                   7.880521   \n",
       "\n",
       "      Avg. Area Number of Bedrooms  Area Population  \n",
       "1840                          4.38     43557.943435  \n",
       "2115                          3.19     47066.617420  \n",
       "4437                          3.11     26706.911029  \n",
       "1146                          3.18     28214.363551  \n",
       "2486                          4.29     36779.058567  \n",
       "...                            ...              ...  \n",
       "4426                          2.42     30165.337445  \n",
       "466                           3.38     43322.166854  \n",
       "3092                          3.14     37288.923574  \n",
       "3772                          4.32     49960.977236  \n",
       "860                           6.04     36033.701431  \n",
       "\n",
       "[3500 rows x 5 columns]"
      ]
     },
     "execution_count": 72,
     "metadata": {},
     "output_type": "execute_result"
    }
   ],
   "source": [
    "X_train"
   ]
  },
  {
   "cell_type": "code",
   "execution_count": 73,
   "id": "9fb82ecc",
   "metadata": {},
   "outputs": [
    {
     "data": {
      "text/html": [
       "<div>\n",
       "<style scoped>\n",
       "    .dataframe tbody tr th:only-of-type {\n",
       "        vertical-align: middle;\n",
       "    }\n",
       "\n",
       "    .dataframe tbody tr th {\n",
       "        vertical-align: top;\n",
       "    }\n",
       "\n",
       "    .dataframe thead th {\n",
       "        text-align: right;\n",
       "    }\n",
       "</style>\n",
       "<table border=\"1\" class=\"dataframe\">\n",
       "  <thead>\n",
       "    <tr style=\"text-align: right;\">\n",
       "      <th></th>\n",
       "      <th>Avg. Area Income</th>\n",
       "      <th>Avg. Area House Age</th>\n",
       "      <th>Avg. Area Number of Rooms</th>\n",
       "      <th>Avg. Area Number of Bedrooms</th>\n",
       "      <th>Area Population</th>\n",
       "    </tr>\n",
       "  </thead>\n",
       "  <tbody>\n",
       "    <tr>\n",
       "      <th>1501</th>\n",
       "      <td>61907.593345</td>\n",
       "      <td>7.017838</td>\n",
       "      <td>6.440256</td>\n",
       "      <td>3.25</td>\n",
       "      <td>43828.947207</td>\n",
       "    </tr>\n",
       "    <tr>\n",
       "      <th>2586</th>\n",
       "      <td>57160.202243</td>\n",
       "      <td>6.893260</td>\n",
       "      <td>6.921532</td>\n",
       "      <td>3.13</td>\n",
       "      <td>43467.147035</td>\n",
       "    </tr>\n",
       "    <tr>\n",
       "      <th>2653</th>\n",
       "      <td>70190.796445</td>\n",
       "      <td>6.745054</td>\n",
       "      <td>6.662567</td>\n",
       "      <td>2.01</td>\n",
       "      <td>29215.136112</td>\n",
       "    </tr>\n",
       "    <tr>\n",
       "      <th>1055</th>\n",
       "      <td>69316.796889</td>\n",
       "      <td>6.300409</td>\n",
       "      <td>7.873576</td>\n",
       "      <td>4.28</td>\n",
       "      <td>24448.211461</td>\n",
       "    </tr>\n",
       "    <tr>\n",
       "      <th>705</th>\n",
       "      <td>72991.481649</td>\n",
       "      <td>3.412866</td>\n",
       "      <td>6.494081</td>\n",
       "      <td>2.48</td>\n",
       "      <td>50626.495426</td>\n",
       "    </tr>\n",
       "    <tr>\n",
       "      <th>...</th>\n",
       "      <td>...</td>\n",
       "      <td>...</td>\n",
       "      <td>...</td>\n",
       "      <td>...</td>\n",
       "      <td>...</td>\n",
       "    </tr>\n",
       "    <tr>\n",
       "      <th>3563</th>\n",
       "      <td>74208.124644</td>\n",
       "      <td>6.259782</td>\n",
       "      <td>8.666717</td>\n",
       "      <td>3.38</td>\n",
       "      <td>25507.336340</td>\n",
       "    </tr>\n",
       "    <tr>\n",
       "      <th>1538</th>\n",
       "      <td>71112.350296</td>\n",
       "      <td>5.612677</td>\n",
       "      <td>7.419542</td>\n",
       "      <td>4.26</td>\n",
       "      <td>24134.413996</td>\n",
       "    </tr>\n",
       "    <tr>\n",
       "      <th>1837</th>\n",
       "      <td>63665.394418</td>\n",
       "      <td>6.729105</td>\n",
       "      <td>7.732959</td>\n",
       "      <td>3.43</td>\n",
       "      <td>44029.681816</td>\n",
       "    </tr>\n",
       "    <tr>\n",
       "      <th>2380</th>\n",
       "      <td>56073.892443</td>\n",
       "      <td>6.576733</td>\n",
       "      <td>6.959056</td>\n",
       "      <td>4.40</td>\n",
       "      <td>64149.680213</td>\n",
       "    </tr>\n",
       "    <tr>\n",
       "      <th>1912</th>\n",
       "      <td>66774.181946</td>\n",
       "      <td>5.476416</td>\n",
       "      <td>8.060545</td>\n",
       "      <td>3.12</td>\n",
       "      <td>23793.337043</td>\n",
       "    </tr>\n",
       "  </tbody>\n",
       "</table>\n",
       "<p>1500 rows × 5 columns</p>\n",
       "</div>"
      ],
      "text/plain": [
       "      Avg. Area Income  Avg. Area House Age  Avg. Area Number of Rooms  \\\n",
       "1501      61907.593345             7.017838                   6.440256   \n",
       "2586      57160.202243             6.893260                   6.921532   \n",
       "2653      70190.796445             6.745054                   6.662567   \n",
       "1055      69316.796889             6.300409                   7.873576   \n",
       "705       72991.481649             3.412866                   6.494081   \n",
       "...                ...                  ...                        ...   \n",
       "3563      74208.124644             6.259782                   8.666717   \n",
       "1538      71112.350296             5.612677                   7.419542   \n",
       "1837      63665.394418             6.729105                   7.732959   \n",
       "2380      56073.892443             6.576733                   6.959056   \n",
       "1912      66774.181946             5.476416                   8.060545   \n",
       "\n",
       "      Avg. Area Number of Bedrooms  Area Population  \n",
       "1501                          3.25     43828.947207  \n",
       "2586                          3.13     43467.147035  \n",
       "2653                          2.01     29215.136112  \n",
       "1055                          4.28     24448.211461  \n",
       "705                           2.48     50626.495426  \n",
       "...                            ...              ...  \n",
       "3563                          3.38     25507.336340  \n",
       "1538                          4.26     24134.413996  \n",
       "1837                          3.43     44029.681816  \n",
       "2380                          4.40     64149.680213  \n",
       "1912                          3.12     23793.337043  \n",
       "\n",
       "[1500 rows x 5 columns]"
      ]
     },
     "execution_count": 73,
     "metadata": {},
     "output_type": "execute_result"
    }
   ],
   "source": [
    "X_test"
   ]
  },
  {
   "cell_type": "markdown",
   "id": "3c1c1664",
   "metadata": {},
   "source": [
    "# Entrenar"
   ]
  },
  {
   "cell_type": "code",
   "execution_count": 74,
   "id": "9ef7f1f0",
   "metadata": {},
   "outputs": [
    {
     "data": {
      "text/plain": [
       "LinearRegression()"
      ]
     },
     "execution_count": 74,
     "metadata": {},
     "output_type": "execute_result"
    }
   ],
   "source": [
    "lrm = LinearRegression()\n",
    "lrm.fit(X_train, Y_train)"
   ]
  },
  {
   "cell_type": "markdown",
   "id": "370a608f",
   "metadata": {},
   "source": [
    "# Evaluar el modelo"
   ]
  },
  {
   "cell_type": "code",
   "execution_count": 75,
   "id": "e1f706bd",
   "metadata": {},
   "outputs": [],
   "source": [
    "from sklearn import metrics"
   ]
  },
  {
   "cell_type": "code",
   "execution_count": 76,
   "id": "0e30105f",
   "metadata": {},
   "outputs": [],
   "source": [
    "predicciones = lrm.predict(X_test)"
   ]
  },
  {
   "cell_type": "code",
   "execution_count": 77,
   "id": "c3f31c5d",
   "metadata": {},
   "outputs": [
    {
     "data": {
      "text/plain": [
       "array([1308536.13592621, 1237122.72746477, 1243835.62817067, ...,\n",
       "       1457119.79297243, 1483428.9530937 , 1047510.59737177])"
      ]
     },
     "execution_count": 77,
     "metadata": {},
     "output_type": "execute_result"
    }
   ],
   "source": [
    "predicciones #valor de las casas segun las caracteristicas"
   ]
  },
  {
   "cell_type": "code",
   "execution_count": 78,
   "id": "5f12bde9",
   "metadata": {},
   "outputs": [
    {
     "data": {
      "text/plain": [
       "1501    1.339096e+06\n",
       "2586    1.251794e+06\n",
       "2653    1.340095e+06\n",
       "1055    1.431508e+06\n",
       "705     1.042374e+06\n",
       "            ...     \n",
       "3563    1.348222e+06\n",
       "1538    1.309937e+06\n",
       "1837    1.472887e+06\n",
       "2380    1.409762e+06\n",
       "1912    1.009606e+06\n",
       "Name: Price, Length: 1500, dtype: float64"
      ]
     },
     "execution_count": 78,
     "metadata": {},
     "output_type": "execute_result"
    }
   ],
   "source": [
    "#comparar con los valores de arriba\n",
    "Y_test"
   ]
  },
  {
   "cell_type": "code",
   "execution_count": 79,
   "id": "cb0bce43",
   "metadata": {},
   "outputs": [
    {
     "data": {
      "text/plain": [
       "<matplotlib.collections.PathCollection at 0x230db033910>"
      ]
     },
     "execution_count": 79,
     "metadata": {},
     "output_type": "execute_result"
    },
    {
     "data": {
      "image/png": "[encoded data removed]",
      "text/plain": [
       "<Figure size 432x288 with 1 Axes>"
      ]
     },
     "metadata": {
      "needs_background": "light"
     },
     "output_type": "display_data"
    }
   ],
   "source": [
    "plt.scatter(Y_test,predicciones,)"
   ]
  },
  {
   "cell_type": "code",
   "execution_count": 80,
   "id": "abad4553",
   "metadata": {},
   "outputs": [
    {
     "name": "stderr",
     "output_type": "stream",
     "text": [
      "H:\\programasparapython\\Anaconda3\\lib\\site-packages\\seaborn\\distributions.py:2557: FutureWarning: `distplot` is a deprecated function and will be removed in a future version. Please adapt your code to use either `displot` (a figure-level function with similar flexibility) or `histplot` (an axes-level function for histograms).\n",
      "  warnings.warn(msg, FutureWarning)\n"
     ]
    },
    {
     "data": {
      "text/plain": [
       "<AxesSubplot:xlabel='Price', ylabel='Density'>"
      ]
     },
     "execution_count": 80,
     "metadata": {},
     "output_type": "execute_result"
    },
    {
     "data": {
      "image/png": "[encoded data removed]",
      "text/plain": [
       "<Figure size 432x288 with 1 Axes>"
      ]
     },
     "metadata": {
      "needs_background": "light"
     },
     "output_type": "display_data"
    }
   ],
   "source": [
    "sns.distplot(Y_test - predicciones) #Y_test - predicciones es el valor residual, a menor valor residual, mejores resultados"
   ]
  },
  {
   "cell_type": "markdown",
   "id": "ffc513f8",
   "metadata": {},
   "source": [
    "# evaluar de forma numerica\n",
    "> MAE (Mean absolute error) La media del valor absoluto de los errores\n"
   ]
  },
  {
   "cell_type": "code",
   "execution_count": 81,
   "id": "55527b48",
   "metadata": {},
   "outputs": [
    {
     "data": {
      "text/plain": [
       "81135.56609336863"
      ]
     },
     "execution_count": 81,
     "metadata": {},
     "output_type": "execute_result"
    }
   ],
   "source": [
    "metrics.mean_absolute_error(Y_test,predicciones) #cuanto menor, es mejor"
   ]
  },
  {
   "cell_type": "markdown",
   "id": "031c02cf",
   "metadata": {},
   "source": [
    "> MSE (media de los errores al cuadrado)"
   ]
  },
  {
   "cell_type": "code",
   "execution_count": 82,
   "id": "73582c7f",
   "metadata": {},
   "outputs": [
    {
     "data": {
      "text/plain": [
       "10068422551.401056"
      ]
     },
     "execution_count": 82,
     "metadata": {},
     "output_type": "execute_result"
    }
   ],
   "source": [
    "metrics.mean_squared_error(Y_test,predicciones)"
   ]
  },
  {
   "cell_type": "markdown",
   "id": "d0fd58f2",
   "metadata": {},
   "source": [
    "> RMSE (Raiz cuadra de la media de los errores al cuadrado)"
   ]
  },
  {
   "cell_type": "code",
   "execution_count": 83,
   "id": "82cb47ba",
   "metadata": {},
   "outputs": [
    {
     "data": {
      "text/plain": [
       "100341.52954485524"
      ]
     },
     "execution_count": 83,
     "metadata": {},
     "output_type": "execute_result"
    }
   ],
   "source": [
    "np.sqrt(metrics.mean_squared_error(Y_test,predicciones))"
   ]
  },
  {
   "cell_type": "code",
   "execution_count": null,
   "id": "2c647b18",
   "metadata": {},
   "outputs": [],
   "source": []
  }
 ],
 "metadata": {
  "kernelspec": {
   "display_name": "Python 3",
   "language": "python",
   "name": "python3"
  },
  "language_info": {
   "codemirror_mode": {
    "name": "ipython",
    "version": 3
   },
   "file_extension": ".py",
   "mimetype": "text/x-python",
   "name": "python",
   "nbconvert_exporter": "python",
   "pygments_lexer": "ipython3",
   "version": "3.8.8"
  }
 },
 "nbformat": 4,
 "nbformat_minor": 5
}
