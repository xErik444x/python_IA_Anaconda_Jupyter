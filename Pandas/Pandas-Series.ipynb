{
 "cells": [
  {
   "cell_type": "markdown",
   "id": "e1ca2605",
   "metadata": {},
   "source": [
    "# Series"
   ]
  },
  {
   "cell_type": "code",
   "execution_count": 2,
   "id": "7bba97aa",
   "metadata": {},
   "outputs": [],
   "source": [
    "import numpy as np\n",
    "import pandas as pd"
   ]
  },
  {
   "cell_type": "code",
   "execution_count": 3,
   "id": "5567eb9f",
   "metadata": {},
   "outputs": [
    {
     "data": {
      "text/plain": [
       "a    1\n",
       "b    2\n",
       "c    3\n",
       "dtype: int64"
      ]
     },
     "execution_count": 3,
     "metadata": {},
     "output_type": "execute_result"
    }
   ],
   "source": [
    "etiquetas = ['a','b','c'] #etiquetas seria como el indice\n",
    "datos = [1,2,3]\n",
    "pd.Series(data = datos,index=etiquetas)"
   ]
  },
  {
   "cell_type": "code",
   "execution_count": 16,
   "id": "354a1d6b",
   "metadata": {},
   "outputs": [
    {
     "data": {
      "text/plain": [
       "venta0    5\n",
       "venta1    6\n",
       "venta2    7\n",
       "venta3    8\n",
       "venta4    9\n",
       "dtype: int32"
      ]
     },
     "execution_count": 16,
     "metadata": {},
     "output_type": "execute_result"
    }
   ],
   "source": [
    "array = np.arange(5,10)\n",
    "etiqueta = [\"venta0\",\"venta1\",\"venta2\",\"venta3\",\"venta4\"]\n",
    "serie1 = pd.Series(array,etiqueta)\n",
    "serie1"
   ]
  },
  {
   "cell_type": "code",
   "execution_count": 17,
   "id": "9cc35742",
   "metadata": {},
   "outputs": [
    {
     "data": {
      "text/plain": [
       "6"
      ]
     },
     "execution_count": 17,
     "metadata": {},
     "output_type": "execute_result"
    }
   ],
   "source": [
    "serie1[\"venta1\"]"
   ]
  },
  {
   "cell_type": "code",
   "execution_count": 18,
   "id": "8b2f67ff",
   "metadata": {},
   "outputs": [
    {
     "data": {
      "text/plain": [
       "8"
      ]
     },
     "execution_count": 18,
     "metadata": {},
     "output_type": "execute_result"
    }
   ],
   "source": [
    "serie1[3]"
   ]
  },
  {
   "cell_type": "code",
   "execution_count": 19,
   "id": "c8ce04eb",
   "metadata": {},
   "outputs": [],
   "source": [
    "datos2 = [\"informatica\",300,\"taza\",True]"
   ]
  },
  {
   "cell_type": "code",
   "execution_count": 20,
   "id": "64073a15",
   "metadata": {},
   "outputs": [
    {
     "data": {
      "text/plain": [
       "0    informatica\n",
       "1            300\n",
       "2           taza\n",
       "3           True\n",
       "dtype: object"
      ]
     },
     "execution_count": 20,
     "metadata": {},
     "output_type": "execute_result"
    }
   ],
   "source": [
    "pd.Series(datos2)"
   ]
  },
  {
   "cell_type": "code",
   "execution_count": 33,
   "id": "9b67701a",
   "metadata": {},
   "outputs": [],
   "source": [
    "serie1 = pd.Series([1,2,3,6],[\"a\",\"b\",\"c\",\"ventas4\"])\n",
    "serie2 = pd.Series([4,2,6],[\"a\",\"b\",\"c\"])"
   ]
  },
  {
   "cell_type": "code",
   "execution_count": 34,
   "id": "0346dc85",
   "metadata": {},
   "outputs": [
    {
     "data": {
      "text/plain": [
       "a          5.0\n",
       "b          4.0\n",
       "c          9.0\n",
       "ventas4    NaN\n",
       "dtype: float64"
      ]
     },
     "execution_count": 34,
     "metadata": {},
     "output_type": "execute_result"
    }
   ],
   "source": [
    "serie_suma = serie1 + serie2 #si las etiquetas son iguales, se suman sus valores, sino, da nulo.\n",
    "serie_suma"
   ]
  },
  {
   "cell_type": "code",
   "execution_count": null,
   "id": "1da1fd9c",
   "metadata": {},
   "outputs": [],
   "source": []
  }
 ],
 "metadata": {
  "kernelspec": {
   "display_name": "Python 3",
   "language": "python",
   "name": "python3"
  },
  "language_info": {
   "codemirror_mode": {
    "name": "ipython",
    "version": 3
   },
   "file_extension": ".py",
   "mimetype": "text/x-python",
   "name": "python",
   "nbconvert_exporter": "python",
   "pygments_lexer": "ipython3",
   "version": "3.8.8"
  }
 },
 "nbformat": 4,
 "nbformat_minor": 5
}
