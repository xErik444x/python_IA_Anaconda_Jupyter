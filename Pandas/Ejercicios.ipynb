{
 "cells": [
  {
   "cell_type": "markdown",
   "id": "f46e8bca",
   "metadata": {},
   "source": [
    "# Ejercicio 1\n",
    "> Crea una lista \"asignaturas\" con los textos \"matematicas\",\"fisica\", \"historia\"\n",
    "> Crea una lista \"notas\" con los valores 9,9,8\n",
    "> Crea una serie con las listas \"notas\" con los valores, y la lista \"asignaturas\" como indices\n",
    "> Crea la variable \"nota_fisica\" con la nota de la asignatura \"fisica\"\n",
    "> Usando el print, mostrar la frase \"la nota de fisica es un:....\""
   ]
  },
  {
   "cell_type": "code",
   "execution_count": 2,
   "id": "d738f9ba",
   "metadata": {},
   "outputs": [],
   "source": [
    "import numpy as np\n",
    "import pandas as pd"
   ]
  },
  {
   "cell_type": "code",
   "execution_count": 21,
   "id": "969e3750",
   "metadata": {},
   "outputs": [],
   "source": [
    "asignaturas = [\"matematicas\",\"fisica\",\"historia\"]\n",
    "notas = [9,9,8]"
   ]
  },
  {
   "cell_type": "code",
   "execution_count": 22,
   "id": "100416fa",
   "metadata": {},
   "outputs": [],
   "source": [
    "serie = pd.Series(data=notas,index=asignaturas)"
   ]
  },
  {
   "cell_type": "code",
   "execution_count": 23,
   "id": "15586cf8",
   "metadata": {},
   "outputs": [
    {
     "data": {
      "text/plain": [
       "matematicas    9\n",
       "fisica         9\n",
       "historia       8\n",
       "dtype: int64"
      ]
     },
     "execution_count": 23,
     "metadata": {},
     "output_type": "execute_result"
    }
   ],
   "source": [
    "serie"
   ]
  },
  {
   "cell_type": "code",
   "execution_count": 30,
   "id": "fb5aa388",
   "metadata": {},
   "outputs": [
    {
     "name": "stdout",
     "output_type": "stream",
     "text": [
      "La nota de fisica es un: 9\n"
     ]
    }
   ],
   "source": [
    "nota_fisica = serie[\"fisica\"]\n",
    "print(\"La nota de fisica es un: {}\".format(nota_fisica))"
   ]
  },
  {
   "cell_type": "markdown",
   "id": "c2ae6d62",
   "metadata": {},
   "source": [
    "\n",
    "# Ejercicio 2\n",
    "> El objetivo es crear un dataframe con las ventas de nuestras 3 oficias para los meses de enero, febrero y marzo.\n",
    "Pasos:\n",
    "> Crear una variable \"ventas_enero\" que contenga una lista de 3 numeros enteros aleatorios entre 100 y 500\n",
    "> Crear una variable \"ventas_febrero\" que contenga una lista de 3 numeros enteros aleatorios entre 100 y 500\n",
    "> Crear una variable \"ventas_marzo\" que contenga una lista de 3 numeros enteros aleatorios entre 100 y 500\n",
    "> crear una variable \"filas\" que contenga esta lista de palabras \"ventas_enero\",\"ventas_febrero\",\"ventas_marzo\"\n",
    "> Crear una variable \"columnas\" que contenga esta lista de palabras: \"oficina_1\",\"oficina_2\",\"oficina_3\"\n",
    "> Crear una variable \"ventas\" que contenga una lista con los valores de ventas de enero, febrero y marzo\n",
    "> Crea una variable \"dataframe\" que contenga las ventas, filas y columnas\n",
    "Usar print para mostrar el valor de enero para las oficina 1"
   ]
  },
  {
   "cell_type": "code",
   "execution_count": 32,
   "id": "2bf7452c",
   "metadata": {},
   "outputs": [],
   "source": [
    "import numpy as np\n",
    "import pandas as pd"
   ]
  },
  {
   "cell_type": "code",
   "execution_count": 47,
   "id": "6ae18e68",
   "metadata": {},
   "outputs": [
    {
     "data": {
      "text/plain": [
       "array([411, 423, 482])"
      ]
     },
     "execution_count": 47,
     "metadata": {},
     "output_type": "execute_result"
    }
   ],
   "source": [
    "ventas_enero = np.random.randint(100,500,3)\n",
    "ventas_febrero = np.random.randint(100,500,3)\n",
    "ventas_marzo = np.random.randint(100,500,3)\n",
    "ventas_enero"
   ]
  },
  {
   "cell_type": "code",
   "execution_count": 48,
   "id": "9f2d2531",
   "metadata": {},
   "outputs": [
    {
     "data": {
      "text/plain": [
       "[array([411, 423, 482]), array([196, 174, 467]), array([208, 383, 470])]"
      ]
     },
     "execution_count": 48,
     "metadata": {},
     "output_type": "execute_result"
    }
   ],
   "source": [
    "filas = [\"ventas_enero\",\"ventas_febrero\",\"ventas_marzo\"]\n",
    "columnas = [\"oficina_1\",\"oficina_2\",\"oficina_3\"]\n",
    "ventas= [ventas_enero,ventas_febrero,ventas_marzo]\n",
    "ventas\n"
   ]
  },
  {
   "cell_type": "code",
   "execution_count": 49,
   "id": "6e80d4b0",
   "metadata": {},
   "outputs": [
    {
     "data": {
      "text/html": [
       "<div>\n",
       "<style scoped>\n",
       "    .dataframe tbody tr th:only-of-type {\n",
       "        vertical-align: middle;\n",
       "    }\n",
       "\n",
       "    .dataframe tbody tr th {\n",
       "        vertical-align: top;\n",
       "    }\n",
       "\n",
       "    .dataframe thead th {\n",
       "        text-align: right;\n",
       "    }\n",
       "</style>\n",
       "<table border=\"1\" class=\"dataframe\">\n",
       "  <thead>\n",
       "    <tr style=\"text-align: right;\">\n",
       "      <th></th>\n",
       "      <th>oficina_1</th>\n",
       "      <th>oficina_2</th>\n",
       "      <th>oficina_3</th>\n",
       "    </tr>\n",
       "  </thead>\n",
       "  <tbody>\n",
       "    <tr>\n",
       "      <th>ventas_enero</th>\n",
       "      <td>411</td>\n",
       "      <td>423</td>\n",
       "      <td>482</td>\n",
       "    </tr>\n",
       "    <tr>\n",
       "      <th>ventas_febrero</th>\n",
       "      <td>196</td>\n",
       "      <td>174</td>\n",
       "      <td>467</td>\n",
       "    </tr>\n",
       "    <tr>\n",
       "      <th>ventas_marzo</th>\n",
       "      <td>208</td>\n",
       "      <td>383</td>\n",
       "      <td>470</td>\n",
       "    </tr>\n",
       "  </tbody>\n",
       "</table>\n",
       "</div>"
      ],
      "text/plain": [
       "                oficina_1  oficina_2  oficina_3\n",
       "ventas_enero          411        423        482\n",
       "ventas_febrero        196        174        467\n",
       "ventas_marzo          208        383        470"
      ]
     },
     "execution_count": 49,
     "metadata": {},
     "output_type": "execute_result"
    }
   ],
   "source": [
    "dataframe = pd.DataFrame(ventas,filas,columnas)\n",
    "dataframe"
   ]
  },
  {
   "cell_type": "code",
   "execution_count": 50,
   "id": "6304810e",
   "metadata": {},
   "outputs": [
    {
     "name": "stdout",
     "output_type": "stream",
     "text": [
      "El valor de ventas de la oficina 1 en enero es de: 411\n"
     ]
    }
   ],
   "source": [
    "print(\"El valor de ventas de la oficina 1 en enero es de: {}\".format(dataframe[\"oficina_1\"][\"ventas_enero\"]))"
   ]
  },
  {
   "cell_type": "code",
   "execution_count": null,
   "id": "fc5b82a4",
   "metadata": {},
   "outputs": [],
   "source": []
  }
 ],
 "metadata": {
  "kernelspec": {
   "display_name": "Python 3",
   "language": "python",
   "name": "python3"
  },
  "language_info": {
   "codemirror_mode": {
    "name": "ipython",
    "version": 3
   },
   "file_extension": ".py",
   "mimetype": "text/x-python",
   "name": "python",
   "nbconvert_exporter": "python",
   "pygments_lexer": "ipython3",
   "version": "3.8.8"
  }
 },
 "nbformat": 4,
 "nbformat_minor": 5
}
