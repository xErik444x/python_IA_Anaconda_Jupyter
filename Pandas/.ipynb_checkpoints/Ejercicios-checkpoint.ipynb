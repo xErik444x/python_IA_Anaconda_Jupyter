{
 "cells": [
  {
   "cell_type": "markdown",
   "id": "2331f111",
   "metadata": {},
   "source": [
    "# Ejercicio 1\n",
    "> Crea una lista \"asignaturas\" con los textos \"matematicas\",\"fisica\", \"historia\"\n",
    "> Crea una lista \"notas\" con los valores 9,9,8\n",
    "> Crea una serie con las listas \"notas\" con los valores, y la lista \"asignaturas\" como indices\n",
    "> Crea la variable \"nota_fisica\" con la nota de la asignatura \"fisica\"\n",
    "> Usando el print, mostrar la frase \"la nota de fisica es un:....\""
   ]
  },
  {
   "cell_type": "code",
   "execution_count": 2,
   "id": "21a3ec00",
   "metadata": {},
   "outputs": [],
   "source": [
    "import numpy as np\n",
    "import pandas as pd"
   ]
  },
  {
   "cell_type": "code",
   "execution_count": 21,
   "id": "5401ae98",
   "metadata": {},
   "outputs": [],
   "source": [
    "asignaturas = [\"matematicas\",\"fisica\",\"historia\"]\n",
    "notas = [9,9,8]"
   ]
  },
  {
   "cell_type": "code",
   "execution_count": 22,
   "id": "6fc67873",
   "metadata": {},
   "outputs": [],
   "source": [
    "serie = pd.Series(data=notas,index=asignaturas)"
   ]
  },
  {
   "cell_type": "code",
   "execution_count": 23,
   "id": "5d82d8f0",
   "metadata": {},
   "outputs": [
    {
     "data": {
      "text/plain": [
       "matematicas    9\n",
       "fisica         9\n",
       "historia       8\n",
       "dtype: int64"
      ]
     },
     "execution_count": 23,
     "metadata": {},
     "output_type": "execute_result"
    }
   ],
   "source": [
    "serie"
   ]
  },
  {
   "cell_type": "code",
   "execution_count": 30,
   "id": "ed5f3b7d",
   "metadata": {},
   "outputs": [
    {
     "name": "stdout",
     "output_type": "stream",
     "text": [
      "La nota de fisica es un: 9\n"
     ]
    }
   ],
   "source": [
    "nota_fisica = serie[\"fisica\"]\n",
    "print(\"La nota de fisica es un: {}\".format(nota_fisica))"
   ]
  },
  {
   "cell_type": "markdown",
   "id": "12a38084",
   "metadata": {},
   "source": [
    "\n",
    "# Ejercicio 2\n",
    "> El objetivo es crear un dataframe con las ventas de nuestras 3 oficias para los meses de enero, febrero y marzo.\n",
    "Pasos:\n",
    "> Crear una variable \"ventas_enero\" que contenga una lista de 3 numeros enteros aleatorios entre 100 y 500\n",
    "> Crear una variable \"ventas_febrero\" que contenga una lista de 3 numeros enteros aleatorios entre 100 y 500\n",
    "> Crear una variable \"ventas_marzo\" que contenga una lista de 3 numeros enteros aleatorios entre 100 y 500\n",
    "> crear una variable \"filas\" que contenga esta lista de palabras \"ventas_enero\",\"ventas_febrero\",\"ventas_marzo\"\n",
    "> Crear una variable \"columnas\" que contenga esta lista de palabras: \"oficina_1\",\"oficina_2\",\"oficina_3\"\n",
    "> Crear una variable \"ventas\" que contenga una lista con los valores de ventas de enero, febrero y marzo\n",
    "> Crea una variable \"dataframe\" que contenga las ventas, filas y columnas\n",
    "Usar print para mostrar el valor de enero para las oficina 1"
   ]
  },
  {
   "cell_type": "code",
   "execution_count": 32,
   "id": "42d130ac",
   "metadata": {},
   "outputs": [],
   "source": [
    "import numpy as np\n",
    "import pandas as pd"
   ]
  },
  {
   "cell_type": "code",
   "execution_count": 42,
   "id": "4f644dea",
   "metadata": {},
   "outputs": [
    {
     "data": {
      "text/plain": [
       "[384, 297, 272]"
      ]
     },
     "execution_count": 42,
     "metadata": {},
     "output_type": "execute_result"
    }
   ],
   "source": [
    "ventas_enero = [np.random.randint(100,500),np.random.randint(100,500),np.random.randint(100,500)]\n",
    "ventas_febrero = [np.random.randint(100,500),np.random.randint(100,500),np.random.randint(100,500)]\n",
    "ventas_marzo = [np.random.randint(100,500),np.random.randint(100,500),np.random.randint(100,500)]\n",
    "ventas_enero"
   ]
  },
  {
   "cell_type": "code",
   "execution_count": 43,
   "id": "4afc7173",
   "metadata": {},
   "outputs": [
    {
     "data": {
      "text/plain": [
       "[[384, 297, 272], [117, 458, 352], [429, 232, 221]]"
      ]
     },
     "execution_count": 43,
     "metadata": {},
     "output_type": "execute_result"
    }
   ],
   "source": [
    "filas = [\"ventas_enero\",\"ventas_febrero\",\"ventas_marzo\"]\n",
    "columnas = [\"oficina_1\",\"oficina_2\",\"oficina_3\"]\n",
    "ventas= [ventas_enero,ventas_febrero,ventas_marzo]\n",
    "ventas\n"
   ]
  },
  {
   "cell_type": "code",
   "execution_count": 44,
   "id": "c57310a1",
   "metadata": {},
   "outputs": [
    {
     "data": {
      "text/html": [
       "<div>\n",
       "<style scoped>\n",
       "    .dataframe tbody tr th:only-of-type {\n",
       "        vertical-align: middle;\n",
       "    }\n",
       "\n",
       "    .dataframe tbody tr th {\n",
       "        vertical-align: top;\n",
       "    }\n",
       "\n",
       "    .dataframe thead th {\n",
       "        text-align: right;\n",
       "    }\n",
       "</style>\n",
       "<table border=\"1\" class=\"dataframe\">\n",
       "  <thead>\n",
       "    <tr style=\"text-align: right;\">\n",
       "      <th></th>\n",
       "      <th>oficina_1</th>\n",
       "      <th>oficina_2</th>\n",
       "      <th>oficina_3</th>\n",
       "    </tr>\n",
       "  </thead>\n",
       "  <tbody>\n",
       "    <tr>\n",
       "      <th>ventas_enero</th>\n",
       "      <td>384</td>\n",
       "      <td>297</td>\n",
       "      <td>272</td>\n",
       "    </tr>\n",
       "    <tr>\n",
       "      <th>ventas_febrero</th>\n",
       "      <td>117</td>\n",
       "      <td>458</td>\n",
       "      <td>352</td>\n",
       "    </tr>\n",
       "    <tr>\n",
       "      <th>ventas_marzo</th>\n",
       "      <td>429</td>\n",
       "      <td>232</td>\n",
       "      <td>221</td>\n",
       "    </tr>\n",
       "  </tbody>\n",
       "</table>\n",
       "</div>"
      ],
      "text/plain": [
       "                oficina_1  oficina_2  oficina_3\n",
       "ventas_enero          384        297        272\n",
       "ventas_febrero        117        458        352\n",
       "ventas_marzo          429        232        221"
      ]
     },
     "execution_count": 44,
     "metadata": {},
     "output_type": "execute_result"
    }
   ],
   "source": [
    "dataframe = pd.DataFrame(ventas,filas,columnas)\n",
    "dataframe"
   ]
  },
  {
   "cell_type": "code",
   "execution_count": 46,
   "id": "f0c249a6",
   "metadata": {},
   "outputs": [
    {
     "name": "stdout",
     "output_type": "stream",
     "text": [
      "El valor de ventas de la oficina 1 en enero es de: 384\n"
     ]
    }
   ],
   "source": [
    "print(\"El valor de ventas de la oficina 1 en enero es de: {}\".format(dataframe[\"oficina_1\"][\"ventas_enero\"]))"
   ]
  },
  {
   "cell_type": "code",
   "execution_count": null,
   "id": "0c4bc802",
   "metadata": {},
   "outputs": [],
   "source": []
  }
 ],
 "metadata": {
  "kernelspec": {
   "display_name": "Python 3",
   "language": "python",
   "name": "python3"
  },
  "language_info": {
   "codemirror_mode": {
    "name": "ipython",
    "version": 3
   },
   "file_extension": ".py",
   "mimetype": "text/x-python",
   "name": "python",
   "nbconvert_exporter": "python",
   "pygments_lexer": "ipython3",
   "version": "3.8.8"
  }
 },
 "nbformat": 4,
 "nbformat_minor": 5
}
