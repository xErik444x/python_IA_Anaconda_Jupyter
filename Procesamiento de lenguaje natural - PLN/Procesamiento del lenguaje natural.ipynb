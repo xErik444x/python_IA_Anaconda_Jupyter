{
 "cells": [
  {
   "cell_type": "markdown",
   "id": "261e1cea",
   "metadata": {},
   "source": [
    "# Procesamiento del lenguaje natural"
   ]
  },
  {
   "cell_type": "code",
   "execution_count": 1,
   "id": "acd9bbe2",
   "metadata": {},
   "outputs": [],
   "source": [
    "# NLTK -> libreria que se encarga de buscar y procesar datos.(lenguaje natural)"
   ]
  },
  {
   "cell_type": "code",
   "execution_count": 2,
   "id": "4ead9d97",
   "metadata": {},
   "outputs": [],
   "source": [
    "import nltk"
   ]
  },
  {
   "cell_type": "code",
   "execution_count": 3,
   "id": "3ac0580a",
   "metadata": {},
   "outputs": [],
   "source": [
    "# dataset de spam: https://archive.ics.uci.edu/ml/datasets/sms+spam+collection"
   ]
  },
  {
   "cell_type": "code",
   "execution_count": 6,
   "id": "01542b21",
   "metadata": {},
   "outputs": [
    {
     "name": "stdout",
     "output_type": "stream",
     "text": [
      "C:\\Users\\erik_\\Curso-IA-Udemy\\Datasets\\nltk\n"
     ]
    }
   ],
   "source": [
    "cd ../Datasets/nltk"
   ]
  },
  {
   "cell_type": "code",
   "execution_count": 8,
   "id": "292a60d5",
   "metadata": {},
   "outputs": [
    {
     "name": "stdout",
     "output_type": "stream",
     "text": [
      " El volumen de la unidad C no tiene etiqueta.\n",
      " El número de serie del volumen es: 9C30-9931\n",
      "\n",
      " Directorio de C:\\Users\\erik_\\Curso-IA-Udemy\\Datasets\\nltk\n",
      "\n",
      "05/08/2021  19:45    <DIR>          .\n",
      "05/08/2021  19:45    <DIR>          ..\n",
      "05/08/2021  19:45    <DIR>          smsspamcollection\n",
      "               0 archivos              0 bytes\n",
      "               3 dirs  53.231.681.536 bytes libres\n"
     ]
    }
   ],
   "source": [
    "ls"
   ]
  },
  {
   "cell_type": "code",
   "execution_count": 20,
   "id": "6cc48562",
   "metadata": {},
   "outputs": [],
   "source": [
    "mensajes = list(line.rstrip() for line in open(\"smsspamcollection/SMSSpamCollection\"))"
   ]
  },
  {
   "cell_type": "code",
   "execution_count": 21,
   "id": "55d57f6a",
   "metadata": {},
   "outputs": [
    {
     "data": {
      "text/plain": [
       "'ham\\tGo until jurong point, crazy.. Available only in bugis n great world la e buffet... Cine there got amore wat...'"
      ]
     },
     "execution_count": 21,
     "metadata": {},
     "output_type": "execute_result"
    }
   ],
   "source": [
    "mensajes[0]"
   ]
  },
  {
   "cell_type": "code",
   "execution_count": 24,
   "id": "d4f7c6f2",
   "metadata": {},
   "outputs": [
    {
     "data": {
      "text/plain": [
       "\"ham\\tJay says that you're a double-faggot\""
      ]
     },
     "execution_count": 24,
     "metadata": {},
     "output_type": "execute_result"
    }
   ],
   "source": [
    "mensajes[530]"
   ]
  },
  {
   "cell_type": "code",
   "execution_count": 25,
   "id": "8f25441b",
   "metadata": {},
   "outputs": [
    {
     "data": {
      "text/plain": [
       "5574"
      ]
     },
     "execution_count": 25,
     "metadata": {},
     "output_type": "execute_result"
    }
   ],
   "source": [
    "len(mensajes)"
   ]
  },
  {
   "cell_type": "code",
   "execution_count": 26,
   "id": "1e7008ad",
   "metadata": {},
   "outputs": [
    {
     "name": "stdout",
     "output_type": "stream",
     "text": [
      "(0, 'ham\\tGo until jurong point, crazy.. Available only in bugis n great world la e buffet... Cine there got amore wat...')\n",
      "(1, 'ham\\tOk lar... Joking wif u oni...')\n",
      "(2, \"spam\\tFree entry in 2 a wkly comp to win FA Cup final tkts 21st May 2005. Text FA to 87121 to receive entry question(std txt rate)T&C's apply 08452810075over18's\")\n",
      "(3, 'ham\\tU dun say so early hor... U c already then say...')\n",
      "(4, \"ham\\tNah I don't think he goes to usf, he lives around here though\")\n",
      "(5, \"spam\\tFreeMsg Hey there darling it's been 3 week's now and no word back! I'd like some fun you up for it still? Tb ok! XxX std chgs to send, Â£1.50 to rcv\")\n",
      "(6, 'ham\\tEven my brother is not like to speak with me. They treat me like aids patent.')\n",
      "(7, \"ham\\tAs per your request 'Melle Melle (Oru Minnaminunginte Nurungu Vettam)' has been set as your callertune for all Callers. Press *9 to copy your friends Callertune\")\n",
      "(8, 'spam\\tWINNER!! As a valued network customer you have been selected to receivea Â£900 prize reward! To claim call 09061701461. Claim code KL341. Valid 12 hours only.')\n",
      "(9, 'spam\\tHad your mobile 11 months or more? U R entitled to Update to the latest colour mobiles with camera for Free! Call The Mobile Update Co FREE on 08002986030')\n"
     ]
    }
   ],
   "source": [
    "for mensaje in enumerate(mensajes[:10]):\n",
    "    print(mensaje)"
   ]
  },
  {
   "cell_type": "code",
   "execution_count": 27,
   "id": "e119f4f7",
   "metadata": {},
   "outputs": [],
   "source": [
    "import pandas as pd"
   ]
  },
  {
   "cell_type": "code",
   "execution_count": 28,
   "id": "bf074e3f",
   "metadata": {},
   "outputs": [],
   "source": [
    "mensajes_dataframe = pd.read_csv(\"smsspamcollection/SMSSpamCollection\",sep=\"\\t\",names=[\"etiqueta\",\"mensaje\"])"
   ]
  },
  {
   "cell_type": "code",
   "execution_count": 29,
   "id": "1a60048a",
   "metadata": {},
   "outputs": [
    {
     "data": {
      "text/html": [
       "<div>\n",
       "<style scoped>\n",
       "    .dataframe tbody tr th:only-of-type {\n",
       "        vertical-align: middle;\n",
       "    }\n",
       "\n",
       "    .dataframe tbody tr th {\n",
       "        vertical-align: top;\n",
       "    }\n",
       "\n",
       "    .dataframe thead th {\n",
       "        text-align: right;\n",
       "    }\n",
       "</style>\n",
       "<table border=\"1\" class=\"dataframe\">\n",
       "  <thead>\n",
       "    <tr style=\"text-align: right;\">\n",
       "      <th></th>\n",
       "      <th>etiqueta</th>\n",
       "      <th>mensaje</th>\n",
       "    </tr>\n",
       "  </thead>\n",
       "  <tbody>\n",
       "    <tr>\n",
       "      <th>0</th>\n",
       "      <td>ham</td>\n",
       "      <td>Go until jurong point, crazy.. Available only ...</td>\n",
       "    </tr>\n",
       "    <tr>\n",
       "      <th>1</th>\n",
       "      <td>ham</td>\n",
       "      <td>Ok lar... Joking wif u oni...</td>\n",
       "    </tr>\n",
       "    <tr>\n",
       "      <th>2</th>\n",
       "      <td>spam</td>\n",
       "      <td>Free entry in 2 a wkly comp to win FA Cup fina...</td>\n",
       "    </tr>\n",
       "    <tr>\n",
       "      <th>3</th>\n",
       "      <td>ham</td>\n",
       "      <td>U dun say so early hor... U c already then say...</td>\n",
       "    </tr>\n",
       "    <tr>\n",
       "      <th>4</th>\n",
       "      <td>ham</td>\n",
       "      <td>Nah I don't think he goes to usf, he lives aro...</td>\n",
       "    </tr>\n",
       "    <tr>\n",
       "      <th>...</th>\n",
       "      <td>...</td>\n",
       "      <td>...</td>\n",
       "    </tr>\n",
       "    <tr>\n",
       "      <th>5567</th>\n",
       "      <td>spam</td>\n",
       "      <td>This is the 2nd time we have tried 2 contact u...</td>\n",
       "    </tr>\n",
       "    <tr>\n",
       "      <th>5568</th>\n",
       "      <td>ham</td>\n",
       "      <td>Will ü b going to esplanade fr home?</td>\n",
       "    </tr>\n",
       "    <tr>\n",
       "      <th>5569</th>\n",
       "      <td>ham</td>\n",
       "      <td>Pity, * was in mood for that. So...any other s...</td>\n",
       "    </tr>\n",
       "    <tr>\n",
       "      <th>5570</th>\n",
       "      <td>ham</td>\n",
       "      <td>The guy did some bitching but I acted like i'd...</td>\n",
       "    </tr>\n",
       "    <tr>\n",
       "      <th>5571</th>\n",
       "      <td>ham</td>\n",
       "      <td>Rofl. Its true to its name</td>\n",
       "    </tr>\n",
       "  </tbody>\n",
       "</table>\n",
       "<p>5572 rows × 2 columns</p>\n",
       "</div>"
      ],
      "text/plain": [
       "     etiqueta                                            mensaje\n",
       "0         ham  Go until jurong point, crazy.. Available only ...\n",
       "1         ham                      Ok lar... Joking wif u oni...\n",
       "2        spam  Free entry in 2 a wkly comp to win FA Cup fina...\n",
       "3         ham  U dun say so early hor... U c already then say...\n",
       "4         ham  Nah I don't think he goes to usf, he lives aro...\n",
       "...       ...                                                ...\n",
       "5567     spam  This is the 2nd time we have tried 2 contact u...\n",
       "5568      ham               Will ü b going to esplanade fr home?\n",
       "5569      ham  Pity, * was in mood for that. So...any other s...\n",
       "5570      ham  The guy did some bitching but I acted like i'd...\n",
       "5571      ham                         Rofl. Its true to its name\n",
       "\n",
       "[5572 rows x 2 columns]"
      ]
     },
     "execution_count": 29,
     "metadata": {},
     "output_type": "execute_result"
    }
   ],
   "source": [
    "mensajes_dataframe"
   ]
  },
  {
   "cell_type": "code",
   "execution_count": 32,
   "id": "4d1eceba",
   "metadata": {},
   "outputs": [
    {
     "data": {
      "text/html": [
       "<div>\n",
       "<style scoped>\n",
       "    .dataframe tbody tr th:only-of-type {\n",
       "        vertical-align: middle;\n",
       "    }\n",
       "\n",
       "    .dataframe tbody tr th {\n",
       "        vertical-align: top;\n",
       "    }\n",
       "\n",
       "    .dataframe thead th {\n",
       "        text-align: right;\n",
       "    }\n",
       "</style>\n",
       "<table border=\"1\" class=\"dataframe\">\n",
       "  <thead>\n",
       "    <tr style=\"text-align: right;\">\n",
       "      <th></th>\n",
       "      <th>etiqueta</th>\n",
       "      <th>mensaje</th>\n",
       "    </tr>\n",
       "  </thead>\n",
       "  <tbody>\n",
       "    <tr>\n",
       "      <th>0</th>\n",
       "      <td>ham</td>\n",
       "      <td>Go until jurong point, crazy.. Available only ...</td>\n",
       "    </tr>\n",
       "    <tr>\n",
       "      <th>1</th>\n",
       "      <td>ham</td>\n",
       "      <td>Ok lar... Joking wif u oni...</td>\n",
       "    </tr>\n",
       "    <tr>\n",
       "      <th>2</th>\n",
       "      <td>spam</td>\n",
       "      <td>Free entry in 2 a wkly comp to win FA Cup fina...</td>\n",
       "    </tr>\n",
       "    <tr>\n",
       "      <th>3</th>\n",
       "      <td>ham</td>\n",
       "      <td>U dun say so early hor... U c already then say...</td>\n",
       "    </tr>\n",
       "    <tr>\n",
       "      <th>4</th>\n",
       "      <td>ham</td>\n",
       "      <td>Nah I don't think he goes to usf, he lives aro...</td>\n",
       "    </tr>\n",
       "  </tbody>\n",
       "</table>\n",
       "</div>"
      ],
      "text/plain": [
       "  etiqueta                                            mensaje\n",
       "0      ham  Go until jurong point, crazy.. Available only ...\n",
       "1      ham                      Ok lar... Joking wif u oni...\n",
       "2     spam  Free entry in 2 a wkly comp to win FA Cup fina...\n",
       "3      ham  U dun say so early hor... U c already then say...\n",
       "4      ham  Nah I don't think he goes to usf, he lives aro..."
      ]
     },
     "execution_count": 32,
     "metadata": {},
     "output_type": "execute_result"
    }
   ],
   "source": [
    "mensajes_dataframe.head()"
   ]
  },
  {
   "cell_type": "code",
   "execution_count": 33,
   "id": "5a6eae51",
   "metadata": {},
   "outputs": [],
   "source": [
    "#longitud de los mensajes\n",
    "mensajes_dataframe[\"longitud\"] = mensajes_dataframe[\"mensaje\"].apply(len)"
   ]
  },
  {
   "cell_type": "code",
   "execution_count": 34,
   "id": "4fe6b22b",
   "metadata": {},
   "outputs": [
    {
     "data": {
      "text/html": [
       "<div>\n",
       "<style scoped>\n",
       "    .dataframe tbody tr th:only-of-type {\n",
       "        vertical-align: middle;\n",
       "    }\n",
       "\n",
       "    .dataframe tbody tr th {\n",
       "        vertical-align: top;\n",
       "    }\n",
       "\n",
       "    .dataframe thead th {\n",
       "        text-align: right;\n",
       "    }\n",
       "</style>\n",
       "<table border=\"1\" class=\"dataframe\">\n",
       "  <thead>\n",
       "    <tr style=\"text-align: right;\">\n",
       "      <th></th>\n",
       "      <th>etiqueta</th>\n",
       "      <th>mensaje</th>\n",
       "      <th>longitud</th>\n",
       "    </tr>\n",
       "  </thead>\n",
       "  <tbody>\n",
       "    <tr>\n",
       "      <th>0</th>\n",
       "      <td>ham</td>\n",
       "      <td>Go until jurong point, crazy.. Available only ...</td>\n",
       "      <td>111</td>\n",
       "    </tr>\n",
       "    <tr>\n",
       "      <th>1</th>\n",
       "      <td>ham</td>\n",
       "      <td>Ok lar... Joking wif u oni...</td>\n",
       "      <td>29</td>\n",
       "    </tr>\n",
       "    <tr>\n",
       "      <th>2</th>\n",
       "      <td>spam</td>\n",
       "      <td>Free entry in 2 a wkly comp to win FA Cup fina...</td>\n",
       "      <td>155</td>\n",
       "    </tr>\n",
       "    <tr>\n",
       "      <th>3</th>\n",
       "      <td>ham</td>\n",
       "      <td>U dun say so early hor... U c already then say...</td>\n",
       "      <td>49</td>\n",
       "    </tr>\n",
       "    <tr>\n",
       "      <th>4</th>\n",
       "      <td>ham</td>\n",
       "      <td>Nah I don't think he goes to usf, he lives aro...</td>\n",
       "      <td>61</td>\n",
       "    </tr>\n",
       "    <tr>\n",
       "      <th>...</th>\n",
       "      <td>...</td>\n",
       "      <td>...</td>\n",
       "      <td>...</td>\n",
       "    </tr>\n",
       "    <tr>\n",
       "      <th>5567</th>\n",
       "      <td>spam</td>\n",
       "      <td>This is the 2nd time we have tried 2 contact u...</td>\n",
       "      <td>160</td>\n",
       "    </tr>\n",
       "    <tr>\n",
       "      <th>5568</th>\n",
       "      <td>ham</td>\n",
       "      <td>Will ü b going to esplanade fr home?</td>\n",
       "      <td>36</td>\n",
       "    </tr>\n",
       "    <tr>\n",
       "      <th>5569</th>\n",
       "      <td>ham</td>\n",
       "      <td>Pity, * was in mood for that. So...any other s...</td>\n",
       "      <td>57</td>\n",
       "    </tr>\n",
       "    <tr>\n",
       "      <th>5570</th>\n",
       "      <td>ham</td>\n",
       "      <td>The guy did some bitching but I acted like i'd...</td>\n",
       "      <td>125</td>\n",
       "    </tr>\n",
       "    <tr>\n",
       "      <th>5571</th>\n",
       "      <td>ham</td>\n",
       "      <td>Rofl. Its true to its name</td>\n",
       "      <td>26</td>\n",
       "    </tr>\n",
       "  </tbody>\n",
       "</table>\n",
       "<p>5572 rows × 3 columns</p>\n",
       "</div>"
      ],
      "text/plain": [
       "     etiqueta                                            mensaje  longitud\n",
       "0         ham  Go until jurong point, crazy.. Available only ...       111\n",
       "1         ham                      Ok lar... Joking wif u oni...        29\n",
       "2        spam  Free entry in 2 a wkly comp to win FA Cup fina...       155\n",
       "3         ham  U dun say so early hor... U c already then say...        49\n",
       "4         ham  Nah I don't think he goes to usf, he lives aro...        61\n",
       "...       ...                                                ...       ...\n",
       "5567     spam  This is the 2nd time we have tried 2 contact u...       160\n",
       "5568      ham               Will ü b going to esplanade fr home?        36\n",
       "5569      ham  Pity, * was in mood for that. So...any other s...        57\n",
       "5570      ham  The guy did some bitching but I acted like i'd...       125\n",
       "5571      ham                         Rofl. Its true to its name        26\n",
       "\n",
       "[5572 rows x 3 columns]"
      ]
     },
     "execution_count": 34,
     "metadata": {},
     "output_type": "execute_result"
    }
   ],
   "source": [
    "mensajes_dataframe"
   ]
  },
  {
   "cell_type": "code",
   "execution_count": 39,
   "id": "be1ad86c",
   "metadata": {},
   "outputs": [],
   "source": [
    "import matplotlib.pyplot as plt\n",
    "import seaborn as sns"
   ]
  },
  {
   "cell_type": "code",
   "execution_count": 43,
   "id": "9305a277",
   "metadata": {},
   "outputs": [
    {
     "data": {
      "text/plain": [
       "<AxesSubplot:ylabel='Frequency'>"
      ]
     },
     "execution_count": 43,
     "metadata": {},
     "output_type": "execute_result"
    },
    {
     "data": {
      "image/png": "[encoded data removed]",
      "text/plain": [
       "<Figure size 432x288 with 1 Axes>"
      ]
     },
     "metadata": {
      "needs_background": "light"
     },
     "output_type": "display_data"
    }
   ],
   "source": [
    "mensajes_dataframe[\"longitud\"].plot.hist(bins=200) #hay muchisimos mensajes entre 0 y 200 caracteres y algunos que casi llegan a 1000"
   ]
  },
  {
   "cell_type": "code",
   "execution_count": 45,
   "id": "70dac289",
   "metadata": {},
   "outputs": [
    {
     "data": {
      "text/plain": [
       "count    5572.000000\n",
       "mean       80.489950\n",
       "std        59.942907\n",
       "min         2.000000\n",
       "25%        36.000000\n",
       "50%        62.000000\n",
       "75%       122.000000\n",
       "max       910.000000\n",
       "Name: longitud, dtype: float64"
      ]
     },
     "execution_count": 45,
     "metadata": {},
     "output_type": "execute_result"
    }
   ],
   "source": [
    "mensajes_dataframe[\"longitud\"].describe()"
   ]
  },
  {
   "cell_type": "code",
   "execution_count": 48,
   "id": "c7df757a",
   "metadata": {},
   "outputs": [
    {
     "name": "stdout",
     "output_type": "stream",
     "text": [
      "1085    For me the love should start with attraction.i...\n",
      "Name: mensaje, dtype: object\n"
     ]
    }
   ],
   "source": [
    "#averiguar el mensaje con el mayor valor(910.000000)\n",
    "mensajes_dataframe[mensajes_dataframe[\"longitud\"] == 910][\"mensaje\"]"
   ]
  },
  {
   "cell_type": "code",
   "execution_count": 49,
   "id": "002b4565",
   "metadata": {},
   "outputs": [
    {
     "data": {
      "text/plain": [
       "\"For me the love should start with attraction.i should feel that I need her every time around me.she should be the first thing which comes in my thoughts.I would start the day and end it with her.she should be there every time I dream.love will be then when my every breath has her name.my life should happen around her.my life will be named to her.I would cry for her.will give all my happiness and take all her sorrows.I will be ready to fight with anyone for her.I will be in love when I will be doing the craziest things for her.love will be when I don't have to proove anyone that my girl is the most beautiful lady on the whole planet.I will always be singing praises for her.love will be when I start up making chicken curry and end up makiing sambar.life will be the most beautiful then.will get every morning and thank god for the day because she is with me.I would like to say a lot..will tell later..\""
      ]
     },
     "execution_count": 49,
     "metadata": {},
     "output_type": "execute_result"
    }
   ],
   "source": [
    "#para ver todo el mensaje usamos iloc\n",
    "mensajes_dataframe[mensajes_dataframe[\"longitud\"] == 910][\"mensaje\"].iloc[0]"
   ]
  },
  {
   "cell_type": "code",
   "execution_count": 50,
   "id": "ad8afdfb",
   "metadata": {},
   "outputs": [
    {
     "data": {
      "text/plain": [
       "array([<AxesSubplot:title={'center':'ham'}>,\n",
       "       <AxesSubplot:title={'center':'spam'}>], dtype=object)"
      ]
     },
     "execution_count": 50,
     "metadata": {},
     "output_type": "execute_result"
    },
    {
     "data": {
      "image/png": "[encoded data removed]",
      "text/plain": [
       "<Figure size 720x360 with 2 Axes>"
      ]
     },
     "metadata": {
      "needs_background": "light"
     },
     "output_type": "display_data"
    }
   ],
   "source": [
    "mensajes_dataframe.hist(column=\"longitud\", by=\"etiqueta\", bins=100, figsize=(10,5))"
   ]
  },
  {
   "cell_type": "markdown",
   "id": "2e40355a",
   "metadata": {},
   "source": [
    "# Procesamiento de textos"
   ]
  },
  {
   "cell_type": "code",
   "execution_count": 51,
   "id": "29360ece",
   "metadata": {},
   "outputs": [],
   "source": [
    "import string"
   ]
  },
  {
   "cell_type": "code",
   "execution_count": 52,
   "id": "f20ec426",
   "metadata": {},
   "outputs": [
    {
     "data": {
      "text/plain": [
       "'Hola mundo ejemplo! Nota: Este mensaje tiene signos de puntuación.'"
      ]
     },
     "execution_count": 52,
     "metadata": {},
     "output_type": "execute_result"
    }
   ],
   "source": [
    "cadena = \"Hola mundo ejemplo! Nota: Este mensaje tiene signos de puntuación.\"\n",
    "cadena"
   ]
  },
  {
   "cell_type": "code",
   "execution_count": 53,
   "id": "d35ffa84",
   "metadata": {},
   "outputs": [
    {
     "data": {
      "text/plain": [
       "'!\"#$%&\\'()*+,-./:;<=>?@[\\\\]^_`{|}~'"
      ]
     },
     "execution_count": 53,
     "metadata": {},
     "output_type": "execute_result"
    }
   ],
   "source": [
    "#eliminar signos de puntuacion\n",
    "string.punctuation"
   ]
  },
  {
   "cell_type": "code",
   "execution_count": 58,
   "id": "e986a180",
   "metadata": {},
   "outputs": [
    {
     "data": {
      "text/plain": [
       "'Hola mundo ejemplo Nota Este mensaje tiene signos de puntuación'"
      ]
     },
     "execution_count": 58,
     "metadata": {},
     "output_type": "execute_result"
    }
   ],
   "source": [
    "sin_puntuacion = [c for c in cadena if c not in string.punctuation]\n",
    "sin_puntuacion = \"\".join(sin_puntuacion)\n",
    "sin_puntuacion"
   ]
  },
  {
   "cell_type": "code",
   "execution_count": 62,
   "id": "532d28ac",
   "metadata": {},
   "outputs": [
    {
     "name": "stderr",
     "output_type": "stream",
     "text": [
      "[nltk_data] Downloading package stopwords to\n",
      "[nltk_data]     C:\\Users\\erik_\\AppData\\Roaming\\nltk_data...\n",
      "[nltk_data]   Unzipping corpora\\stopwords.zip.\n"
     ]
    },
    {
     "data": {
      "text/plain": [
       "True"
      ]
     },
     "execution_count": 62,
     "metadata": {},
     "output_type": "execute_result"
    }
   ],
   "source": [
    "# eliminar palabras que no son utiles\n",
    "from nltk.corpus import stopwords\n",
    "nltk.download('stopwords')"
   ]
  },
  {
   "cell_type": "code",
   "execution_count": 64,
   "id": "8e10562e",
   "metadata": {},
   "outputs": [
    {
     "data": {
      "text/plain": [
       "['de',\n",
       " 'la',\n",
       " 'que',\n",
       " 'el',\n",
       " 'en',\n",
       " 'y',\n",
       " 'a',\n",
       " 'los',\n",
       " 'del',\n",
       " 'se',\n",
       " 'las',\n",
       " 'por',\n",
       " 'un',\n",
       " 'para',\n",
       " 'con',\n",
       " 'no',\n",
       " 'una',\n",
       " 'su',\n",
       " 'al',\n",
       " 'lo',\n",
       " 'como',\n",
       " 'más',\n",
       " 'pero',\n",
       " 'sus',\n",
       " 'le',\n",
       " 'ya',\n",
       " 'o',\n",
       " 'este',\n",
       " 'sí',\n",
       " 'porque',\n",
       " 'esta',\n",
       " 'entre',\n",
       " 'cuando',\n",
       " 'muy',\n",
       " 'sin',\n",
       " 'sobre',\n",
       " 'también',\n",
       " 'me',\n",
       " 'hasta',\n",
       " 'hay',\n",
       " 'donde',\n",
       " 'quien',\n",
       " 'desde',\n",
       " 'todo',\n",
       " 'nos',\n",
       " 'durante',\n",
       " 'todos',\n",
       " 'uno',\n",
       " 'les',\n",
       " 'ni',\n",
       " 'contra',\n",
       " 'otros',\n",
       " 'ese',\n",
       " 'eso',\n",
       " 'ante',\n",
       " 'ellos',\n",
       " 'e',\n",
       " 'esto',\n",
       " 'mí',\n",
       " 'antes',\n",
       " 'algunos',\n",
       " 'qué',\n",
       " 'unos',\n",
       " 'yo',\n",
       " 'otro',\n",
       " 'otras',\n",
       " 'otra',\n",
       " 'él',\n",
       " 'tanto',\n",
       " 'esa',\n",
       " 'estos',\n",
       " 'mucho',\n",
       " 'quienes',\n",
       " 'nada',\n",
       " 'muchos',\n",
       " 'cual',\n",
       " 'poco',\n",
       " 'ella',\n",
       " 'estar',\n",
       " 'estas',\n",
       " 'algunas',\n",
       " 'algo',\n",
       " 'nosotros',\n",
       " 'mi',\n",
       " 'mis',\n",
       " 'tú',\n",
       " 'te',\n",
       " 'ti',\n",
       " 'tu',\n",
       " 'tus',\n",
       " 'ellas',\n",
       " 'nosotras',\n",
       " 'vosotros',\n",
       " 'vosotras',\n",
       " 'os',\n",
       " 'mío',\n",
       " 'mía',\n",
       " 'míos',\n",
       " 'mías',\n",
       " 'tuyo',\n",
       " 'tuya',\n",
       " 'tuyos',\n",
       " 'tuyas',\n",
       " 'suyo',\n",
       " 'suya',\n",
       " 'suyos',\n",
       " 'suyas',\n",
       " 'nuestro',\n",
       " 'nuestra',\n",
       " 'nuestros',\n",
       " 'nuestras',\n",
       " 'vuestro',\n",
       " 'vuestra',\n",
       " 'vuestros',\n",
       " 'vuestras',\n",
       " 'esos',\n",
       " 'esas',\n",
       " 'estoy',\n",
       " 'estás',\n",
       " 'está',\n",
       " 'estamos',\n",
       " 'estáis',\n",
       " 'están',\n",
       " 'esté',\n",
       " 'estés',\n",
       " 'estemos',\n",
       " 'estéis',\n",
       " 'estén',\n",
       " 'estaré',\n",
       " 'estarás',\n",
       " 'estará',\n",
       " 'estaremos',\n",
       " 'estaréis',\n",
       " 'estarán',\n",
       " 'estaría',\n",
       " 'estarías',\n",
       " 'estaríamos',\n",
       " 'estaríais',\n",
       " 'estarían',\n",
       " 'estaba',\n",
       " 'estabas',\n",
       " 'estábamos',\n",
       " 'estabais',\n",
       " 'estaban',\n",
       " 'estuve',\n",
       " 'estuviste',\n",
       " 'estuvo',\n",
       " 'estuvimos',\n",
       " 'estuvisteis',\n",
       " 'estuvieron',\n",
       " 'estuviera',\n",
       " 'estuvieras',\n",
       " 'estuviéramos',\n",
       " 'estuvierais',\n",
       " 'estuvieran',\n",
       " 'estuviese',\n",
       " 'estuvieses',\n",
       " 'estuviésemos',\n",
       " 'estuvieseis',\n",
       " 'estuviesen',\n",
       " 'estando',\n",
       " 'estado',\n",
       " 'estada',\n",
       " 'estados',\n",
       " 'estadas',\n",
       " 'estad',\n",
       " 'he',\n",
       " 'has',\n",
       " 'ha',\n",
       " 'hemos',\n",
       " 'habéis',\n",
       " 'han',\n",
       " 'haya',\n",
       " 'hayas',\n",
       " 'hayamos',\n",
       " 'hayáis',\n",
       " 'hayan',\n",
       " 'habré',\n",
       " 'habrás',\n",
       " 'habrá',\n",
       " 'habremos',\n",
       " 'habréis',\n",
       " 'habrán',\n",
       " 'habría',\n",
       " 'habrías',\n",
       " 'habríamos',\n",
       " 'habríais',\n",
       " 'habrían',\n",
       " 'había',\n",
       " 'habías',\n",
       " 'habíamos',\n",
       " 'habíais',\n",
       " 'habían',\n",
       " 'hube',\n",
       " 'hubiste',\n",
       " 'hubo',\n",
       " 'hubimos',\n",
       " 'hubisteis',\n",
       " 'hubieron',\n",
       " 'hubiera',\n",
       " 'hubieras',\n",
       " 'hubiéramos',\n",
       " 'hubierais',\n",
       " 'hubieran',\n",
       " 'hubiese',\n",
       " 'hubieses',\n",
       " 'hubiésemos',\n",
       " 'hubieseis',\n",
       " 'hubiesen',\n",
       " 'habiendo',\n",
       " 'habido',\n",
       " 'habida',\n",
       " 'habidos',\n",
       " 'habidas',\n",
       " 'soy',\n",
       " 'eres',\n",
       " 'es',\n",
       " 'somos',\n",
       " 'sois',\n",
       " 'son',\n",
       " 'sea',\n",
       " 'seas',\n",
       " 'seamos',\n",
       " 'seáis',\n",
       " 'sean',\n",
       " 'seré',\n",
       " 'serás',\n",
       " 'será',\n",
       " 'seremos',\n",
       " 'seréis',\n",
       " 'serán',\n",
       " 'sería',\n",
       " 'serías',\n",
       " 'seríamos',\n",
       " 'seríais',\n",
       " 'serían',\n",
       " 'era',\n",
       " 'eras',\n",
       " 'éramos',\n",
       " 'erais',\n",
       " 'eran',\n",
       " 'fui',\n",
       " 'fuiste',\n",
       " 'fue',\n",
       " 'fuimos',\n",
       " 'fuisteis',\n",
       " 'fueron',\n",
       " 'fuera',\n",
       " 'fueras',\n",
       " 'fuéramos',\n",
       " 'fuerais',\n",
       " 'fueran',\n",
       " 'fuese',\n",
       " 'fueses',\n",
       " 'fuésemos',\n",
       " 'fueseis',\n",
       " 'fuesen',\n",
       " 'sintiendo',\n",
       " 'sentido',\n",
       " 'sentida',\n",
       " 'sentidos',\n",
       " 'sentidas',\n",
       " 'siente',\n",
       " 'sentid',\n",
       " 'tengo',\n",
       " 'tienes',\n",
       " 'tiene',\n",
       " 'tenemos',\n",
       " 'tenéis',\n",
       " 'tienen',\n",
       " 'tenga',\n",
       " 'tengas',\n",
       " 'tengamos',\n",
       " 'tengáis',\n",
       " 'tengan',\n",
       " 'tendré',\n",
       " 'tendrás',\n",
       " 'tendrá',\n",
       " 'tendremos',\n",
       " 'tendréis',\n",
       " 'tendrán',\n",
       " 'tendría',\n",
       " 'tendrías',\n",
       " 'tendríamos',\n",
       " 'tendríais',\n",
       " 'tendrían',\n",
       " 'tenía',\n",
       " 'tenías',\n",
       " 'teníamos',\n",
       " 'teníais',\n",
       " 'tenían',\n",
       " 'tuve',\n",
       " 'tuviste',\n",
       " 'tuvo',\n",
       " 'tuvimos',\n",
       " 'tuvisteis',\n",
       " 'tuvieron',\n",
       " 'tuviera',\n",
       " 'tuvieras',\n",
       " 'tuviéramos',\n",
       " 'tuvierais',\n",
       " 'tuvieran',\n",
       " 'tuviese',\n",
       " 'tuvieses',\n",
       " 'tuviésemos',\n",
       " 'tuvieseis',\n",
       " 'tuviesen',\n",
       " 'teniendo',\n",
       " 'tenido',\n",
       " 'tenida',\n",
       " 'tenidos',\n",
       " 'tenidas',\n",
       " 'tened']"
      ]
     },
     "execution_count": 64,
     "metadata": {},
     "output_type": "execute_result"
    }
   ],
   "source": [
    "stopwords.words(\"spanish\")"
   ]
  },
  {
   "cell_type": "code",
   "execution_count": 65,
   "id": "0841165b",
   "metadata": {},
   "outputs": [
    {
     "data": {
      "text/plain": [
       "['Hola',\n",
       " 'mundo',\n",
       " 'ejemplo',\n",
       " 'Nota',\n",
       " 'Este',\n",
       " 'mensaje',\n",
       " 'tiene',\n",
       " 'signos',\n",
       " 'de',\n",
       " 'puntuación']"
      ]
     },
     "execution_count": 65,
     "metadata": {},
     "output_type": "execute_result"
    }
   ],
   "source": [
    "palabras = sin_puntuacion.split()\n",
    "palabras"
   ]
  },
  {
   "cell_type": "code",
   "execution_count": 84,
   "id": "84e1d7b7",
   "metadata": {},
   "outputs": [
    {
     "data": {
      "text/plain": [
       "['Hola', 'mundo', 'ejemplo', 'Nota', 'mensaje', 'signos', 'puntuación']"
      ]
     },
     "execution_count": 84,
     "metadata": {},
     "output_type": "execute_result"
    }
   ],
   "source": [
    "cadena_limpia = [palabra for palabra in palabras if palabra.lower() not in stopwords.words(\"spanish\")]\n",
    "cadena_limpia"
   ]
  },
  {
   "cell_type": "code",
   "execution_count": 69,
   "id": "39e1f238",
   "metadata": {},
   "outputs": [],
   "source": [
    "# funcion para procesar datos"
   ]
  },
  {
   "cell_type": "code",
   "execution_count": 78,
   "id": "6098b976",
   "metadata": {},
   "outputs": [],
   "source": [
    "def procesar_texto(cadena):\n",
    "    sin_puntuacion = [c for c in cadena if c not in string.punctuation]\n",
    "    sin_puntuacion = \"\".join(sin_puntuacion)\n",
    "    palabras = sin_puntuacion.split()\n",
    "    cadena_limpia = [palabra for palabra in palabras if palabra.lower() not in stopwords.words(\"spanish\")]\n",
    "    cadena_limpia = [palabra for palabra in cadena_limpia if palabra.lower() not in stopwords.words(\"english\")]\n",
    "    return cadena_limpia"
   ]
  },
  {
   "cell_type": "code",
   "execution_count": 85,
   "id": "ebf35183",
   "metadata": {},
   "outputs": [
    {
     "data": {
      "text/plain": [
       "['Hola', 'mundo', 'ejemplo', 'Nota', 'mensaje', 'signos', 'puntuación']"
      ]
     },
     "execution_count": 85,
     "metadata": {},
     "output_type": "execute_result"
    }
   ],
   "source": [
    "cadena = \"Hola mundo ejemplo! Nota: Este mensaje tiene signos de puntuación!!!!.!!\"\n",
    "resultado = procesar_texto(cadena)\n",
    "resultado"
   ]
  },
  {
   "cell_type": "code",
   "execution_count": 86,
   "id": "e6bb5939",
   "metadata": {},
   "outputs": [
    {
     "data": {
      "text/html": [
       "<div>\n",
       "<style scoped>\n",
       "    .dataframe tbody tr th:only-of-type {\n",
       "        vertical-align: middle;\n",
       "    }\n",
       "\n",
       "    .dataframe tbody tr th {\n",
       "        vertical-align: top;\n",
       "    }\n",
       "\n",
       "    .dataframe thead th {\n",
       "        text-align: right;\n",
       "    }\n",
       "</style>\n",
       "<table border=\"1\" class=\"dataframe\">\n",
       "  <thead>\n",
       "    <tr style=\"text-align: right;\">\n",
       "      <th></th>\n",
       "      <th>etiqueta</th>\n",
       "      <th>mensaje</th>\n",
       "      <th>longitud</th>\n",
       "    </tr>\n",
       "  </thead>\n",
       "  <tbody>\n",
       "    <tr>\n",
       "      <th>0</th>\n",
       "      <td>ham</td>\n",
       "      <td>Go until jurong point, crazy.. Available only ...</td>\n",
       "      <td>111</td>\n",
       "    </tr>\n",
       "    <tr>\n",
       "      <th>1</th>\n",
       "      <td>ham</td>\n",
       "      <td>Ok lar... Joking wif u oni...</td>\n",
       "      <td>29</td>\n",
       "    </tr>\n",
       "    <tr>\n",
       "      <th>2</th>\n",
       "      <td>spam</td>\n",
       "      <td>Free entry in 2 a wkly comp to win FA Cup fina...</td>\n",
       "      <td>155</td>\n",
       "    </tr>\n",
       "    <tr>\n",
       "      <th>3</th>\n",
       "      <td>ham</td>\n",
       "      <td>U dun say so early hor... U c already then say...</td>\n",
       "      <td>49</td>\n",
       "    </tr>\n",
       "    <tr>\n",
       "      <th>4</th>\n",
       "      <td>ham</td>\n",
       "      <td>Nah I don't think he goes to usf, he lives aro...</td>\n",
       "      <td>61</td>\n",
       "    </tr>\n",
       "  </tbody>\n",
       "</table>\n",
       "</div>"
      ],
      "text/plain": [
       "  etiqueta                                            mensaje  longitud\n",
       "0      ham  Go until jurong point, crazy.. Available only ...       111\n",
       "1      ham                      Ok lar... Joking wif u oni...        29\n",
       "2     spam  Free entry in 2 a wkly comp to win FA Cup fina...       155\n",
       "3      ham  U dun say so early hor... U c already then say...        49\n",
       "4      ham  Nah I don't think he goes to usf, he lives aro...        61"
      ]
     },
     "execution_count": 86,
     "metadata": {},
     "output_type": "execute_result"
    }
   ],
   "source": [
    "mensajes_dataframe.head()"
   ]
  },
  {
   "cell_type": "code",
   "execution_count": 87,
   "id": "a4ea88ca",
   "metadata": {},
   "outputs": [
    {
     "data": {
      "text/plain": [
       "0    [Go, jurong, point, crazy, Available, bugis, n...\n",
       "1                       [Ok, lar, Joking, wif, u, oni]\n",
       "2    [Free, entry, 2, wkly, comp, win, FA, Cup, fin...\n",
       "3        [U, dun, say, early, hor, U, c, already, say]\n",
       "4    [Nah, dont, think, goes, usf, lives, around, t...\n",
       "Name: mensaje, dtype: object"
      ]
     },
     "execution_count": 87,
     "metadata": {},
     "output_type": "execute_result"
    }
   ],
   "source": [
    "mensajes_dataframe[\"mensaje\"].head(5).apply(procesar_texto)"
   ]
  },
  {
   "cell_type": "code",
   "execution_count": 88,
   "id": "c2abef95",
   "metadata": {},
   "outputs": [],
   "source": [
    "from sklearn.feature_extraction.text import CountVectorizer"
   ]
  },
  {
   "cell_type": "code",
   "execution_count": 89,
   "id": "86a4166a",
   "metadata": {},
   "outputs": [],
   "source": [
    "#asignar un numero a todas las palabras importantes\n",
    "transformador = CountVectorizer(analyzer=procesar_texto).fit(mensajes_dataframe[\"mensaje\"])"
   ]
  },
  {
   "cell_type": "code",
   "execution_count": 90,
   "id": "614bf516",
   "metadata": {},
   "outputs": [
    {
     "name": "stdout",
     "output_type": "stream",
     "text": [
      "{'Go': 2051, 'jurong': 7530, 'point': 8886, 'crazy': 5751, 'Available': 1108, 'bugis': 5200, 'n': 8307, 'great': 6913, 'world': 11128, 'buffet': 5199, 'Cine': 1481, 'got': 6882, 'amore': 4635, 'wat': 10930, 'Ok': 3052, 'lar': 7675, 'Joking': 2441, 'wif': 11037, 'u': 10664, 'oni': 8560, 'Free': 1932, 'entry': 6308, '2': 423, 'wkly': 11088, 'comp': 5601, 'win': 11049, 'FA': 1824, 'Cup': 1549, 'final': 6533, 'tkts': 10479, '21st': 443, 'May': 2792, '2005': 430, 'Text': 3940, '87121': 871, 'receive': 9221, 'questionstd': 9128, 'txt': 10652, 'rateTCs': 9169, 'apply': 4713, '08452810075over18s': 73, 'U': 4055, 'dun': 6184, 'say': 9523, 'early': 6201, 'hor': 7161, 'c': 5243, 'already': 4611, 'Nah': 2936, 'dont': 6103, 'think': 10400, 'goes': 6853, 'usf': 10764, 'lives': 7816, 'around': 4759, 'though': 10417, 'FreeMsg': 1934, 'Hey': 2212, 'darling': 5846, '3': 543, 'weeks': 10976, 'word': 11115, 'back': 4875, 'Id': 2336, 'like': 7774, 'fun': 6731, 'still': 10060, 'Tb': 3917, 'ok': 8537, 'XxX': 4366, 'std': 10040, 'chgs': 5449, 'send': 9608, '£150': 11334, 'rcv': 9178, 'Even': 1793, 'brother': 5175, 'speak': 9938, 'treat': 10595, 'aids': 4573, 'patent': 8730, 'per': 8765, 'request': 9325, 'Melle': 2802, 'Oru': 3086, 'Minnaminunginte': 2821, 'Nurungu': 3011, 'Vettam': 4157, 'set': 9631, 'callertune': 5274, 'Callers': 1419, 'Press': 3266, '9': 909, 'copy': 5698, 'friends': 6695, 'Callertune': 1420, 'WINNER': 4208, 'valued': 10793, 'network': 8377, 'customer': 5802, 'selected': 9595, 'receivea': 9222, '£900': 11375, 'prize': 9027, 'reward': 9382, 'claim': 5501, 'call': 5257, '09061701461': 219, 'Claim': 1483, 'code': 5556, 'KL341': 2467, 'Valid': 4148, '12': 326, 'hours': 7176, 'mobile': 8187, '11': 315, 'months': 8222, 'R': 3308, 'entitled': 6305, 'Update': 4115, 'latest': 7690, 'colour': 5576, 'mobiles': 8188, 'camera': 5286, 'Call': 1415, 'Mobile': 2840, 'Co': 1490, 'FREE': 1856, '08002986030': 58, 'Im': 2342, 'gonna': 6866, 'home': 7134, 'soon': 9898, 'want': 10910, 'talk': 10270, 'stuff': 10120, 'anymore': 4683, 'tonight': 10523, 'k': 7536, 'Ive': 2384, 'cried': 5765, 'enough': 6296, 'today': 10490, 'SIX': 3482, 'chances': 5393, 'CASH': 1351, '100': 294, '20000': 427, 'pounds': 8944, 'CSH11': 1403, '87575': 875, 'Cost': 1522, '150pday': 364, '6days': 763, '16': 382, 'TsandCs': 4035, 'Reply': 3401, 'HL': 2130, '4': 605, 'info': 7329, 'URGENT': 4077, '1': 292, 'week': 10971, 'membership': 8083, '£100000': 11328, 'Prize': 3271, 'Jackpot': 2411, 'Txt': 4049, 'CLAIM': 1376, '81010': 821, 'TC': 3834, 'wwwdbuknet': 11196, 'LCCLTD': 2541, 'POBOX': 3126, '4403LDNW1A7RW18': 626, 'searching': 9564, 'right': 9391, 'words': 11119, 'thank': 10359, 'breather': 5148, 'promise': 9061, 'wont': 11110, 'take': 10262, 'help': 7064, 'granted': 6905, 'fulfil': 6727, 'wonderful': 11107, 'blessing': 5057, 'times': 10458, 'DATE': 1566, 'SUNDAY': 3554, 'XXXMobileMovieClub': 4357, 'use': 10758, 'credit': 5756, 'click': 5522, 'WAP': 4187, 'link': 7792, 'next': 8391, 'message': 8106, 'httpwap': 7199, 'xxxmobilemovieclubcomnQJKGIGHJJGCBL': 11238, 'Oh': 3047, 'kim': 7593, 'watching': 10935, 'Eh': 1762, 'remember': 9288, 'spell': 9952, 'name': 8319, 'Yes': 4409, 'v': 10781, 'naughty': 8339, 'make': 7973, 'wet': 11005, 'Fine': 1905, 'that\\x92s': 10372, 'way': 10944, 'feel': 6493, 'That\\x92s': 3951, 'gota': 6883, 'b': 4862, 'England': 1776, 'Macedonia': 2760, 'miss': 8162, 'goalsteam': 6846, 'news': 8386, 'ur': 10742, 'national': 8333, 'team': 10305, '87077': 870, 'eg': 6237, 'ENGLAND': 1721, 'TryWALES': 4029, 'SCOTLAND': 3447, '4txtú120': 677, 'POBOXox36504W45WQ': 3129, 'seriously': 9625, 'I‘m': 2391, 'going': 6858, 'try': 10621, 'joking': 7509, 'ü': 11381, 'pay': 8738, 'first': 6560, 'da': 5814, 'stock': 10064, 'comin': 5591, 'Aft': 1018, 'finish': 6546, 'lunch': 7920, 'go': 6840, 'str': 10084, 'lor': 7861, 'Ard': 1082, 'smth': 9848, 'Ffffffffff': 1896, 'Alright': 1051, 'meet': 8065, 'sooner': 9899, 'forced': 6631, 'eat': 6213, 'slice': 9803, 'really': 9203, 'hungry': 7224, 'tho': 10413, 'sucks': 10153, 'Mark': 2782, 'getting': 6808, 'worried': 11134, 'knows': 7618, 'sick': 9731, 'turn': 10638, 'pizza': 8838, 'Lol': 2636, 'always': 4623, 'convincing': 5685, 'catch': 5356, 'bus': 5219, 'frying': 6717, 'egg': 6239, 'tea': 10299, 'eating': 6216, 'moms': 8206, 'left': 7722, 'dinner': 6025, 'Love': 2649, 'amp': 4637, 'packing': 8662, 'car': 5313, 'Ill': 2340, 'let': 7743, 'know': 7614, 'theres': 10388, 'room': 9429, 'Ahhh': 1027, 'Work': 4332, 'vaguely': 10784, 'Wait': 4243, 'thats': 10371, 'clear': 5516, 'sure': 10204, 'sarcastic': 9505, 'x': 11225, 'doesnt': 6079, 'live': 7813, 'us': 10752, 'Yeah': 4400, 'apologetic': 4701, 'fallen': 6444, 'actin': 4492, 'spoilt': 9972, 'child': 5465, 'caught': 5360, 'Till': 3984, 'badly': 4880, 'cheers': 5432, 'K': 2458, 'tell': 10321, 'anything': 4689, 'fear': 6485, 'fainting': 6435, 'housework': 7180, 'Quick': 3303, 'cuppa': 5792, 'Thanks': 3945, 'subscription': 10143, 'Ringtone': 3411, 'UK': 4061, 'charged': 5405, '£5month': 11367, 'Please': 3223, 'confirm': 5643, 'replying': 9320, 'YES': 4374, 'reply': 9318, 'Yup': 4433, 'look': 7853, 'timings': 10464, 'msg': 8254, 'Xuhui': 4364, 'learn': 7711, '2nd': 526, 'may': 8038, 'lesson': 7741, '8am': 903, 'Oops': 3073, 'roommates': 9432, 'done': 6100, 'see': 9580, 'letter': 7745, 'B': 1118, 'Anything': 1068, 'decide': 5896, 'Hello': 2199, 'Hows': 2269, 'saturday': 9515, 'texting': 10350, 'youd': 11281, 'decided': 5897, 'tomo': 10512, 'im': 7282, 'trying': 10623, 'invite': 7385, 'Pls': 3225, 'ahead': 4565, 'watts': 10942, 'wanted': 10912, 'weekend': 10973, 'Abiola': 998, 'forget': 6637, 'need': 8357, 'crave': 5748, 'love': 7886, 'sweet': 10228, 'Arabian': 1080, 'steed': 10046, 'Mmmmmm': 2834, 'Yummy': 4430, '07732584351': 29, 'Rodger': 3417, 'Burns': 1327, 'MSG': 2745, 'tried': 10604, 'sms': 9843, 'free': 6675, 'nokia': 8426, 'camcorder': 5284, '08000930705': 54, 'delivery': 5930, 'tomorrow': 10515, 'SEEING': 3451, 'Great': 2079, 'hope': 7152, 'man': 7982, 'well': 10988, 'endowed': 6280, 'ltgt': 7912, 'inches': 7308, 'callsmessagesmissed': 5280, 'calls': 5279, 'Didnt': 1657, 'get': 6800, 'hep': 7073, 'immunisation': 7290, 'nigeria': 8398, 'Fair': 1884, 'hopefully': 7157, 'tyler': 10658, 'cant': 5302, 'could': 5720, 'maybe': 8040, 'ask': 4781, 'bit': 5035, 'stubborn': 10110, 'didnt': 5994, 'even': 6345, 'hospital': 7167, 'kept': 7569, 'telling': 10322, 'weak': 10948, 'sucker': 10151, 'Hospitals': 2261, 'suckers': 10152, 'thinked': 10402, 'First': 1909, 'time': 10454, 'saw': 9522, 'class': 5509, 'gram': 6899, 'usually': 10770, 'runs': 9464, 'half': 6979, 'eighth': 6246, 'smarter': 9825, 'gets': 6804, 'almost': 4607, 'whole': 11028, 'second': 9568, 'fyi': 6744, 'ride': 9390, 'morning': 8227, 'hes': 7084, 'crashing': 5747, 'place': 8839, 'Wow': 4339, 'never': 8381, 'realized': 9201, 'embarassed': 6265, 'accomodations': 4475, 'thought': 10418, 'liked': 7775, 'since': 9755, 'best': 4996, 'seemed': 9586, 'happy': 7010, 'cave': 5364, 'sorry': 9908, 'give': 6826, 'offered': 8517, 'embarassing': 6266, 'SMS': 3493, 'ac': 4461, 'Sptv': 3749, 'New': 2956, 'Jersey': 2431, 'Devils': 1651, 'Detroit': 1650, 'Red': 3381, 'Wings': 4309, 'play': 8853, 'Ice': 2334, 'Hockey': 2239, 'Correct': 1520, 'Incorrect': 2350, 'End': 1774, 'END': 1719, 'SPTV': 3525, 'Mallika': 2772, 'Sherawat': 3640, 'yesterday': 11263, 'Find': 1904, 'ltURLgt': 7911, 'Congrats': 1511, 'year': 11254, 'special': 9940, 'cinema': 5497, 'pass': 8719, '09061209465': 214, 'C': 1335, 'Suprman': 3808, 'V': 4132, 'Matrix3': 2789, 'StarWars3': 3758, 'etc': 6335, 'bx420ip45we': 5238, '150pm': 365, 'Dont': 1688, 'Sorry': 3722, 'later': 7688, 'meeting': 8067, 'Tell': 3929, 'reached': 9185, 'Yesgauti': 4412, 'sehwag': 9592, 'odi': 8511, 'series': 9623, 'pick': 8813, 'burger': 5211, 'move': 8241, 'Pain': 3168, 'killing': 7590, 'good': 6868, 'joke': 7504, 'Girls': 2046, 'situation': 9775, 'seekers': 9583, 'part': 8708, 'checking': 5429, 'IQ': 2319, 'took': 10532, 'forever': 6634, 'come': 5583, 'double': 6114, 'check': 5426, 'hair': 6976, 'dresser': 6142, 'said': 9481, 'wun': 11173, 'cut': 5805, 'short': 9697, 'nice': 8394, 'pleased': 8864, 'advise': 4530, 'following': 6615, 'recent': 9225, 'review': 9380, 'Mob': 2837, 'awarded': 4855, '£1500': 11335, 'Bonus': 1280, '09066364589': 263, 'Today': 3998, 'song': 9894, 'dedicated': 5906, 'day': 5863, 'dedicate': 5905, 'Send': 3610, 'valuable': 10790, 'frnds': 6704, 'rply': 9445, 'Urgent': 4122, 'UR': 4074, 'complimentary': 5618, 'trip': 10605, 'EuroDisinc': 1790, 'Trav': 4019, 'AcoEntry41': 1007, '£1000': 11326, 'DIS': 1583, '186£150moreFrmMob': 391, 'ShrAcomOrSglSuplt10': 3660, 'LS1': 2577, '3AJ': 576, 'hear': 7041, 'new': 8384, 'Divorce': 1673, 'Barbie': 1223, 'comes': 5587, 'Kens': 2487, 'plane': 8846, 'month': 8219, 'end': 6275, 'Wah': 4241, 'lucky': 7917, 'save': 9518, 'money': 8212, 'Hee': 2193, 'Finished': 1908, 'HI': 2126, 'BABE': 1122, 'IM': 2298, 'HOME': 2136, 'WANNA': 4184, 'SOMETHING': 3502, 'XX': 4354, 'Kkwhere': 2517, 'youhow': 11284, 'performed': 8772, 'waiting': 10889, 'machan': 7942, 'Thats': 3950, 'cool': 5691, 'gentleman': 6794, 'dignity': 6016, 'respect': 9346, 'peoples': 8764, 'much': 8270, 'shy': 9727, 'pa': 8657, 'operate': 8576, 'Still': 3770, 'looking': 7856, 'job': 7491, 'Tas': 3914, 'earn': 6202, 'ah': 4563, 'hi': 7091, 'stop': 10073, 'urgnt': 10747, 'real': 9195, 'tickets': 10445, 'one': 8556, 'jacket': 7452, 'used': 10759, 'multis': 8278, 'started': 10021, 'requests': 9326, 'pain': 8669, 'came': 5285, 'bed': 4955, 'Double': 1694, 'coins': 5562, 'factory': 6427, 'gotta': 6886, 'cash': 5345, 'nitros': 8416, 'babe': 4867, 'Ela': 1765, 'kanoil': 7552, 'download': 6120, 'wen': 10993, 'Don‘t': 1691, 'stand': 10010, 'close': 5528, 'you‘ll': 11301, 'something': 9882, 'another': 4668, 'night': 8399, 'spent': 9957, 'late': 7683, 'afternoon': 4546, 'casualty': 5354, 'means': 8056, 'havent': 7026, 'stuff42moro': 10121, 'includes': 7311, 'sheets': 9666, 'Smile': 3700, 'Pleasure': 3224, 'trouble': 10610, 'pours': 8946, 'Rain': 3355, 'sum1': 10171, 'Hurts': 2279, 'becoz': 4953, 'SOMEONE': 3500, 'Loves': 2655, 'Smiling': 3702, 'service': 9628, 'representative': 9323, '0800': 50, '169': 384, '6031': 726, '10am9pm': 309, 'guaranteed': 6945, '£5000': 11362, 'Havent': 2184, 'planning': 8850, 'buy': 5230, 'lido': 7757, '530': 697, 'show': 9711, 'work': 11120, 'ringtone': 9398, 'collected': 5569, 'Simply': 3670, 'text': 10345, 'password': 8727, 'MIX': 2720, '85069': 856, 'verify': 10811, 'Get': 2038, 'Usher': 4127, 'Britney': 1313, 'FML': 1848, 'PO': 3124, 'Box': 1290, '5249': 694, 'MK17': 2721, '92H': 914, '450Ppw': 636, 'Watching': 4264, 'telugu': 10326, 'moviewat': 8246, 'abt': 4457, 'loads': 7823, 'loans': 7825, 'Hi': 2215, 'Wk': 4318, 'hols': 7132, 'run': 9461, 'Forgot': 1925, 'hairdressers': 6978, 'appointment': 4717, 'four': 6661, 'shower': 9713, 'beforehand': 4967, 'cause': 5361, 'prob': 9031, 'cup': 5790, 'coffee': 5557, 'animation': 4655, 'nothing': 8450, 'else': 6260, 'Okay': 3053, 'price': 9007, 'long': 7849, 'legal': 7725, 'Wen': 4282, 'ave': 4843, 'ams': 4639, 'xx': 11235, 'gone': 6864, '4the': 675, 'driving': 6151, 'test': 10341, 'yet': 11264, 'wow': 11149, 'Youre': 4426, 'mean': 8052, 'guess': 6949, 'gave': 6775, 'boston': 5108, 'men': 8088, 'changed': 5395, 'search': 9563, 'location': 7828, 'nyc': 8489, 'Cuz': 1558, 'signin': 9741, 'page': 8665, 'says': 9528, 'Umma': 4097, 'life': 7760, 'vava': 10801, 'umma': 10677, 'lot': 7870, 'dear': 5883, 'wishes': 11069, 'birthday': 5033, 'making': 7977, 'truly': 10617, 'memorable': 8085, 'Aight': 1030, 'hit': 7110, 'would': 11145, 'ip': 7393, 'address': 4507, 'considering': 5660, 'computer': 5624, 'isnt': 7415, 'minecraft': 8142, 'server': 9627, 'Grumpy': 2083, 'old': 8550, 'people': 8763, 'mom': 8203, 'better': 5002, 'lying': 7933, 'jokes': 7506, 'worry': 11136, 'busy': 5225, 'plural': 8874, 'noun': 8457, 'research': 9332, 'Going': 2057, 'dinnermsg': 6026, 'cos': 5709, 'things': 10399, 'scared': 9534, 'mah': 7963, 'Cos': 1521, 'loud': 7881, 'GENT': 1970, 'contact': 5665, 'Last': 2595, 'weekends': 10974, 'draw': 6130, 'shows': 9718, 'GUARANTEED': 2013, '09064012160': 238, 'Code': 1492, 'K52': 2459, '12hrs': 338, '150ppm': 370, 'Wa': 4239, 'openin': 8573, 'sentence': 9617, 'formal': 6645, 'Anyway': 1070, 'fine': 6541, 'juz': 7535, 'tt': 10627, 'eatin': 6215, 'puttin': 9112, 'weightHaha': 10981, 'anythin': 4688, 'happened': 7002, 'entered': 6298, 'cabin': 5245, 'PA': 3092, 'Happy': 2176, 'Bday': 1230, 'Boss': 1288, 'felt': 6502, 'askd': 4782, 'invited': 7386, 'apartment': 4697, 'went': 10995, 'winner': 11059, 'specially': 9944, 'holiday': 7128, 'flights': 6585, 'inc': 7306, 'operator': 8577, '0871277810910pmin': 123, '18': 387, 'Goodo': 2066, 'must': 8295, 'friday': 6688, 'eggpotato': 6240, 'ratio': 9172, 'tortilla': 10549, 'needed': 8359, 'Hmmmy': 2236, 'uncle': 10681, 'informed': 7333, 'paying': 8742, 'school': 9540, 'directly': 6030, 'pls': 8870, 'food': 6621, 'PRIVATE': 3154, '2004': 429, 'Account': 1003, 'Statement': 3763, '07742676969': 31, '786': 788, 'unredeemed': 10719, 'Points': 3239, '08719180248': 171, 'Identifier': 2338, '45239': 639, 'Expires': 1816, '£2000': 11347, 'Caller': 1418, '5903': 702, 'Landline': 2590, '09064019788': 244, 'BOX42WR29C': 1183, '150PPM': 355, 'applespairsall': 4711, 'malarky': 7979, 'Todays': 3999, 'Voda': 4166, 'numbers': 8480, 'ending': 6277, '7548': 783, '350': 566, 'award': 4854, 'match': 8019, 'please': 8863, '08712300220': 105, 'quoting': 9139, '4041': 610, 'standard': 10011, 'rates': 9170, 'app': 4705, 'sao': 9500, 'mu': 8269, 'Ü': 11378, 'predict': 8974, 'üll': 11382, 'buying': 5233, 'Good': 2061, 'knowyetunde': 7621, 'hasnt': 7017, 'sent': 9616, 'bother': 5110, 'sending': 9609, 'involve': 7390, 'shouldnt': 9705, 'imposed': 7296, 'apologise': 4702, 'HEY': 2122, 'GIRL': 1976, 'HOPE': 2140, 'WELL': 4194, 'BAK': 1132, 'LONG': 2563, 'TIME': 3870, 'GIVE': 1979, 'CALL': 1339, 'SUM': 3551, 'LUCYxx': 2583, 'Kkhow': 2511, 'cost': 5711, 'Dear': 1629, 'Tmorrowpls': 3992, 'accomodate': 4474, 'answer': 4671, 'question': 9125, 'Sunshine': 3804, 'Quiz': 3305, 'Wkly': 4319, 'Q': 3292, 'Win': 4307, 'top': 10540, 'Sony': 3719, 'DVD': 1610, 'player': 8855, 'country': 5726, 'Algarve': 1045, 'ansr': 4670, '82277': 827, 'SPTyrone': 3526, 'Want': 4254, 'laid': 7655, 'Dogging': 1682, 'locations': 7829, 'direct': 6029, 'mob': 8186, 'Join': 2437, 'UKs': 4064, 'largest': 7677, 'Network': 2951, 'bt': 5189, 'Txting': 4052, 'GRAVEL': 2009, '69888': 752, 'Nt': 3008, 'ec2a': 6218, '31pmsg150p': 559, 'haf': 6972, 'msn': 8264, 'yijuehotmailcom': 11270, 'rooms': 9433, 'befor': 4966, 'activities': 4497, 'Youll': 4425, 'msgs': 8257, 'chat': 5417, 'svc': 10219, 'Hardcore': 2178, 'services': 9629, 'GO': 1984, '69988': 756, 'Age': 1024, 'Verify': 4156, 'yr': 11304, 'Got': 2071, 'lazy': 7705, 'type': 10660, 'forgot': 6642, 'lect': 7719, 'pouch': 8941, 'youre': 11292, 'Sir': 3677, 'Waiting': 4246, 'mail': 7966, 'swt': 10240, 'Nver': 3013, 'tired': 10468, 'little': 7812, 'lovable': 7885, 'persons': 8786, 'Cozsomtimes': 1530, 'occupy': 8505, 'biggest': 5017, 'Hearts': 2192, 'Gud': 2087, 'ni8': 8392, 'open': 8570, 'dot': 6113, 'Whats': 4291, 'staff': 10001, 'taking': 10267, 'replied': 9316, 'Randy': 3362, 'sexy': 9643, 'female': 6503, 'local': 7827, 'Luv': 2668, 'Netcollex': 2950, 'Ltd': 2659, '08700621170150p': 75, 'Stop': 3772, 'Ummmawill': 4098, 'inour': 7349, 'begin': 4972, 'qatar': 9117, 'pray': 8968, 'hard': 7011, 'Ki': 2493, 'deleted': 5926, 'Sindu': 3674, 'birla': 5030, 'soft': 9865, 'wine': 11056, 'flowing': 6599, 'nevering': 8382, 'thk': 10409, 'cine': 5496, 'plaza': 8861, 'Ur': 4120, 'typical': 10663, 'everywhere': 6361, 'dirt': 6033, 'floor': 6593, 'windows': 11053, 'shirt': 9678, 'sometimes': 9886, 'mouth': 8240, 'dream': 6134, 'without': 11078, 'chores': 5487, 'joy': 7515, 'lots': 7873, 'tv': 10643, 'ill': 7280, 'exist': 6390, 'rain': 9150, 'hail': 6975, 'mist': 8172, 'become': 4952, 'Aaooooright': 993, 'leaving': 7718, 'house': 7177, 'interview': 7375, 'boy': 5125, 'meAre': 8046, 'missing': 8166, 'Customer': 1552, 'annoncement': 4661, 'Years': 4402, '07046744435': 22, 'arrange': 4761, '0871277810810': 122, 'Keep': 2484, 'safe': 9477, 'envy': 6311, 'everyone': 6357, 'sees': 9589, 'parentsi': 8701, 'hand': 6986, 'excited': 6378, 'spend': 9955, 'PLS': 3122, 'STOP': 3536, 'bootydelious': 5100, '32F': 564, 'inviting': 7387, 'friend': 6693, 'YES434': 4376, 'NO434': 2916, 'See': 3606, 'wwwSMSacubootydelious': 11184, 'FRND': 1870, '62468': 734, 'BangBabes': 1220, 'order': 8599, 'Service': 3621, 'Msg': 2873, 'content': 5669, 'GoTo': 2052, 'wap': 10915, 'bangb': 4895, 'internetservice': 7374, 'menu': 8096, 'points': 8887, 'cultures': 5786, 'module': 8197, '09061701939': 221, 'S89': 3433, 'frnd': 6702, 'avoid': 4848, 'missunderstding': 8171, 'wit': 11074, 'beloved': 4988, 'ones': 8558, 'escape': 6326, 'fancy': 6456, 'bridge': 5153, 'needs': 8363, 'lager': 7654, 'completely': 5614, 'formclark': 6649, 'also': 4617, 'utter': 10772, 'waste': 10927, 'AXIS': 990, 'BANK': 1134, 'account': 4479, 'bank': 4896, 'Hmmm': 2230, 'Thk': 3970, 'hop': 7151, 'ard': 4737, 'Muz': 2886, 'discuss': 6048, 'liao': 7750, 'coming': 5592, 'Bloody': 1269, 'hell': 7060, 'believe': 4979, 'surname': 10209, 'Mr': 2871, 'clue': 5541, 'spanish': 9932, 'begins': 4973, 'Well': 4280, 'bath': 4921, 'goodfine': 6871, 'Let': 2610, 'youve': 11297, 'carlos': 5333, 'mall': 7981, 'Turns': 4043, 'staying': 10038, 'til': 10452, 'smoke': 9837, 'worth': 11141, 'log': 7834, 'spoke': 9973, 'MANEESHA': 2686, 'Wed': 4273, 'satisfied': 9512, 'experience': 6396, 'Toll': 4002, 'lifted': 7768, 'hopes': 7159, 'offer': 8516, 'Especially': 1784, 'approaches': 4721, 'hurts': 7236, 'studying': 10118, 'Anyways': 1071, 'gr8': 6894, 'trust': 10618, 'guys': 6961, 'greatbye': 6915, 'handsome': 6992, 'finding': 6539, 'Working': 4333, 'towards': 10563, 'net': 8374, 'mummy': 8282, 'Wheres': 4298, 'boytoy': 5129, 'Haha': 2162, 'awesome': 4857, 'minute': 8153, 'FREEPHONE': 1861, '0808': 62, '145': 350, '4742': 643, '9am11pm': 926, 'Xmas': 4362, 'radio': 9143, 'jus': 7531, 'bathe': 4922, 'sis': 9766, 'using': 10765, 'finishes': 6549, 'unique': 10708, '30th': 554, 'August': 1105, 'wwwareyouuniquecouk': 11189, 'joined': 7500, 'league': 7710, 'keep': 7563, 'touch': 10558, 'deal': 5876, 'personal': 8784, 'finally': 6535, 'completed': 5613, 'course': 5731, 'however': 7183, 'suggest': 10164, 'stays': 10039, 'someone': 9876, 'able': 4451, 'ors': 8608, 'every': 6352, 'stool': 10072, 'Hope': 2256, 'settled': 9635, 'wishin': 11070, 'mrng': 8251, 'hav': 7023, 'story': 10083, 'hamster': 6985, 'dead': 5874, 'tmr': 10483, '1pm': 415, 'orchard': 8598, 'mrt': 8252, 'Kate': 2479, 'evening': 6346, 'bloody': 5070, 'babyjontet': 4871, 'xxx': 11237, 'Found': 1927, 'ENC': 1718, 'bucks': 5193, 'darlin': 5845, 'ive': 7441, 'finished': 6548, 'college': 5573, 'refilled': 9254, 'successfully': 10150, 'INR': 2312, 'ltDECIMALgt': 7908, 'KeralaCircle': 2490, 'prepaid': 8982, 'balance': 4888, 'Rs': 3427, 'Transaction': 4018, 'ID': 2285, 'KR': 2472, 'Goodmorning': 2062, 'sleeping': 9798, 'ga': 6749, 'alter': 4619, 'dat': 5851, 'ericsson': 6316, 'oso': 8612, 'cannot': 5300, 'oredi': 8602, 'dats': 5858, 'straight': 10086, 'dogg': 6083, 'connection': 5653, 'refund': 9258, 'bill': 5019, 'shoot': 9690, 'big': 5015, 'ready': 9193, 'bruv': 5186, 'break': 5142, 'rewarding': 9383, 'semester': 9604, 'Home': 2250, 'Kkgoodstudy': 2510, 'noe': 8423, 'leh': 7728, 'Sounds': 3727, 'Finally': 1903, 'heading': 7034, 'prediction': 8976, 'Tired': 3988, 'slept': 9802, 'past': 8728, 'nights': 8403, 'Easy': 1752, 'ahsen': 4569, 'exam': 6373, 'march': 8000, 'gt': 6942, 'atm': 4805, 'register': 9265, 'anyway': 4693, 'Take': 3910, 'called': 5272, 'ubandu': 10667, 'installing': 7359, 'diskyou': 6050, 'important': 7294, 'files': 6524, 'system': 10246, 'repair': 9308, 'shop': 9691, 'happen': 7000, 'romantic': 9426, 'nite': 8414, 'scenery': 9537, '500': 686, 'Mobiles': 2842, 'MUST': 2756, 'NOKIA': 2921, '89545': 894, 'collect': 5568, 'todayFrom': 10491, '£1': 11323, 'www4tcbiz': 11175, '2optout': 530, '08718726270150gbpmtmsg18': 156, 'Would': 4338, 'appreciate': 4719, 'partner': 8713, 'career': 5321, 'flyng': 6606, 'start': 10020, 'find': 6538, 'HORO': 2142, 'followed': 6613, 'star': 10014, 'sign': 9737, 'g': 6745, 'ARIES': 974, 'company': 5603, 'elama': 6253, 'po': 8879, 'mudyadhu': 8274, 'Life': 2614, 'strict': 10099, 'teacher': 10301, 'Bcoz': 1229, 'Teacher': 3920, 'teaches': 10302, 'conducts': 5638, 'Exam': 1809, 'Lessons': 2609, 'gandhipuram': 6760, 'walk': 10893, 'cross': 5768, 'road': 9410, 'Right': 3408, 'side': 9733, 'street': 10091, 'rubber': 9451, 'battery': 4927, 'died': 6000, 'yeah': 11253, 'Yeshere': 4414, 'available': 4837, 'date': 5853, 'flirt': 6589, '10p': 311, 'REPLY': 3330, 'NAME': 2892, 'AGE': 949, 'Sam': 3577, '25': 457, 'recdthirtyeight': 9217, 'pence': 8758, 'printed': 9018, 'oh': 8535, 'upstairs': 10740, 'closer': 5532, 'youwhen': 11299, 'wil': 11044, 'reach': 9183, 'Theory': 3958, 'Argument': 1084, 'wins': 11061, 'SITUATION': 3481, 'loses': 7866, 'PERSON': 3106, 'argue': 4745, 'kick': 7581, 'correct': 5703, '447801259231': 628, 'secret': 9571, 'admirer': 4515, 'Ufind': 4087, 'Rreveal': 3426, 'thinks': 10405, 'specialcall': 9941, '09058094597': 204, 'Tomarrow': 4004, 'hearing': 7044, 'laptop': 7674, 'case': 5344, 'PLEASSSSSSSEEEEEE': 3121, 'TEL': 3841, 'AVENT': 987, 'DONE': 1592, 'SPORTSx': 3523, 'shining': 9674, 'meant': 8057, 'signing': 9742, 'sounds': 9920, 'Although': 1054, 'told': 10505, 'baig': 4884, 'face': 6422, 'watches': 10933, 'watch': 10931, 'fr': 6667, 'Thanx': 3948, 'everything': 6360, 'uve': 10776, 'touched': 10559, 'commercial': 5597, 'website': 10961, 'slippers': 9809, 'asked': 4783, 'Kallis': 2476, 'bat': 4918, 'innings': 7346, 'goodnight': 6874, 'fix': 6567, 'wake': 10890, 'dearly': 5888, 'missed': 8164, 'sleep': 9796, 'Congratulations': 1512, 'CD': 1356, 'vouchers': 10868, '125gift': 334, 'MUSIC': 2755, '87066': 868, 'TnCs': 3996, 'wwwLdewcom1win150ppmx3age16': 11181, 'Ranjith': 3363, 'cal': 5251, 'drpd': 6159, 'Deeraj': 1636, 'deepak': 5909, '5min': 716, 'hold': 7124, 'bcums': 4938, 'angry': 4653, 'wid': 11035, 'dnt': 6066, 'Coz': 1529, 'childish': 5466, 'true': 10614, 'showing': 9716, 'deep': 5908, 'affection': 4536, 'care': 5318, 'luv': 7925, 'kettoda': 7571, 'manda': 7987, 'doinghow': 6092, 'Ups': 4118, '3days': 593, 'shipping': 9677, 'takes': 10265, '2wks': 539, 'usps': 10767, 'lag': 7652, 'bribe': 5152, 'nipost': 8412, 'lemme': 7731, 'necessarily': 8351, 'expect': 6392, 'headin': 7033, 'Mmm': 2831, 'yummy': 11307, 'Nice': 2963, 'jolt': 7511, 'suzy': 10218, 'lover': 7890, 'Video': 4159, 'Handset': 2172, '750': 782, 'anytime': 4692, 'networks': 8378, 'mins': 8147, 'UNLIMITED': 4069, 'TEXT': 3847, 'Camcorder': 1427, 'parked': 8705, 'MINI': 2711, 'shopping': 9693, 'Dun': 1708, 'disturb': 6057, 'LUTON': 2585, '0125698789': 6, 'RING': 3339, 'AROUND': 975, 'H': 2100, 'horny': 7163, 'naked': 8316, 'hot': 7171, '69698': 748, 'unsubscribe': 10724, 'Dint': 1664, 'Wana': 4252, 'plan': 8845, 'sometme': 9887, 'credits': 5758, 'club4mobilescom': 5540, 'choose': 5483, 'CLUB': 1378, '87070': 869, '150pwk': 376, 'Club4': 1489, 'Box1146': 1291, 'MK45': 2722, '2WT': 504, 'evo': 6367, 'flash': 6576, 'Jealous': 2423, 'Club': 1488, 'singles': 9760, 'chart': 5412, 'quality': 9122, 'charge': 5404, 'Come': 1501, 'sorting': 9913, 'narcotics': 8329, 'Night': 2969, 'ended': 6276, 'smile': 9833, 'sunny': 10181, 'rays': 9175, 'leaves': 7717, 'worries': 11135, 'blue': 5075, 'bay': 4930, 'HMV': 2133, 'BONUS': 1170, 'SPECIAL': 3514, 'genuine': 6796, 'easy': 6212, 'questions': 9127, 'Play': 3220, '86688': 865, 'infowww100percentrealcom': 7337, 'Usf': 4126, 'might': 8126, 'objection': 8499, 'bf': 5006, 'rob': 9414, 'mack': 7946, 'gf': 6810, 'theater': 10376, 'Awesome': 1112, 'handed': 6987, 'Celebrations': 1452, 'full': 6728, 'swing': 10235, 'tool': 10534, 'person': 8781, 'definitely': 5916, 'Keepintouch': 2485, 'gdeve': 6783, 'far': 6461, 'Okie': 3055, 'usual': 10768, 'passed': 8722, 'last': 7680, 'ahold': 4568, 'anybody': 4680, 'throw': 10428, 'lets': 7744, 'baby': 4870, 'cruisin': 5773, 'girl': 6819, 'r': 9140, 'hour': 7174, 'alright': 4613, 'fone': 6619, 'jenny': 7480, 'Means': 2795, 'World': 4334, 'Ge': 2029, 'Dearshall': 1633, 'tonitebusy': 10526, 'streetshall': 10092, 'update': 10728, 'tonitethings': 10527, 'okvarunnathu': 8545, 'edukkukayee': 6227, 'raksha': 9157, 'ollubut': 8551, 'sense': 9612, 'gautham': 6774, 'Haf': 2161, 'found': 6660, 'stupid': 10128, 'cam': 5283, 'working': 11125, 'buzy': 5234, 'accidentally': 4472, 'Resend': 3403, 'TMobile': 3873, 'CAMERA': 1344, 'PHONE': 3110, 'upgrade': 10729, 'sim': 9749, 'card': 5314, 'loyalty': 7904, '0845': 69, '021': 15, '3680Offer': 572, 'ends': 6281, '28thFebTCs': 474, 'Unless': 4107, 'GURL': 2015, 'appropriate': 4723, 'Hurt': 2278, 'Tease': 3924, 'Make': 2768, 'cry': 5775, 'die': 5999, 'plz': 8876, 'rose': 9435, 'grave': 6909, 'STUPID': 3547, 'MISS': 2714, 'NICE': 2908, 'DAY': 1568, 'BSLVYL': 1195, 'phone': 8800, 'Need': 2947, 'tomoCant': 10513, 'somebody': 9874, 'high': 7096, 'diesel': 6001, 'Shit': 3649, 'shocking': 9688, 'scary': 9535, 'imagine': 7286, 'Def': 1637, 'somewhere': 9889, 'crash': 5745, 'taxi': 10291, 'fridge': 6691, 'meal': 8050, 'womdarfull': 11102, 'actor': 4498, 'Blind': 1267, 'Date': 1622, '4U': 657, 'Rodds1': 3416, '21m': 442, 'Aberdeen': 997, 'United': 4105, 'Kingdom': 2502, 'Check': 1465, 'httpimg': 7197, 'acWicmb3cktz8r74': 4462, 'Dates': 1623, 'HIDE': 2127, 'remb': 9287, 'book': 5092, 'Jos': 2448, 'wana': 10908, 'yes': 11261, 'friendship': 6697, 'hanging': 6997, 'thread': 10422, 'TheMob': 3954, 'newest': 8385, 'selection': 9596, 'Games': 2021, 'Tones': 4007, 'Gossip': 2070, 'babes': 4868, 'sport': 9979, 'fit': 6564, 'funky': 6738, '82468': 830, 'garage': 6765, 'keys': 7574, 'arent': 4740, 'bookshelf': 5097, 'ACCEPT': 936, 'DAYU': 1571, 'Accept': 1000, 'Brother': 1315, 'Sister': 3681, 'Lover': 2653, 'Dear1': 1630, 'Best1': 1248, 'Clos1': 1486, 'Lvblefrnd': 2671, 'Jstfrnd': 2451, 'Cutefrnd': 1556, 'Lifpartnr': 2615, 'Belovd': 1243, 'Swtheart': 3817, 'Bstfrnd': 1318, 'enemy': 6283, 'Think': 3966, 'smart': 9823, '£200': 11346, 'weekly': 10975, 'quiz': 9135, 'PLAY': 3119, '85222': 857, 'nowTCs': 8462, 'WinnersClub': 4311, 'BOX': 1178, '84': 846, 'M26': 2674, '3UZ': 588, 'GBP150week': 1965, '2day': 509, 'normal': 8439, 'waythis': 10945, 'uniqueI': 10709, 'rest': 9355, 'mylife': 8302, 'wot': 11143, 'lost': 7869, 'made': 7951, 'Kkadvance': 2504, 'pongal': 8900, 'Guess': 2092, 'kb': 7559, 'power': 8948, 'yoga': 11273, 'dunno': 6186, 'tahan': 10259, 'anot': 4667, 'dude': 6176, 'afraid': 4541, 'December': 1634, '11mths': 325, '08002986906': 59, 'Coffee': 1494, 'cake': 5248, 'Merry': 2804, 'Christmas': 1478, 'kisses': 7603, 'cud': 5781, 'ppl': 8950, 'gona': 6863, 'l8': 7640, 'buses': 5221, 'gon': 6862, 'waitin': 10888, 'Pete': 3195, 'Guild': 2095, 'Could': 1527, 'Bristol': 1311, 'plans': 8851, 'flight': 6584, 'problem': 9033, 'dahow': 5824, 'todays': 10496, 'track': 10567, 'record': 9236, 'reading': 9192, 'women': 11103, 'Cool': 1517, 'read': 9189, 'light': 7770, 'Kkapo': 2506, 'kgood': 7578, 'movie': 8244, 'Maybe': 2794, 'return': 9373, 'immediately': 7289, 'Germany': 2037, 'fixed': 6569, 'line': 7784, 'via': 10816, 'access': 4468, 'number': 8478, '0844': 66, '861': 862, '85': 853, 'prepayment': 8985, 'Direct': 1666, 'chance': 5392, 'evaporated': 6341, 'violated': 10839, 'privacy': 9023, 'stealing': 10043, 'employers': 6273, 'paperwork': 8688, 'report': 9321, 'supervisor': 10190, 'Valentines': 4147, 'Day': 1627, 'Special': 3735, 'lifetime': 7765, '83600': 844, '150pmsg': 368, 'rcvd': 9179, 'CustCare08718720201': 1551, 'TaDaaaaa': 3907, 'wined': 11057, 'dined': 6021, 'sleepingand': 9799, 'surfing': 10207, 'calling': 5276, 'thanx': 10363, 'post': 8931, '1000s': 297, 'texts': 10352, 'wiv': 11082, 'hello': 7062, 'caroline': 5336, 'favourite': 6483, 'Bless': 1266, 'hiding': 7095, 'stranger': 10089, 'interested': 7369, 'sister': 9767, 'cleared': 5517, 'two': 10651, 'round': 9437, 'Gudnitetcpractice': 2090, 'Dis': 1668, 'yijue': 11269, 'huiming': 7215, 'num': 8477, 'One': 3065, 'small': 9821, 'prestige': 8997, 'Fancy': 1886, 'shag': 9649, 'doInterested': 6067, 'sextextukcom': 9641, 'XXUK': 4355, 'SUZY': 3558, '69876': 751, 'Txts': 4053, '150': 353, 'X': 4346, 'Really': 3375, 'seeing': 9582, 'Jeremiah': 2427, 'iphone': 7398, 'apeshit': 4699, 'TODAY': 3876, 'ever': 6351, 'misbehaved': 8158, 'hurt': 7234, 'SLAP': 3486, 'URSELF': 4081, 'fault': 6475, 'basically': 4914, 'GOOD': 1992, 'figure': 6520, 'alcohol': 4586, 'Jay': 2421, 'safely': 9478, 'weed': 10969, 'ISH': 2320, 'MINUTES': 2713, '5': 684, 'AGO': 951, 'WTF': 4237, 'Thank': 3944, 'callingForgot': 5277, 'Onam': 3064, 'SirjiI': 3680, 'remembered': 9289, 'met': 8117, 'insurance': 7363, 'personMeet': 8783, 'Qatar': 3295, 'Insha': 2364, 'AllahRakhesh': 1046, 'ex': 6370, 'Tata': 3915, 'AIG': 955, 'TISSCOTayseer': 3871, 'cashbalance': 5346, 'currently': 5796, 'maximize': 8035, 'cashin': 5348, 'CC': 1355, '08708800282': 97, 'HGSuite3422Lands': 2123, 'RowW1J6HL': 3423, 'Since': 3672, 'unemployed': 10697, 'moment': 8204, 'ALWAYS': 962, 'st': 9997, 'andrewsboy': 4650, 'cold': 5564, 'posted': 8934, 'chikku': 5456, 'chikkuDB': 5458, 'audreys': 4825, 'status': 10034, 'Busy': 1328, 'Trying': 4030, 'forward': 6656, 'sunshine': 10184, 'dawns': 5862, 'refreshed': 9257, 'alive': 4597, 'breathe': 5147, 'air': 4576, 'Z': 4435, 'UpdateNow': 4116, 'Offer': 3045, 'Latest': 2597, 'Motorola': 2868, 'SonyEricsson': 3720, 'Nokia': 2989, 'Bluetooth': 1272, 'Mins': 2822, '1000': 295, 'Orange': 3079, 'MobileUpd8': 2841, '08000839402': 53, 'call2optoutF4Q': 5260, 'discount': 6046, 'RP176781': 3347, 'messages': 8112, 'wwwregalportfoliocouk': 11207, 'Services': 3622, '08717205546': 144, 'Wat': 4262, 'uniform': 10705, 'Geeee': 2031, 'woke': 11099, 'wish': 11067, 'cuddling': 5784, 'spoil': 9970, 'min': 8133, 'talking': 10271, 'agree': 4562, 'willing': 11047, 'Order': 3083, 'Reference': 3385, 'T91': 3821, 'GBP': 1964, '09057039994': 195, 'seen': 9588, 'mei': 8073, 'didt': 5998, 'recognise': 9234, 'Face': 1881, 'happening': 7004, 'Lindsay': 2619, 'years': 11255, 'sighs': 9735, 'bars': 4910, 'Ptbo': 3285, 'heron': 7080, 'payasam': 8739, 'rinu': 9402, 'brings': 5164, 'taught': 10288, 'sir': 9764, 'Becaus': 1235, 'verifying': 10812, 'project': 9056, 'Prabu': 3254, 'mistake': 8173, 'body': 5081, 'repairs': 9309, 'quite': 9133, 'slow': 9815, 'tests': 10343, 'guide': 6954, 'ovulation': 8644, 'relax': 9276, 'Nothing': 3002, 'reason': 9207, 'followin': 6614, 'couple': 5729, 'minutes': 8154, 'wallet': 10900, 'leave': 7716, 'Meet': 2799, '945': 916, 'txts': 10657, '6months': 767, 'phones': 8804, 'call2optoutN9DX': 5265, 'owl': 8648, 'licks': 7756, 'Mm': 2830, '4mths': 669, 'rental': 9304, 'MobilesDirect': 2843, '08000938767': 55, 'or2stoptxt': 8594, 'Huh': 2274, 'Fr': 1928, 'sat': 9508, 'intro': 7379, 'pilates': 8825, 'kickboxing': 7582, 'Morning': 2862, 'office': 8520, 'lap': 7672, 'days': 5867, 'shut': 9726, 'Pick': 3208, 'bout': 5117, '730ish': 778, 'performance': 8771, 'calculated': 5252, 'monthnot': 8221, 'current': 5795, 'period': 8775, 'actually': 4500, 'rock': 9417, 'putting': 9113, 'business': 5223, 'put': 9110, 'pictures': 8819, 'ass': 4789, 'facebook': 6424, 'picture': 8818, 'Salam': 3575, 'Wahleykkumsharing': 4242, 'newsBy': 8387, 'grace': 6897, 'God': 2054, 'TayseerTISSCO': 3916, 'joinedHope': 7501, 'fineInshah': 6542, 'Allahmeet': 1047, 'sometimeRakheshvisitor': 9885, 'India': 2354, 'Hmmmkbut': 2233, 'change': 5394, 'field': 6512, 'quickly': 9130, 'dai': 5825, 'wanna': 10909, 'administrator': 4514, 'RINGTONE': 3341, 'FIRST': 1843, '87131': 872, 'poly': 8893, 'GET': 1971, 'tone': 10518, 'Help': 2203, '2814032': 470, '1st': 417, 'tones': 10519, '3x£150pw': 604, 'e£nd': 6418, 'chechi': 5425, 'cream': 5752, 'shipped': 9676, 'None': 2993, 'Yep': 4408, 'loxahatchee': 7902, 'xmas': 11231, 'tree': 10600, 'burning': 5215, 'starts': 10025, 'stoners': 10070, 'slightly': 9807, 'disastrous': 6042, 'pm': 8877, 'fav': 6478, 'darlings': 5847, 'wld': 11092, 'stay': 10035, 'drink': 6143, 'Headin': 2187, 'busetop': 5222, 'Messagesome': 2807, 'SenderName': 3612, 'Missing': 2827, 'Number': 3009, 'SentDate': 3616, 'fullonsmscom': 6729, 'iron': 7401, 'thing': 10397, 'Okies': 3056, 'yan': 11248, 'jiu': 7489, 'skip': 9786, 'den': 5934, 'blah': 5044, 'Bring': 1310, 'Wendy': 4283, 'dating': 5855, '09064012103': 237, 'box334sk38ch': 5123, 'Whatsup': 4292, 'goal': 6844, '£250': 11348, 'competition': 5606, 'WIN': 4207, '80086': 809, 'wwwtxttowincouk': 11222, 'head': 7031, 'logo': 7838, 'names': 8322, 'heart': 7045, 'LOVE': 2573, 'NAME1': 2893, 'NAME2': 2894, 'MOBNO': 2728, 'ADAM': 941, 'EVE': 1731, '07123456789': 27, 'Yahoo': 4393, 'POBox36504W45WQ': 3132, 'TxtNO': 4051, 'ads': 4522, '150p': 356, 'Yesfrom': 4411, 'Someone': 3713, 'contacted': 5666, 'landline': 7663, '09111032124': 289, 'PoBox12n146tf150p': 3233, 'Siva': 3683, 'hostel': 7169, 'aha': 4564, '09058094455': 199, 'land': 7661, '3030': 550, 'voice': 10859, 'speaking': 9939, 'expression': 6409, '1childish': 412, '2naughty': 525, '3Sentiment': 586, '4rowdy': 671, '5ful': 714, 'attitude': 4816, '6romantic': 769, '7shy': 801, '8Attractive': 898, '9funny': 928, 'irritating': 7404, 'Shell': 3639, 'aathiwhere': 4445, 'urination': 10748, '7': 772, 'esplanade': 6330, 'mind': 8136, 'giving': 6829, 'lift': 7767, 'wnt': 11095, 'BMW': 1168, 'urgentlyits': 10746, 'vry': 10871, 'urgentbut': 10745, 'hv': 7241, 'shortage': 9698, 'Lacsthere': 2587, 'source': 9923, 'arng': 4757, 'dis': 6036, 'amt': 4640, 'lacsthats': 7647, 'fifteen': 6514, 'fucking': 6722, 'respond': 9349, '3650': 569, 'video': 10824, '09066382422': 268, 'Calls': 1422, 'Ave': 1109, '3mins': 598, 'vary': 10799, 'Close': 1487, '300603': 547, 'BCM4284': 1145, 'Ldn': 2601, 'WC1N3XX': 4191, 'Booked': 1283, 'ticket': 10444, 'hillsborough': 7101, 'th': 10355, 'askin': 4784, 'dollars': 6097, 'Shoul': 3658, 'Ask': 1094, 'iouri': 7392, 'ten': 10332, 'applebees': 4710, 'txtjourney': 10656, 'gdnow': 6784, '50': 685, 'Yeshe': 4413, 'greatbhaji': 6914, 'kallis': 7545, 'cricketer': 5763, 'sachin': 9471, 'worldvery': 11132, 'tough': 10560, 'supposed': 10201, 'Oic': 3051, 'tot': 10554, 'din': 6019, 'group': 6934, 'WERETHE': 4200, 'MONKEESPEOPLE': 2730, 'SAY': 3445, 'MONKEYAROUND': 2731, 'HOWDY': 2147, 'GORGEOUS': 2000, 'HOWU': 2149, 'DOIN': 1590, 'FOUNDURSELF': 1853, 'JOBYET': 2405, 'SAUSAGELOVE': 3443, 'JEN': 2402, 'XXX': 4356, 'wheres': 11020, 'blimey': 5059, 'exercise': 6385, 'kinda': 7595, 'hmm': 7118, 'concentration': 5631, 'LOL': 2562, '10': 293, 'hanks': 6998, 'lotsly': 7874, 'Kkwhat': 2515, 'detail': 5965, 'transferacc': 10580, 'optimistic': 8589, 'improve': 7303, 'Loan': 2632, 'purpose': 9105, '£500': 11361, '£75000': 11372, 'Homeowners': 2251, 'Tenants': 3931, 'welcome': 10986, 'previously': 9005, 'refused': 9260, '1956669': 396, 'Si': 3662, 'si': 9728, 'oreo': 8603, 'truffles': 10616, 'LOOK': 2565, 'AMY': 963, 'URE': 4075, 'BEAUTIFUL': 1148, 'INTELLIGENT': 2314, 'WOMAN': 4217, 'LIKE': 2548, 'LOT': 2569, 'KNOW': 2469, 'DON\\x92T': 1596, 'WORRY': 4224, 'result': 9366, 'consistently': 5661, 'intelligent': 7364, 'kind': 7594, 'Start': 3759, 'asking': 4785, 'practicum': 8961, 'links': 7793, 'ears': 6204, 'ttyl': 10629, '120': 327, 'bad': 4878, 'Miss': 2825, 'thru': 10433, 'different': 6009, 'feelingwavering': 6496, 'decisions': 5901, 'coping': 5696, 'individualtime': 7325, 'heal': 7038, 'Never': 2954, 'gives': 6828, 'reasons': 9209, 'UpgrdCentre': 4117, '0207': 9, '153': 379, '9153': 912, '26th': 466, 'July': 2453, 'TCs': 3837, 'Optout': 3078, 'bye': 5239, 'railway': 9149, 'princess': 9016, 'receiving': 9224, 'oral': 8595, 'Doggy': 1683, 'style': 10129, 'fave': 6479, 'position': 8921, 'enjoy': 6291, 'roads': 9411, 'slippery': 9810, 'bike': 5018, 'wait': 10886, 'many': 7994, 'language': 7669, 'okmail': 8542, 'Dave': 1626, 'notice': 8452, 'Tenerife': 3932, 'Holiday': 2246, '5000': 687, '09061743806': 224, 'SAE': 3435, 'Box326': 1293, 'CW25WX': 1410, 'screamed': 9554, 'enters': 6299, 'remove': 9297, 'flat': 6577, 'rate': 9168, 'transfered': 10581, 'removed': 9298, 'banks': 4897, 'differ': 6005, 'charges': 5407, 'differbe': 6006, '9ja': 929, 'details': 5967, 'txting': 10655, 'MOAN': 2726, '69888Nyt': 753, 'broken': 5170, 'Plz': 3229, 'cum': 5787, 'infront': 7339, 'wise': 11066, '9t': 931, 'aathilove': 4444, 'Tension': 3933, 'ahwhat': 4571, 'machiany': 7943, '8th': 908, 'Whenre': 4295, 'G': 1956, 'thinking': 10404, 'mcr': 8045, 'Almost': 1049, 'sec': 9567, 'taste': 10284, 'fb': 6484, 'jaykwon': 7469, 'thuglyfe': 10438, 'falconerf': 6442, 'MESSAGE': 2702, 'Activate': 1008, 'Messages': 2806, 'terms': 10336, 'conditions': 5637, 'visit': 10847, 'www07781482378com': 11174, 'Depends': 1645, 'boye': 5126, 'faded': 6429, 'glory': 6838, '6': 724, 'ralphs': 9158, 'accounts': 4481, 'dry': 6168, 'trade': 10568, 'shit': 9680, 'Sorryin': 3723, 'reunion': 9377, 'nowcan': 8465, 'meh': 8072, 'Nope': 2997, 'monday': 8208, 'accenture': 4466, 'jackson': 7453, 'rec': 9215, 'center': 5378, '7ish': 798, 'reache': 9184, 'Fighting': 1898, 'either': 6248, 'lose': 7864, 'fightng': 6518, 'some1': 9873, 'dificult': 6012, 'nuerologist': 8476, 'Lolnice': 2637, 'fish': 6561, 'water': 10937, '123': 332, '£1450': 11333, '09050002311': 188, 'b4280703': 4865, 'TCsstop': 3840, '08718727868': 161, 'bored': 5102, 'outside': 8632, 'westshore': 11004, 'hyde': 7246, 'park': 8703, 'village': 10837, 'near': 8346, 'hows': 7185, 'anthony': 4677, 'bringing': 5163, 'fees': 6498, 'rent': 9303, 'significance': 9739, 'opinion': 8578, 'Jada': 2412, 'Kusruthi': 2525, 'Lovable': 2648, 'Silent': 3667, 'Spl': 3739, 'character': 5402, 'matured': 8031, '8': 803, 'Stylish': 3786, 'Simple': 3669, 'gs': 6941, 'scrounge': 9558, 'ammo': 4631, 'ak': 4581, 'Prabhaim': 3253, 'sorydarealyfrm': 9916, 'sory': 9915, 'forgiven': 6640, 'Nojst': 2988, 'tat': 10285, 'Phone': 3205, '40GB': 613, 'iPod': 7250, 'MP3': 2740, 'COLLECT': 1382, '83355': 840, 'IBHltd': 2283, 'LdnW15H': 2602, '150pMtmsgrcvd18': 362, 'Sno': 3707, 'Boltblue': 1278, 'POLY': 3138, 'MONO': 2733, 'POLY3': 3139, 'Cha': 1454, 'Slide': 3695, 'Slow': 3696, 'Jamz': 2416, 'Toxic': 4014, 'topped': 10543, 'httpwwwbubbletextcom': 7200, 'renewal': 9300, 'Pin': 3213, 'tgxxrz': 10354, 'transport': 10585, 'less': 7739, 'problematic': 9034, 'join': 7499, 'bday': 4940, 'definite': 5915, 'booking': 5095, 'fri': 6687, 'Usually': 4129, 'unconscious': 10685, 'children': 5468, 'adults': 4525, 'behave': 4976, 'abnormally': 4452, 'ebay': 6217, 'elsewhere': 6261, 'Shall': 3634, 'pickle': 8816, 'tacos': 10254, 'rude': 9452, 'campus': 5289, '020903': 14, 'attempt': 4810, '08718729755': 163, 'BOX95QU': 1184, 'christmas': 5491, 'merry': 8101, '85023': 855, 'SavaMob': 3588, 'member': 8081, 'offers': 8519, 'Cs': 1542, '08717898035': 150, '£300': 11351, 'Sub': 3788, 'Unsub': 4112, 'pretty': 9001, 'lady': 7651, 'single': 9759, 'recieve': 9232, 'within': 11077, '24hrs': 455, 'Terms': 3935, 'Channel': 1458, 'Teletext': 3928, 'Pg': 3200, 'doublefaggot': 6115, '2003': 428, '07815296484': 41, '800': 804, 'SIM': 3477, '08718738001': 167, '41782': 617, '181104': 389, 'Todaysundaysunday': 4000, 'holidayso': 7129, 'hoping': 7160, 'l8r': 7641, 'malaria': 7978, 'Bani': 1221, 'especially': 6328, 'leads': 7709, 'passionate': 8725, 'kiss': 7602, 'across': 4488, 'Probably': 3273, 'lt': 7906, 'fat': 6469, 'fingers': 6545, 'press': 8994, 'buttons': 5229, 'Ummmmmaah': 4099, 'Many': 2777, 'returns': 9376, 'HAPPY': 2102, 'BIRTHDAY': 1162, 'tirupur': 10472, 'wwwApplausestorecom': 11177, 'MonthlySubscription50pmsg': 2856, 'max6month': 8034, 'TCsC': 3839, 'web': 10958, 'age16': 4552, '2stop': 534, 'famous': 6452, 'quote': 9138, 'develop': 5971, 'ability': 4449, 'listen': 7804, 'unconditionally': 10684, 'losing': 7867, 'temper': 10330, 'self': 9597, 'confidence': 5641, 'MARRIED': 2688, 'Pa': 3166, 'oclock': 8508, 'mine': 8140, 'bash': 4912, 'recovery': 9241, 'rather': 9171, 'cooped': 5692, 'hotel': 7172, 'invitation': 7384, 'Cali': 1414, 'english': 6290, 'blokes': 5065, 'weddin': 10964, 'omw': 8554, 'BTW': 1198, 'alibi': 4596, 'cutting': 5809, 'Imagine': 2344, 'sink': 9761, 'paces': 8658, 'cage': 5247, 'cock': 5553, 'surrounded': 10213, 'reminding': 9294, 'owns': 8650, 'Enjoy': 1778, 'cuck': 5780, 'Hurry': 2277, 'weeddeficient': 10970, 'three': 10424, 'Sure': 3809, 'acknowledgement': 4487, 'astoundingly': 4798, 'tactless': 10256, 'generally': 6790, 'faggy': 6430, 'demand': 5933, 'blood': 5068, 'oath': 8495, 'fo': 6609, 'Every': 1797, 'warm': 10916, 'milk': 8129, 'youll': 11287, 'magic': 7960, 'loose': 7859, 'weight': 10980, 'I‘ll': 2390, 'pan': 8677, 'it‘s': 7439, 'cheap': 5421, 'perhaps': 8774, 'that‘s': 10373, 'silly': 9747, 'isn‘t': 7417, 'likely': 7776, 'uv': 10775, 'causes': 5362, 'mutations': 8299, 'Sunscreen': 3803, 'essential': 6332, 'thesedays': 10390, 'lunchyou': 7922, 'onlinewhy': 8563, 'Princess': 3269, 'pics': 8817, 'Aiyo': 1036, 'fast': 6465, 'workin': 11124, 'huh': 7214, 'bao': 4900, 'sugardad': 10163, 'ahgee': 4566, 'meim': 8074, 'brownie': 5179, 'Geeeee': 2032, 'barely': 4904, 'Fuck': 1948, 'Cant': 1435, '2mrw': 524, 'ninish': 8410, 'icky': 7260, 'American': 1060, 'freek': 6678, 'callin': 5275, 'Jen': 2424, 'eh': 6244, 'Oooh': 3070, 'ridden': 9389, 'ey': 6415, 'anyways': 4694, 'gym': 6964, 'whatever': 11011, 'smiles': 9835, 'Daddy': 1613, 'scream': 9553, 'pleasure': 8865, 'slap': 9794, 'dick': 5990, 'WOT': 4226, 'MISSY': 2717, 'Yar': 4395, 'mum': 8279, 'sch': 9538, 'clean': 5514, 'lab': 7643, 'goggles': 6854, 'door': 6108, 'daddy': 5819, '2000': 426, 'call09050000327': 5258, 'arguing': 4746, 'ring': 9396, 'claims': 5503, '09050005321': 190, 'Arngd': 1087, 'marriage': 8007, 'walkin': 10896, 'unfortuntly': 10701, 'snake': 9850, 'bites': 5039, 'dancing': 5833, 'frnt': 6708, 'sayin': 9526, 'Bite': 1260, 'bite': 5038, 'izzit': 7443, 'textand': 10346, '08002988890': 60, 'exwife': 6414, 'kids': 7587, 'scotland': 9547, 'JJC': 2404, 'tendencies': 10333, 'Live': 2625, 'headache': 7032, 'quit': 9132, 'jazz': 7471, 'Yogasana': 4422, 'em': 6262, 'lessons': 7742, 'meive': 8076, 'hardly': 7014, 'gotany': 6884, 'srsly': 9994, 'yi': 11267, 'spree': 9985, 'TXT': 3903, 'SHOP': 3471, '80878': 819, 'TsCs': 4032, 'wwwtxt2shopcom': 11219, 'custcare': 5800, '08715705022': 141, '1x150pwk': 422, 'pound': 8942, '08712402050': 110, 'lines': 7788, '10ppm': 313, 'AG': 947, 'Promo': 3276, '07753741225': 32, '08715203677': 136, '42478': 621, '241004': 451, 'grand': 6901, 'prix': 9025, 'stands': 10013, 'Lets': 2611, 'Friends': 1943, 'nitz': 8417, 'announcement': 4663, '542': 700, '0825': 65, 'exhausted': 6388, 'train': 10570, 'pie': 8820, 'mums': 8284, 'present': 8991, 'ar': 4734, 'Mind': 2818, 'blastin': 5051, 'Tsunamis': 4037, 'occur': 8506, 'Rajnikant': 3360, 'stopped': 10075, 'swimming': 10233, 'Indian': 2355, 'OceanD': 3043, 'Speaking': 3734, 'noon': 8434, 'TaKe': 3908, 'CaRE': 1411, 'gET': 6747, 'WeLL': 4271, 'sOOn': 9470, 'XCLUSIVECLUBSAISAI': 4352, '2MOROW': 491, '285': 471, 'SOIREE': 3499, 'SPECIALE': 3515, 'ZOUK': 4437, 'NICHOLS': 2909, 'PARISFREE': 3095, 'ROSES': 3346, 'LADIES': 2535, '0794674629107880867867': 45, 'bridgwater': 5154, 'banter': 4899, 'Neva': 2953, 'imma': 7287, 'somethin': 9881, '22': 444, 'Euro2004': 1789, 'results': 9367, 'daily': 5826, '83222': 837, 'valentine': 10787, 'game': 6758, 'answers': 4675, 'loves': 7894, 'Ques': 3300, 'suits': 10169, 'bestrply': 4998, 'dependents': 5943, 'THANX4': 3855, 'CER': 1359, 'CATCH': 1353, 'AVE': 986, 'FIND': 1839, 'OFTEN': 3022, 'OH': 3023, 'TAKE': 3824, 'CARE': 1348, 'SOONC': 3506, 'himthen': 7103, 'future': 6743, 'valentines': 10788, 'hundreds': 7222, 'handsomes': 6993, 'beauties': 4946, 'aunties': 4827, 'uncles': 10682, 'shock': 9687, 'shuhui': 9724, 'leona': 7736, 'Like': 2616, 'reaction': 9188, 'family': 6450, 'happiness': 7009, 'aft': 4544, 'snow': 9856, 'weather': 10956, 'together': 10498, 'friendships': 6698, 'grow': 6935, 'dismay': 6052, 'MAKE': 2683, 'SURE': 3556, 'ALEX': 959, 'KNOWS': 2471, 'FIFTEEN': 1835, 'FAR': 1829, 'YOURE': 4387, 'CONCERNED': 1389, 'pub': 9086, 'bring': 5162, 'bud': 5194, 'drinks': 6147, 'useful': 10760, 'officially': 8527, 'paid': 8668, 'market': 8003, 'tootsie': 10539, 'pop': 8910, 'longer': 7850, 'Darren': 1619, 'TEXTBUDDY': 3848, 'Chat': 1462, 'area': 4739, '25p': 461, 'Search': 3602, 'postcode': 8933, 'gaytextbuddycom': 6780, 'ONE': 3030, '89693': 896, 'Vodafone': 4167, '4882': 644, '£350': 11354, 'matches': 8020, '09064019014': 243, 'forwarded': 6657, 'Seventeen': 3624, 'seven': 9637, 'hundred': 7220, 'ml': 8181, '–': 11383, 'Voucher': 4171, 'Holder': 2244, 'PC': 3103, 'httpwwwetlpcoukexpressoffer': 7201, 'apply2': 4714, '80062': 806, 'funny': 6739, 'Sweetheart': 3816, 'Biola': 1255, 'login': 7837, 'Dad': 1612, 'fetching': 6507, 'restock': 9359, 'thanksgiving': 10362, 'sound': 9919, 'effects': 6234, 'gorgeous': 6880, 'Kind': 2498, 'brighten': 5157, 'wee': 10968, 'thursday': 10440, 'Allo': 1048, 'braved': 5139, 'taken': 10263, 'trains': 10574, 'triumphed': 10608, 'we‘re': 11010, 'b‘ham': 5242, 'jolly': 7510, 'cartoon': 5343, 'listening': 7806, 'music': 8293, 'eve': 6342, 'temple': 10331, 'church': 5495, 'uncomfortable': 10683, '08715203694': 138, '40533': 612, '311004': 558, 'email': 6263, 'RSTM': 3348, 'SW7': 3559, '3SS': 585, 'Sometimes': 3716, 'gentle': 6793, 'Sonetimes': 3718, 'rough': 9436, 'starting': 10024, 'panic': 8679, 'Tuesday': 4040, 'wesleys': 11000, 'town': 10564, 'bet': 4999, 'hella': 7061, 'drugs': 6162, 'drug': 6160, 'dealers': 5879, 'impatient': 7292, 'Sun': 3801, 'earth': 6205, 'cloud': 5537, 'river': 9409, 'evng': 6366, 'unless': 10714, 'wikipediacom': 11043, '88800': 884, '89034': 889, 'premium': 8981, '08718711108': 151, 'lays': 7704, 'envelope': 6310, 'paper': 8686, 'repent': 9312, 'fetch': 6506, 'Leave': 2605, 'Prepare': 3263, 'study': 10117, 'positions': 8922, 'kama': 7547, 'sutra': 10216, 'nange': 8325, 'bakra': 4886, 'kalstiyathen': 7546, 'teacoffee': 10304, 'Carlosll': 1442, 'lakhs': 7657, 'Ttyl': 4038, 'Ho': 2238, 'ho': 7120, 'belly': 4984, 'laugh': 7693, 'sun0819': 10177, 'posts': 8938, 'HELLOYou': 2120, 'seem': 9585, 'TONE': 3880, 'Gr8': 2074, 'TOP': 3887, '20': 424, 'wk': 11084, 'opt': 8587, '08452810071': 71, 'Ditto': 1672, 'saying': 9527, 'ANYTHING': 969, 'Peace': 3184, 'knw': 7622, 'Say': 3591, 'wetherspoons': 11006, 'Piggy': 3211, 'awake': 4853, 'ure': 10743, 'Cause': 1449, 'freaky': 6674, 'lol': 7844, 'Missed': 2826, 'yelling': 11256, 'scrappy': 9550, 'lonely': 7848, 'hex': 7088, 'Explain': 1817, 'sdryb8i': 9562, 'xy': 11243, 'sue': 10157, 'lapdancer': 7673, 'sex': 9639, 'bedroom': 4960, 'SUE': 3550, '89555': 895, 'TextOperator': 3942, 'G2': 1957, '1DA': 399, '150ppmsg': 372, 'King': 2501, 'Crying': 1541, 'Baby': 1211, 'Building': 1324, 'Map': 2778, 'Imprtant': 2347, 'Wil': 4306, 'Reach': 3369, 'TOMORW': 3879, 'DearMe': 1631, 'cherthalain': 5442, 'cochin': 5552, 'bfore': 5008, 'starti': 10023, 'shall': 9654, 'accordinglyor': 4478, 'comingtmorow': 5594, 'engaged': 6285, 'ans': 4669, 'torch': 10547, 'bold': 5083, 'Forwarded': 1926, '448712404000Please': 630, '08712404000': 115, 'urgent': 10744, 'farm': 6462, '4d': 660, 'dad': 5818, '1405': 348, '1680': 383, '1843': 390, 'sun': 10176, 'law': 7700, 'hey': 7089, 'purchase': 9102, 'box': 5121, 'Ah': 1026, 'poop': 8906, 'Looks': 2643, 'cuz': 5810, 'gpu': 6893, 'entrepreneurs': 6306, 'alexs': 4590, 'corporation': 5701, 'gap': 6763, '…': 11386, 'Mum': 2879, 'Ku': 2524, 'prevent': 9002, 'dehydration': 5921, 'fluids': 6600, 'weird': 10982, 'idea': 7265, 'True': 4023, 'deari': 5886, 'soso': 9917, 'smsd': 9845, 'away': 4856, 'trek': 10601, 'harri': 7016, 'Quite': 3304, 'drivin': 6150, 'KEEP': 2464, 'fantastic': 6459, 'NGage': 2905, 'deck': 5902, 'wwwcnupdatescomnewsletter': 11194, 'alerts': 4588, 'Height': 2196, 'Confidence': 1510, 'Aeronautics': 1015, 'professors': 9049, 'wer': 10996, 'calld': 5270, 'sit': 9769, 'aeroplane': 4533, 'Aftr': 1022, 'ws': 11163, 'students': 10113, 'Dey': 1652, 'hurried': 7232, 'Bt': 1319, 'saidif': 9482, 'studentsthis': 10114, 'Datz': 1625, 'seems': 9587, 'timing': 10463, 'shitstorm': 9684, 'attributed': 4819, '08714712388': 127, '10am7pm': 308, 'Save': 3589, 'stress': 10093, 'dorm': 6110, 'sell': 9600, '449071512431': 632, 'UU': 4085, '£1250': 11332, '09071512433': 273, 'b4': 4863, '050703': 16, 'TCsBCM4235WC1N3XX': 3838, 'callcost': 5268, 'mobilesvary': 8189, 'max£7': 8037, 'Book': 1282, 'sth': 10056, 'specs': 9947, 'PX3748': 3165, '08714712394': 128, 'Macha': 2761, 'upseti': 10738, 'assume': 4794, 'mindsetbelieve': 8139, 'usLET': 10754, 'LIFE': 2546, 'BEGIN': 1152, 'AGAINcall': 948, 'Sfine': 3628, 'Anytime': 1069, 'wondar': 11104, 'flim': 6586, 'cookies': 5689, 'jelly': 7478, 'running': 9462, 'stillmaybe': 10061, 'feeling': 6495, 'sameso': 9495, 'itor': 7434, 'admiti': 4518, 'madthen': 7955, 'correctionor': 5705, 'lifeand': 7762, 'worldmay': 11130, 'runninglets': 9463, 'looks': 7857, 'scrumptious': 9559, 'wants': 10914, 'ba': 4866, 'dao': 5838, 'half8th': 6980, 'Exactly': 1808, 'jide': 7488, 'visiting': 10848, 'Dunno': 1709, 'Email': 1770, 'AlertFrom': 1042, 'Jeri': 2428, 'StewartSize': 3768, '2KBSubject': 489, 'Lowcost': 2657, 'prescripiton': 8988, 'drvgsTo': 6167, 'Spring': 3747, 'yay': 11250, 'steak': 10041, 'convincingjust': 5686, 'tel': 10319, 'twice': 10649, 'neglect': 8367, 'itjust': 7430, 'Leaving': 2606, 'tonite': 10525, 'opportunityall': 8582, 'fastpls': 6468, 'add': 4502, 'prayers': 8969, 'dearRakhesh': 5884, 'Loyalty': 2658, 'OfferThe': 3046, 'NEW': 2903, 'Nokia6650': 2991, '£10': 11324, 'TXTAUCTION': 3904, 'START': 3532, '81151': 822, '4TCtxt': 656, '150pMTmsg': 358, 'Wish': 4316, 'mayb': 8039, 'rite': 9407, 'Da': 1611, 'gd': 6782, 'faster': 6466, 'gals': 6756, 'attached': 4808, 'Glad': 2048, 'Thing': 3964, 'hadnt': 6970, 'clocks': 5527, 'shouted': 9707, 'realised': 9197, 'wahay': 10882, 'Men': 2803, 'shorter': 9700, 'ladies': 7649, 'Gaze': 2027, 'eyes': 6417, '930': 915, 'subscribed': 10140, 'Content': 1515, '£3': 11350, '82324': 829, 'Helpline': 2207, '08706091795': 90, 'weve': 11007, 'spoken': 9974, 'Give': 2047, 'gist': 6824, 'realize': 9200, '40': 606, 'thousands': 10421, 'tattoos': 10286, 'PREMIER': 3150, 'gimme': 6818, 'lip': 7798, 'caveboy': 5365, 'library': 7754, 'Realy': 3376, 'sorryi': 9909, 'confused': 5648, 'holla': 7130, 'anyone': 4684, 'spare': 9933, 'Faith': 1885, 'makes': 7974, 'possibleHope': 8929, 'workLove': 11122, 'beautifulMay': 4948, 'ChristmasMerry': 1479, 'youcarlos': 11280, 'isare': 7409, 'vibrate': 10818, 'acting': 4493, 'Romantic': 3420, 'Paris': 3175, '£79': 11373, '08704439680TsCs': 89, 'grandmas': 6904, 'hungover': 7223, 'Another': 1066, 'unclaimed': 10680, '09066368327': 264, 'closingdate040902': 5534, 'claimcode': 5502, 'M39M51': 2676, '£150pmmorefrommobile2BremovedMobyPOBox734LS27YF': 11341, 'gua': 6943, 'mt': 8265, 'faber': 6421, 'yest': 11262, 'Yest': 4418, 'Jus': 2456, 'Wishing': 4317, 'mas': 8012, 'Year': 4401, 'advance': 4526, 'City': 1482, 'Break': 1305, 'Summer': 3799, 'Shopping': 3655, 'WK': 4213, 'STORE': 3540, '88039': 877, 'SkilGme': 3685, 'TsCs087147403231WinawkAge16': 4034, '£150perWKsub': 11338, 'nt': 8470, 'goin': 6856, 'meetin': 8066, 'wonder': 11106, 'tis': 10473, 'Theyre': 3962, 'dramatic': 6128, 'Schools': 3596, 'closed': 5530, 'Apparently': 1075, 'drive': 6148, 'inch': 7307, 'anywhere': 4695, 'damn': 5828, 'hunting': 7230, 'drunkard': 6165, 'Wats': 4268, 'idc': 7263, 'weaseling': 10954, 'row': 9441, 'space': 9928, 'picking': 8815, 'trash': 10586, 'smokes': 9839, 'begging': 4971, 'lovely': 7889, 'sing': 9756, 'guy': 6960, 'wishing': 11071, 'slave': 9795, 'punish': 9097, 'Beerage': 1241, '0578': 17, 'turns': 10641, 'randomlly': 9162, 'opening': 8574, 'couldnt': 5722, 'shes': 9671, 'fixes': 6571, 'spelling': 9954, 'diff': 6004, 'Ever': 1796, 'living': 7817, 'perfect': 8769, 'community': 5600, '100pSMS': 299, 'Top': 4010, 'Polyphonic': 3244, '087018728737': 83, 'National': 2942, 'Rate': 3365, 'toppoly': 10544, 'tune': 10636, 'SUBPOLY': 3549, '81618': 824, 'pole': 8890, 'UnSub': 4100, '08718727870': 162, 'enjoyed': 6292, 'fondly': 6618, 'bein': 4978, 'thot': 10415, 'YWHERE': 4391, 'DOGBREATH': 1589, 'SOUNDING': 3510, 'JAN': 2396, 'THAT\\x92S': 3858, 'Omg': 3062, 'weighed': 10979, 'Woohoo': 4330, 'uncountable': 10688, 'dictionary': 5992, 'pieces': 8822, '9996': 922, '14thMarch': 352, 'availa': 4836, 'Petey': 3197, 'whereare': 11018, 'friendsare': 6696, 'theKingshead': 10375, 'canlove': 5298, 'Nic': 2962, 'Gimme': 2043, 'ago': 4561, 'Chance': 1456, 'POBOX84': 3128, 'M263UZ': 2675, 'Appt': 1078, 'ltTIMEgt': 7910, 'No1': 2976, '8077': 818, 'mates': 8022, 'wwwgetzedcouk': 11200, 'POBox': 3130, '36504': 570, 'W45WQ': 4179, 'norm150ptone': 8438, 'cashto': 5349, '08000407165': 51, 'getstop': 6806, '88222': 881, 'PHP': 3111, 'RG21': 3336, '4JX': 651, 'dled': 6065, '3d': 592, 'imp': 7291, 'aint': 4575, 'smokin': 9840, 'Boooo': 1285, 'bec': 4950, 'Ugh': 4089, 'Ssnervous': 3755, 'costumes': 5715, 'gift': 6814, 'yowifes': 11303, 'Hint': 2220, 'hint': 7104, '£100': 11325, 'borrow': 5106, 'bag': 4881, 'outbid': 8622, 'simonwatson5120': 9750, 'Shinco': 3647, 'Plyr': 3228, 'bid': 5013, 'acsmsrewards': 4489, 'notifications': 8453, 'model': 8194, 'Youi': 4424, 'Also': 1053, 'galileo': 6754, 'dobby': 6069, 'responding': 9350, 'BOO': 1171, 'ENJOYIN': 1723, 'YOURJOB': 4388, 'SEEMED': 3452, 'GETTIN': 1972, 'HUNNYHOPE': 2157, 'OKTAKE': 3027, 'I\\x92LLSPEAK': 2387, '2U': 501, 'SOONLOTS': 3507, 'LOVEME': 2575, 'XXXX': 4358, 'starshine': 10019, 'Ache': 1005, 'fuck': 6719, 'sips': 9763, 'cappuccino': 5309, 'teasing': 10310, 'SMSSERVICES': 3494, 'yourinclusive': 11293, 'goto': 6885, 'wwwcomuknet': 11195, '3qxj9': 600, 'extra': 6412, '08702840625COMUK': 87, '220CM2': 445, '9AE': 923, 'alfie': 4591, 'Moons': 2858, 'Children': 1471, 'm8s': 7939, 'Tone': 4006, 'charity': 5408, '8007': 807, 'Nokias': 2992, 'Poly': 3242, 'polys': 8898, 'zed': 11313, '08701417012': 78, 'profit': 9052, 'Hmm': 2228, 'Bits': 1261, 'Hahahause': 2163, 'brain': 5133, 'turned': 10639, 'green': 6920, 'burial': 5213, 'MojiBiola': 2848, 'REVEAL': 3333, '09065174042': 249, 'recd': 9216, 'Cust': 1550, '07821230901': 42, 'mate': 8021, 'RV': 3353, 'hol': 7123, 'coz': 5738, 'haven\\x92t': 7027, 'ages': 4558, 'roadsRVx': 9412, 'skyped': 9791, 'kz': 7639, 'sura': 10203, 'Weve': 4287, 'given': 6827, 'ultimatum': 10675, 'countin': 5725, 'aburo': 4458, 'Surely': 3810, 'successful': 10149, 'VIDEO': 4138, 'five': 6566, '08002888812': 57, 'inconsiderate': 7314, 'nag': 8312, 'recession': 9228, 'hence': 7072, 'HALF': 2101, 'PRICE': 3152, 'Rental': 3400, 'vouchersText': 10869, 'nowSavaMobmember': 8460, 'Remove': 3398, 'soo': 9897, 'don\\x92t': 6105, 'understand': 10691, '2morrow': 521, 'comprehensive': 5620, 'Prashanthettans': 3257, 'mother': 8232, '09066350750': 254, 'Ibiza': 2332, '10000': 296, 'await': 4851, 'collection': 5571, '434': 624, 'SK3': 3483, '8WP': 902, 'ppm': 8953, 'Kkwhen': 2516, 'Meanwhile': 2796, 'suite': 10167, 'xavier': 11228, 'seconds': 9570, 'warning': 10920, 'samantha': 9493, 'playing': 8859, 'jays': 7470, 'guitar': 6957, 'impress': 7299, 'doug': 6118, 'realizes': 9202, 'stomach': 10067, 'trauma': 10587, 'swear': 10225, 'officewhats': 8525, 'mattermsg': 8029, 'nowi': 8466, 'shoes': 9689, 'wan': 10907, 'inner': 7345, 'tigress': 10449, 'activate': 4496, 'version': 10813, 'AH': 954, 'POOR': 3143, 'BABYHOPE': 1127, 'URFEELING': 4076, 'BETTERSN': 1156, 'LUV': 2586, 'PROBTHAT': 3157, 'OVERDOSE': 3041, 'WORK': 4221, 'CAREFUL': 1349, 'SPK': 3520, 'SN': 3495, 'LOTS': 2571, 'LOVEJEN': 2574, 'returned': 9374, 'Talk': 3913, 'fall': 6443, 'worlds': 11131, 'discreet': 6047, 'VIP': 4142, '83110': 835, 'Hai': 2165, 'ana': 4643, 'tomarrow': 10510, 'sathy': 9510, 'RTO': 3351, 'Spoons': 3744, 'okay': 8538, 'named': 8320, 'tampa': 10277, 'genius': 6792, 'whenever': 11016, 'connections': 5654, 'sort': 9910, 'Dude': 1707, 'lotta': 7876, 'corvettes': 5708, 'lately': 7686, 'yrs': 11305, 'supply': 10195, 'CDs': 1358, 'Virgin': 4165, 'Records': 3380, 'Mystery': 2889, 'Gift': 2042, '09061104283': 213, 'wwwsmsconet': 11213, '£150pm': 11340, 'approx': 4726, 'consider': 5659, 'walls': 10903, 'bunkers': 5208, 'peaceful': 8750, 'matter': 8028, '07808': 38, 'XXXXXX': 4360, '08719899217': 176, '41685': 616, '071104': 26, 'posh': 8919, 'birds': 5029, 'chaps': 5400, 'user': 10762, 'trial': 10603, 'prods': 9046, 'champneys': 5391, 'dob': 6068, 'asap': 4774, 'Ta': 3906, '0721072': 28, 'philosophical': 8797, 'hole': 7127, 'saved': 9519, 'goodno': 6876, 'problembut': 9035, 'american': 4627, 'drop': 6155, 'cuddle': 5782, 'nap': 8328, 'Atleast': 1101, 'Otherwise': 3088, 'Best': 1247, 'FRIEND': 1866, 'WORLD': 4222, 'Shakespeare': 3633, 'SHESIL': 3467, 'Shop': 3653, 'till': 10453, 'Drop': 1705, '10K': 306, '5K': 706, 'Cash': 1445, 'Travel': 4020, 'voucher': 10867, '09064011000': 236, 'NTT': 2929, 'CR01327BT': 1396, 'fixedline': 6570, 'castor': 5353, 'Liverpool': 2626, 'played': 8854, 'mid': 8122, '09058094565': 201, 'Secret': 3604, 'Admirer': 1012, '09065171142stopsms08': 247, 'Reminder': 3396, 'downloaded': 6121, 'Goto': 2072, 'httpdoit': 7195, 'mymoby': 8303, 'knew': 7611, 'woul': 11144, 'lead': 7706, 'wanting': 10913, 'curfew': 5793, 'gibe': 6813, 'MIDNIGHT': 2707, 'getsleep': 6805, 'studdying': 10112, 'ear': 6197, 'training': 10572, 'massages': 8014, 'oil': 8536, 'sup': 10186, 'Yoyyooo': 4428, 'permissions': 8778, 'mac': 7941, 'usb': 10755, 'Gibbs': 2041, 'unsoldmike': 10721, 'hussey': 7238, 'failed': 6432, 'Shes': 3641, 'sad': 9476, 'unbelievable': 10679, 'faglord': 6431, 'Wifehow': 4305, 'murder': 8287, 'exactly': 6372, 'Nutter': 3012, 'Cutter': 1557, 'Ctter': 1546, 'Cttergg': 1547, 'Cttargg': 1545, 'Ctargg': 1544, 'Ctagg': 1543, 'ie': 7272, 'Doesnt': 1681, 'thus': 10441, 'Superb': 3807, 'Thought': 3974, 'grateful': 6908, 'opportunity': 8581, 'happier': 7006, 'agents': 4557, 'booked': 5093, 'experiment': 6398, 'Thursday': 3978, 'Things': 3965, 'due': 6179, 'several': 9638, 'outstanding': 8634, 'invoices': 7389, 'possible': 8928, 'teach': 10300, 'Lovely': 2652, 'smell': 9829, 'tobacco': 10489, 'derek': 5951, 'taylor': 10294, 'assumed': 4795, 'worst': 11140, 'whats': 11012, 'charles': 5409, 'lastest': 7681, 'Stereophonics': 3767, 'Marley': 2783, 'Dizzee': 1676, 'Racal': 3354, 'Libertines': 2612, 'Strokes': 3779, 'Nookii': 2994, 'games': 6759, 'Flirt': 1912, 'Click': 1485, 'Bookmark': 1284, 'Plus': 3227, 'grinule': 6927, 'greet': 6921, 'WHITE': 4202, 'FUDGE': 1879, 'OREOS': 3035, 'STORES': 3541, 'January': 2418, 'Male': 2771, 'Sale': 3576, 'Hot': 2263, 'Gay': 2026, 'cheaper': 5422, '08709222922': 98, '15pmin': 381, '78pmin': 790, 'peak': 8751, '08712460324': 118, '10pmin': 312, 'Zahers': 4438, 'ym': 11271, 'nauseous': 8340, 'pissed': 8835, 'sweets': 10230, 'pig': 8824, 'dieting': 6003, 'chip': 5479, 'reminder': 9293, 'Iam': 2331, 'addicted': 4504, 'msging': 8255, 'wrong': 11160, 'photo': 8805, 'registered': 9266, 'Tmr': 3993, 'yck': 11251, 'ashleys': 4778, 'avalarr': 4840, 'hollalater': 7131, 'attend': 4812, 'rounds': 9439, 'todaybut': 10493, 'Actually': 1010, 'websitenow': 10962, 'blogging': 5063, 'magicalsongsblogspotcom': 7962, 'chikkuil': 5461, 'aftr': 4548, 'diet': 6002, 'ate': 4802, 'slices': 9804, 'kvb': 7637, 'acc': 4464, '88600': 883, '£1million': 11344, 'ppt150x3normal': 8955, 'box403': 5124, 'w1t1jy': 10876, 'fridayhope': 6689, 'alternativehope': 4620, 'ore': 8601, 'mo': 8184, 'owo': 8652, 'wa': 10878, 'moments': 8205, 'fro': 6709, 'wherever': 11021, 'samus': 9496, 'shoulders': 9704, 'Matthew': 2790, '09063440451': 232, '4Lux': 652, 'ppm150': 8954, 'Box334': 1294, 'SK38XH': 3484, 'wear': 10952, 'jeans': 7475, 'fever': 6508, 'vomitin': 10863, 'Kkare': 2507, '09061749602': 228, '£10000': 11327, '528': 696, 'HP20': 2150, '1YF': 411, 'Better': 1250, 'Made': 2764, 'Friday': 1942, 'stuffed': 10122, 'bleh': 5053, 'least': 7713, 'writhing': 11155, 'tons': 10528, 'paypal': 8746, 'Voila': 4169, 'Money': 2854, 'pockets': 8882, 'places': 8843, 'hospitals': 7168, 'medical': 8061, 'folks': 6611, '150pSMS': 363, 'sorta': 9911, 'blown': 5074, 'recently': 9226, 'id': 7262, 'scores': 9546, 'sophas': 9904, 'secondary': 9569, 'application': 4712, 'schools': 9541, 'applying': 4716, 'Contact': 1514, 'ogunrinde': 8534, 'expensive': 6395, 'photos': 8806, '08718720201': 152, '11414': 319, 'TCRW1': 3836, 'lodging': 7833, 'Chk': 1474, 'belovd': 4987, 'ms': 8253, 'dict': 5991, 'Shb': 3638, 'Beautiful': 1232, 'Truth': 4026, 'Gravity': 2077, 'Read': 3371, 'carefully': 5323, 'feels': 6497, 'heavy': 7054, 'NIGHT': 2910, 'dobbys': 6070, 'bowl': 5119, 'Filthy': 1901, 'stories': 10082, 'GIRLS': 1977, 'poor': 8907, 'ull': 10674, 'brand': 5136, 'decision': 5900, 'simpler': 9752, 'magical': 7961, 'Welp': 4281, 'apparently': 4706, 'retired': 9371, 'natwest': 8338, '£800': 11374, '09050001808': 187, 'M95': 2678, 'Valid12hrs': 4149, 'chad': 5385, 'gymnastics': 6965, 'site': 9770, 'Christians': 1477, 'backa': 4876, 'beautiful': 4947, 'necklace': 8355, 'token': 10502, 'youthats': 11295, 'WIFE': 4205, 'LIKINGBE': 2551, 'SEENO': 3454, 'thatdont': 10367, 'aptitude': 4732, '215': 440, 'horse': 7165, 'racing': 9141, 'earlier': 6198, 'chicken': 5452, 'rice': 9386, 'closes': 5533, 'wrongly': 11161, 'ad': 4501, 'crap': 5744, 'borin': 5103, 'boggy': 5082, 'boring': 5104, 'biatch': 5012, 'nxt': 8488, 'il': 7279, 'hesitate': 7086, 'weakness': 10949, 'notebook': 8447, 'salary': 9484, 'chocolate': 5480, 'dayshe': 5868, 'potential': 8940, 'talent': 10268, 'Reckon': 3379, 'eightish': 6247, 'carpark': 5337, '3G': 579, 'Videophones': 4160, '09063458130': 234, 'videochat': 10825, 'java': 7466, 'Dload': 1677, 'polyPH': 8895, 'noline': 8428, 'rentl': 9306, 'FUCKIN': 1876, 'FUCK': 1874, 'THINK': 3867, 'dropped': 6156, 'Carlos': 1441, 'loving': 7896, 'Yun': 4431, 'ahthe': 4570, 'ubi': 10668, 'tomorrowcall': 10516, '67441233': 742, 'ireneere': 7400, 'bus822656166382': 5220, 'Ubi': 4086, 'cresubi': 5761, 'tech': 10311, 'park6ph': 8704, '5wkg': 722, 'daysèn': 5871, 'Gotta': 2073, 'sd': 9561, 'butt': 5227, 'sore': 9905, 'JULY': 2408, 'relaxing': 9277, '7am': 796, 'party': 8716, '5ish': 715, 'stripes': 10102, 'skirt': 9787, 'peace': 8749, 'miracle': 8156, 'jesus': 7482, 'Hav': 2183, 'blessed': 5055, 'Change': 1457, 'escalator': 6325, 'Yetunde': 4421, 'Feels': 1894, 'quiet': 9131, 'Beth': 1249, 'aunts': 4828, 'charlie': 5410, 'helen': 7058, 'thanks': 10360, 'Nobut': 2982, 'heard': 7042, 'syllabus': 10242, 'Panasonic': 3170, 'BluetoothHdset': 1273, 'DoubleMins': 1695, 'DoubleTxt': 1696, 'contract': 5675, '730pm': 779, 'theyre': 10394, 'Poyyarikaturkolathupalayamunjalur': 3252, 'posterode': 8935, 'Heroi': 2210, 'apt': 4731, 'opportunitypls': 8583, 'ltEMAILgt': 7909, 'kerala': 7570, 'terrible': 10337, 'fan': 6453, 'Meat': 2797, 'lovers': 7893, 'supreme': 10202, 'toldshe': 10506, 'wats': 10941, 'Dearregret': 1632, 'cudnt': 5785, 'calldrove': 5271, 'frm': 6701, 'ctla': 5779, 'homeleft': 7137, 'carente': 5326, 'ishtamayoohappy': 7412, 'bakrid': 4887, 'exe': 6383, 'knowwait': 7620, 'glorious': 6837, 'anniversary': 4660, 'J': 2393, 'finds': 6540, 'Prey': 3267, 'coaxing': 5550, 'images': 7284, 'fond': 6617, 'souveniers': 9927, 'CougarPen': 1526, 'Somebody': 3712, 'secretly': 9573, 'fancies': 6455, 'Wanna': 4253, '09065394514': 250, 'DATEBox1282EssexCM61XN': 1567, '150pmin': 367, 'Hasnt': 2182, 'pattern': 8734, 'throat': 10427, 'scratches': 9551, 'plm': 8868, 'asleep': 4787, 'foreign': 6633, 'stamps': 10009, 'lecture': 7720, 'YEAR': 4371, 'NO1': 2914, 'MAN': 2685, 'MR': 2742, 'SHEFFIELD': 3466, 'boss': 5107, 'nanny': 8326, 'raise': 9152, 'ZOE': 4436, 'HIT': 2128, 'FUCKING': 1877, 'SHITIN': 3469, 'IL': 2294, 'DEFO': 1576, 'TRY': 3897, 'HARDEST': 2105, 'CUM': 1406, 'MILLIONS': 2708, 'LEKDOG': 2543, 'setting': 9632, 'Filling': 1899, 'loverboy': 7892, 'blankets': 5050, 'sufficient': 10161, 'thx': 10442, 'gettin': 6807, 'nyt': 8491, 'Edison': 1757, 'rightly': 9392, 'fool': 6622, 'speechless': 9948, 'ViVa': 4158, 'GMGNGEGNT': 1982, 'atten': 4811, 'roast': 9413, 'i\\x92d': 7444, 'indian': 7322, '09058097218': 209, 'LS15HB': 2578, 'concentrate': 5629, 'educational': 6226, 'flirting': 6590, 'BLOKE': 1165, 'chatting': 5420, 'walked': 10895, 'doesn\\x92t': 6080, 'serious': 9624, 'kickoff': 7583, 'Unsubscribe': 4113, 'EURO': 1729, 'soiree': 9868, 'June': 2454, '3rd': 601, 'sells': 9602, 'data': 5852, 'analysis': 4644, 'thesis': 10391, 'Jays': 2422, 'belligerent': 4983, 'HIYA': 2129, 'COMIN': 1385, 'BRISTOL': 1192, 'ST': 3528, 'WEEK': 4193, 'APRIL': 972, 'GOT': 2003, 'RUDI': 3352, 'YRS': 4390, 'SNORINGTHEY': 3497, 'DRUNK': 1607, 'COLLEGE': 1383, 'YET': 4382, 'SENDS': 3457, 'INK': 2311, 'BATH': 1137, '515': 691, 'howre': 7184, 'throwing': 10430, 'deciding': 5898, 'EASTENDERS': 1713, 'TV': 3900, 'FLOWER': 1847, 'DOT': 1597, 'compare': 5604, 'VIOLET': 4141, 'TULIP': 3899, 'F': 1823, 'LILY': 2552, '84025': 847, 'WKENT150P16': 4215, 'technical': 10312, 'support': 10196, 'processnetworking': 9045, 'daysso': 5869, 'prepared': 8984, 'finalise': 6534, 'travel': 10588, 'visitneed': 10849, 'works': 11127, 'dates': 5854, 'Lots': 2647, 'AREA': 973, 'wwwflirtpartyus': 11197, 'REPLYS150': 3331, 'bitch': 5036, 'dentist': 5939, 'Meeting': 2801, 'Tel': 3926, '09058091854': 196, 'revealed': 9378, 'BOX385': 1181, 'M6': 2677, '6WU': 761, 'bathing': 4923, '09050003091': 189, 'C52': 1336, 'Uve': 4130, 'XCHAT': 4351, 'CHAT': 1365, 'Lul': 2667, 'juicy': 7522, 'gossip': 6881, 'Two': 4048, 'nurses': 8482, 'obese': 8497, 'Oyea': 3089, 'Oi': 3050, 'Ami': 1061, 'parchi': 8696, 'na': 8309, 'Kicchu': 2494, 'kaaj': 7537, 'korte': 7631, 'iccha': 7257, 'korche': 7628, 'ta': 10248, 'tul': 10635, 'movies': 8245, 'Dvd': 1710, 'copies': 5695, 'sculpture': 9560, 'Convey': 1516, 'regards': 9264, 'surya': 10215, 'vijay': 10831, 'POKKIRI': 3137, 'pic': 8811, 'dearer': 5885, 'dem': 5932, 'attractioni': 4817, 'meshe': 8103, 'thoughtsI': 10420, 'hershe': 7081, 'dreamlove': 6135, 'breath': 5146, 'namemy': 8321, 'hermy': 7079, 'herI': 7074, 'herwill': 7083, 'sorrowsI': 9907, 'fight': 6516, 'craziest': 5750, 'herlove': 7078, 'proove': 9069, 'planetI': 8848, 'singing': 9758, 'praises': 8963, 'curry': 5797, 'makiing': 7975, 'sambarlife': 9494, 'thenwill': 10381, 'god': 6848, 'meI': 8048, 'lotwill': 7878, 'FRNDSHIP': 1872, 'needle': 8362, 'clock': 5526, 'Though': 3973, 'Evn': 1803, 'meetitz': 8069, '4few': 662, 'alwys': 4624, 'conected': 5639, 'spatula': 9937, 'hands': 6990, 'NOTHING': 2924, 'SiPix': 3663, 'Digital': 1659, 'Camera': 1428, '09061221061': 216, 'Delivery': 1642, '28days': 472, 'Box177': 1292, 'M221BP': 2672, '2yr': 541, 'warranty': 10921, 'p': 8656, 'p£399': 9116, '09061790121': 229, 'valid': 10789, 'doctor': 6074, 'calis': 5256, 'complexities': 5617, 'freely': 6679, 'taxes': 10290, 'outrageous': 8629, 'tomorro': 10514, 'Ryder': 3430, 'unsoldnow': 10722, 'gibbs': 6812, 'Subscriber': 3791, 'receipt': 9218, 'Elvis': 1768, 'Presleys': 3265, 'Birthday': 1257, 'fret': 6686, 'strips': 10103, 'postal': 8932, 'addressull': 4508, 'alrightOkay': 4614, 'GIFTS': 1974, 'cliff': 5523, 'ne': 8345, 'interesting': 7370, 'wrking': 11157, 'uni': 10704, 'depressed': 5947, 'sittin': 9773, 'wind': 11051, 'drops': 6157, 'Black': 1262, 'Aiyah': 1034, 'Message': 2805, 'Important': 2346, 'information': 7332, 'O2': 3018, 'onto': 8567, 'httpwwwurawinnercom': 7204, 'surprise': 10210, 'awaiting': 4852, 'hen': 7071, 'online': 8562, 'Italian': 2377, 'grins': 6926, 'smoked': 9838, 'math': 8023, 'sfirst': 9644, 'timedhoni': 10456, 'rocks': 9419, 'teju': 10318, 'hourish': 7175, 'nothis': 8451, 'groundamla': 6933, 'durban': 6188, 'convenience': 5678, 'evaluation': 6340, '449050000301': 631, '09050000301': 180, 'Bored': 1287, 'speed': 9949, 'Try': 4028, 'SPEEDCHAT': 3516, '80155': 811, 'SWAP': 3562, 'chatter': 5419, 'Chat80155': 1463, 'rcd': 9177, 'Cancel': 1432, 'cheyyamoand': 5446, '08000776320': 52, 'Tomorrow': 4005, 'Okok': 3057, 'okthenwhats': 8544, 'Aiyar': 1035, 'survey': 10214, '80160': 812, 'wwwtxt43com': 11220, 'Catching': 1447, 'throws': 10432, 'gal': 6752, 'falls': 6446, 'brothers': 5176, 'whos': 11029, 'gayD': 6777, 'HMV1': 2134, 'errors': 6319, 'difficulties': 6011, 'correction': 5704, 'Howz': 2270, 'painhope': 8671, 'tau': 10287, 'sar': 9502, 'piah': 8810, 'Requests': 3402, '1stchoicecouk': 419, 'Information': 2362, '08707808226': 95, 'wearing': 10953, 'Ohas': 3048, 'film': 6529, '150pMsg': 359, 'HGSuite3422LandsRowW1J6HL': 2124, 'LDN': 2542, 'Mine': 2819, 'shades': 9647, 'copied': 5694, 'notified': 8454, 'Luck': 2662, 'marketing': 8004, '84122': 848, '08450542832': 70, 'Babe': 1209, 'Raining': 3356, 'station': 10032, 'tank': 10278, 'girls': 6823, 'virgins': 10843, '4fil': 663, 'sexual': 9642, 'CUTE': 1409, '69911£150p': 754, 'sitter': 9772, 'kaitlyn': 7541, 'silent': 9745, 'Something': 3715, 'Hes': 2211, 'adult': 4524, 'Theres': 3961, 'danger': 5836, 'peeps': 8754, 'comment': 5596, 'veggie': 10805, 'plus': 8875, 'neighbors': 8370, 'computerless': 5625, 'Time': 3986, 'balloon': 4890, 'otherwise': 8614, 'Msgs': 2875, 'passThey': 8720, 'silently': 9746, 'Gd': 2028, 'ntswt': 8472, 'drms': 6153, 'Shesil': 3642, 'probably': 9032, 'roommate': 9431, 'WRC': 4231, 'Rally': 3361, 'Oz': 3090, 'Lucozade': 2665, 'Energy': 1775, 'RALLY': 3310, '61200': 730, 'packs': 8663, 'lucozadecoukwrc': 7918, 'itcould': 7425, 'melody': 8079, 'Yay': 4399, 'Horrible': 2259, 'macs': 7948, 'toot': 10537, 'bigger': 5016, 'N': 2890, 'nw': 8487, 'hme': 7117, 'islands': 7414, 'chennai': 5437, 'velachery': 10807, 'flippin': 6588, 'breaking': 5144, 'cstore': 5778, 'Annoying': 1065, 'hangin': 6996, 'mr': 8249, 'makin': 7976, 'alivebetter': 4598, 'lodge': 7832, 'Trust': 4025, 'worrying': 11137, 'appt': 4728, 'shame': 9655, 'quizzes': 9137, 'popcorn': 8911, 'Sex': 3625, 'Jordan': 2445, 'celeb': 5372, 'PocketBabecouk': 3238, '£3wk': 11355, '087016248': 81, 'voicemail': 10860, '08719181503': 173, 'moan': 8185, 'thin': 10396, 'faultal': 6476, 'arguments': 4748, 'faultfed': 6477, 'himso': 7102, '2go': 513, 'thanxxx': 10364, 'NEFT': 2898, 'reference': 9250, 'credited': 5757, 'beneficiary': 4993, 'natuition': 8335, 'understanding': 10692, 'store': 10079, 'choice': 5481, 'enter': 6297, 'Weekly': 4276, 'wwwLdewcomsubs161win150ppmx3': 11183, 'appreciated': 4720, 'map': 7995, 'semi': 9605, 'argument': 4747, 'apart': 4696, 'P': 3091, 'subscriber': 10141, 'delivered': 5929, 'OK': 3025, 'EXP': 1743, '30Apr': 551, 'strong': 10104, 'arms': 4756, 'maaaan': 7940, 'april': 4729, 'Guessin': 2093, 'walmart': 10904, 'Ilol': 2341, 'personally': 8785, 'wuldnt': 11172, 'mite': 8176, 'creepy': 5760, 'lunchtime': 7921, 'organise': 8604, '08719181513': 174, 'Damn': 1615, 'Kkim': 2512, 'finewhen': 6544, 'complete': 5612, 'passable': 8721, 'score': 9545, 'phd': 8795, '5years': 723, 'easier': 6207, 'NOK': 2920, '87021': 867, 'txtin': 10654, '150ptone': 375, '4info': 668, 'Prakesh': 3255, 'Teach': 3919, 'apps': 4727, 'Rofl': 3418, 'betta': 5001, 'invest': 7382, 'anti': 4678, 'aging': 4560, 'products': 9047, '1hr': 413, 'delay': 5923, 'RECEIVE': 3324, 'POST': 3146, 'accommodation': 4473, 'various': 10797, 'global': 6836, 'wwwphb1com': 11206, 'ph08700435505150p': 8793, 'submitting': 10137, 'ENTER': 1724, '84128': 849, 'wwwtextcompcom': 11216, 'cust': 5799, '08712405020': 116, 'Ull': 4094, '1s': 416, 'snatch': 9852, 'purse': 9106, 'Hellodrivby0quit': 2201, 'edrunk': 6224, 'iff': 7273, 'pthis': 9085, 'senrddnot': 9611, 'dancce': 5830, 'drum': 6163, 'basqihave': 4917, '2nhite': 527, 'ros': 9434, 'xxxxxxx': 11240, 'morn': 8225, 'relieved': 9280, 'westonzoyland': 11003, 'greatness': 6918, 'europe': 6339, 'Nobody': 2981, 'Chinese': 1473, 'docs': 6073, 'songs': 9895, 'king': 7597, 'havin': 7028, 'goin2bed': 6857, 'Only1more': 3067, 'mc': 8042, 'HUN': 2154, '2NITETELL': 496, 'EVERY1': 1736, 'SORRY': 3508, 'AVA': 985, 'GOODTIMEOLI': 1999, 'RANG': 3312, 'MELNITE': 2699, 'IFINK': 2288, 'MITE': 2719, 'SORTEDBUT': 3509, 'EXPLAIN': 1744, 'EVERYTHIN': 1737, 'MONL8RSx': 2732, '08712402779': 112, 'flip': 6587, 'shun': 9725, 'bian': 5011, 'glass': 6834, 'exhibition': 6389, 'nino': 8411, 'chikkugoing': 5460, 'cbe': 5366, 'Honey': 2253, 'boo': 5090, 'JD': 2401, 'Accounts': 1004, 'Executive': 1812, 'parents': 8700, 'picked': 8814, 'downstem': 6124, 'Hungry': 2276, 'gay': 6776, '08718730555': 165, 'wahala': 10881, 'inperialmusic': 7350, 'listening2the': 7807, 'weirdest': 10983, 'by\\x94leafcutter': 5240, 'john\\x94sounds': 7498, 'insects': 7352, 'molestedsomeone': 8202, 'plumbingremixed': 8873, 'evil': 6364, 'acid': 4486, 'didntgive': 5995, 'bellearlier': 4982, 'hunnyjust': 7227, 'bedbut': 4956, 'thepub': 10384, 'l8tr': 7642, 'uwana': 10777, 'uploads': 10734, 'Jenxxx': 2426, 'SERIOUSLY': 3459, 'TELL': 3842, 'EXACT': 1739, 'WORDS': 4220, 'RIGHT': 3338, '09096102316': 282, '2moro': 518, 'JANE': 2397, 'Calls£1minmoremobsEMSPOBox45PO139WA': 1426, 'Tee': 3925, 'hee': 7056, 'cheery': 5433, 'cell': 5376, 'thts': 10437, 'dough': 6119, 'control': 5677, '80488biz': 816, 'Wot': 4336, 'weirdo': 10984, 'mode': 8193, 'depends': 5944, 'stalk': 10006, 'profiles': 9051, 'Jerry': 2430, 'Person': 3192, 'Irritates': 2373, 'Always': 1055, 'Vry': 4173, 'Much': 2876, 'Fails': 1883, 'Express': 1818, 'gud': 6947, 'drinkin': 6144, 'wondering': 11108, 'others': 8613, 'dog': 6082, 'Must': 2884, 'HeyGreat': 2213, 'dealFarm': 5877, 'tour': 10562, '9am': 925, '5pm': 719, '95pax': 918, 'deposit': 5945, 'Eat': 1753, 'jap': 7464, 'disappeared': 6038, 'birthdate': 5032, 'certificate': 5383, 'publish': 9089, 'dreams': 6136, 'nydc': 8490, 'wheellock': 11015, 'SAID': 3436, 'EAT': 1714, 'SHIT': 3468, 'destination': 5963, 'Fifty': 1897, 'favour': 6482, 'settling': 9636, 'happenin': 7003, 'ola': 8546, 'cocksuckers': 5554, 'ipads': 7397, 'worthless': 11142, 'garbage': 6766, 'novelty': 8458, 'items': 7426, 'tshirt': 10625, 'FRAN': 1854, 'DECIDED': 1574, 'WAY': 4188, 'COMPLETELY': 1388, 'BROKE': 1193, 'KNACKERED': 2468, 'BOUT': 1176, '2MRW': 493, 'JANX': 2399, 'PS': 3159, 'DADS': 1561, 'FONE': 1850, 'CREDIT': 1399, 'Designation': 1647, 'software': 9866, 'developer': 5973, 'jamster': 7458, 'videosound': 10827, 'gold': 6859, 'club': 5539, 'videosounds2': 10828, 'logosmusicnews': 7842, 'jamstercouk': 7459, '16only': 385, '09701213186': 290, 'Lions': 2623, 'lionm': 7796, 'mono': 8216, 'lionp': 7797, 'wwwringtonescouk': 11209, 'original': 8606, '3GBP': 580, 'jokin': 7508, 'careful': 5322, 'spirit': 9962, 'bb': 4931, 'shattered': 9662, 'alrite': 4615, 'idiot': 7269, 'bak': 4885, 'girlie': 6822, 'colours': 5579, 'darker': 5842, 'styling': 10131, 'Whenevr': 4294, 'gray': 6911, 'Remembr': 3393, 'listn': 7808, 'watevr': 10939, 'whileamp': 11023, '“Harry': 11385, 'Potter': 3250, 'Phoenix': 3204, 'HARRY': 2106, 'among': 4633, 'readers': 9190, 'shd': 9664, 'minus': 8152, 'paragraphs': 8693, 'coveragd': 5736, 'vasai': 10800, '4o': 670, 'retard': 9370, 'bathroom': 4924, 'sang': 9499, 'Uptown': 4119, 'Girl': 2045, '80s': 820, 'ANSWER': 967, 'luck': 7915, 'february': 6490, 'rush': 9466, 'jay': 7467, 'Nite': 2975, 'Icic': 2335, 'Syria': 3820, 'Canada': 1430, 'heartsnot': 7049, 'cares': 5327, 'GOODNOON': 1998, 'Sweet': 3814, 'gauge': 6773, 'pattys': 8736, 'interest': 7368, 'mondaynxt': 8209, 'vl': 10855, 'completing': 5616, 'Might': 2812, 'ax': 4859, 'chill': 5471, '6hrs': 764, 'surgical': 10208, 'emergency': 6269, 'unfolds': 10699, 'Crazy': 1536, 'married': 8009, 'frens': 6684, 'korean': 7629, 'leonas': 7738, 'Fredericksburg': 1931, 'pases': 8718, 'buen': 5197, 'tiempo': 10446, 'Xavier': 4361, 'chillin': 5473, 'super': 10187, 'FREE2DAY': 1857, 'St': 3756, 'Georges': 2036, 'JordanTxt': 2446, 'PIC': 3112, '89080': 891, 'saucy': 9517, 'celeb4': 5373, '0870241182716': 84, 'Bugis': 1323, 'tmrw': 10484, 'Heart': 2191, 'Compass': 1506, 'Soul': 3726, 'Guide': 2094, 'worldgnun': 11129, 'Sent': 3615, 'WAY2SMSCOM': 4189, 'Goodnight': 2064, 'Baaaaabe': 1208, 'misss': 8169, 'youuuuu': 11296, 'ned': 8356, 'convince': 5684, 'tht': 10436, 'witot': 11080, 'hurting': 7235, 'main': 7970, 'sweetie': 10229, 'blackberry': 5043, 'buyer': 5231, 'melike': 8078, '4a': 659, 'pple': 8951, 'marry': 8010, 'becz': 4954, 'undrstndng': 10696, 'avoids': 4850, 'problems': 9038, 'chain': 5386, 'suffer': 10158, 'whn': 11027, 'arrested': 4763, 'Shuhui': 3661, 'suntec': 10185, 'steamboat': 10045, 'dance': 5831, 'moji': 8200, 'forgive': 6639, 'yahoo': 11245, 'messenger': 8115, 'reaching': 9186, 'tp': 10566, 'HOT': 2144, 'LIVE': 2556, 'FANTASIES': 1826, '08707509020': 93, '20p': 436, '1327': 344, 'Croydon': 1539, 'CR9': 1397, '5WB': 709, '0870k': 100, 'Bbq': 1226, '6ish': 765, 'everyso': 6359, 'often': 8531, 'panicks': 8680, 'outhave': 8627, 'fill': 6525, 'bar': 4901, 'write': 11154, 'Put': 3290, 'Dictionary': 1656, '3Cover': 577, 'screen': 9556, '4Press': 655, '5Gently': 704, 'Bears': 1231, 'Pic': 3207, 'Nick': 2965, 'Tom': 4003, 'Dick': 1655, 'fact': 6426, 'types': 10662, 'upload': 10732, '08718730666': 166, 'Auntie': 1106, 'huai': 7206, 'juan': 7520, 'Linerental': 2621, 'call2optoutLF56': 5264, 'tlk': 10480, 'ideal': 7266, 'path': 8731, 'appear': 4708, 'front': 6712, 'paths': 8732, 'walking': 10897, 'arm': 4752, 'shot': 9703, 'reserve': 9336, 'thirunelvali': 10407, 'tirunelvali': 10471, 'sunday': 10178, 'evei': 6344, 'netno': 8376, 'availablei': 4838, 'tackle': 10253, 'Storming': 3775, 'phne': 8799, 'HELLO': 2118, 'wt': 11164, 'meaning': 8053, 'Margaret': 2781, 'girlfrnd': 6821, 'f': 6419, 'Grahmbell': 2075, 'invnted': 7388, 'telphone': 10325, 'MoralOne': 2861, '4get': 664, 'h': 6967, 'popped': 8912, 'tonght': 10521, 'ploughing': 8869, 'pile': 8826, 'ironing': 7402, 'Staying': 3765, 'chinky': 5477, 'ki': 7580, 'wi': 11032, 'nz': 8492, 'players': 8856, 'unsold': 10720, 'muz': 8300, 'effect': 6233, 'Geelater': 2033, 'aust': 4831, 'bk': 5040, 'cafe': 5246, 'recharged': 9231, 'kidding': 7586, 'papa': 8685, 'shld': 9685, 'stretch': 10097, 'detailed': 5966, 'Sinco': 3673, 'Payee': 3183, 'Log': 2634, 'icicibankcom': 7259, 'URN': 4080, 'Beware': 1251, 'frauds': 6670, 'share': 9659, 'disclose': 6044, 'vote': 10865, 'caring': 5331, 'losers': 7865, 'Kaiez': 2474, 'tuition': 10634, 'Gee': 2030, 'option': 8591, 'beta': 5000, 'practicing': 8960, 'babies': 4869, 'Kkany': 2505, 'IMPORTANT': 2302, 'INFORMATION': 2310, 'USER': 4084, 'LUCKY': 2581, 'LOG': 2561, 'ONTO': 3032, 'HTTPWWWURAWINNERCOM': 2152, 'FANTASTIC': 1827, 'SURPRISE': 3557, 'AWAITING': 988, 'noncomittal': 8431, 'beneath': 4992, 'pale': 8675, 'moon': 8224, 'goodnite': 6875, '150pMsgrcvdHGSuite3422LandsRowW1J6HL': 360, 'snickering': 9854, 'tells': 10323, 'totally': 10556, 'chords': 5486, 'Nofew': 2983, 'beforewent': 4968, 'rem': 9284, 'silver': 9748, 'black': 5041, 'Lmao': 2629, 'Speak': 3733, 'silence': 9744, 'wwwLdewcom': 11180, 'win150ppmx3age16': 11050, 'THING': 3866, 'THANX': 3854, 'EXAMS': 1740, 'MARCH': 2687, 'IVE': 2329, 'REVISION': 3334, 'STILL': 3535, 'BOYF': 1186, 'GOTTA': 2005, 'INTERVIW': 2316, 'EXETER': 1741, 'BIT': 1163, 'WORRIEDx': 4223, 'spreadsheet': 9984, 'whose': 11030, 'determine': 5969, 'entire': 6303, 'sale': 9485, 'arsenal': 4767, 'dartboard': 5850, 'condition': 5635, 'doubles': 6116, 'trebles': 10599, 'building': 5202, 'coat': 5549, 'hurry': 7233, 'painful': 8670, 'everybody': 6353, 'nobody': 8421, 'recognises': 9235, 'alone': 4608, 'wisheds': 11068, 'intrepid': 7378, 'duo': 6187, 'sen': 9607, 'missin': 8165, 'guilty': 6956, 'Aiya': 1033, 'Arms': 1086, 'Cardiff': 1437, 'addie': 4505, 'tues': 10631, 'wed': 10963, 'breeze': 5150, 'Bright': 1308, 'Fresh': 1940, 'flower': 6597, 'Twittering': 4047, 'GOODMORNING': 1995, 'Yagoing': 4392, 'restaurant': 9358, 'TEXTPOD': 3850, 'POD': 3135, 'wwwtextpodnet': 11217, 'ducking': 6175, 'chinchillas': 5475, 'function': 6732, 'headstart': 7036, '230ish': 448, 'desperate': 5960, 'earlierwe': 6199, 'rummer': 9459, 'flying': 6605, 'monkeys': 8215, 'certainly': 5382, 'don‘t': 6106, 'optin': 8590, 'BBC': 1138, 'charts': 5413, 'thanks2': 10361, 'rajini': 9155, 'practical': 8958, 'june': 7528, 'Stupidits': 3785, 'Summers': 3800, 'MATCHED': 2692, 'SUMMER': 3552, 'OptOut': 3077, 'Help08714742804': 2205, 'spys': 9988, 'mails': 7969, 'CLAIRE': 1377, '2nite': 529, '09099725823': 283, 'Bought': 1289, 'costing': 5712, 'offering': 8518, 'Yalru': 4394, 'lyfu': 7932, 'astne': 4797, 'innu': 7348, 'mundhe': 8285, 'lyf': 7931, 'ali': 4594, 'halla': 6982, 'ke': 7561, 'bilo': 5024, 'marriageprogram': 8008, 'edhae': 6222, 'ovr': 8642, 'chikkuali': 5459, 'vargu': 10796, 'meow': 8098, 'meowD': 8099, 'Kinda': 2499, 'twelve': 10647, 'Aah': 991, '09066362231': 260, '07xxxxxxxxx': 49, 'bonus': 5089, 'caller': 5273, '020603': 8, 'ASAP': 977, 'Later': 2596, 'prone': 9067, 'Lucky': 2664, '07801543489': 37, 'latests': 7691, 'wordCOLLECT': 11116, 'No83355': 2978, 'TCLLC': 3835, 'NYUSA': 2934, '150pMt': 361, 'msgrcvd18': 8256, 'permission': 8777, 'LUCY': 2582, 'Hubby': 2272, 'meetins': 8068, 'Fri': 1941, 'cumin': 5788, '09099726395': 284, 'Lucy': 2666, 'Calls£1minMobsmoreLKPOBOX177HP51FL': 1425, 'wonders': 11109, '7th': 802, '6th': 770, '5th': 720, '4th': 673, 'Personality': 3193, 'Nature': 2945, 'Friendship': 1944, 'dose': 6111, 'tablet': 10251, 'REAL': 3315, 'Valentine': 4146, 'incomm': 7313, 'blakes': 5045, 'March': 2779, 'Waitshould': 4247, 'lotr': 7872, 'w': 10875, 'keeping': 7564, 'google': 6879, 'maps': 7997, 'tiring': 10469, 'Uni': 4104, 'modules': 8198, 'concentrating': 5630, 'welp': 10992, 'browsin': 5183, 'compulsory': 5622, 'Purity': 3287, 'smiling': 9836, 'messageIts': 8107, 'musthu': 8296, 'investigate': 7383, '80488': 815, 'www80488biz': 11176, 'vomit': 10862, 'moneYas': 8210, 'youmoney': 11288, 'thinghow': 10398, 'sha': 9646, 'vitamin': 10852, 'Anyone': 1067, 'centre': 5379, 'crucial': 5771, 'someones': 9877, 'JSco': 2407, '2channel': 508, 'leadership': 7707, 'skills': 9782, 'Psychic': 3283, 'ANS': 966, 'wquestion': 11150, 'JSCO': 2406, 'Hostbased': 2262, 'IDPS': 2287, 'linux': 7794, 'systems': 10247, '0870': 74, 'dawhats': 5860, 'Total': 4011, 'converter': 5681, 'Vote': 4170, 'along': 4609, 'stars': 10018, 'Karaoke': 2478, 'SING': 3479, 'testing': 10342, 'sayy': 9529, 'loved': 7888, 'except': 6376, 'nit': 8413, 'Peteis': 3196, 'Jenny': 2425, 'Leannewhat': 2604, 'eight': 6245, 'file': 6523, 'format': 6647, 'disc': 6043, 'internet': 7373, 'prey': 9006, 'champ': 5389, 'glasgow': 6833, 'Kall': 2475, 'bestcongrats': 4997, 'lovin': 7895, 'arrive': 4765, 'shortly': 9701, 'install': 7357, 'browse': 5181, 'artists': 4769, 'corect': 5699, 'speling': 9951, 'Sarcasm': 3583, '10803': 305, '08714719523': 131, 'BT': 1196, 'forum': 6654, 'ron': 9427, 'darren': 5849, 'Hicts': 2216, 'employee': 6272, 'aunt': 4826, 'nike': 8409, 'sooo': 9901, 'screaming': 9555, 'shouting': 9708, 'dang': 5835, 'Unfortunately': 4103, 'airport': 4578, 'Remember': 3390, '7250i': 776, 'auction': 4821, '86021': 861, 'RowW1JHL': 3424, 'Fingers': 1906, 'Makes': 2769, 'difficult': 6010, 'Midnight': 2811, 'earliest': 6200, 'nordstrom': 8436, 'konw': 7627, 'waht': 10885, 'rael': 9145, 'FRIENDSHIP': 1868, 'gving': 6963, 'yuo': 11309, 'exmpel': 6391, 'Jsut': 2452, 'tihs': 10450, 'Evrey': 1805, 'splleing': 9968, 'wrnog': 11159, 'sitll': 9771, 'raed': 9144, 'wihtuot': 11042, 'ayn': 4860, 'mitsake': 8177, 'GOODNIGHT': 1996, 'SLEEPSWEET': 3489, 'DREAMS': 1603, 'conference': 5640, 'wwworangecoukow': 11205, 'degree': 5918, 'joining': 7503, 'finance': 6536, 'prospects': 9076, 'bleak': 5052, 'hmmm': 7119, 'filled': 6526, 'Shant': 3637, 'Jia': 2434, 'Bishan': 1258, 'nearer': 8348, 'sux': 10217, 'raiden': 9148, 'buff': 5198, 'south': 9925, 'preferably': 8979, 'kegger': 7566, 'totes': 10557, 'pierre': 8823, 'cardin': 5316, 'costs': 5713, 'rhythm': 9385, 'establish': 6333, 'Truro': 4024, 'Hospital': 2260, 'ext': 6410, 'Single': 3675, 'gas': 6770, 'gang': 6762, 'nature': 8337, 'adventure': 4527, 'Dnt': 1678, 'worryuse': 11138, 'ice': 7258, 'cloth': 5535, 'packalso': 8661, 'tablets': 10252, 'sunroof': 10183, 'Sux': 3812, 'excellent': 6375, 'sub': 10133, 'Tmrw': 3994, 'finishing': 6550, 'doors': 6109, 'wifi': 11041, '3g': 594, 'blanked': 5048, 'image': 7283, 'Noi': 2985, 'rumour': 9460, 'Near': 2946, 'kalainar': 7543, 'officethenampet': 8523, 'AUCTION': 982, 'BRAND': 1188, '7250': 775, 'Auction': 1102, 'catching': 5358, 'nosy': 8445, 'Idk': 2339, 'reacting': 9187, 'freaked': 6672, 'satanic': 9509, 'imposter': 7298, 'meneed': 8089, 'priceso': 9009, 'itmay': 7433, 'destiny': 5964, 'Companion': 1504, 'Chef': 1469, 'listener': 7805, 'Organizer': 3084, 'boyfriend': 5127, 'Sympathetic': 3819, 'Athletic': 1098, 'Warm': 4257, 'Courageous': 1528, 'Determined': 1649, 'Dependable': 1644, 'Intelligent': 2366, 'Psychologist': 3284, 'Pest': 3194, 'exterminator': 6411, 'Psychiatrist': 3282, 'Healer': 2189, 'Stylist': 3787, 'Driver': 1704, 'Aaniye': 992, 'pudunga': 9091, 'venaam': 10808, 'brothas': 5174, 'chasing': 5415, 'chez': 5447, 'jules': 7523, 'Hhahhaahahah': 2214, 'rofl': 9420, 'wtf': 11166, 'nig': 8397, 'leonardo': 7737, 'dereks': 5952, 'Sunday': 3802, 'lt3': 7907, 'kicks': 7584, 'john': 7497, '2years': 540, 'strain': 10087, 'dime': 6017, 'transfer': 10579, 'withdraw': 11075, 'anyhow': 4682, 'falling': 6445, 'bcoz': 4936, 'force': 6630, 'smeone': 9831, 'millers': 8130, 'soul': 9918, 'fire': 6553, 'spark': 9935, 'flame': 6575, 'rawring': 9173, 'XoXo': 4363, 'Somewhr': 3717, 'surely': 10205, 'crushes': 5774, 'honeymoon': 7144, 'outfit': 8624, 'propose': 9073, '08719899230': 178, 'blame': 5046, 'Bad': 1214, 'Gods': 2055, 'blessings': 5058, 'cheque': 5440, 'Registered': 3389, 'olympics': 8553, 'leo': 7735, 'Kthen': 2523, 'patty': 8735, 'donewant': 6101, 'haul': 7021, 'wildlife': 11046, 'want2come': 10911, 'that2worzels': 10365, 'wizzle': 11083, 'dippeditinaDEW': 6028, 'lovingly': 7897, 'itwhichturnedinto': 7437, 'gifted': 6815, 'tomeandsaidTHIS': 10511, 'shanghai': 9657, 'instead': 7361, 'cya': 5811, 'freezing': 6681, '645': 738, 'RTKIng': 3349, 'Pro': 3272, 'inforingtonekingcouk': 7330, '08701237397': 77, 'redeemable': 9245, 'wwwringtonekingcouk': 11208, 'Thnx': 3971, 'sef': 9590, 'dey': 5976, 'anjie': 4656, 'btw': 5191, 'batch': 4919, 'fring': 6699, 'oz': 8655, 'flaky': 6574, 'sooooo': 9903, 'Living': 2627, 'simple': 9751, 'Loving': 2656, 'Laughing': 2600, 'Winning': 4312, 'tooo': 10535, 'SIMPLE': 3478, 'nte': 8471, '09058094599': 205, 'confuses': 5649, 'doesn‘t': 6081, 'Wating': 4266, '250': 458, 'British': 1312, 'hotels': 7173, 'Worth': 4335, 'London': 2639, '02072069400': 11, 'Bx': 1332, '526': 695, 'SW73SS': 3560, 'talents': 10269, '6pm': 768, 'Xy': 4367, 'animal': 4654, 'buzz': 5235, 'Reminding': 3397, 'adoring': 4520, 'Yesterday': 4419, 'Eerie': 1760, '4u': 678, 'TITLE': 3872, 'DRACULA': 1601, 'Titles': 3990, 'GHOST': 1973, 'ADDAMSFA': 942, 'MUNSTERS': 2754, 'EXORCIST': 1742, 'TWILIGHT': 3901, 'brought': 5178, 'Shiny': 3648, 'warming': 10917, 'Putting': 3291, 'constant': 5663, 'Making': 2770, 'cared': 5320, 'wasnt': 10924, 'surprised': 10211, 'french': 6683, 'fooled': 6623, '0ANETWORKS': 291, 'allow': 4603, 'companies': 5602, 'responsible': 9354, 'suppliers': 10193, 'guarantee': 6944, 'comedycant': 5585, 'laughing': 7694, 'FreeMsgFeelin': 1936, 'lnly': 7821, 'Jst': 2450, 'moby': 8192, 'picTxt': 8812, '82242': 826, 'Msg150p': 2874, '2rcv': 533, 'Hlp': 2226, '08712317606': 107, 'keen': 7562, 'Sleeping': 3692, 'SWITCH': 3565, 'DAMMIT': 1562, 'Thts': 3976, 'Wright': 4340, 'fly': 6603, 'Evening': 1794, 'somewhat': 9888, 'event': 6348, 'laden': 7648, 'Head': 2186, 'wrecked': 11151, 'six': 9778, 'spontaneously': 9976, 'GOODEVENING': 1993, 'LAPTOP': 2536, 'bagi': 4882, 'lei': 7730, 'ACTION': 938, '80608': 817, 'wwwmovietriviatv': 11203, '08712405022': 117, 'waking': 10891, 'Sif': 3666, 'partnership': 8714, 'RGENT': 3337, 'Bec': 1234, 'lookin': 7855, 'daytime': 5872, 'busty': 5224, 'woman': 11101, '09099726429': 285, 'JANINExx': 2398, 'mostly': 8231, 'inside': 7354, 'spageddies': 9931, 'phasing': 8794, 'fourth': 6662, 'dimension': 6018, 'Yesbut': 4410, 'meaningful': 8054, 'compromised': 5621, 'mornin': 8226, 'Lmaonice': 2630, '09050001295': 186, 'A21': 933, 'Monthly': 2855, 'mobsicom': 8191, '391784': 575, 'Use': 4125, 'dub': 6173, 'je': 7473, 'Painful': 3169, 'toughest': 10561, 'Earth': 1749, 'unspoken': 10723, '£6': 11368, 'ideas': 7267, 'sight': 9736, 'remain': 9285, 'Maintain': 2767, 'Shjas': 3651, 'LIKELY': 2549, 'BED': 1149, 'TONIGHT': 3884, 'REALLY': 3319, 'SEE': 3450, 'TOMORROW': 3878, 'Already': 1050, 'squatting': 9990, 'Cramps': 1535, 'vodafone': 10857, '0089my': 2, 'digits': 6015, 'received': 9223, '09063442151': 233, 'ringtoneget': 9399, 'freesend': 6680, '816183': 825, 'weekstop': 10977, 'sms08718727870': 9844, 'Nan': 2938, 'sonathaya': 9893, 'soladha': 9869, 'cd': 5369, 'raping': 9167, 'dudes': 6177, 'poker': 8888, 'Weightloss': 4277, 'Finish': 1907, 'mushy': 8292, 'embarrassed': 6267, 'stash': 10028, 'ran': 9160, 'priya': 9026, 'ordered': 8600, '81303': 823, 'father': 6471, 'messy': 8116, 'kilos': 7592, 'accidant': 4470, 'tookplace': 10533, 'ghodbandar': 6811, 'rd': 9180, 'Traffic': 4017, 'moves': 8243, 'slovely': 9814, 'slip': 9808, 'ahnow': 4567, 'wkg': 11087, 'wherebtw': 11019, 'nus': 8483, 'sc': 9530, 'specialise': 9943, 'wad': 10879, 'likes': 7777, 'dislikes': 6051, 'keeps': 7565, 'Queen': 3298, 'ache': 4484, 'desparately': 5959, 'fren': 6682, 'promises': 9063, 'gotten': 6887, 'stereo': 10050, 'unknown': 10713, 'album': 4584, 'Hard': 2177, '121': 330, '60pmin': 729, 'Choose': 1476, 'connect': 5651, '09094646899': 280, 'Cheap': 1464, 'VU': 4145, 'BCM1896WC1N3XX': 1144, 'Asking': 1095, 'classmates': 5511, 'firesAre': 6557, 'WOW': 4230, 'Boys': 1299, 'Back': 1213, '2007': 432, 'Tour': 4013, 'Tickets': 3982, 'prebook': 8973, 'Trackmarque': 4015, 'infovipclub4u': 7336, 'missionary': 8167, 'hook': 7148, 'doggy': 6086, 'standing': 10012, 'entertaining': 6301, 'hugh': 7213, 'laurie': 7697, 'stick': 10057, 'indeed': 7319, 'praps': 8966, 'Jon': 2443, 'bin': 5026, 'Spain': 3731, 'sum': 10170, 'dinero': 6022, 'Bill': 1253, '\\x91rents': 11319, '12000pes': 328, '£48': 11358, 'tb': 10296, 'James': 2413, 'ALRITE': 960, 'HUNNYWOT': 2158, '2NITE': 495, 'DIDNT': 1579, 'GOIN': 1987, 'TOWN': 3891, 'JUS': 2409, 'DA': 1559, 'PUB': 3163, 'INSTEAD': 2313, 'CHILLIN': 1371, 'MO': 2725, 'BEDROOMLOVE': 1150, 'Maangalyam': 2758, 'Alaipayuthe': 1040, 'complaining': 5609, 'Mandy': 2776, 'Sullivan': 3798, 'HOTMIX': 2145, 'FMyou': 1849, 'chosen': 5488, '£500000': 11363, 'Easter': 1751, 'drawPlease': 6131, 'telephone': 10320, '09041940223': 179, '290305': 475, 'transferred': 10582, 'finns': 6552, 'di': 5982, 'GOING': 1988, 'BAHAMAS': 1130, 'CallFREEFONE': 1417, '08081560665': 64, 'Bahamas': 1216, 'cruise': 5772, 'of£2000': 8532, '18only': 392, '07786200117': 34, 'EY': 1747, 'CALM': 1342, 'DOWNON': 1599, 'THEACUSATIONS': 3860, 'ITXT': 2326, 'COS': 1394, 'IWANA': 2330, 'WOTU': 4227, 'THEWEND': 3865, 'HAVENTCN': 2113, 'AGESRING': 950, 'UP4': 4070, 'NETHING': 2900, 'SATLOVE': 3440, 'dine': 6020, 'conacted': 5628, 'youTo': 11278, '09111030116': 288, 'PoBox12n146tf15': 3232, 'I\\x92m': 2388, 'vtired': 10874, 'doin': 6089, 'social': 9863, 'inspection': 7355, 'nursery': 8481, 'spk': 9964, 'sn': 9849, 'detailsi': 5968, 'youmy': 11289, 'Feel': 1892, 'Slowly': 3697, 'Becomes': 1237, 'Habit': 2159, 'Part': 3177, 'Follow': 1916, 'LATE': 2538, 'MUM': 2752, 'itmail': 7432, 'panren': 8681, 'paru': 8717, 'chuckin': 5494, 'red': 9244, 'trainners': 10573, 'carryin': 5339, 'bac': 4874, 'schedule': 9539, 'gooddhanush': 6869, 'needing': 8361, 'stuck': 10111, 'chikkusimple': 5463, 'habbahw': 6968, 'Dileepthank': 1660, 'muchand': 8271, 'supportvery': 10199, 'contacts': 5667, 'hereremember': 7076, 'venugopal': 10809, 'mentionedtomorrow': 8093, 'latei': 7685, 'theregoodnight': 10386, 'Remembrs': 3394, 'Forgets': 1924, 'Remembered': 3392, 'Everytime': 1802, 'Joys': 2449, 'John': 2436, 'Mandan': 2775, '07734396839': 30, 'IBH': 2282, 'NOKIA6600': 2922, 'TXTAUCTIONTxt': 3905, 'wordSTART': 11117, 'No81151': 2977, 'Now4T': 3006, 'regarding': 9263, '3230': 561, 'textbook': 10347, 'algorithms': 4593, 'edition': 6223, 'selling': 9601, 'buns': 5209, 'adore': 4519, 'Facebook': 1882, 'Buy': 1329, 'Space': 3730, 'Invaders': 2369, 'orig': 8605, 'Arcade': 1081, 'Game': 2020, 'console': 5662, '0': 0, 'o2coukgames': 8494, 'settings': 9633, 'BIG': 1158, 'BROTHER': 1194, 'ALERT': 957, '10k': 310, '09064018838': 242, 'CRO1327': 1401, 'Atlanta': 1099, 'recharge': 9229, 'created': 5753, 'fills': 6528, 'gaps': 6764, 'holding': 7126, 'Yessura': 4417, 'tvlol': 10645, 'Arun': 1091, 'transfr': 10583, 'Takin': 3912, 'philosophy': 8798, '4ui': 680, 'didn\\x92t': 5996, 'intend': 7365, 'Iwasmarinethat\\x92s': 2385, 'itried2tell': 7436, 'urmomi': 10750, 'careabout': 5319, 'Foley': 1915, 'exciting': 6379, 'prizes': 9029, 'eye': 6416, 'wwwwin82050couk': 11223, 'desparate': 5958, 'learned': 7712, 'fake': 6438, 'answering': 4674, 'Air': 1031, 'Force': 1921, 'Iraq': 2371, 'afghanistan': 4540, 'stable': 9999, 'honest': 7141, 'traveling': 10589, 'blessget': 5056, '1225': 331, '£50award': 11364, '3100': 556, 'pai': 8667, 'seh': 9591, 'Scared': 3594, 'beer': 4964, 'combine': 5582, 'parts': 8715, 'Getting': 2040, 'walsall': 10905, 'tue': 10630, 'Terry': 3937, 'JESS': 2403, 'DONT': 1593, 'Sian': 3664, 'ccna': 5368, 'shrek': 9719, '3DB': 578, 'dirty': 6035, 'fellow': 6501, 'somethings': 9883, 'dying': 6195, 'lifting': 7769, 'Teresa': 3934, 'package': 8660, 'dec': 5894, 'yould': 11286, 'Bam': 1219, 'aid': 4572, 'Usmle': 4128, 'Squishy': 3751, 'Mwahs': 2887, 'Hottest': 2265, 'Wet': 4286, 'Wanting': 4255, 'PICS': 3114, 'textoperator': 10351, 'g696ga': 6746, 'Starts': 3762, 'prominent': 9060, 'mark': 8002, 'cheek': 5431, 'september': 9622, 'husband': 7237, 'Hack': 2160, 'backdoor': 4877, 'fraction': 6668, 'NEO69': 2899, '09050280520': 192, 'subscribe': 10139, 'DPS': 1600, 'Bcm': 1228, '8027': 814, 'wc1n3xx': 10947, 'norm': 8437, '415': 615, 'list': 7802, 'Joanna': 2435, 'comingdown': 5593, 'Super': 3806, 'dagood': 5822, 'replacement': 9314, 'murali': 8286, 'playerwhy': 8857, 'sts': 10109, 'engalnd': 6287, 'telly': 10324, 'mia': 8121, 'elliot': 6259, 'kissing': 7604, 'upto': 10741, '12mths': 339, '12price': 340, 'linerental': 7787, 'xnet': 11232, 'mins100txtmth': 8148, 'Btooth': 1320, 'Mobileupd8': 2844, '08001950382': 56, '2optoutD3WV': 531, 'wiproyou': 11064, 'matric': 8027, '850': 854, 'Toa': 3997, 'payoh': 8745, '650': 740, 'Pound': 3251, '08718726970': 157, 'BTnationalrate': 1200, 'payments': 8744, 'fedex': 6491, 'india': 7321, 'Kyou': 2526, 'reception': 9227, 'slowly': 9818, 'GODI': 1986, 'NEED': 2896, 'YOUCLEAN': 4386, 'HEART': 2116, 'BLOODSend': 1167, 'Ten': 3930, 'itplspls': 7435, 'hate': 7020, 'annoying': 4665, 'consensus': 5656, 'entertain': 6300, 'Youd': 4423, 'delete': 5925, 'tag': 10257, 'wednesday': 10966, 'skype': 9790, 'laundry': 7696, 'underwear': 10694, 'bras': 5137, 'strewn': 10098, 'pillows': 8827, 'waheed': 10883, 'fathima': 6472, 'Mmmm': 2832, 'fair': 6436, 'weaknesses': 10950, 'pushes': 9108, 'knees': 7610, 'exposes': 6407, 'pulls': 9094, 'wicked': 11033, 'sh': 9645, 'readyall': 9194, 'Mom': 2849, 'supports': 10198, 'srt': 9995, 'thnk': 10412, 'ps3': 9084, 'jontin': 7512, 'prizeTo': 9028, 'nearly': 8349, 'banned': 4898, 'uk': 10672, 'pen': 8757, 'beyond': 5005, 'Wont': 4326, 'Biro': 1256, 'masters': 8018, 'PARTY': 3098, '09058094594': 203, 'shell': 9669, 'unconsciously': 10686, 'avoiding': 4849, 'unhappy': 10703, 'excuse': 6380, 'jog': 7495, '0776xxxxxxx': 33, '18yrs': 394, '09061743811': 226, 'ABTA': 935, '326': 563, 'season': 9565, 'knackered': 7609, 'lark': 7678, 'stations': 10033, '09090900040': 277, 'LISTEN': 2553, 'EXTREME': 1746, 'DIRTY': 1582, 'OFFICE': 3020, 'TOTAL': 3889, 'PRIVACY': 3153, 'sic': 9730, 'LISTENING': 2554, '60P': 728, 'MIN': 2709, '247MP': 452, '0870753331018': 94, 'videopic': 10826, 'fones': 6620, 'WILD': 4206, '150prcvd': 373, 'STOP2stop': 3537, 'Uh': 4090, 'heads': 7035, 'lim': 7779, 'mp3': 8248, 'vday': 10802, 'parachute': 8690, 'placed': 8841, 'ipod': 7399, '80182': 813, '08452810073': 72, 'okie': 8541, 'unlimited': 10715, 'Therere': 3960, 'table': 10249, 'lambda': 7658, 'build': 5201, 'snowman': 9859, 'angels': 4652, 'snowball': 9857, 'fights': 6519, 'ELLO': 1717, 'ikea': 7278, 'Becoz': 1238, 'jan': 7460, 'ofice': 8529, 'cn': 5545, 'oficegot': 8530, 'duffer': 6180, 'grr': 6939, 'prescription': 8989, 'Pharmacy': 3202, 'cook': 5687, 'electricity': 6257, '08715500022': 140, 'rpl': 9444, 'cnl': 5546, 'Fffff': 1895, 'kadeem': 7538, 'fujitsu': 6725, 'lifebook': 7763, 'scold': 9543, 'zhong': 11315, 'qing': 9121, 'act': 4490, '46': 640, 'accordingly': 4477, 'hypertension': 7247, 'mineall': 8141, 'wud': 11169, 'annoyin': 4664, '08702490080': 85, '09066358152': 255, 'prompts': 9066, 'Careful': 1440, 'VPOD': 4144, 'Carry': 1443, 'disturbing': 6059, 'avatar': 4841, 'nigro': 8408, 'scratching': 9552, 'anyplaces': 4686, 'stops': 10076, 'cleaning': 5515, 'upset': 10737, 'priority': 9021, 'constantly': 5664, 'Excellent': 1810, 'ecstasy': 6220, 'dogging': 6085, '09090204448': 276, 'minded': 8137, 'A£150': 1116, 'minAPN': 8134, 'LS278BB': 2579, 'flies': 6583, 'hittng': 7114, 'reflex': 9255, 'Costa': 1523, 'Sol': 3709, '09050090044': 191, 'toClaim': 10486, 'POBox334': 3131, 'Stockport': 3771, 'SK38xh': 3485, 'Cost£150pm': 1525, 'Max10mins': 2791, 'Kkwhy': 2518, 'lousy': 7883, 'cat': 5355, '1010': 301, 'woken': 11100, 'hip': 7105, 'yogasana': 11274, 'adewale': 4510, 'Aka': 1037, 'Egbon': 1761, 'minstand': 8149, 'ic': 7256, 'mary': 8011, 'jane': 7462, 'deduct': 5907, 'wrks': 11158, 'j': 7449, 'monkey': 8214, 'asshole': 4791, 'grab': 6896, 'sliding': 9806, 'midnight': 8124, '09065394973': 251, 'payback': 8740, '31': 555, 'Honeybee': 2254, 'Said': 3573, 'Sweetest': 3815, 'Laughed': 2599, 'WaitU': 4244, 'Havnt': 2185, 'Met': 2809, 'Reading': 3372, 'MORAL': 2736, 'GOD': 1985, 'Crack': 1533, 'Jokes': 2439, 'GMGNGEGN': 1981, 'tescos': 10340, 'feathery': 6486, 'bowa': 5118, 'infra': 7338, 'Nvm': 3014, 'gep': 6798, 'ish': 7411, 'Delhi': 1638, 'thinkin': 10403, 'haha': 6973, '2006': 431, 'FIFA': 1834, 'held': 7057, '87239': 874, 'boat': 5080, 'Shhhhh': 3643, 'related': 9272, 'Arul': 1090, 'amk': 4629, '09061743810': 225, 'length': 7732, 'fringe': 6700, 'distract': 6056, 'Santha': 3580, 'corrct': 5702, 'dane': 5834, 'baskets': 4916, 'DARLIN': 1564, 'BACK': 1128, 'THANKS': 3853, 'MUCH': 2749, 'LIFT': 2547, 'proof': 9068, 'glad': 6831, 'rupaul': 9465, 'TOOL': 3886, '61610': 731, 'help08712400602450p': 7066, 'Provided': 3280, 'tones2youcouk': 10520, 'practising': 8962, 'curtsey': 5798, 'YEH': 4373, 'DEF': 1575, 'SATJUST': 3439, 'PAYED2DAY': 3102, 'HAVBEEN': 2110, 'GIVEN': 1980, 'A£50': 1117, 'PAY': 3101, 'RISE': 3342, '4MY': 653, 'HAVEBEEN': 2111, 'MADE': 2681, 'PRESCHOOLCOORDINATOR': 3151, '2I': 487, 'FEELINGOOD': 1831, 'LMAO': 2558, 'memory': 8087, 'mon': 8207, 'Idea': 2337, 'converted': 5680, 'TheMobYo': 3956, 'yoHere': 11272, 'downloads': 6122, 'members': 8082, 'Ssindia': 3754, 'african': 4543, 'soil': 9867, 'major': 7972, 'roles': 9423, 'outreach': 8630, 'mel': 8077, 'raining': 9151, 'birth': 5031, '8lb': 905, '7oz': 799, 'Mother': 2865, 'brilliantly': 5160, 'forwarding': 6658, 'intention': 7366, 'visitors': 10850, 'neva': 8379, 'rules': 9457, 'responsibility': 9353, 'Yet': 4420, 'bend': 4991, 'rule': 9456, 'thia': 10395, 'DOESNT': 1588, 'inlude': 7343, 'previews': 9003, 'News': 2959, 'FREEFONE': 1858, '08006344447': 61, 'Ambrithmaduraimet': 1059, 'arun': 4772, 'dha': 5979, 'marrgeremembr': 8006, 'kitty': 7607, 'shaved': 9663, 'natural': 8336, 'wife': 11038, 'onwards': 8568, 'toa': 10487, 'anybodys': 4681, 'tactful': 10255, 'alex': 4589, 'Music': 2883, 'Vouchers': 4172, 'DRAW': 1602, 'wwwldewcom': 11201, 'SkillGame1Winaweek': 3687, 'age16150ppermessSubscription': 4553, 'theatre': 10377, 'obviously': 8502, 'eggspert': 6242, 'potato': 8939, 'head…': 7037, 'crammed': 5742, 'satsgettin': 9514, '447per': 629, 'lie': 7758, 'apologize': 4703, 'admit': 4517, 'pei': 8756, 'kid': 7585, 'boost': 5098, 'energy': 6284, 'GONNA': 1990, 'subtoitles': 10147, 'sitting': 9774, 'jot': 7513, 'pack': 8659, 'storelike': 10080, 'cereals': 5381, 'gari': 6768, 'infernal': 7327, 'affair': 4534, 'Including': 2348, 'bold2': 5084, 'calicut': 5254, '09094100151': 278, 'cast': 5351, 'provided': 9079, 'AOM': 970, 'GBP5month': 1967, 'Box61M60': 1297, '1ER': 400, 'Ages': 1025, 'thkin': 10410, 'nd': 8344, 'parco': 8697, 'nb': 8343, 'resubbing': 9364, 'shadow': 9648, 'spring': 9986, 'breadstick': 5141, 'Ahmad': 1029, 'Saeed': 3570, 'Hallaq': 2169, '09066362220': 259, 'BOX97N7QP': 1185, 'Pass': 3179, 'Redim': 3382, 'Blueu': 1274, 'Purpleu': 3288, 'realy': 9204, 'Pinku': 3215, 'Orangei': 3080, 'lyk': 7934, 'Greeni': 2080, 'Yelowi': 4406, 'bck': 4935, 'Blackim': 1263, 'jealous': 7474, 'Browni': 1317, 'Nw': 3015, 'giv': 6825, 'color': 5575, 'arranging': 4762, 'eldest': 6255, 'Whos': 4301, 'drugdealer': 6161, 'Sexy': 3626, 'Singles': 3676, 'GENDER': 1969, 'wither': 11076, 'EG23F': 1715, 'eg23G': 6238, 'SleepwellampTake': 3693, 'wondarfull': 11105, 'messagesText': 8113, 'nowUse': 8463, 'web2mobile': 10959, 'Txt250com': 4050, 'BOX139': 1179, 'LA32WU': 2534, 'txtX': 10653, 'ge': 6786, 'normally': 8440, 'hunonbus': 7228, 'donyt': 6104, 'homeBut': 7135, 'latelyxxx': 7687, '85233': 858, 'FREERingtoneReply': 1863, 'mca': 8043, 'aight': 4574, 'Moji': 2847, 'rich': 9387, 'justthought': 7534, 'sayhey': 9525, 'doinnearly': 6093, 'endof': 6279, 'offdam': 8514, 'nevamindWe': 8380, '2Hook': 486, 'uwant': 10778, 'm8': 7938, 'loveJen': 7887, 'official': 8526, 'flag': 6572, 'yer': 11260, 'FLAG': 1846, '84199': 851, 'ENG': 1720, 'Box39822': 1295, 'W111WX': 4174, 'yor': 11275, 'ownyouve': 8651, 'stressed': 10094, 'Skallis': 3684, 'jason': 7465, 'soooo': 9902, 'provider': 9080, 'tming': 10482, 'Final': 1902, 'Subs': 3789, 'cutest': 5807, 'dice': 5989, 'art': 4768, 'SERVICES': 3460, 'inclusive': 7312, 'help08700469649': 7065, 'BOX420': 1182, 'IP4': 2318, '5WE': 710, 'Howda': 2267, 'Mathe': 2787, 'samachara': 9492, 'Audrie': 1104, 'autocorrect': 4834, 'simulate': 9754, 'readiness': 9191, 'armand': 4753, 'andor': 4647, 'vomiting': 10864, 'yun': 11308, 'rub': 9450, 'feet': 6499, 'Lara': 2593, 'loan': 7824, 'supplies': 10194, 'clever': 5521, 'guesses': 6951, 'attach': 4807, '087123002209am7pm': 106, 'Hols': 2248, 'med': 8060, 'stamped': 10008, 'Drinks': 1703, 'Us': 4124, '113': 317, 'Bray': 1302, 'Wicklow': 4302, 'Eire': 1763, 'Saturday': 3587, 'washob': 10923, 'nobbing': 8420, 'Nickey': 2966, 'Platt': 3219, 'ryan': 9468, 'vikky': 10833, 'wwwIdewcom': 11179, 'SkillGame': 3686, '1Winaweek': 409, '150ppermessSubscription': 369, 'mad': 7949, 'Argh': 1083, 'spotty': 9982, 'province': 9081, 'sterling': 10051, 'problemfree': 9036, 'looked': 7854, 'xam': 11227, 'hall': 6981, 'term': 10335, 'manage': 7983, 'hesitation': 7087, 'intha': 7377, 'ponnungale': 8902, 'ipaditan': 7396, 'rejected': 9271, 'shitload': 9682, 'diamonds': 5987, 'Tessypls': 3938, 'favor': 6480, 'convey': 5682, 'Nimyapls': 2974, 'Shijas': 3645, 'aunty': 4829, 'china': 5474, 'noisy': 8425, 'needa': 8358, 'mcat': 8044, 'Sfrom': 3629, 'manual': 7993, 'processits': 9044, 'reset': 9339, 'troubleshooting': 10611, 'B4U': 1120, 'wc': 10946, '2703': 467, 'MARSMS': 2689, 'wwwB4Utelecom': 11178, '08717168528': 143, 'Spoke': 3742, 'strongly': 10105, 'sacrifice': 9475, 'beg': 4969, 'expecting': 6393, 'creativity': 5755, 'stifled': 10059, 'morphine': 8229, 'requirements': 9329, 'stayin': 10037, 'strangersaw': 10090, 'he\\x92s': 7090, 'sorted': 9912, 'nowstill': 8469, 'bloke': 5064, 'MRur': 2744, 'Thinks': 3969, '2GETHA': 484, 'Buffy': 1322, 'satisfy': 9513, 'randy': 9164, 'PIX': 3118, 'QlynnBV': 3297, 'Help08700621170150p': 2204, '8830': 882, 'cld': 5513, 'Wld': 4320, 'prefer': 8978, 'nosh': 8444, 'Waaaat': 4240, 'Lololo': 2638, 'tables': 10250, 'occupied': 8504, 'comei': 5586, 'kindly': 7596, 'documents': 6076, 'submitted': 10136, 'STAPATI': 3529, 'miles': 8128, 'cutie': 5808, 'WALES': 4183, 'hills': 7100, 'avent': 4844, 'killed': 7589, 'Sad': 3569, 'Man': 2773, 'Wife': 4304, 'Parents': 3174, 'Kids': 2496, 'Colleagues': 1497, 'sed': 9579, 'mood': 8223, 'minuts': 8155, 'latr': 7692, 'caken': 5249, 'Kidz': 2497, 'sofa': 9864, 'NAKED': 2891, 'honesty': 7142, 'specialisation': 9942, 'labor': 7644, 'shakara': 9651, 'beggar': 4970, 'smashed': 9827, 'driver': 6149, 'dent': 5937, 'everybodys': 6354, 'crickiting': 5764, 'Thx': 3979, 'PLEASE': 3120, 'COME': 1384, 'IMIN': 2301, 'TOWNDONTMATTER': 3893, 'URGOIN': 4078, 'OUTL8RJUST': 3039, 'REALLYNEED': 3320, '2DOCDPLEASE': 481, 'DONTPLEASE': 1595, 'DONTIGNORE': 1594, 'MYCALLSU': 2757, 'THECD': 3861, 'ISVIMPORTANT': 2322, 'TOME': 3877, '2MORO': 490, 'Yavnt': 4396, 'Hiya': 2225, 'ESPECIALLY': 1728, 'popping': 8913, 'ibuprofens': 7255, 'sip': 9762, 'grown': 6937, 'Chinatown': 1472, 'porridge': 8915, 'claypot': 5512, 'yam': 11247, 'fishhead': 6562, 'beehoon': 4962, 'Either': 1764, 'tok': 10501, 'specific': 9945, 'jaklin': 7455, 'idk': 7270, 'Google': 2067, 'nearby': 8347, 'cliffs': 5524, '449month': 633, 'ntwk': 8473, 'bundle': 5207, 'deals': 5881, 'avble': 4842, 'call2optoutJ': 5262, 'MF': 2705, 'pages': 8666, 'figures': 6521, 'Ooh': 3069, '4got': 666, 'moseley': 8230, 'weds': 10967, '630': 736, 'Thankyou': 3947, 'Treat': 4021, 'pendingi': 8761, 'dayswill': 5870, 'thruRespect': 10434, 'homecheck': 7136, 'Valuable': 4150, 'Affectionate': 1016, 'Loveable': 2650, 'Eternal': 1787, 'Noble': 2980, 'Truthful': 4027, 'Intimate': 2368, 'Natural': 2944, 'Enamous': 1773, 'VALENTINES': 4133, 'textin': 10349, 'cousin': 5734, 'POWER': 3148, 'excuses': 6382, 'Rajipls': 3358, 'Nimya': 2973, 'legs': 7727, 'neck': 8354, 'amigos': 4628, 'burn': 5214, 'progress': 9055, 'continue': 5673, 'holy': 7133, 'werent': 10998, 'arty': 4771, 'collages': 5566, 'tryin': 10622, 'billion': 5021, 'classes': 5510, '2hrs': 516, 'waliking': 10892, 'cartons': 5342, 'shelves': 9670, 'pix': 8836, '08714712379': 126, 'distance': 6055, 'mirror': 8157, 'turning': 10640, 'freak': 6671, 'Know': 2521, 'ref': 9249, 'K718': 2461, '£450': 11357, '09065069120': 245, 'Tues': 4039, 'Alrite': 1052, 'jod': 7494, 'revision': 9381, 'Keris': 2491, 'smidgin': 9832, 'collegexx': 5574, 'belive': 4980, 'kkwhere': 7608, 'exact': 6371, 'intentions': 7367, 'empty': 6274, 'slots': 9813, 'accordin': 4476, 'discussed': 6049, 'knocking': 7613, 'Sicomo': 3665, 'nolistened2the': 8429, 'plaid': 8844, 'albumquite': 4585, 'gdthe': 6785, 'air1': 4577, 'hilariousalso': 7098, 'bought\\x94braindance\\x94a': 5115, 'compofstuff': 5619, 'aphex\\x92s': 4700, 'abelu': 4447, 'hav2hear': 7024, 'itc': 7424, 'xxxx': 11239, 'nelson': 8372, 'bbs': 4932, 'temp': 10329, 'unmits': 10716, 'display': 6054, 'newspapers': 8390, 'Boo': 1281, 'soup': 9922, 'Yummmm': 4429, 'management': 7986, 'puzzeles': 9114, 'include': 7310, '4goten': 667, 'scammers': 9532, 'smartThough': 9824, 'regular': 9270, 'prem': 8980, 'msgsubscription': 8261, '2morro': 520, 'passion': 8724, 'B4': 1119, '09099726481': 286, 'DENA': 1577, '£1minMobsmoreLKPOBOX177HP51FL': 11345, 'spoiled': 9971, 'R836': 3309, '09065069154': 246, 'threats': 10423, 'sales': 9486, 'executive': 6384, 'Shifad': 3644, 'raised': 9153, 'complaint': 5610, 'doctors': 6075, 'reminds': 9295, '2godid': 514, 'lounge': 7882, 'Den': 1643, 'lk': 7818, 'role': 9422, 'lov': 7884, 'truth': 10620, 'mindi': 8138, 'toleratbcs': 10508, 'comfort': 5590, 'checked': 5428, 'SplashMobile': 3740, 'subscrition': 10145, '300p': 549, 'ENJOY': 1722, 'dust': 6191, 'U4': 4057, 'private': 9024, '01223585334': 5, 'Wan': 4250, '2C': 480, 'shagged': 9650, '8552': 859, '2End': 483, 'SAM': 3437, '88877FREE': 887, '88877': 886, '88066': 879, 'LOST': 2568, '3POUND': 584, 'HELP': 2121, 'watchin': 10934, 'meaningless': 8055, 'alls': 4606, 'Cold': 1495, 'Brdget': 1304, 'Jones': 2444, 'Inever': 2359, 'HmmBad': 2229, 'newsHype': 8388, '700': 773, 'studio': 10116, 'takenOnly': 10264, 'bedrm900': 4959, 'unable': 10678, 'waited': 10887, 'Velly': 4154, 'wkend': 11086, 'journey': 7514, 'huge': 7211, 'marking': 8005, 'letters': 7746, 'Alex': 1043, 'mids': 8125, 'Oranges': 3081, 'Upd8': 4114, 'freefone': 6677, '2StopTx': 499, 'ANNIE': 965, 'Remind': 3395, '08718738034': 169, 'MISSIN': 2716, '21870000Hi': 441, 'Mailbox': 2766, 'Messaging': 2808, 'alert': 4587, '21': 438, '09056242159': 194, 'retrieve': 9372, 'Draw': 1700, 'vai': 10785, 'Hrishi': 2271, 'Nothin': 3001, 'hanger': 6995, 'poem': 8884, 'Hear': 2190, 'Fear': 1890, 'Cheer': 1467, 'Tear': 3922, 'thatll': 10369, 'Moby': 2845, 'Pub': 3286, 'QuizWin': 3306, 'High': 2218, 'Street': 3777, 'Duchess': 1706, 'Cornwall': 1519, '82277unsub': 828, '008704050406': 1, 'SP': 3512, 'Arrow': 1088, 'bags': 4883, 'blanket': 5049, '08718726971': 158, 'tddnewsletteremc1couk': 10298, 'TheDailyDraw': 3953, 'Helen': 2197, 'Dozens': 1698, 'prizesWith': 9030, 'significant': 9740, 'Waqt': 4256, 'pehle': 8755, 'naseeb': 8330, 'zyada': 11317, 'kisi': 7601, 'ko': 7623, 'kuch': 7636, 'nahi': 8314, 'miltaZindgi': 8132, 'wo': 11096, 'jo': 7490, 'hum': 7216, 'sochte': 9862, 'hai': 6974, 'Zindgi': 4440, 'ham': 6983, 'jeetey': 7476, 'worse': 11139, 'stalking': 10007, 'Dan': 1616, 'reminded': 9292, 'Apps': 1077, 'varaya': 10795, 'elaya': 6254, '100603': 298, '09066368753': 266, '97N7QP': 920, 'anand': 4645, 'Long': 2640, 'beach': 4941, 'Expected': 1814, 'Aww': 1113, 'deadWell': 5875, 'Jez': 2433, 'isComing': 7407, 'workAnd': 11121, 'whillTake': 11024, 'Cheers': 1468, 'Zogtorius': 4441, 'I\\x92ve': 2389, 'staring': 10016, 'age': 4551, 'whether': 11022, 'financial': 6537, 'problemi': 9037, 'alian': 4595, 'BTooth': 1201, 'FREENokia': 1860, 'or2optoutHV9D': 8593, 'posible': 8920, 'century': 5380, 'cm': 5542, 'frwd': 6716, 'dint': 6027, 'unnecessarily': 10717, 'affectionate': 4537, 'sorts': 9914, 'Download': 1697, 'ringtones': 9401, 'restrictions': 9362, 'buddys': 5195, '80082': 808, '08712402902': 113, 'remind': 9291, 'owned': 8649, 'possessive': 8925, 'Nohe': 2984, 'clarification': 5505, 'Spook': 3743, 'Halloween': 2170, 'eerie': 6231, 'CARD': 1347, 'SPOOK': 3521, '08701417012150p': 79, 'logopic': 7840, 'issue': 7419, 'weigh': 10978, 'regret': 9268, 'Fantasy': 1887, 'Football': 1920, 'Sky': 3689, 'Gamestar': 2022, 'Active': 1009, '£250k': 11349, 'Dream': 1701, 'Team': 3921, 'Scoring': 3598, 'nowSKY': 8459, 'OPT': 3033, '88088': 880, 'coimbatore': 5559, 'subs': 10138, 'expired': 6400, 'resub': 9363, 'MONOC': 2734, 'monos': 8217, 'POLYC': 3140, 'Stream': 3776, '0871212025016': 104, 'sheffield': 9667, 'tom': 10509, 'opinions': 8579, 'categories': 5359, 'measure': 8058, 'ethnicity': 6336, 'census': 5377, 'transcribing': 10578, 'Boy': 1298, 'propsd': 9074, 'gv': 6962, 'lv': 7930, 'lttrs': 7913, 'threw': 10425, 'thm': 10411, 'aproach': 4730, 'dt': 6171, 'truck': 10613, 'speeding': 9950, 'Wn': 4321, 'girld': 6820, 'hw': 7243, 'Boost': 1286, 'instantly': 7360, 'Thy': 3980, 'lived': 7814, 'happily': 7008, '2gthr': 515, 'drinking': 6145, 'evrydy': 6369, 'Moral': 2859, 'msgsD': 8259, 'paragon': 8692, 'unfortunately': 10700, 'Pics': 3209, 'cakes': 5250, 'bluff': 5076, 'Izzit': 2386, 'impossible': 7297, 'XMAS': 4353, 'draws': 6132, 'goodmate': 6873, 'RITE': 3343, 'SARY': 3438, 'ASUSUAL1': 981, 'CHEERED': 1369, 'FRANYxxxxx': 1855, 'Went': 4284, 'batt': 4926, 'added': 4503, 'wwwfullonsmscom': 11198, 'Gn': 2049, 'pussy': 9109, 'becausethey': 4951, '09058098002': 210, 'PoBox1': 3231, 'W14RG': 4175, 'messageno': 8110, 'responcewhat': 9348, 'happend': 7001, 'piece': 8821, 'wiskey': 11073, 'Brandy': 1301, 'Rum': 3429, 'Gin': 2044, 'Beer': 1239, 'Vodka': 4168, 'Scotch': 3599, 'Shampain': 3635, 'Wine': 4308, 'KUDIyarasu': 2473, 'dhina': 5980, 'vaazhthukkal': 10782, 'gained': 6751, 'kg': 7577, 'Second': 3603, 'sugar': 10162, 'pressure': 8996, 'limits': 7782, 'PICK': 3113, 'DUMB': 1609, 'thangam': 10357, 'Okey': 3054, 'doke': 6094, 'dressed': 6141, 'laying': 7703, 'kills': 7591, 'Neshanthtel': 2949, 'BYATCH': 1206, 'WHASSUP': 4201, 'Kay': 2482, 'Roger': 3419, 'CL': 1375, 'nasty': 8331, 'filthyguys': 6532, 'slo': 9811, 'SLO4msgs': 3491, 'Wasted': 4261, 'chiong': 5478, 'Jesus': 2432, 'christ': 5490, 'dialogue': 5985, 'cute': 5806, 'reltnship': 9283, 'Die': 1658, 'Body': 1276, 'Hands': 2171, 'Wipe': 4314, 'Tears': 3923, 'TimeGud': 3987, 'Solve': 3711, 'Case': 1444, 'Murdered': 2882, 'AfterNoon': 1019, '1His': 402, 'Police': 3240, '2Police': 498, 'questioned': 9126, '3Wife': 590, 'SirI': 3678, '4Cook': 648, 'cooking': 5690, '5Gardener': 703, 'vegetables': 10804, '6HouseMaid': 759, '7Children': 791, '8Neighbour': 901, 'murderer': 8289, 'Immediately': 2345, 'Reason': 3377, 'Brilliant': 1309, 'Pose': 3249, 'comb': 5580, 'dryer': 6169, 'fps': 6666, 'computational': 5623, 'science': 9542, 'push': 9107, 'answered': 4672, 'Lk': 2628, 'Madamregret': 2763, 'disturbancemight': 6058, 'DLF': 1585, 'Premaricakindly': 3262, 'informedRgdsRakheshKerala': 7334, 'gotto': 6888, '08702840625': 86, 'comuk220cm2': 5627, 'settle': 9634, 'Err': 1782, 'Cud': 1548, '8pm': 907, 'bloo': 5067, 'kbut': 7560, 'hitteranyway': 7113, 'offline': 8528, 'anjolas': 4657, 'IThis': 2327, 'WWWASJESUSCOM': 4238, 'wrote': 11162, 'Indians': 2357, 'Says': 3592, 'swiss': 10236, 'directors': 6032, 'lac': 7645, 'crore': 5767, 'deposited': 5946, 'taxless': 10292, 'budget': 5196, 'jobs': 7492, 'lane': 7667, 'Forever': 1922, 'suply': 10191, 'projects': 9057, 'citizen': 5498, 'monthly': 8220, 'Bank': 1222, 'IMF': 2300, 'blocked': 5061, 'politicians': 8892, 'rights': 9393, 'corrupt': 5707, 'Itna': 2379, 'karo': 7557, 'pura': 9101, 'INDIA': 2306, 'padhegm': 8664, 'Uncle': 4101, 'torrents': 10548, 'particularly': 8711, 'slowing': 9817, 'honey': 7143, 'Btw': 1321, 'commit': 5598, 'random': 9161, '83370': 841, 'wwwmusictrivianet': 11204, 'Rightio': 3409, '1148': 321, 'bright': 5156, 'brum': 5185, 'donno': 6102, 'scorable': 9544, 'paranoid': 8694, 'brin': 5161, 'Mayb': 2793, 'properly': 9071, 'sheet': 9665, 'Kgive': 2492, 'complain': 5608, 'onlybettr': 8565, 'bsnl': 5188, 'offc': 8512, 'payed': 8741, 'Suganya': 3795, 'Left': 2607, 'dessert': 5962, 'Abeg': 996, 'sponsors': 9975, 'Onum': 3068, 'ela': 6249, 'Normal': 2999, 'candont': 5297, 'Rose': 3422, 'poet': 8885, 'imaginationMy': 7285, 'frndship': 6705, 'carso': 5341, 'rr': 9446, 'famamus': 6448, 'pongaldo': 8901, 'sry': 9996, 'furniture': 6741, 'lock': 7830, 'locks': 7831, 'key': 7572, 'jenne': 7479, 'easiest': 6208, 'barcelona': 4902, 'ru': 9449, 'Sppok': 3746, '09066612661': 269, 'complementary': 5611, 'WA14': 4180, '2PX': 497, 'Sender': 3611, 'Hol': 2242, 'Kdo': 2483, 'daurgent': 5859, 'Pansy': 3172, 'Youve': 4427, 'jungle': 7529, 'kanji': 7549, 'SOON': 3505, 'drinkpa': 6146, 'srs': 9993, 'drizzling': 6152, 'appointments': 4718, 'shoving': 9710, 'Concentrate': 1509, 'papers': 8687, 'Greetings': 2081, 'Consider': 1513, 'excused': 6381, 'drama': 6126, 'Plsi': 3226, 'struggling': 10108, 'strange': 10088, 'placeNo': 8840, 'ego': 6243, 'INVITED': 2317, 'necessity': 8353, 'gowait': 6891, 'reppurcussions': 9322, 'released': 9278, 'cosign': 5710, 'hvae': 7242, '09061701444': 218, '24': 449, 'ACL03530150PM': 937, 'HCL': 2115, 'requires': 9330, 'FRESHERS': 1865, 'processExcellent': 9042, 'neededSalary': 8360, 'MsSuman': 2872, 'Telephonic': 3927, 'Indyarockscom': 2358, 'Dai': 1614, 'resume': 9368, 'datoday': 5857, 'Ola': 3059, 'US': 4082, 'cars': 5340, 'bids': 5014, 'Invest': 2370, 'restUWud': 9356, 'reliant': 9279, 'Fwiw': 1954, 'afford': 4539, 'happens': 7005, 'kanowhr': 7553, 'maga': 7957, 'sq825': 9989, 'arrival': 4764, 'Yunny': 4432, 'citylink': 5500, 'Er': 1780, 'yep': 11259, 'Props': 3278, 'pleasant': 8862, 'statements': 10031, '6230': 733, 'digital': 6014, '83383': 842, 'POBOX11414TCRW1': 3127, 'Bognor': 1277, 'splendid': 9966, 'Yesim': 4415, 'ktv': 7635, 'Misplaced': 2824, 'Wondering': 4325, 'atlanta': 4803, 'computers': 5626, 'Mmmmm': 2833, 'medicine': 8062, 'begun': 4974, 'registration': 9267, 'permanent': 8776, 'residency': 9340, 'plenty': 8867, 'claire': 5504, 'relatives': 9275, 'deliver': 5928, 'risks': 9406, 'benefits': 4994, 'amount': 4636, 'Hmmmhow': 2232, 'predicting': 8975, 'accumulation': 4482, 'Package': 3167, 'programs': 9054, 'belongs': 4986, 'Pray': 3258, 'herwho': 7082, 'fated': 6470, 'Shoranur': 3656, 'incident': 7309, 'fuelled': 6724, 'concern': 5632, 'prior': 9020, 'grief': 6924, 'VIOLENCE': 4140, 'WOMEN': 4218, 'Company': 1505, 'goodenvironment': 6870, 'terrific': 10338, 'Text82228': 3941, 'logos': 7841, 'wwwtxt82228com': 11221, 'Questions': 3302, 'infotxt82228couk': 7335, 'Honestly': 2252, 'promptly': 9065, 'burnt': 5217, 'advice': 4529, 'FreeMSG': 1933, 'mini': 8144, 'DIGITAL': 1581, 'SNAP': 3496, 'quizclub': 9136, 'Opt': 3076, '80122300pwk': 810, 'SPRWM': 3524, 'Ph08704050406': 3201, 'GMW': 1983, 'connected': 5652, 'someplace': 9879, 'goods': 6877, 'pressies': 8995, 'Dr': 1699, 'superior': 10189, 'Ultimately': 4096, 'tor': 10546, 'motive': 8235, 'tui': 10633, 'achieve': 4485, 'korli': 7630, 'we‘ll': 11009, 'dock': 6072, 'rolled': 9424, 'newscaster': 8389, 'dabbles': 5817, 'flute': 6602, 'behind': 4977, 'wheel': 11014, 'polypH': 8896, 'bx420': 5237, 'ip4': 7394, '5we': 721, 'amazing': 4625, 'PICSFREE1': 3115, 'vid': 10823, 'keyword': 7575, 'ruin': 9454, 'Erm': 1781, 'the4th': 10374, 'october': 8509, '83435': 843, 'elaborating': 6251, 'safety': 9479, 'aspects': 4788, 'issues': 7420, 'TAROT': 3831, 'TEXTS': 3851, 'CHANCE': 1362, '85555': 860, 'department': 5942, 'oursso': 8619, 'youany': 11279, 'hr': 7189, 'conform': 5647, 'horniest': 7162, 'follow': 6612, 'instructions': 7362, 'ENTRY': 1725, 'NytEC2A3LPmsg150p': 3017, 'flow': 6596, 'developed': 5972, 'ovarian': 8636, 'cysts': 5813, 'Bc': 1227, 'shrink': 9720, 'onit': 8561, 'upping': 10736, 'grams': 6900, 'timin': 10462, 'That‘s': 3952, 'apes': 4698, 'death': 5892, 'ibm': 7253, 'hp': 7187, 'toshiba': 10552, 'Gosh': 2069, 'Spose': 3745, 'usualiam': 10769, 'rimac': 9395, 'arestaurant': 4741, 'squid': 9992, '1030': 304, 'dosomething': 6112, 'UCALL': 4059, 'WEN': 4196, 'FINISH': 1842, 'WRKI': 4233, 'FANCY': 1825, 'MEETIN': 2697, 'WIV': 4212, 'TONITE': 3885, 'BREAK': 1189, 'DABOOKS': 1560, 'HRS': 2151, 'LAST': 2537, 'NITE2': 2912, 'WRK': 4232, 'EACHOTHER': 1712, 'MEET': 2696, 'HOUSE': 2146, 'Luckily': 2663, 'starring': 10017, 'madam': 7950, 'restocked': 9360, 'Knock': 2520, 'wwwtklscom': 11218, 'stoptxtstop£150week': 10078, 'innocent': 7347, 'mental': 8091, 'smoothly': 9842, 'hoped': 7155, 'bills': 5022, 'challenging': 5388, '2marrow': 517, 'hon': 7140, 'pple700': 8952, '900': 910, 'nightsExcellent': 8404, 'breakfast': 5143, 'hamper': 6984, 'cc100pmin': 5367, 'reality': 9199, 'daal': 5815, 'POLYS': 3142, '0870737910216yrs': 91, '£150wk': 11343, 'Unni': 4110, 'rechargeRakhesh': 9230, 'lacking': 7646, 'particular': 8710, 'dramastorms': 6127, 'forfeit': 6636, 'treated': 10596, 'urself': 10751, 'digi': 6013, '9pm': 930, 'fab': 6420, 'coupla': 5728, 'wks': 11090, '077xxx': 35, '09066362206': 258, 'CAL': 1338, 'SIR': 3480, 'sundayish': 10179, 'prasad': 8967, 'Tiwary': 3991, 'rcbbattle': 9176, 'bang': 4894, 'kochi': 7624, 'cancer': 5296, 'Moms': 2851, 'checkup': 5430, 'aka': 4582, 'pap': 8684, 'smear': 9828, 'gobi': 6847, 'arts': 4770, 'Pandy': 3171, '4w': 681, 'technologies': 10313, 'todayhe': 10495, 'Em': 1769, 'olowoyey': 8552, 'uscedu': 10757, 'argentina': 4743, 'secretary': 9572, 'taxt': 10293, 'massagetiepos': 8015, 'argh': 4744, 'Lool': 2644, 'dollar': 6096, 'pull': 9092, 'spending': 9956, 'taylors': 10295, 'shaking': 9653, 'booty': 5099, 'timeslil': 10459, 'busyi': 5226, 'sarcasm': 9504, 'scarcasim': 9533, 'naal': 8310, 'eruku': 6321, 'chikkuwat': 5464, 'W4': 4178, '5WQ': 711, 'remains': 9286, 'bro': 5167, 'amongst': 4634, 'bros': 5172, 'impressively': 7302, 'sensible': 9614, 'Whens': 4296, 'PARK': 3096, '69696': 747, 'Nyt': 3016, '3lp': 596, '£150msg': 11337, 'response': 9351, 'alsoor': 4618, 'danalla': 5829, 'obedient': 8496, 'ft': 6718, 'combination': 5581, 'needy': 8364, 'pouts': 8947, 'stomps': 10068, 'northampton': 8442, 'abj': 4450, 'serving': 9630, 'playng': 8860, '1McFlyAll': 405, 'Ab': 994, 'Sara': 3582, 'JorgeShock': 2447, 'SmithSwitch': 3704, 'anna': 4658, 'nagar': 8313, 'Chasing': 1461, 'Yupz': 4434, 'modelsony': 8195, 'ericson': 6315, 'der': 5950, 'luks': 7919, 'modl': 8196, 'cheesy': 5435, 'frosty': 6714, 'witin': 11079, 'sports': 9980, 'fans': 6457, 'PLUS': 3123, 'SPORT': 3522, '0870141701216': 80, '4txt120p': 676, 'Europe': 1791, '10th': 314, 'Sept': 3618, '09050000555': 183, 'BA128NNFWFLY150ppm': 1121, 'shirts': 9679, 'nudist': 8475, 'themed': 10379, 'YM': 4383, 'pump': 9095, 'petrol': 8790, '£12': 11330, 'Feb': 1891, 'VALUED': 4134, 'FRNDS': 1871, 'evn': 6365, 'ignore': 7276, 'Evr': 1804, 'signal': 9738, 'neither': 8371, 'unusual': 10726, 'Hugs': 2273, 'snogs': 9855, 'Omw': 3063, 'west': 11001, 'palm': 8676, 'printing': 9019, 'handing': 6988, 'fastest': 6467, 'growing': 6936, 'optout': 8592, '83021': 832, 'chase': 5414, 'stated': 10029, 'Reaction': 3370, 'DOUBLE': 1598, 'tariffs': 10282, '2stoptxt': 535, 'perpetual': 8779, 'DD': 1572, 'steam': 10044, 'reg': 9261, 'pract': 8957, 'Flung': 1913, 'HouseMaid': 2266, 'murdered': 8288, 'public': 9088, 'govtinstituitions': 6890, 'closedincluding': 5531, 'officeunderstand': 8524, 'Juz': 2457, 'process': 9041, 'justbeen': 7532, 'overa': 8637, 'broke': 5169, 'brains': 5134, 'mush': 8291, 'Tunde': 4041, 'missions': 8168, 'luxury': 7929, 'Canary': 1431, 'Islands': 2375, '20M12AQ': 435, '“': 11384, 'Lux': 2669, '28': 469, 'EH74RR': 1716, 'Next': 2960, 'sleepy': 9801, 'dare': 5840, 'ben': 4990, 'mag': 7956, 'avo': 4847, 'middle': 8123, 'crashed': 5746, 'cuddled': 5783, 'Chachi': 1455, 'Pl': 3217, 'tiz': 10477, 'Kanagu': 2477, 'prices': 9008, 'ringing': 9397, 'houseful': 7178, 'brats': 5138, 'pulling': 9093, 'diwali': 6063, 'Tick': 3981, 'tick': 10443, 'nowonion': 8468, 'prepare': 8983, 'Sat': 3586, 'Derp': 1646, 'abusers': 4460, 'lipo': 7799, 'Watch': 4263, 'easter': 6211, 'netflix': 8375, 'Thgt': 3963, 'clash': 5508, 'ARR': 976, 'oscar': 8611, 'Open': 3074, 'rebtel': 9214, 'firefox': 6555, 'lower': 7900, 'pin': 8830, 'Married': 2784, 'action': 4494, 'MATCH': 2691, '69969': 755, 'BCMSFWC1N3XX': 1146, 'impressed': 7300, 'funs': 6740, 'Burger': 1326, 'footy': 6629, 'stadium': 10000, 'Large': 2594, 'CocaCola': 1491, 'dark': 5841, 'teenager': 10314, 'teluguthts': 10327, 'gudk': 6948, 'Took': 4009, 'Centre': 1453, 'exhaust': 6387, 'replacing': 9315, 'Mittelschmertz': 2829, 'paracetamol': 8689, 'salespee': 9488, 'arrived': 4766, 'cThen': 5244, 'enuff': 6309, 'conclusion': 5634, 'contents': 5671, 'pg': 8791, 'references': 9251, 'cover': 5735, 'atyour': 4820, 'success': 10148, 'U’ve': 4131, 'Bin': 1254, 'Awarded': 1111, '£50': 11360, 'Instant': 2365, '08715203028': 132, 'EVERY': 1735, '9th': 932, 'Player': 3221, 'Wins': 4313, 'Min': 2817, '£50£500': 11365, 'rugby': 9453, 'affidavit': 4538, 'Twiggs': 4045, 'division': 6061, 'courtroom': 5733, 'creep': 5759, 'FreeMsgFAV': 1935, 'TONESReply': 3882, 'Lil': 2617, 'Thinkin': 3967, 'showers': 9715, 'possessiveness': 8926, 'poured': 8945, 'lies': 7759, 'golden': 6860, 'lasting': 7682, 'Genius': 2034, 'mobs': 8190, '2u': 536, 'BREATHE1': 1191, 'CRAZYIN': 1398, 'SLEEPINGWITH': 3488, 'FINEST': 1841, 'YMCA': 4384, 'getzedcouk': 6809, 'POBox365O4W45WQ': 3133, 'wtc': 11165, 'Weiyi': 4278, 'property': 9072, 'INTERFLORA': 2315, '\\x93Its': 11321, 'Interflora': 2367, 'flowers': 6598, '505060': 688, 'godtaken': 6852, 'teethis': 10317, 'paining': 8672, 'ROMCAPspam': 3344, 'Everyone': 1800, 'presence': 8990, 'outgoing': 8626, 'sian': 9729, 'maggi': 7959, 'mee': 8064, '08712103738': 103, 'cough': 5718, 'Com': 1500, 'EURO2004': 1730, 'CUP': 1407, 'FINAL': 1838, '09058099801': 211, 'b4190604': 4864, '7876150ppm': 789, 'BBDpooja': 1140, 'pimpleseven': 8829, 'blackand': 5042, 'sweatter': 10227, 'Nicenicehow': 2964, 'quick': 9129, 'ambitious': 4626, 'miiiiiiissssssssss': 8127, 'Tunji': 4042, 'queen': 9124, 'iZ': 7251, 'Yellow': 4405, 'misscall': 8163, 'frndZ': 6703, '6missed': 766, 'Freemessage': 1938, 'JamsterGet': 2415, 'frog': 6710, 'MAD1': 2679, 'MAD2': 2680, '88888': 888, 'GBPweek': 1968, 'REALITY': 3318, 'FANTASY': 1828, 'SHOW': 3472, 'wipro': 11063, 'tall': 10273, 'doubt': 6117, 'handle': 6989, 'note': 8446, 'robs': 9416, 'Avenge': 1110, 'Japanese': 2419, 'Proverb': 3279, 'none': 8432, 'itU': 7422, 'LET': 2544, 'itLEAVE': 7421, 'Kerala': 2489, 'strike': 10100, 'choices': 5482, 'toss': 10553, 'coin': 5560, 'Gudni8': 2088, 'Adult': 1014, 'dancin': 5832, 'explicitly': 6405, 'nora': 8435, 'Smith': 3703, 'gayle': 6778, 'Woke': 4323, 'Crucify': 1540, 'moved': 8242, 'butting': 5228, 'freedom': 6676, 'vs': 10872, 'cedar': 5370, 'twenty': 10648, 'durham': 6189, 'reserved': 9337, 'seat': 9566, 'PORN': 3144, '69855': 749, '24Hrs': 453, '50p': 689, 'STOPBCM': 3538, 'SF': 3464, 'painting': 8674, 'wall': 10899, 'Printer': 3270, 'groovy': 6930, 'groovying': 6931, 'Harishs': 2180, 'transfred': 10584, 'Acnt': 1006, 'Cbe': 1450, 'nowadayslot': 8464, 'showroomscity': 9717, 'shaping': 9658, 'attending': 4814, 'talks': 10272, 'probs': 9040, 'doinat': 6090, 'callon': 5278, 'low': 7899, 'bought': 5114, 'rons': 9428, 'swatch': 10223, 'Kkyesterday': 2519, 'ganesh': 6761, 'dress': 6140, 'pdateNow': 8748, 'call2optoutYHL': 5266, 'collecting': 5570, 'configure': 5642, 'trips': 10606, 'i’m': 7448, 'orange': 8596, 'isn’t': 7418, 'WISH': 4209, 'CANT': 1346, 'WAIT': 4181, 'WANT': 4186, 'ANAL': 964, 'SEX': 3462, 'GANG': 1961, 'BANG': 1133, 'pears': 8752, 'Helloooo': 2202, 'Wake': 4248, 'welcomes': 10987, 'GUD': 2014, 'MRNG': 2743, 'summer': 10173, 'celebrate': 5374, 'white': 11026, 'Oooooh': 3071, '09058094454': 198, 'thatnow': 10370, 'Kindly': 2500, 'MOB': 2727, '54': 699, 'resubmit': 9365, 'expiry': 6402, 'THEMOB': 3862, 'we\\x92ve': 11008, '2geva': 512, 'mint': 8151, 'uxxxx': 10780, 'simply': 9753, 'gods': 6851, 'humans': 7218, 'studyn': 10119, 'wuld': 11171, 'everyboy': 6355, 'xxxxxxxx': 11241, 'Test': 3939, 'solved': 9872, 'CAT': 1352, '532': 698, '924': 913, '863': 863, '725': 774, 'brilliant1thingi': 5159, 'answr': 4676, 'liquor': 7801, 'flaked': 6573, 'loko': 7843, '730': 777, 'lined': 7786, 'tm': 10481, 'MINE': 2710, 'laughs': 7695, 'fireplace': 6556, 'icon': 7261, '08712400200': 108, 'fifth': 6515, 'woozles': 11113, 'weasels': 10955, 'exeter': 6386, '08718723815': 153, 'Gary': 2025, 'machines': 7944, 'fucks': 6723, 'sake': 9483, 'ignorant': 7275, 'mys': 8305, 'bruce': 5184, 'downs': 6123, 'fletcher': 6581, '27603': 468, '08714714011': 130, 'teaching': 10303, 'bowls': 5120, 'cozy': 5739, 'nightnobody': 8402, 'Everything': 1801, 'Buzzzz': 1331, 'Buzz': 1330, 'chest': 5444, 'vibrator': 10819, 'shake': 9652, 'covers': 5737, 'trends': 10602, 'pros': 9075, 'cons': 5655, 'Brief': 1307, 'description': 5954, 'nuclear': 8474, 'fusion': 6742, 'brief': 5155, 'history': 7109, 'iter': 7427, 'jet': 7483, 'NONENOWHERE': 2923, 'IKNO': 2292, 'DOESDISCOUNTSHITINNIT': 1587, 'jabo': 7450, 'abi': 4448, 'slower': 9816, 'maniac': 7991, 'hadya': 6971, 'sapna': 9501, 'manege': 7989, 'yday': 11252, 'hogidhechinnu': 7122, 'swalpa': 10220, 'agidhane': 4559, 'Mostly': 2864, 'typelyk': 10661, 'footblcrckt': 6626, 'swell': 10231, 'Sary': 3585, 'Tim': 3985, 'bollox': 5085, 'tol': 10504, 'hang': 6994, 'ingredients': 7341, 'pocy': 8883, 'bell': 4981, 'non': 8430, 'call2optout4QF2': 5259, 'Done': 1687, 'Tonight': 4008, 'senor': 9610, 'giggle': 6816, 'possibly': 8930, 'person2die': 8782, 'NVQ': 2932, 'professional': 9048, 'Tiger': 3983, 'Woods': 4329, 'reboot': 9212, 'grinder': 6925, 'POLYPHONIC': 3141, 'PT2': 3162, 'youkwhere': 11285, 'buyers': 5232, 'figuring': 6522, 'entirely': 6304, 'understood': 10693, 'bottom': 5113, 'knowhe': 7615, 'phoned': 8803, 'disconnected': 6045, 'onluy': 8564, 'matters': 8030, 'offcampus': 8513, 'Welcome': 4279, 'improved': 7304, 'msgs150p': 8258, 'rileys': 9394, 'Ew': 1807, 'wesley': 10999, 'howve': 7186, 'lingo': 7791, '12Mths': 336, 'Half': 2168, 'Price': 3268, '400minsCall': 608, 'call2optoutJ5Q': 5263, 'WITHOUT': 4211, 'meDont': 8047, 'lm': 7819, 'Goodnoon': 2065, 'Hm': 2227, 'HARDCORE': 2104, '69200': 745, 'hrs': 7190, 'chrgd50p': 5489, '2exit': 511, 'salon': 9490, 'approaching': 4722, 'Sankranti': 3578, 'republic': 9324, 'Shivratri': 3650, 'Ugadi': 4088, 'Fools': 1919, 'Independence': 2353, 'FriendshipMotherFatherTeachersChildrens': 1945, 'Ganesh': 2023, 'festival': 6505, 'Dasara': 1620, 'Diwali': 1674, 'Mornings': 2863, 'Afternoons': 1021, 'Evenings': 1795, 'Nights': 2970, 'RememberI': 3391, 'WISHING': 4210, 'THESEyours': 3864, 'Raj': 3357, 'joys': 7516, 'lifeis': 7764, 'daywith': 5873, 'thoughts': 10419, 'somewhereSomeone': 9890, 'tosend': 10551, 'greeting': 6922, 'selflessness': 9599, 'initiate': 7342, 'tallent': 10275, 'wasting': 10929, 'usc': 10756, 'payment': 8743, 'portal': 8917, 'explain': 6403, 'Dont4get2text': 1689, 'Jokin': 2440, 'lennon': 7734, 'bothering': 5111, 'crab': 5741, 'shoreThe': 9696, 'waves': 10943, 'footprints': 6628, 'Crab': 1532, 'clearing': 5519, 'Waves': 4269, 'fox': 6665, 'frndsship': 6707, 'dwn': 6194, 'Slaaaaave': 3690, 'summon': 10174, '£3365': 11353, 'changes': 5396, 'appendix': 4709, 'range': 9166, 'However': 2268, 'HM': 2131, 'Become': 1236, 'slob': 9812, 'smiled': 9834, 'Gudnite': 2089, 'topicsorry': 10542, 'Webpage': 4272, 'Yeesh': 4403, 'unsubscribed': 10725, 'hunks': 7225, 'httpgotbabescouk': 7196, 'subscriptions': 10144, 'Gopalettan': 2068, 'participate': 8709, 'admin': 4513, 'Kkfrom': 2509, 'abroad': 4453, 'xxSP': 11236, 'visionsmscom': 10846, 'stopCost': 10074, '08712400603': 109, 'agent': 4556, 'goodies': 6872, 'MAT': 2690, 'Ay': 1115, 'satü': 9516, 'Apart': 1072, 'andros': 4651, 'steal': 10042, 'IsaiahD': 2374, 'Hoping': 2258, 'meets': 8070, 'foot': 6624, 'penis': 8762, 'expert': 6399, 'sigh': 9734, 'Ssi': 3753, 'thinl': 10406, 'sachinjust': 9472, 'Others': 3087, 'Bye': 1334, 'importantly': 7295, 'Holding': 2245, 'tightly': 10448, 'Wnevr': 4322, 'fal': 6441, 'vth': 10873, 'books': 5096, 'fals': 6447, 'Yen': 4407, 'madodu': 7952, 'nav': 8341, 'pretsorginta': 8999, 'nammanna': 8323, 'pretsovru': 9000, 'alwa': 4622, 'eveB': 6343, 'window': 11052, 'LORD': 2567, 'RINGSRETURN': 3340, 'KING': 2465, 'NOWREPLY': 2926, 'LOTR': 2570, 'soundtrack': 9921, 'StdTxtRate': 3766, 'homelove': 7138, 'staffsciencenusedusgphyhcmkteachingpc1323': 10002, 'emigrated': 6271, 'hopeful': 7156, 'Olol': 3061, 'Hopefully': 2257, 'stagwood': 10004, 'winterstone': 11062, 'victors': 10822, 'hill': 7099, 'Address': 1011, 'jp': 7517, 'mofo': 8199, 'Pathaya': 3181, 'enketa': 6294, 'maraikara': 7998, 'priest': 9011, 'reserves': 9338, 'intrude': 7380, 'hun': 7219, 'walkabout': 10894, 'cashed': 5347, 'announced': 4662, 'blog': 5062, '28th': 473, '06': 18, 'removal': 9296, '08708034412': 96, 'Short': 3657, 'Cute': 1555, 'prove': 9078, 'footie': 6627, 'blow': 5072, 'Phil': 3203, 'Neville': 2955, 'Abbey': 995, 'returning': 9375, 'knowing': 7616, 'roger': 9421, 'Small': 3698, 'auctionpunj': 4822, 'tiwary': 10475, 'str8': 10085, 'Classic': 1484, 'Polys': 3245, 'Nokia150p': 2990, 'Poly200p': 3243, 'fuckin': 6721, 'thurs': 10439, 'pre': 8972, 'cancelled': 5295, 'sacked': 9474, 'LookAtMe': 2641, 'clip': 5525, '35p': 568, 'MMSto': 2724, '32323': 562, 'barred': 4907, 'stores': 10081, 'lifeThis': 7761, 'twat': 10646, 'dungerees': 6185, 'decking': 5903, 'punch': 9096, 'mentionned': 8094, 'chinese': 5476, 'porn': 8914, 'RECD': 3323, 'MSGS': 2746, '150P': 354, 'INC': 2303, 'VAT': 4135, 'CANCEL': 1345, 'planned': 8849, 'onlydon': 8566, 'Grl': 2082, 'Hogolo': 2241, 'kodstini': 7625, 'Agalla': 1023, 'madstini': 7954, 'agalla': 4550, 'Hogli': 2240, 'mutai': 8298, 'eerulli': 6232, 'kodthini': 7626, 'kano': 7550, 'THASA': 3856, 'MESSED': 2704, 'UPYEH': 4073, 'SHUDVETOLD': 3474, 'URGRAN': 4079, 'KNOWNEWAY': 2470, 'ILLSPEAK': 2297, 'U2MORO': 4056, 'ASLEEP': 979, 'CHEERS': 1370, 'TEX': 3845, 'MECAUSE': 2695, 'WEREBORED': 4199, 'YEAH': 4369, 'OKDEN': 3026, 'HUNNY': 2156, 'UIN': 4060, 'SATSOUND\\x92S': 3441, 'LIKEYOUR': 2550, 'HAVIN': 2114, 'GR8FUN': 2007, 'UPDAT': 4071, 'COUNTINLOTS': 1395, 'XXXXX': 4359, 'rang': 9165, 'L': 2527, 'tagged': 10258, 'count': 5724, 'BETTER': 1155, 'CAUSE': 1354, 'FEEL': 1830, 'USED': 4083, 'OTHERWISE': 3037, 'challenge': 5387, 'hdd': 7030, 'casing': 5350, 'opened': 8571, 'Isnt': 2376, 'describe': 5953, '09053750005': 193, '310303': 557, '08718725756': 154, '140ppm': 349, 'asus': 4800, 'randomly': 9163, 'reformat': 9256, 'Mah': 2765, 'otside': 8616, 'leu': 7747, 'plumbers': 8872, 'tape': 10281, 'wrench': 11152, 'httpwwwetlpcoukreward': 7202, 'bcum': 4937, 'films': 6530, 'appeal': 4707, 'thriller': 10426, 'director': 6031, '830': 831, 'size': 9779, 'elephant': 6258, 'shove': 9709, 'um': 10676, 'cr': 5740, 'pookie': 8904, 'MAYBE': 2694, 'WOKE': 4216, 'WOULDNT': 4229, 'PROBLEM': 3156, 'youdearwith': 11282, 'loverakhesh': 7891, 'NRI': 2928, '08712101358': 102, 'X2': 4347, 'It\\x92s': 2382, 'deserve': 5956, 'Sleep': 3691, 'tight': 10447, '88039SkilGmeTsCs087147403231WinawkAge16£150perWKsub': 878, 'lick': 7755, 'diddy': 5993, 'neighbor': 8369, 'toothpaste': 10538, 'av': 4835, 'oneta': 8559, 'poking': 8889, 'everyday': 6356, 'canada': 5291, 'deam': 5882, 'curious': 5794, 'def': 5912, 'coccooning': 5551, 'auto': 4833, 'mus': 8290, 'YEAHAND': 4370, 'HAV': 2109, 'GREAT': 2010, 'NEWQUAYSEND': 2904, 'POSTCARD': 3147, 'GONEU': 1989, '1IM': 403, 'TALKIN': 3828, 'BOUTxx': 1177, 'divorce': 6062, 'bread': 5140, 'windy': 11055, '09066358361': 256, 'Y87': 4368, 'mahal': 7964, 'knowthis': 7619, 'tirunelvai': 10470, 'dusk': 6190, 'solve': 9871, 'puzzles': 9115, 'X29': 4348, '450': 635, '09065989180': 252, 'stairs': 10005, 'phews': 8796, 'thangamits': 10358, 'redred': 9246, 'bloodblood': 5069, 'heartheart': 7048, '1u': 421, 'relation': 9273, '3u': 602, '4some1': 672, 'luvs': 7928, 'praying': 8970, 'Sup': 3805, 'recycling': 9243, 'People': 3187, 'earning': 6203, 'Toledo': 4001, 'Ron': 3421, 'ding': 6023, 'tai': 10260, 'feng': 6504, 'reservations': 9335, 'swimsuit': 10234, 'allowed': 4604, 'necessary': 8352, 'Frnd': 1946, 'watever': 10938, 'shared': 9660, 'accept': 4467, 'Squeeeeeze': 3750, 'hug': 7210, 'lik': 7773, 'frndshp': 6706, 'luvd': 7927, 'asks': 4786, 'themP': 10378, 'Funny': 1951, 'volcanoes': 10861, 'erupt': 6322, 'tsunamis': 10626, 'arise': 4749, 'hurricanes': 7231, 'sway': 10224, 'aroundn': 4760, 'disasters': 6041, 'lighters': 7771, '7pm': 800, 'Kkits': 2513, 'goodwhen': 6878, 'lasagna': 7679, 'vodka': 10858, 'KATE': 2462, 'drunk': 6164, 'chickened': 5453, 'messaged': 8108, 'woould': 11112, '08718726978': 159, 'city': 5499, 'drove': 6158, 'shore': 9695, 'takin': 10266, 'deus': 5970, '44': 625, '7732584351': 786, '3510i': 567, 'DeliveredTomorrow': 1641, '300': 545, 'tap': 10280, 'spile': 9960, 'broad': 5168, 'canal': 5292, 'engin': 6288, 'onedge': 8557, 'Raviyog': 3367, 'Peripherals': 3190, 'bhayandar': 5010, 'east': 6210, 'sunoco': 10182, 'howard': 7182, 'MOON': 2735, 'STARS': 3531, 'musical': 8294, 'Peaceful': 3185, 'plate': 8852, 'leftovers': 7723, 'Hang': 2173, 'Food': 1918, 'starving': 10027, 'cooked': 5688, 'Everyday': 1799, 'cheat': 5423, 'fatty': 6474, 'Badrith': 1215, 'chennaii': 5439, 'usno': 10766, 'owe': 8646, 'NIC': 2907, 'CHECKIN': 1367, 'NUMBERSO': 2931, 'ITTB': 2325, 'block': 5060, 'armenia': 4755, 'swann': 10221, '09058097189': 208, '09061221066': 217, 'fromm': 6711, '330': 565, '1120': 316, '1205': 329, 'smoking': 9841, 'wylie': 11224, 'justify': 7533, 'ruining': 9455, 'Meds': 2798, 'hunt': 7229, 'in2': 7305, '5226': 693, 'hava': 7025, '1131': 318, 'RCT': 3313, 'THNQ': 3868, 'Adrian': 1013, 'Rgds': 3406, 'Vatian': 4152, 'everyones': 6358, 'babysitting': 4873, 'Monday': 2853, 'Itll': 2378, 'GONNAMISSU': 1991, 'MUCHI': 2750, 'WOULD': 4228, 'SEND': 3456, 'BUTTHERES': 1204, 'ABOUTAS': 934, 'MEREMEMBERIN': 2701, 'ASTHERE': 980, 'OFSI': 3021, 'BREAKIN': 1190, 'CONTRACT': 1391, 'Yaxx': 4397, 'Ee': 1758, 'poortiyagi': 8909, 'odalebeku': 8510, 'Hanumanji': 2175, '1Hanuman': 401, '2Bajarangabali': 479, '3Maruti': 583, '4Pavanaputra': 654, '5Sankatmochan': 707, '6Ramaduth': 760, '7Mahaveer': 792, 'ee': 6230, 'janarige': 7461, 'ivatte': 7440, 'kalisidare': 7544, 'olage': 8547, 'ondu': 8555, 'keluviri': 7567, 'Maretare': 2780, 'inde': 7318, 'dodda': 6077, 'problum': 9039, 'nalli': 8318, 'siguviri': 9743, 'idu': 7271, 'matra': 8026, 'neglet': 8368, 'NUMBER': 2930, 'Set': 3623, 'easily': 6209, 'forgets': 6638, 'bishan': 5034, 'TROUBLE': 3894, 'IJUST': 2290, 'TALKED': 3827, 'MORNING': 2737, 'Hyde': 2280, 'opps': 8586, 'tts': 10628, 'gei': 6787, 'tron': 10609, 'dl': 6064, 'selfish': 9598, 'spiffing': 9959, 'workage': 11123, 'craving': 5749, 'Fml': 1914, 'supose': 10192, 'muchi': 8272, 'babysit': 4872, 'therexx': 10389, 'spaces': 9930, 'embassy': 6268, 'Dat': 1621, 'lightly': 7772, 'custom': 5801, 'checkboxes': 5427, 'hardcore': 7012, 'Sac': 3568, 'hundredhe': 7221, 'batsman': 4925, 'yettys': 11265, 'Per': 3188, 'theory': 10382, 'jiayin': 7487, '09050000928': 185, 'PoBox45W2TG150P': 3235, 'GAS': 1962, 'STATION': 3533, 'forgotten': 6643, 'Reverse': 3405, 'cheating': 5424, 'mathematics': 8024, 'Ure': 4121, 'Caught': 1448, '2waxsto': 538, 'basic': 4913, 'emailed': 6264, 'yifeng': 11268, 'theyll': 10393, 'slurp': 9819, 'Minimum': 2820, '3miles': 597, 'ing': 7340, 'tuesday': 10632, 'Brainless': 1300, 'DollD': 1684, 'vehicle': 10806, 'sariyag': 9506, 'madoke': 7953, 'barolla': 4906, '07090201529': 23, 'postponed': 8937, 'stocked': 10065, 'elaine': 6252, 'tiime': 10451, 'tears': 10308, 'fml': 6607, 'afternon': 4545, 'interviews': 7376, 'Wun': 4344, 'resizing': 9341, 'STAR': 3530, '09066364349': 262, 'Box434SK38WP150PPM18': 1296, 'opposed': 8584, 'drunken': 6166, 'MSGWe': 2747, 'billed': 5020, 'shortcode': 9699, '83332Please': 838, '08081263000': 63, 'refundedThis': 9259, 'somerset': 9880, 'Bit': 1259, 'overtime': 8641, 'nigpun': 8407, 'dismissial': 6053, 'screwd': 9557, '08712402972': 114, 'Bull': 1325, 'floating': 6591, 'IKEA': 2291, 'mess': 8105, '09058095201': 207, 'Heehee': 2194, 'arithmetic': 4751, 'percentages': 8767, 'wouldnt': 11147, 'Amazing': 1058, 'Quote': 3307, 'tear': 10307, 'chillaxin': 5472, 'DAS': 1565, 'COOL': 1393, 'IKNOW': 2293, 'WELLDA': 4195, 'PERIL': 3105, 'STUDENTFINANCIAL': 3545, 'CRISISSPK': 1400, 'L8R': 2529, 'monster': 8218, 'ths': 10435, 'Tis': 3989, 'IAS': 2281, 'obey': 8498, 'resend': 9333, 'Uhhhhrmm': 4091, 'mb': 8041, 'gbpsms': 6781, '600': 725, '400': 607, 'Inclusive': 2349, 'delTOMORROW': 5922, '09066368470': 265, '24M': 454, 'Freemsg': 1939, '1month': 414, 'SmartCall': 3699, '68866': 743, 'Subscriptn3gbpwk': 3793, '08448714184': 68, 'Stoptxt': 3774, 'landlineonly': 7664, 'mths': 8267, 'cameravideo': 5287, '£s': 11376, 'textsweekend': 10353, 'callback': 5267, 'orno': 8607, 'fink': 6551, '09099726553': 287, 'promised': 9062, 'CARLIE': 1350, 'Calls£1minMobsmore': 1424, 'LKPOBOX177HP51FL': 2557, 'youPhone': 11277, 'atHome': 4801, 'youwanna': 11298, 'jack': 7451, 'sayask': 9524, 'helpful': 7067, 'pretend': 8998, 'hypotheticalhuagauahahuagahyuhagga': 7248, 'brainy': 5135, 'NEVER': 2902, 'STUDY': 3546, 'occasion': 8503, 'Celebrated': 1451, 'Reflection': 3386, 'Values': 4151, 'Desires': 1648, 'Affectionsamp': 1017, 'Traditions': 4016, 'Sending': 3613, 'greetings': 6923, 'cantdo': 5303, 'anythingtomorrow': 4691, 'myparents': 8304, 'aretaking': 4742, 'outfor': 8625, 'Katexxx': 2480, 'level': 7748, 'gate': 6772, 'Charles': 1459, 'uh': 10670, '89105': 892, 'Extra': 1820, 'ts': 10624, 'cs': 5776, 'wedding': 10965, 'lingerie': 7790, 'wwwbridalpetticoatdreamscouk': 11190, 'superb': 10188, 'Brought': 1316, 'WeddingFriend': 4274, 'board': 5079, 'overheating': 8640, 'reslove': 9342, 'inst': 7356, 'pending': 8760, '8o': 906, 'Mon': 2852, 'western': 11002, 'Sitting': 3682, 'outta': 8635, 'Nowadays': 3007, 'notixiquating': 8455, 'laxinorficated': 7701, 'bambling': 4891, 'entropication': 6307, 'oblisingately': 8500, 'opted': 8588, 'masteriastering': 8017, 'amplikater': 4638, 'fidalfication': 6511, 'champlaxigating': 5390, 'atrocious': 4806, 'Wotz': 4337, 'Opinion': 3075, 'Junna': 2455, 'knickers': 7612, '01223585236': 4, 'Nikiyu4net': 2971, 'accident': 4471, 'a30': 4442, 'divert': 6060, 'wadebridgeI': 10880, 'brilliant': 5158, 'vill': 10836, 'orc': 8597, 'Bloomberg': 1270, '447797706009': 627, 'Apply': 1076, 'httpcareers': 7194, 'bloombergcom': 5071, 'seeking': 9584, 'priscillas': 9022, 'january': 7463, 'dayexcept': 5865, 'wisdom': 11065, 'Eyes': 1822, 'Alwys': 1056, 'Touch': 4012, 'Inform': 2361, 'yetunde': 11266, 'Wherres': 4300, 'phone750': 8801, 'resolution': 9343, 'replyBe': 9319, 'frankgood': 6669, 'logoff': 7839, 'parkin': 8706, 'kent': 7568, 'vale': 10786, 'cannt': 5301, 'asa': 4773, '09050000878': 184, 'Wan2': 4251, 'MeetGreet': 2800, 'Westlife': 4285, '1Unbreakable': 408, '2Untamed': 502, '3Unkempt': 589, '83049': 834, 'prince': 9013, 'charming': 5411, 'mention': 8092, 'served': 9626, 'arnt': 4758, 'xxxxxxxxxxxxxX': 11242, 'Dorothykiefercom': 1693, 'Granite': 2076, 'StrongBuy': 3780, 'EXPLOSIVE': 1745, 'MEMBERS': 2700, 'Nasdaq': 2939, 'Symbol': 3818, 'CDGT': 1357, 'alle': 4602, 'moneeppolum': 8211, 'oru': 8610, 'allalo': 4600, 'fundamentals': 6735, 'Walk': 4249, 'carewhoever': 5330, '101mega': 303, 'pixels': 8837, '3optical': 599, '5digital': 712, 'dooms': 6107, 'Peteynoi\\x92m': 3198, 'timehope': 10457, 'alritehave': 4616, 'js': 7518, 'amx': 4642, 'burgundy': 5212, 'captaining': 5312, 'base': 4911, 'Staff': 3757, 'placement': 8842, 'Amrita': 1063, 'profile': 9050, 'bpo': 5131, 'didn‘t': 5997, 'nighters': 8400, 'persevered': 8780, 'regretted': 9269, 'Hanging': 2174, 'wasn\\x92t': 10925, 'spouse': 9983, 'pmt': 8878, 'sumthin': 10175, '4give': 665, 'shldxxxx': 9686, 'thatd': 10366, 'scenario': 9536, 'SPUNOUT': 3527, 'DEAD': 1573, 'WRLD': 4235, 'SLEEPING': 3487, 'SOFA': 3498, 'NYTHO': 2933, 'TX': 3902, 'FONIN': 1851, 'HON': 2137, '2MWEN': 494, 'BK': 1164, 'FRMCLOUD': 1869, 'Guaranteed': 2086, '09071517866': 274, '150ppmPOBox10183BhamB64XE': 371, 'Eve': 1792, '10am': 307, 'Thurs': 3977, 'Tyler': 4054, 'pounded': 8943, 'Lion': 2622, 'devouring': 5975, 'inform': 7331, 'Airtel': 1032, 'Broadband': 1314, 'processed': 9043, 'installation': 7358, 'tensed': 10334, 'coughing': 5719, 'warned': 10918, 'Sprint': 3748, 'prolly': 9058, 'TH': 3852, 'GOWER': 2006, 'MATE': 2693, 'ILL': 2296, '\\x91MORROW': 11318, '\\x96': 11322, 'RANDOM': 3311, 'Rock': 3415, 'chik': 5455, '100s': 300, 'filthy': 6531, 'FILTH': 1837, '69669': 746, 'Saristar': 3584, 'E14': 1711, '9YT': 924, '08701752560': 82, '450p': 637, 'Stop2': 3773, 'cancel': 5293, 'Din': 1661, '420': 618, '9061100010': 911, 'Wire3net': 4315, '1st4Terms': 418, 'PoBox84': 3237, 'MobcudB': 2839, 'alreadysabarish': 4612, 'Vijay': 4162, 'jaya': 7468, '09050000460': 182, 'J89': 2394, 'box245c2150pm': 5122, 'inpersonation': 7351, 'flea': 6580, 'forums': 6655, 'BANNEDUK': 1135, 'itlet': 7431, 'highest': 7097, '£54': 11366, 'maximum': 8036, '£71': 11370, 'BIDS': 1157, 'NYs': 2935, 'TAJ': 3823, 'MAHAL': 2682, 'symbol': 10243, 'lesser': 7740, 'known': 7617, 'facts': 6428, 'Mumtaz': 2880, 'Shahjahans': 3632, 'wifes': 11040, 'Shahjahan': 3631, 'Mumtazs': 2881, 'Question': 3301, 'arises': 4750, 'Hell': 2198, 'Hari': 2179, 'okcome': 8539, 'Collect': 1498, 'PARIS': 3094, 'Flight': 1911, 'Hotel': 2264, '69101': 744, 'wwwrtfsphostingcom': 11210, 'webadres': 10960, 'geting': 6803, 'Sends': 3614, 'Incredible': 2351, 'O2FWD': 3019, '18ptxt': 393, 'ship': 9675, 'maturity': 8032, 'EVENING': 1733, 'confirmed': 5646, 'passport': 8726, 'Multiply': 2878, 'independently': 7320, 'decimal': 5899, 'showed': 9712, 'twins': 10650, 'strt': 10106, 'LtdHelpDesk': 2660, '02085076972': 13, 'equally': 6314, 'uneventful': 10698, 'pesky': 8789, 'cyclists': 5812, 'wereare': 10997, 'nalla': 8317, 'adi': 4511, 'entey': 6302, 'nattil': 8334, 'kittum': 7606, 'KAVALAN': 2463, 'hire': 7107, 'hitman': 7111, 'Colour': 1499, 'Delivered': 1640, '200': 425, 'YOUVE': 4389, 'Winner': 4310, '09066660100': 271, '2309': 447, 'Cps': 1531, 'causing': 5363, 'outages': 8621, 'conserve': 5658, 'voted': 10866, 'epi': 6312, 'bare': 4903, 'bhaskar': 5009, 'dubsack': 6174, 'individual': 7324, 'gong': 6865, 'kaypoh': 7558, 'football': 6625, 'basketball': 4915, 'outdoors': 8623, 'macho': 7945, 'interfued': 7371, 'blank': 5047, 'listed': 7803, 'Alfie': 1044, 'CHARITY': 1364, 'nokias': 8427, 'apology': 4704, 'hustle': 7239, 'forth': 6652, 'audition': 4824, 'harlem': 7015, 'Goin': 2056, 'workout': 11126, 'fats': 6473, 'zac': 11311, 'SENT': 3458, 'tonights': 10524, 'Hui': 2275, 'xin': 11229, 'lib': 7753, 'difference': 6007, 'versus': 10814, 'edge': 6221, 'underdtand': 10690, 'LETS': 2545, '4GET': 650, 'ITBOTH': 2323, 'CHEER': 1368, 'UPNOT': 4072, 'FIT': 1844, 'SOO': 3504, 'MUCHXXLOVE': 2751, 'LOCAXX': 2560, '07090298926': 24, 'reschedule': 9331, 'Ref9307622': 3384, 'skateboarding': 9781, 'despite': 5961, 'thrown': 10431, 'winds': 11054, 'bandages': 4893, 'mytonecomenjoy': 8306, 'html': 7192, 'GBP450week': 1966, 'MFL': 2706, '1146': 320, '23': 446, 'sky': 9788, 'hectic': 7055, 'fell': 6500, 'swoop': 10239, 'wamma': 10906, 'laidwant': 7656, 'doggin': 6084, 'dogs': 6087, 'nownyt': 8467, 'Langport': 2592, 'virtual': 10844, 'Senthil': 3617, 'Apnt': 1073, 'Studying': 3782, 'pants': 8683, 'Waiti': 4245, 'langport': 7668, 'go2sri': 6842, 'lanka': 7670, 'wordnot': 11118, 'merely': 8100, 'relationshipits': 9274, 'Wherevr': 4299, 'Forevr': 1923, 'Gudnyt': 2091, 'mistakes': 8174, 'Darling': 1618, 'Sugar': 3796, 'plum': 8871, 'Loverboy': 2654, 'smacks': 9820, '50s': 690, 'alot': 4610, 'formatting': 6648, 'attracts': 4818, 'Promotion': 3277, '8714714': 873, 'Vegas': 4153, 'vegas': 10803, 'lou': 7880, 'Lancaster': 2589, 'Neway': 2957, 'couldn\\x92t': 5723, 'b\\x92day': 5241, 'soc': 9861, 'bsn': 5187, 'advising': 4531, 'lobby': 7826, 'texted': 10348, 'showered': 9714, 'erything': 6323, 'vewy': 10815, 'lubly': 7914, 'Rs5': 3428, '087147123779am7pm': 125, 'Sbut': 3593, 'luck2': 7916, 'catches': 5357, 'specify': 9946, 'domain': 6098, 'nusstu': 8484, 'Ohi': 3049, 'Hahatake': 2164, 'Kent': 2488, 'habit': 6969, 'bari': 4905, 'hudgi': 7209, 'yorge': 11276, 'pataistha': 8729, 'ertini': 6320, 'Hasbroin': 2181, 'AUGUST': 983, 'jump': 7526, 'hoops': 7150, 'lateso': 7689, 'morningtake': 8228, 'dreamsu': 6139, 'meummifyingbye': 8119, 'Networking': 2952, 'associate': 4793, 'rip': 9403, 'uterus': 10771, 'pool': 8905, 'jacuzzi': 7454, 'X49': 4349, '09065989182': 253, 'colourredtextcolourTXTstar': 5578, 'Blank': 1265, '2nights': 528, 'Uks': 4093, 'wildest': 11045, 'splwat': 9969, 'whr': 11031, 'Aldrine': 1041, 'rakhesh': 9156, 'RTM': 3350, 'herepls': 7075, 'callurgent': 5281, 'sources': 9924, 'unhappiness': 10702, 'necesity': 8350, 'witout': 11081, 'hwd': 7244, 'colleg': 5572, 'watll': 10940, 'wth': 11167, 'functions': 6733, 'events': 6349, 'espell': 6329, 'irritated': 7403, '4wrd': 682, 'dearloving': 5887, 'wthout': 11168, 'jst': 7519, 'Takecare': 3911, 'Old': 3060, 'Orchard': 3082, 'univ': 10711, 'rajas': 9154, 'burrito': 5218, 'It‘s': 2383, 'Disconnect': 1669, 'callcoz': 5269, 'iz': 7442, 'terrorist': 10339, 'Itz': 2381, 'confirmd': 5644, 'motorola': 8237, 'verified': 10810, 'CNN': 1381, 'IBN': 2284, 'stitch': 10063, 'trouser': 10612, '146tf150p': 351, 'Wednesday': 4275, 'cheetos': 5436, 'synced': 10244, 'shangela': 9656, 'hppnss': 7188, 'sorrow': 9906, 'forevr': 6635, 'GOODFRIEND': 1994, 'passes': 8723, '08704439680': 88, 'againloving': 4549, 'poo': 8903, 'gloucesterroad': 6839, 'uup': 10774, 'ouch': 8618, 'stayed': 10036, 'ASKED': 978, 'forgiveness': 6641, 'fruit': 6715, 'stone': 10069, 'glo': 6835, '09058095107': 206, 'S3XY': 3431, 'Yesmum': 4416, 'wlcome': 11091, 'eaten': 6214, 'lion': 7795, 'timi': 10461, 'Mila': 2813, 'age23': 4554, 'blonde': 5066, 'MTALK': 2748, '6986618': 750, '30pptxt': 552, '5free': 713, 'increments': 7317, 'Help08718728876': 2206, 'fishrman': 6563, 'sack': 9473, 'ful': 6726, 'stones': 10071, 'strtd': 10107, 'throwin': 10429, 'Atlast': 1100, '1stone': 420, 'MoralDont': 2860, '08717895698': 149, 'MobStoreQuiz10ppm': 2838, 'physics': 8809, 'ArPraveesh': 1079, 'delicious': 5927, 'transaction': 10577, 'Salad': 3574, 'desert': 5955, 'beers': 4965, 'WHORE': 4203, 'UNBELIEVABLE': 4065, 'funk': 6737, 'TONES2U': 3881, 'Twinks': 4046, 'bears': 4944, 'scallies': 9531, 'skins': 9784, 'jocks': 7493, '08712466669': 120, '08712460324nat': 119, 'flood': 6592, 'dr': 6125, 'beads': 4942, 'wishlist': 11072, 'section': 9576, 'nitro': 8415, 'History': 2221, 'Comfort': 1502, 'Luxury': 2670, 'Sold': 3710, 'OnionRs': 3066, 'PetrolRs': 3199, 'BeerRs': 1240, 'nvm': 8486, 'armands': 4754, 'creative': 5754, 'fakemy': 6439, 'reffering': 9253, 'uif': 10671, 'rs': 9447, 'getiing': 6802, 'rsi': 9448, 'weirdy': 10985, 'brownies': 5180, '09061701851': 220, 'K61': 2460, '12hours': 337, 'restrict': 9361, 'funeral': 6736, 'Audrey': 1103, 'godnot': 6850, 'chikkuk': 5462, 'vivek': 10853, '74355': 781, 'iscoming': 7410, 'TnC': 3995, 'brah': 5132, 'exams': 6374, 'possession': 8924, 'outif': 8628, 'greece': 6919, 'protect': 9077, 'ethreats': 6337, 'SIB': 3476, 'sensitive': 9615, 'PasswordsATMSMS': 3180, 'PIN': 3116, 'recorded': 9237, 'someday': 9875, 'Goodmorningmy': 2063, 'grandfather': 6902, 'expiredso': 6401, 'Blu': 1271, 'concert': 5633, 'November': 3005, '09061104276': 212, 'TSCs': 3898, 'cost£375max': 5716, 'yuou': 11310, 'pc': 8747, 'spot': 9981, 'ipad': 7395, 'bunch': 5206, 'lotto': 7877, 'Deal': 1628, 'Early': 1748, 'bird': 5028, 'purchases': 9103, 'authorise': 4832, '645pm': 739, 'Thatll': 3949, 'HOWS': 2148, 'HONEYDID': 2138, 'HOLIDAY': 2135, 'GIMMI': 1975, 'GOSSx': 2002, 'painit': 8673, 'todaydo': 10494, 'ystrdayice': 11306, 'chile': 5470, 'subletting': 10135, 'febapril': 6489, 'ammaelife': 4630, 'steering': 10047, 'anythings': 4690, 'sleeps': 9800, 'rounderso': 9438, 'required': 9328, 'truekDo': 10615, 'lambu': 7659, 'ji': 7486, 'cometil': 5588, 'batchlor': 4920, 'zoom': 11316, 'nowSend': 8461, '62220Cncl': 732, 'STOPCS': 3539, '08717890890£150': 148, 'cheese': 5434, '\\x93Harry': 11320, 'pink': 8831, 'RingtoneFrom': 3412, 'httptms': 7198, 'widelivecomindex': 11036, 'wmlid1b6a5ecef91ff937819firsttrue180430JUL05': 11093, 'xafter': 11226, 'cst': 5777, 'chg': 5448, 'pure': 9104, 'hearted': 7046, 'hisher': 7108, 'enemies': 6282, 'SMILEY': 3492, 'GAIL': 1958, 'NEVA': 2901, 'WRONGTAKE': 4236, 'SWEET': 3564, 'WORRYC': 4225, 'L8TR': 2530, 'HUNLOVE': 2155, 'Yaxxx': 4398, 'Theoretically': 3957, 'hooked': 7149, 'therere': 10387, 'formallyPls': 6646, 'prayingwill': 8971, 'multimedia': 8277, 'senthilhsbc': 9619, 'vague': 10783, 'accounting': 4480, 'delayed': 5924, 'housing': 7181, 'agency': 4555, 'renting': 9305, 'presents': 8992, 'Loads': 2631, 'nicky': 8396, 'Gumbys': 2096, 'httpalto18coukwavewaveaspo44345': 7193, 'sized': 9780, 'tarpon': 10283, 'springs': 9987, 'Cab': 1412, 'availablethey': 4839, 'steps': 10049, 'oktake': 8543, 'careumma': 5329, 'Unlimited': 4109, 'Limited': 2618, 'call2optoutHF8': 5261, 'YESTERDAY': 4381, '09061702893': 222, 'practice': 8959, '07XXXXXXXXX': 48, '08719181259': 172, '260305': 462, 'handset': 6991, 'Line': 2620, 'deartake': 5890, 'radiator': 9142, 'Serious': 3620, 'proper': 9070, 'tongued': 10522, 'shorts': 9702, 'qi': 9120, 'suddenly': 10155, 'flurries': 6601, 'melt': 8080, 'ground': 6932, 'Eek': 1759, 'born': 5105, 'FREERingtone': 1862, 'REAL1': 3316, 'PushButton': 3289, 'DontCha': 1690, 'BabyGoodbye': 1212, 'GoldDigger': 2059, 'WeBeBurnin': 4270, 'perform': 8770, 'cards': 5317, 'rebooting': 9213, 'Nigh': 2968, 'Nooooooo': 2995, 'Cable': 1413, 'outage': 8620, 'Sos': 3725, 'Playin': 3222, 'guoyang': 6958, 'rahul': 9147, 'dengra': 5935, 'STRIKE': 3542, 'RED': 3326, 'BIRD': 1161, 'ANTELOPE': 968, 'TOPLAY': 3888, 'FIELDOF': 1833, 'SELFINDEPENDENCE': 3455, 'BELIEVE': 1153, 'CONTENTION': 1390, 'GROWRANDOM': 2011, 'Gnarls': 2050, 'Barkleys': 1224, 'TOTALLY': 3890, 'borderline': 5101, '545': 701, 'nightnight': 8401, 'possibility': 8927, 'HMM': 2132, 'grooved': 6929, 'affairs': 4535, 'mising': 8161, 'Refused': 3387, 'Secured': 3605, 'Unsecured': 4111, '195': 395, '6669': 741, 'lanre': 7671, 'fakeyes': 6440, 'Eckankar': 1756, 'ph': 8792, '3000': 546, '09061743386': 223, 'heater': 7051, 'degrees': 5919, 'dodgey': 6078, 'Expecting': 1815, 'Call2OptOut674': 1416, 'We‘re': 4289, 'seing': 9593, 'faceasssssholeeee': 6423, 'CERI': 1360, 'REBEL': 3322, 'DREAMZ': 1604, 'LITTLE': 2555, 'BUDDY': 1202, 'NEEDS': 2897, 'BLOKES': 1166, 'ringtoneking': 9400, '84484': 852, 'Nationwide': 2943, 'Newport': 2958, 'Whatever': 4290, 'juliana': 7524, 'Sort': 3724, 'nachos': 8311, 'eta': 6334, 'Dizzamn': 1675, 'suitemates': 10168, 'Nimbomsons': 2972, 'Obviously': 3042, 'continent': 5672, 'housewives': 7179, '08717507711': 146, 'BTnational': 1199, 'landlines': 7665, '£400': 11356, '087104711148': 101, 'emerging': 6270, 'fiendmake': 6513, 'muchimpede': 8273, 'hesitant': 7085, 'ow': 8645, 'deyi': 5978, '60400thousadi': 727, 'FINE': 1840, 'BABES': 1124, 'AINT': 956, 'THO': 3869, 'SAW': 3444, 'SCARY': 3446, 'MOVIE': 2738, 'YEST': 4380, 'QUITE': 3293, 'FUNNY': 1880, 'AFTERNOON': 946, 'MALL': 2684, 'SUMTHINxx': 3553, 'nose': 8443, 'essay': 6331, 'Cannot': 1434, 'tram': 10575, 'vic': 10820, 'Discussed': 1670, 'coherently': 5558, 'Triple': 4022, 'Echo': 1755, 'Pie': 3210, 'GRAN': 2008, 'ONLYFOUND': 3031, 'AFEW': 945, 'DAYS': 1570, 'AGOCUSOON': 952, 'HONI': 2139, 'Dial': 1654, 'Bx526': 1333, 'University': 4106, 'southern': 9926, 'california': 5255, 'rayan': 9174, 'macleran': 7947, 'Balls': 1218, 'evenings': 6347, 'olave': 8548, 'mandara': 7988, 'trishul': 10607, 'Woo': 4327, 'hoo': 7146, 'italian': 7423, 'panties': 8682, 'Thout': 3975, 'CHOSEN': 1373, 'AWARD': 989, '09066364311': 261, 'flatter': 6578, 'pints': 8832, 'carlin': 5332, 'literally': 7811, 'Ciao': 1480, 'X49Your': 4350, 'starve': 10026, 'impression': 7301, 'Motivate': 2867, 'Behind': 1242, 'darkness': 5844, 'timeyou': 10460, 'wknd': 11089, 'nan': 8324, 'yalrigu': 11246, 'heltiniIyo': 7070, 'kothi': 7633, 'meso': 8104, 'uttered': 10773, 'trusting': 10619, 'meok': 8097, 'chikkuB': 5457, 'Noice': 2986, 'esaplanade': 6324, 'accessible': 4469, '08709501522': 99, '139': 346, 'LA3': 2533, '2WU': 505, '£150week': 11342, 'occurs': 8507, 'Prof': 3275, 'sem': 9603, 'congrats': 5650, 'Student': 3781, 'Enna': 1779, 'kalaachutaarama': 7542, 'coco': 5555, 'Fyi': 1955, 'sporadically': 9978, 'bc': 4933, 'Dating': 1624, '09064017305': 241, 'PoBox75LDNS7': 3236, 'TBSPERSOLVO': 3833, 'for£38': 6659, 'Kath': 2481, 'Manchester': 2774, 'you\\x92re': 11300, 'jess': 7481, 'burden': 5210, 'Loans': 2633, 'Credit': 1537, 'NoWorriesLoanscom': 2979, '08717111821': 142, 'actual': 4499, 'harder': 7013, 'NBME': 2895, 'sickness': 9732, 'Kick': 2495, 'goals': 6845, 'VILLA': 4139, 'sathya': 9511, 'Gam': 2019, 'smash': 9826, 'religiously': 9281, 'feb': 6488, 'Soup': 3728, 'Chart': 1460, 'Heroes': 2209, 'Ringtones': 3413, 'tips': 10467, 'Lemme': 2608, '07973788240': 47, '08715203649': 133, 'dealing': 5880, 'Muhommad': 2877, 'Penny': 3186, 'doc': 6071, 'hubby': 7207, 'fiting': 6565, 'load': 7822, 'hwkeep': 7245, 'mj': 8179, 'unconvinced': 10687, 'elaborate': 6250, 'willpower': 11048, 'Real': 3374, 'value': 10791, 'absence': 4454, 'answerin': 4673, 'reasonable': 9208, '»10': 11377, 'evey': 6362, 'mnth': 8183, 'prin': 9012, '…Thanks': 11387, 'GSOH': 2012, 'SPAM': 3513, 'ladiesU': 7650, 'male': 7980, 'gigolo': 6817, 'uks': 10673, 'mens': 8090, 'ONCALL': 3029, 'mjzgroup': 8180, '087143423992stop': 124, 'msg£150rcvd': 8263, 'ashwini': 4779, '08707500020': 92, 'tomorrowtoday': 10517, 'UKP2000': 4062, '09061790125': 230, 'Seem': 3607, 'jokethet': 7507, 'skinny': 9783, 'lineyou': 7789, 'casting': 5352, 'hockey': 7121, 'elections': 6256, 'shouldn‘t': 9706, '116': 322, 'hlday': 7116, 'horrible': 7164, 'camp': 5288, 'Amrca': 1062, 'Serena': 3619, 'Doc': 1679, 'prescribed': 8987, 'meds': 8063, 'kappa': 7554, 'meatballs': 8059, 'approve': 4724, 'panalambut': 8678, 'SPJanuary': 3519, 'fortune': 6653, 'allday': 4601, 'piss': 8834, 'boys': 5128, 'perf': 8768, 'outsider': 8633, 'receipts—well': 9220, 'What‘s': 4293, 'carry': 5338, '98321561': 921, 'familiar': 6449, 'Expression': 1819, 'depression': 5948, 'Loved': 2651, 'Ni8': 2961, 'Infact': 2360, 'Simpsons': 3671, 'Movie': 2870, 'band': 4892, 'AGreen': 953, 'BBlue': 1142, 'CRed': 1402, 'cramps': 5743, 'can\\x92t': 5305, 'cornwall': 5700, 'isn\\x92t': 7416, 'it\\x92s': 7438, 'shite': 9681, 'i\\x92m': 7445, 'kip': 7600, 'hont': 7145, 'Amanda': 1057, 'regard': 9262, 'renewing': 9302, 'upgrading': 10730, '3680': 571, 'subject': 10134, 'Ts': 4031, 'nannys': 8327, 'fighting': 6517, 'puts': 9111, 'perspective': 8787, 'sonot': 9896, 'conveying': 5683, 'karaoke': 7555, 'debating': 5893, 'Feeling': 1893, 'httpwwwwtlpcouktext': 7205, 'guessing': 6952, 'jb': 7472, 'youso': 11294, 'university': 10712, 'florida': 6595, 'teeth': 10315, 'hidden': 7092, 'royal': 9443, 'tog': 10497, 'teams': 10306, 'swhrt': 10232, 'deyhope': 5977, '2daylove': 510, 'misstake': 8170, '0906346330': 235, 'Spanish': 3732, '47': 641, 'PO19': 3125, '2EZ': 482, 'general': 6789, 'ifwhenhow': 7274, 'Moment': 2850, 'dayhas': 5866, 'valueMorning': 10792, 'hopeafternoon': 7154, 'faithEvening': 6437, 'luvNight': 7926, 'restWish': 9357, 'todayGood': 10492, 'jetton': 7484, 'friendofafriend': 6694, 'cmon': 5544, 'fantasy': 6460, 'sticky': 10058, 'replies': 9317, 'Wylie': 4345, 'dealer': 5878, 'lunsford': 7923, 'enjoying': 6293, 'ORANGE': 3034, '0796XXXXXX': 46, 'DAY2': 1569, 'THERES': 3863, 'PRIZEAWAITING': 3155, 'kfc': 7576, 'meals': 8051, 'gravy': 6910, 'dahe': 5823, 'daalways': 5816, 'thisdon': 10408, 'messagepandy': 8111, '07008009200': 21, 'attended': 4813, 'mw': 8301, 'tuth': 10642, 'mines': 8143, 'Stupid': 3784, 'eviction': 6363, 'Spiral': 3738, 'Michael': 2810, 'riddance': 9388, 'suffers': 10160, 'violence': 10840, 'raglan': 9146, 'edward': 6228, 'cricket': 5762, 'closeby': 5529, 'daplease': 5839, 'skye': 9789, 'bookedthe': 5094, 'hut': 7240, 'drastic': 6129, 'FREEMSG': 1859, 'records': 9239, 'indicate': 7323, '3750': 574, 'Accident': 1001, 'garments': 6769, 'Sez': 3627, 'arab': 4735, 'evry1': 6368, 'eshxxxxxxxxxxx': 6327, 'LAY': 2540, 'bimbo': 5025, 'ugos': 10669, 'Safe': 3571, 'Show': 3659, 'Euro': 1788, '241': 450, 'Flag': 1910, '3Lions': 581, 'portege': 8918, 'm100': 7937, 'semiobscure': 9606, 'PASS': 3099, 'polyphonic': 8897, 'gprs': 6892, 'repeat': 9310, 'Loosu': 2646, 'careless': 5325, 'freaking': 6673, 'MySpace': 2888, 'logged': 7835, 'PARTNERS': 3097, 'method': 8118, 'calculation': 5253, 'blur': 5077, 'clothes': 5536, 'jewelry': 7485, 'Block': 1268, 'Breaker': 1306, 'deluxe': 5931, 'features': 6487, 'graphics': 6906, '£5': 11359, 'BBDELUXE': 1139, 'lush': 7924, 'fumbling': 6730, 'day2find': 5864, 'taunton': 10289, 'weekdays': 10972, 'Haiz': 2167, 'Cut': 1554, 'nails': 8315, 'nobodys': 8422, 'common': 5599, 'asia': 4780, 'greatest': 6916, 'courage': 5730, 'bear': 4943, 'defeat': 5913, 'heartgn': 7047, 'tc': 10297, 'STIL': 3534, 'FUCKED': 1875, 'NITE': 2911, 'WENT': 4197, 'TOBED': 3874, '430': 623, 'Beauty': 1233, 'pimples': 8828, 'Natalja': 2941, '25F': 460, 'YES440': 4377, 'NO440': 2917, 'wwwSMSacunat27081980': 11187, 'asthma': 4796, 'attack': 4809, 'Ball': 1217, 'moving': 8247, 'spin': 9961, 'Haiyoh': 2166, 'million': 8131, 'auntys': 4830, '02': 7, 'prsn': 9083, 'somtimes': 9892, 'saves': 9520, 'nothin': 8449, 'Science': 3597, 'sunlight': 10180, 'BCozI': 1147, 'loss': 7868, 'audiitions': 4823, 'relocate': 9282, 'pocked': 8881, 'motivating': 8234, 'sharing': 9661, 'brison': 5166, 'spelled': 9953, 'caps': 5310, 'bullshit': 5205, 'GWR': 2016, 'motherfucker': 8233, 'Kit': 2503, 'Strip': 3778, '1013': 302, 'IG11': 2289, 'OJA': 3024, '08712402578': 111, 'thesmszonecom': 10392, 'anonymous': 4666, 'masked': 8013, 'messagesim': 8114, 'theredo': 10385, 'abuse': 4459, 'Woodland': 4328, 'avenue': 4845, 'parish': 8702, 'magazine': 7958, 'TA': 3822, 'billy': 5023, 'jogging': 7496, 'Awww': 1114, 'useless': 10761, 'loo': 7852, 'helloed': 7063, 'shelf': 9668, 'swollen': 10238, 'glands': 6832, 'previous': 9004, 'Captain': 1436, 'bcaz': 4934, 'STU': 3543, '2IM': 488, 'TRUBLE': 3895, 'MOMENT': 2729, 'EVONE': 1738, 'HATES': 2107, 'EVEN': 1732, 'HELL': 2117, 'AV': 984, 'WONT': 4219, 'BCK': 1143, 'DAN': 1563, 'mokka': 8201, 'view': 10830, 'gays': 6779, 'dual': 6172, 'hostile': 7170, 'haircut': 6977, 'breezy': 5151, '09061744553': 227, 'polyH': 8894, '1AppleDayNo': 397, 'Doctor': 1680, '1Tulsi': 406, 'LeafDayNo': 2603, 'Cancer': 1433, '1LemonDayNo': 404, 'Fat': 1889, '1Cup': 398, 'MilkdayNo': 2816, 'Bone': 1279, 'Problms': 3274, 'Litres': 2624, 'WatrDayNo': 4267, 'Diseases': 1671, 'Snd': 3706, 'Care': 1438, 'ALSO': 961, 'lavender': 7699, 'manky': 7992, 'scouse': 9548, 'stevelike': 10054, 'travelling': 10591, 'homewot': 7139, 'inmind': 7344, 'recreation': 9242, 'epsilon': 6313, 'mesages': 8102, 'judgementali': 7521, 'fridays': 6690, 'Hidid': 2217, 'waheeda': 10884, 'bot': 5109, 'notes': 8448, 'Rent': 3399, 'deary': 5891, 'Fun': 1950, 'although': 4621, 'eventually': 6350, 'tolerance': 10507, 'fucked': 6720, 'hits': 7112, '0789xxxxxxx': 44, 'HELLOGORGEOUS': 2119, 'CHARGE': 1363, 'LST': 2580, 'NITW': 2913, 'TEXD': 3846, 'HOPEU': 2141, 'AD': 940, 'WKEND': 4214, 'LOOKIN': 2566, '4WARD': 658, 'CIN': 1374, 'JAZ': 2400, '09058091870': 197, 'POBox84': 3134, 'Exorcism': 1813, 'Emily': 1771, 'gooD': 6867, 'Evry': 1806, 'Emotion': 1772, 'dsnt': 6170, 'WordsEvry': 4331, 'Prayrs': 3259, 'SmileD': 3701, 'uOthrwise': 10665, 'Stay': 3764, 'uSo': 10666, 'Ujhhhhhhh': 4092, 'sandiago': 9497, 'parantella': 8695, 'Wtf': 4342, 'Poop': 3246, 'hugging': 7212, 'sweater': 10226, 'mango': 7990, 'massive': 8016, 'involved': 7391, '£600': 11369, 'Complete': 1507, 'landmark': 7666, 'Big': 1252, 'Bob': 1275, 'Barry': 1225, 'Ben': 1244, '83738': 845, 'fineabsolutly': 6543, 'consent': 5657, 'forms': 6650, 'TONEXS': 3883, 'renewed': 9301, 'wwwclubzedcouk': 11193, 'BILLING': 1160, 'wwwtcbiz': 11214, 'Polo': 3241, 'Suite': 3797, '373': 573, 'W1J': 4177, '6HL': 758, 'can‘t': 5306, 'Mathews': 2788, 'tait': 10261, 'edwards': 6229, 'anderson': 4646, 'haunt': 7022, 'promoting': 9064, 'Joke': 2438, 'crowd': 5770, 'cardiff': 5315, '8000930705': 805, 'snowboarding': 9858, 'goa': 6843, 'Sim': 3668, 'christmassy': 5492, 'RECPT': 3325, '13': 341, 'Baaaaaaaabe': 1207, 'ignoring': 7277, 'Shola': 3652, 'academic': 4463, 'Sagamu': 3572, 'lautech': 7698, 'vital': 10851, 'completes': 5615, 'education': 6225, 'Nigeria': 2967, 'zealand': 11312, 'qet': 9119, 'FRIENDS': 1867, 'CLoSE': 1379, 'UNDERSTaND': 4066, 'TRUE': 3896, 'STaY': 3548, 'dial': 5983, 'browser': 5182, 'surf': 10206, 'subscribers': 10142, 'GB': 1963, 'wellyou': 10991, 'lifeyou': 7766, 'CONVINCED': 1392, 'thati': 10368, 'conversations': 5679, 'usGET': 10753, 'timeYour': 10455, 'sensesrespect': 9613, 'overemphasiseor': 8639, 'Headset': 2188, 'ADP': 943, 'internal': 7372, 'extract': 6413, 'godYou': 6849, 'immed': 7288, 'skint': 9785, 'fancied': 6454, 'bevieswaz': 5004, 'othrs': 8615, 'spoon': 9977, 'watchng': 10936, 'planet': 8847, 'earthsofa': 6206, 'comfey': 5589, 'quitting': 9134, 'least5times': 7714, 'wudnt': 11170, 'coast': 5548, 'Üll': 11379, 'MMM': 2723, 'Ima': 2343, 'frequently': 6685, 'messageit': 8109, 'cupboard': 5791, 'route': 9440, '2mro': 523, 'yellow': 11257, 'floppy': 6594, 'snappy': 9851, 'risk': 9405, 'grasp': 6907, 'flavour': 6579, 'laready': 7676, 'denying': 5941, 'Dom': 1686, 'TAMPA': 3830, 'FFFFUUUUUUU': 1832, 'annie': 4659, 'julianaland': 7525, 'oblivious': 8501, 'upsetits': 10739, 'dehydrated': 5920, 'mapquest': 7996, 'dogwood': 6088, 'tiny': 10465, 'parking': 8707, 'suppose': 10200, 'archive': 4736, 'UKmobiledate': 4063, '08719839835': 175, 'Future': 1952, 'mgs': 8120, '89123': 893, 'lengths': 7733, 'behalf': 4975, 'stunning': 10127, 'visa': 10845, 'gucci': 6946, 'shits': 9683, 'CALLIN': 1341, 'BABESOZI': 1125, 'CULDNT': 1405, 'TALKBUT': 3826, 'WANNATELL': 4185, 'DETAILS': 1578, 'LATER': 2539, 'WENWECAN': 4198, 'PROPERLY': 3158, 'smsing': 9846, 'efficient': 6235, 'explicit': 6404, '30': 544, 'secs': 9575, 'Ring': 3410, '02073162414': 12, 'Costs': 1524, '20pmin': 437, '515pm': 692, 'Erutupalam': 1783, 'thandiyachu': 10356, 'invention': 7381, 'flyim': 6604, 'Noits': 2987, 'lyrics': 7936, 'reckon': 9233, 'nevr': 8383, 'unrecognized': 10718, 'somone': 9891, 'valuing': 10794, 'definitly': 5917, 'undrstnd': 10695, 'ger': 6799, 'toking': 10503, 'syd': 10241, 'lehHaha': 7729, 'khelate': 7579, 'kintu': 7598, 'opponenter': 8580, 'dhorte': 5981, 'lage': 7653, 'fried': 6692, 'spares': 9934, 'looovvve': 7858, 'warwick': 10922, 'tmw': 10485, 'canceled': 5294, 'havnt': 7029, 'sometime': 9884, 'tops': 10545, 'grandma': 6903, 'parade': 8691, 'iPOD': 7249, 'proze': 9082, 'Norcorp': 2998, 'Ltd£150Mtmsgrcvd18': 2661, 'posting': 8936, 'chennaibecause': 5438, '7cfca1a': 797, 'grumble': 6940, 'linear': 7785, 'algebra': 4592, 'decorating': 5904, 'wining': 11058, '946': 917, 'roomate': 9430, 'graduated': 6898, 'adjustable': 4512, 'cooperative': 5693, 'allows': 4605, 'Nottingham': 3004, '63miles': 737, '40mph': 614, 'clearly': 5520, 'Thanku': 3946, '2MORRO': 492, 'guessed': 6950, 'hubbys': 7208, '89938': 897, 'strings': 10101, '£150ea': 11336, 'OTBox': 3036, '731': 780, 'LA1': 2532, '7WS': 794, 'Understand': 4102, 'gain': 6750, 'School': 3595, 'MISSED': 2715, 'HAVENT': 2112, 'BORED': 1173, 'SAD': 3434, 'ISNT': 2321, 'ITxx': 2328, 'beside': 4995, 'brisk': 5165, 'walks': 10898, 'sexiest': 9640, 'dirtiest': 6034, '89070': 890, 'steve': 10053, 'TELLMISS': 3843, 'Normally': 3000, 'Dare': 1617, 'Partys': 3178, 'contribute': 5676, 'greatly': 6917, 'Urgh': 4123, 'coach': 5547, 'smells': 9830, 'duvet': 6192, 'predictive': 8977, 'Ready': 3373, 'chatIm': 5418, 'w8in': 10877, '4uTxt': 679, 'url': 10749, 'Deliver': 1639, '24th': 456, 'sept': 9621, 'cha': 5384, 'lil': 7778, 'beverage': 5003, 'vpist': 10870, 'surrender': 10212, 'SYMPTOMS': 3566, '1U': 407, '3U': 587, 'Gettin': 2039, 'rdy': 9181, 'PISS': 3117, 'TALKING': 3829, 'REALISE': 3317, 'POINT': 3136, 'ITNOW': 2324, 'READ': 3314, 'BACKWARDS': 1129, 'police': 8891, 'abstract': 4456, 'vikkyim': 10834, 'hiya': 7115, 'africa': 4542, 'avin': 4846, 'CHITCHAT': 1372, 'Logon': 2635, '8883': 885, 'CM': 1380, '4217': 620, 'W1A': 4176, '6ZF': 762, '118pmsg': 324, 'CHA': 1361, 'QUITEAMUZING': 3294, 'THAT\\x92SCOOL': 3859, 'BABEPROBPOP': 1123, 'CU': 1404, 'SATTHEN': 3442, '4BREKKIE': 647, 'PSXTRA': 3161, 'LRG': 2576, 'PORTIONS': 3145, '£1000CALL': 11329, '09071512432': 272, '300603tcsBCM4235WC1N3XXcallcost150ppmmobilesvary': 548, 'Abt': 999, 'rows': 9442, 'Mnths': 2836, 'engagement': 6286, 'fixd': 6568, 'bthmm': 5190, 'njan': 8418, 'vilikkamt': 10835, 'sudn': 10156, 'maths': 8025, 'chapter': 5401, 'chop': 5485, 'Noooooooo': 2996, '09065171142stopsms08718727870150ppm': 248, 'firsg': 6559, 'split': 9967, 'Full': 1949, 'heat': 7050, 'applyed': 4715, 'airtel': 4579, 'virgin': 10842, 'sumfing': 10172, '86888': 866, 'Subscribe6GBPmnth': 3790, '3hrs': 595, 'stoptxtStop': 10077, 'hopeSo': 7153, 'hunny': 7226, 'amnow': 4632, 'feelin': 6494, 'ithink': 7428, 'tonsolitusaswell': 10529, 'iam': 7252, 'layin': 7702, 'bedreal': 4957, 'lotsof': 7875, 'PUTTIN': 3164, 'hiphop': 7106, 'managed': 7985, 'oxygen': 8653, 'resort': 9345, 'roller': 9425, 'recorder': 9238, 'canname': 5299, 'capital': 5308, 'Australia': 1107, 'MQUIZ': 2741, 'SHOWR': 3473, 'Received': 3378, 'acted': 4491, 'upon': 10735, 'ceiling': 5371, 'presnts': 8993, 'bcz': 4939, 'jeevithathile': 7477, 'irulinae': 7406, 'neekunna': 8365, 'prakasamanu': 8965, 'sneham': 9853, 'prakasam': 8964, 'ennal': 6295, 'prabha': 8956, 'mns': 8182, 'isLOVE': 7408, 'blowing': 5073, '7634': 784, '7684': 785, 'Everybody': 1798, 'firmware': 6558, 'vijaykanth': 10832, 'comedy': 5584, 'captain': 5311, 'tvhe': 10644, 'hide': 7093, 'anythiing': 4687, 'ripped': 9404, 'wwwclubmobycom': 11192, '08717509990': 147, 'polytruePixRingtonesGames': 8899, 'keypad': 7573, 'btwn': 5192, 'decades': 5895, 'BEER': 1151, 'PETROL': 3109, 'goverment': 6889, 'expects': 6394, 'DRINK': 1605, 'DRIVE': 1606, 'REWARD': 3335, 'WAITING': 4182, 'loyal': 7903, 'customers': 5803, '09066380611': 267, 'spice': 9958, 'Prasanth': 3256, 'ettans': 6338, '08718738002': 168, '48922': 645, '211104': 439, 'APPY': 971, 'FIZZ': 1845, 'contains': 5668, 'Ladies': 2588, 'genus': 6797, 'robinson': 9415, 'Nottel': 3003, 'print': 9017, 'outs': 8631, 'REALY': 3321, 'SOZ': 3511, 'IMAT': 2299, 'MUMS': 2753, 'IDIOT': 2286, 'COMPETITION': 1387, 'FREINDS': 1864, 'FOREVER': 1852, 'msgsometext': 8260, '07099833605': 25, 'Ref9280114': 3383, 'Chloe': 1475, '150ptext': 374, 'Wewa': 4288, '130': 342, 'Iriver': 2372, '255': 459, '128': 335, 'bw': 5236, 'Sry': 3752, 'dajst': 5827, 'Eatin': 1754, 'Hmmmbut': 2231, 'Surly': 3811, '07808726822': 40, '08718729758': 164, 'dumb': 6182, 'dokey': 6095, 'i‘ll': 7446, 'Mmmmmmm': 2835, 'snuggles': 9860, 'contented': 5670, 'whispers': 11025, 'error': 6318, 'healthy': 7039, 'Wif': 4303, '2bold': 507, 'givits': 6830, 'kanoanyway': 7551, 'brother‘s': 5177, 'scraped': 9549, 'barrel': 4908, 'misfits': 8160, 'S8': 3432, 'switch': 10237, 'sleepin': 9797, 'sections': 9577, 'clearer': 5518, 'PEACH': 3104, 'CAKE': 1337, 'TASTS': 3832, 'LUSH': 2584, 'GAME': 1960, 'Rayman': 3368, 'Golf': 2060, 'activ8': 4495, 'Termsapply': 3936, 'Therell': 3959, 'minor': 8146, 'shindig': 9673, 'Jason': 2420, 'CameraVideo': 1429, 'minstexts': 8150, 'Career': 1439, 'INDYAROCKSCOM': 2308, 'phonebook': 8802, 'Keng': 2486, 'rocking': 9418, 'ashes': 4777, 'xins': 11230, 'Shijutta': 3646, 'kafter': 7539, 'offense': 8515, 'BBDthts': 1141, 'dvg': 6193, 'coldheard': 5565, 'vinobanagar': 10838, 'conditionand': 5636, 'ovulatewhen': 8643, '3wks': 603, 'woah': 11097, 'realising': 9198, 'Thinking': 3968, 'Orh': 3085, 'beauty': 4949, 'hides': 7094, 'secrets': 9574, 'n8': 8308, 'darlinim': 5848, 'soonxxx': 9900, 'CoolMob': 1518, 'FrogAXEL': 1947, 'AkonLonely': 1038, 'EyedDont': 1821, 'wasted': 10928, 'Cashbincouk': 1446, 'wwwcashbincouk': 11191, 'EVER': 1734, 'canteen': 5304, 'stressfull': 10096, 'Laugh': 2598, 'adds': 4509, 'ni8swt': 8393, 'continued': 5674, 'Name': 2937, 'President': 3264, 'é': 11380, '140': 347, 'ardÉ': 4738, '180': 388, 'leastWhich': 7715, 'bedrm': 4958, 'pleasured': 8866, 'Hitechnical': 2222, 'supportproviding': 10197, 'assistance': 4792, 'BUS': 1203, '1172': 323, 'reLation': 9182, 'built': 5203, 'atlast': 4804, 'lonlines': 7851, 'lotz': 7879, 'memories': 8086, 'LOU': 2572, 'GOODNITE': 1997, 'SHAME': 3465, 'CAME': 1343, 'GAILxx': 1959, 'Hii': 2219, 'complacent': 5607, 'SEEN': 3453, 'BABY': 1126, 'COMMON': 1386, 'ROOM': 3345, 'denis': 5936, 'mina': 8135, 'Sen': 3609, 'miwa': 8178, 'senthil': 9618, 'hsbc': 7191, 'statement': 10030, 'woulda': 11146, 'Indeed': 2352, '09066649731from': 270, 'Holy': 2249, 'mth': 8266, 'opposite': 8585, 'heavily': 7053, 'Saw': 3590, 'Guys': 2098, 'Dolls': 1685, 'Patrick': 3182, 'Swayze': 3813, 'Santa': 3579, '09077818151': 275, 'Calls150ppm': 1423, '30s': 553, 'wwwsantacallingcom': 11211, 'miserable': 8159, 'total': 10555, 'quarter': 9123, 'nervous': 8373, 'fired': 6554, 'limping': 7783, 'aa': 4443, '0784987': 43, '08719180219': 170, '060505': 19, 'oga': 8533, 'poorly': 8908, 'punishment': 9098, 'Brb': 1303, 'kill': 7588, 'Predicte': 3260, 'situations': 9776, 'loosing': 7860, 'smaller': 9822, 'capacity': 5307, 'Videos': 4161, 'smsshsexnetUN': 9847, 'fgkslpoPW': 6510, 'fgkslpo': 6509, '0871277810710pmin': 121, 'Drink': 1702, 'defer': 5914, 'admission': 4516, 'Checkmate': 1466, 'chess': 5443, 'Persian': 3191, 'phrase': 8808, 'Shah': 3630, 'Maat': 2759, 'Po': 3230, 'Rats': 3366, 'themes': 10380, 'pee': 8753, 'burns': 5216, 'BEST': 1154, 'PETE': 3107, '2GEVA': 485, 'LONGER': 2564, 'photoshop': 8807, 'manageable': 7984, '08715203652': 134, '42810': 622, '29100': 476, 'shoppin': 9692, 'toopray': 10536, 'inshah': 7353, 'allah': 4599, 'Ashley': 1092, 'Sthis': 3769, 'increase': 7316, 'winning': 11060, 'Gain': 2017, 'wifedont': 11039, 'iti': 7429, 'tooLets': 10530, 'north': 8441, 'carolina': 5335, 'texas': 10344, 'gre': 6912, 'bomb': 5086, 'breathing': 5149, 'Response': 3404, 'powerful': 8949, 'weapon': 10951, 'nightswt': 8406, 'dreamstake': 6138, 'lovly': 7898, 'MESSAGEThanks': 2703, 'Subscription': 3792, '150pMSGRCVD': 357, 'Skip': 3688, 'CustomerCare': 1553, '08718726270': 155, 'playi': 8858, 'clas': 5507, 'lit': 7810, 'Loooooool': 2645, 'couch': 5717, 'Wasnt': 4259, 'celebration': 5375, 'rents': 9307, 'swashbuckling': 10222, 'Waste': 4260, 'Innocent': 2363, '5Terror': 708, '6Cruel': 757, '7Romantic': 793, '8Lovable': 900, '9decent': 927, 'joker': 7505, 'Dips': 1665, 'Texting': 3943, 'gek1510': 6788, 'Wuld': 4343, 'nuther': 8485, 'lyricalladie21F': 7935, 'YES910': 4379, 'NO910': 2919, 'wwwSMSacuhmmross': 11186, 'happiest': 7007, 'characters': 5403, 'differences': 6008, 'lists': 7809, 'tylers': 10659, 'crisis': 5766, 'Whenwhere': 4297, 'antibiotic': 4679, 'abdomen': 4446, 'gynae': 6966, 'infections': 7326, 'bone': 5087, 'Poor': 3247, 'lmao': 7820, '6times': 771, 'exposed': 6406, 'chastity': 5416, 'device': 5974, 'beatings': 4945, 'uses': 10763, 'Miserable': 2823, 'gut': 6959, 'wrenching': 11153, 'tallahassee': 10274, 'ou': 8617, 'Taka': 3909, 'SUPER': 3555, 'PoBox202': 3234, 'NR31': 2927, '7ZS': 795, '450pw': 638, 'ritten': 9408, 'fold': 6610, 'Warner': 4258, 'Village': 4164, '83118': 836, 'Colin': 1496, 'Farrell': 1888, 'SWAT': 3563, 'PopcornJust': 3248, 'msgticketkioskValid': 8262, '4712': 642, 'kiosk': 7599, 'SONY': 3503, 'mre': 8250, 'solihull': 9870, 'REGRET': 3327, 'INFORM': 2309, 'NHS': 2906, 'MISTAKEU': 2718, 'ACTUALLY': 939, 'BORNPLEASE': 1175, 'REPORT': 3332, 'YOR': 4385, 'LOCAL': 2559, 'HOSPITAL': 2143, '2B': 478, 'TERMINATEDWE': 3844, 'INCONVENIENCE': 2305, 'dentists': 5940, 'Goal': 2053, 'Arsenal': 1089, 'Henry': 2208, 'yards': 11249, 'Bergkamp': 1246, 'margin': 8001, '78': 787, 'parent': 8698, 'Itsnot': 2380, 'childs': 5469, 'parentnot': 8699, 'Ride': 3407, 'unintentional': 10706, 'nonetheless': 8433, 'hooch': 7147, 'toaday': 10488, 'Splat': 3741, 'Grazed': 2078, 'confirmdeny': 5645, 'hearin': 7043, 'yah': 11244, 'torture': 10550, 'england': 6289, 'hopeing': 7158, 'wasn‘t': 10926, 'sisters': 9768, 'SEXYCHAT': 3463, 'lips': 7800, 'Match': 2786, 'startedindia': 10022, 'Kkcongratulation': 2508, 'court': 5732, 'chapel': 5399, 'frontierville': 6713, 'mountain': 8238, 'deer': 5911, 'maili': 7968, 'mailed': 7967, 'varma': 10798, 'membershiptake': 8084, 'careinsha': 5324, 'Wrong': 4341, 'secure': 9578, 'Amy': 1064, 'parties': 8712, 'james': 7457, 'farting': 6463, 'ortxt': 8609, 'Select': 3608, 'trained': 10571, 'advisors': 4532, 'dialling': 5984, '402': 609, 'woot': 11111, 'stuffing': 10123, 'Ahhhhjust': 1028, 'uphad': 10731, 'thoso': 10414, 'viveki': 10854, '96': 919, 'dado': 5820, 'holder': 7125, 'dining': 6024, 'experiencehttpwwwvouch4mecometlpdiningasp': 6397, 'kaila': 7540, '09058094507': 200, 'donate': 6099, 'UNICEFs': 4068, 'Asian': 1093, 'Tsunami': 4036, 'disaster': 6040, 'fund': 6734, 'DONATE': 1591, '864233': 864, 'cme': 5543, 'hos': 7166, '2morow': 519, 'xuhui': 11234, 'collapsed': 5567, 'Stuff': 3783, 'cumming': 5789, 'JADE': 2395, 'PAUL': 3100, 'DIDN\\x92T': 1580, 'REMEMBER': 3328, 'BARMED': 1136, 'TALK': 3825, 'Spending': 3736, 'Slept': 3694, 'thinkThis': 10401, 'dangerous': 5837, 'goldviking': 6861, '29M': 477, 'YES762': 4378, 'NO762': 2918, 'wwwSMSacugoldviking': 11185, 'L8r': 2531, 'rushing': 9467, 'channel': 5398, 'coulda': 5721, 'Phony': 3206, 'Eta': 1786, '1230': 333, 'okday': 8540, 'BUZ': 1205, 'WEDLUNCH': 4192, 'OUTSOMEWHERE': 3040, 'ADRINK': 944, 'TOWNCUD': 3892, '2WATERSHD': 503, 'PPL': 3149, 'FROMWRK': 1873, 'BTHERE': 1197, 'PETEXXX': 3108, 'Esplanade': 1785, 'Hmph': 2237, 'baller': 4889, 'punto': 9099, 'ayo': 4861, 'travelled': 10590, 'Looking': 2642, '£125': 11331, 'Freeentry': 1937, 'xt': 11233, 'wwwldewcom1win150ppmx3age16': 11202, 'toyota': 10565, 'camry': 5290, 'olayiwolas': 8549, 'Mileage': 2814, 'kits': 7605, 'landing': 7662, 'Holla': 2247, 'clover': 5538, 'numberpls': 8479, 'idconvey': 7264, 'achanammaRakheshQatar': 4483, 'rencontre': 9299, 'Mountains': 2869, '08714712412': 129, 'galsU': 6757, 'nìte': 8493, 'puppy': 9100, 'noise': 8424, 'sarasota': 9503, '150pmeg': 366, 'HGSuite3422lands': 2125, 'RowW1j6HL': 3425, '08715203685': 137, 'Code4xx26': 1493, '131004': 343, 'crossing': 5769, 'deepest': 5910, 'darkest': 5843, 'fantasies': 6458, '09094646631': 279, 'nat': 8332, 'inconvenient': 7315, 'vldo': 10856, 'adsense': 4523, 'approved': 4725, 'dudette': 6178, 'perumbavoor': 8788, 'stage': 10003, 'cherish': 5441, 'clarify': 5506, 'preponed': 8986, 'Natalie': 2940, '20F': 434, 'YES165': 4375, 'NO165': 2915, 'wwwSMSacunatalie2k9': 11188, 'younger': 11291, 'Jamster': 2414, 'wallpaper': 10901, '08701213186': 76, 'liver': 7815, 'stylish': 10132, 'Hmmmstill': 2235, 'opener': 8572, 'guides': 6955, 'watched': 10932, 'loneliness': 7847, 'skyving': 9792, 'Pilates': 3212, 'dads': 5821, 'Afternoon': 1020, 'onwords': 8569, 'mtnl': 8268, 'mumbai': 8281, '83039': 833, '62735£450': 735, 'AccommodationVouchers': 1002, 'mustprovide': 8297, '15541': 380, 'Rajitha': 3359, 'Ranju': 3364, '5p': 718, 'styles': 10130, 'Starting': 3761, 'TsCs08714740323': 4033, '1Winawk': 410, '£150perweeksub': 11339, 'dearslp': 5889, 'welltake': 10990, 'careswt': 5328, 'dreamsMuah': 6137, '09066361921': 257, 'disagreeable': 6037, 'Guy': 2097, 'afterwards': 4547, 'battle': 4928, 'VIVEKANAND': 4143, 'SD': 3448, 'UAWAKEFEELLIKW': 4058, 'SHITJUSTFOUND': 3470, 'VIA': 4137, 'ALETTER': 958, 'THATMUM': 3857, 'GOTMARRIED': 2004, '4thNOVBEHIND': 674, 'OURBACKS': 3038, 'FUCKINNICESELFISHDEVIOUSBITCHANYWAYI\\x92L': 1878, 'rearrange': 9206, 'Dormitory': 1692, 'Dirty': 1667, 'Astronomer': 1097, 'Moon': 2857, 'starer': 10015, 'Election': 1766, 'Lies': 2613, 'recount': 9240, 'Motherinlaw': 2866, 'Woman': 4324, 'Hitler': 2223, 'Eleven': 1767, 'Twelve': 4044, 'worms': 11133, 'suffering': 10159, 'dysentry': 6196, 'andre': 4648, 'virgils': 10841, 'lorgoin': 7863, 'Gokila': 2058, 'ShanilRakhesh': 3636, 'herethanksi': 7077, 'exchanged': 6377, 'uncut': 10689, 'diamond': 5986, 'stuffleaving': 10124, 'Dino': 1663, 'Prem': 3261, 'Kkthis': 2514, 'kotees': 7632, 'TheMobHit': 3955, 'Pink': 3214, 'Panther': 3173, 'Sugababes': 3794, 'Zebra': 4439, 'badass': 4879, 'Hoody': 2255, 'wallpaperall': 10902, 'resent': 9334, 'Queries': 3299, 'customersqueriesnetvisionukcom': 5804, 'hassling': 7018, 'andres': 4649, 'HAUGHAIGHGTUJHYGUJ': 2108, 'Ding': 1662, 'fassyole': 6464, 'Blacko': 1264, 'londn': 7845, 'KISS': 2466, '4EVA': 649, 'responsibilities': 9352, '08715205273': 139, 'VCo': 4136, 'humanities': 7217, 'Fills': 1900, 'calm': 5282, 'reassurance': 9210, 'Aslamalaikkuminsha': 1096, 'tohar': 10499, 'beeen': 4961, 'muht': 8276, 'albi': 4583, 'mufti': 8275, 'mahfuuzmeaning': 7965, '078': 36, 'ENUFCREDEIT': 1726, 'TOCALLSHALL': 3875, 'ILEAVE': 2295, 'UNI': 4067, 'Chikku': 1470, 'treats': 10598, 'Okors': 3058, 'ibored': 7254, 'adding': 4506, 'zeros': 11314, 'savings': 9521, 'goigng': 6855, 'perfume': 8773, 'Sday': 3601, 'joinedso': 7502, 'grocers': 6928, 'pubs': 9090, 'Frankie': 1929, 'Bennys': 1245, 'warner': 10919, 'changing': 5397, 'diapers': 5988, 'owed': 8647, 'Unlike': 4108, 'patients': 8733, 'turkeys': 10637, 'helens': 7059, 'princes': 9015, 'dawhere': 5861, 'unintentionally': 10707, 'garden': 6767, 'bulbs': 5204, 'seeds': 9581, '£3350': 11352, 'Scotsman': 3600, 'go2': 6841, 'notxtcouk': 8456, 'wenever': 10994, 'familymay': 6451, 'stability': 9998, 'tranquility': 10576, 'vibrant': 10817, 'colourful': 5577, 'bawling': 4929, 'failure': 6434, 'failing': 6433, 'YEARS': 4372, 'BOYFRIEND': 1187, 'SI': 3475, 'Velusamy': 4155, 'sirs': 9765, 'facilities': 6425, 'karnan': 7556, 'bluray': 5078, 'I‘ve': 2392, 'salt': 9491, 'wounds': 11148, 'Water': 4265, 'logging': 7836, 'Geoenvironmental': 2035, 'implications': 7293, 'gently': 6795, 'Sms': 3705, 'Fuuuuck': 1953, 'salmon': 9489, 'uploaded': 10733, 'WRKIN': 4234, 'ree': 9248, 'compensation': 5605, 'awkward': 4858, 'i‘m': 7447, 'splash': 9965, 'leg': 7724, 'Musta': 2885, 'overdid': 8638, 'wwwtelediscountcouk': 11215, 'STUDENT': 3544, 'DISCOUNT': 1584, 'BOOKS': 1172, '2StopTxt': 500, 'Hiwhat': 2224, 'gastroenteritis': 6771, 'replace': 9313, 'reduce': 9247, 'limiting': 7781, 'illness': 7281, 'Jane': 2417, 'wrk': 11156, 'lst': 7905, 'Foned': 1917, 'chuck': 5493, 'nightsWe': 8405, 'port': 8916, 'step': 10048, 'liaoToo': 7752, 'stuffs': 10125, 'JUSWOKE': 2410, 'BOATIN': 1169, 'DOCKS': 1586, 'SLEPT': 3490, 'WID': 4204, 'OLD': 3028, 'SPINOUT': 3518, 'GIV': 1978, 'GOSSIP': 2001, 'remet': 9290, 'nichols': 8395, '08715203656': 135, '42049': 619, '261004': 463, 'realise': 9196, 'Started': 3760, 'uworld': 10779, 'qbank': 9118, 'assessment': 4790, 'Someonone': 3714, '09064015307': 239, 'BOX334SK38ch': 1180, 'tke': 10478, 'tease': 10309, 'temales': 10328, 'vidnot': 10829, 'finishd': 6547, '09061213237': 215, '177': 386, 'M227XY': 2673, 'dull': 6181, 'studies': 10115, 'anyones': 4685, 'treadmill': 10593, 'Craigslist': 1534, 'absolutely': 4455, 'South': 3729, 'Park': 3176, 'drmstake': 6154, 'SOMETHIN': 3501, 'CALLED': 1340, 'SWAN': 3561, 'PARENTS': 3093, 'ER': 1727, 'INDIANS': 2307, 'MOyeP': 2739, 'SaLL': 3567, 'gOoD': 6748, 'HehE': 2195, 'shexy': 9672, 'Xx': 4365, 'teethif': 10316, 'asapok': 4775, 'HelloHow': 2200, 'doingWhat': 6091, '2When': 506, 'lamp': 7660, 'latebut': 7684, 'kwish': 7638, 'foward': 6663, '09061790126': 231, 'Vikky': 4163, 'misundrstud': 8175, '2u2': 537, 'genes': 6791, 'wwwLdewcom1win150ppmx3age16subscription': 11182, 'resuming': 9369, 'minimum': 8145, 'reapply': 9205, 'london': 7846, 'treatin': 10597, 'treacle': 10592, 'mumHas': 8280, 'beendropping': 4963, 'theplace': 10383, 'adress': 4521, 'Jolly': 2442, 'moneyi': 8213, 'favorite': 6481, 'oyster': 8654, 'sashimi': 9507, 'rumbling': 9458, 'Kothi': 2522, 'marandratha': 7999, 'topic': 10541, 'correctly': 5706, 'bless': 5054, 'SirSalam': 3679, 'AlaikkumPride': 1039, 'Tea': 3918, 'ShopWe': 3654, 'QatarRakhesh': 3296, 'IndianPls': 2356, 'NumberRespectful': 3010, 'Regards': 3388, 'Gal': 2018, 'galcan': 6753, 'boyy': 5130, 'galno': 6755, 'heaven': 7052, 'princeGN': 9014, 'pisces': 8833, 'aquarius': 4733, '2yrs': 542, 'steyn': 10055, 'wicket': 11034, 'Neither': 2948, 'sterm': 10052, 'resolved': 9344, 'Garbage': 2024, 'eggs': 6241, 'jam': 7456, 'hannaford': 6999, 'wheat': 11013, 'chex': 5445, 'pride': 9010, 'grownup': 6938, 'stuffwhy': 10126, 'costume': 5714, 'Jerk': 2429, 'stink': 10062, 'TEXTCOMP': 3849, 'follows': 6616, 'subsequent': 10146, 'charged150pmsg2': 5406, '84128custcare': 850, 'openings': 8575, 'upcharge': 10727, '8hr': 904, 'Guai': 2085, 'bottle': 5112, 'amused': 4641, 'select': 9594, 'astrology': 4799, 'ryans': 9469, 'program': 9053, 'slacking': 9793, 'officestill': 8522, 'filling': 6527, 'formsdon': 6651, 'mentor': 8095, 'percent': 8766, '09095350301': 281, 'erotic': 6317, 'ecstacy': 6219, 'dept': 5949, '13404': 345, '08717507382': 145, 'datingi': 5856, 'coincidence': 5561, 'sane': 9498, 'helping': 7068, 'leading': 7708, '151': 377, 'pause': 8737, 'gr8prizes': 6895, '8800': 876, 'PSP': 3160, 'wkTXT': 11085, 'httpwwwgr8prizescom': 7203, 'spacebucks': 9929, 'weathers': 10957, '02070836089': 10, 'squeezed': 9991, 'tooPray': 10531, 'meRemove': 8049, 'maintaining': 7971, '5I\\x92m': 705, 'dreading': 6133, 'thou': 10416, 'suggestion': 10165, 'Lands': 2591, 'helps': 7069, 'forgt': 6644, 'Soon': 3721, 'FIGHTS': 1836, 'ajith': 4580, 'Ooooooh': 3072, 'yoville': 11302, 'mega': 8071, 'asda': 4776, 'counts': 5727, 'officer': 8521, 'respectful': 9347, 'bffs': 5007, 'carly': 5334, 'HARD': 2103, 'express': 6408, 'someonethat': 9878, 'seperated鈥┾〨ud': 9620, 'Babes': 1210, 'brolly': 5171, 'English': 1777, 'Franxx': 1930, 'welli': 10989, 'prometazine': 9059, 'syrup': 10245, '5mls': 717, 'feed': 6492, 'shu': 9722, 'singapore': 9757, 'victoria': 10821, 'island': 7413, 'traffic': 10569, 'whens': 11017, 'pocay': 8880, 'wocay': 11098, '4eva': 661, '2morrowxxxx': 522, 'East': 1750, 'broth': 5173, 'ramen': 9159, 'fowler': 6664, 'ksry': 7634, 'sivatats': 9777, 'flew': 6582, 'Calling': 1421, '09058094583': 202, '1526': 378, 'pubcafe': 9087, 'attention': 4815, 'tix': 10476, 'Mode': 2846, 'biolas': 5027, 'fne': 6608, 'youdoing': 11283, 'Sar': 3581, 'worc': 11114, 'foregate': 6632, 'shrub': 9721, 'get4an18th': 6801, '32000': 560, 'legitimat': 7726, 'efreefone': 6236, 'shopthe': 9694, 'receipts': 9219, 'pendent': 8759, 'toilet': 10500, 'stolen': 10066, 'cops': 5697, 'HU': 2153, 'navigate': 8342, 'choosing': 5484, 'require': 9327, 'guidance': 6953, 'Except': 1811, 'chick': 5451, 'boobs': 5091, 'revealing': 9379, 'sparkling': 9936, 'breaks': 5145, '45': 634, '0121': 3, '2025050': 433, 'wwwshortbreaksorguk': 11212, 'Gyno': 2099, 'belong': 4985, 'wwwgambtv': 11199, 'treasure': 10594, 'wmlid820554ad0a1705572711firsttrue¡C': 11094, 'Ringtone¡': 3414, '09050000332': 181, 'slide': 9805, 'mummys': 8283, 'positive': 8923, 'negative': 8366, 'Hmmmm': 2234, 'Dhoni': 1653, 'titleso': 10474, 'command': 5595, 'stressful': 10095, 'Holby': 2243, '09064017295': 240, 'li': 7749, 'lecturer': 7721, 'repeating': 9311, 'yeovil': 11258, 'motor': 8236, 'max': 8033, 'rhode': 9384, 'bong': 5088, 'Ofcourse': 3044, '2p': 532, '08448350055': 67, 'PlanetTalkInstantcom': 3218, 'loti': 7871, 'Marvel': 2785, 'Ultimate': 4095, 'Spiderman': 3737, 'SPIDER': 3517, '83338': 839, '8Ball': 899, 'tamilnaduthen': 10276, 'tip': 10466, '07808247860': 39, '08719899229': 177, '40411': 611, '061104': 20, 'Apo': 1074, 'Perhaps': 3189, 'identification': 7268, 'limit': 7780, 'boundaries': 5116, 'endless': 6278, 'Machan': 2762, 'reassuring': 9211, 'lorWe': 7862, 'young': 11290, 'referin': 9252, 'meis': 8075, 'liaoSo': 7751, 'Miles': 2815, 'saibaba': 9480, 'colany': 5563, 'chic': 5450, 'Common': 1503, 'Declare': 1635, '49557': 646, '261104': 464, 'disappointment': 6039, 'irritation': 7405, 'tantrums': 10279, 'Compliments': 1508, 'adventuring': 4528, 'chief': 5454, 'Gsex': 2084, '2667': 465, 'WC1N': 4190, '3XX': 591, '3MOBILE': 582, 'CHATLINES': 1366, 'INCLU': 2304, 'MINS': 2712, 'CUST': 1408, 'SERVs': 3461, 'SED': 3449, 'L8ER': 2528, 'MEGA': 2698, 'BILL': 1159, 'BAILIFF': 1131, 'DUE': 1608, 'Armand': 1085, 'mouse': 8239, 'desk': 5957, 'Ic': 2333, 'childporn': 5467, 'jumpers': 7527, 'hat': 7019, 'belt': 4989, 'Cribbs': 1538, 'spiritual': 9963, 'barring': 4909, 'sudden': 10154, 'influx': 7328, 'Yeh': 4404, 'Tho': 3972, 'kane': 7548, 'shud': 9723, 'Mite': 2828, 'Pshewmissing': 3281, 'units': 10710, 'accent': 4465, '4years': 683, 'dental': 5938, 'nmde': 8419, 'dump': 6183, 'heap': 7040, 'lowes': 7901, 'BORING': 1174, 'salesman': 9487, 'REMINDER': 3329, '£750': 11371, '087187272008': 160, 'NOW1': 2925, 'Pity': 3216, 'Soany': 3708, 'suggestions': 10166, 'bitching': 5037}\n"
     ]
    }
   ],
   "source": [
    "print(transformador.vocabulary_)"
   ]
  },
  {
   "cell_type": "code",
   "execution_count": 91,
   "id": "0bb3efcb",
   "metadata": {},
   "outputs": [
    {
     "data": {
      "text/plain": [
       "'U dun say so early hor... U c already then say...'"
      ]
     },
     "execution_count": 91,
     "metadata": {},
     "output_type": "execute_result"
    }
   ],
   "source": [
    "mensaje3 = mensajes_dataframe[\"mensaje\"][3]\n",
    "mensaje3"
   ]
  },
  {
   "cell_type": "code",
   "execution_count": 93,
   "id": "bcde9c24",
   "metadata": {},
   "outputs": [],
   "source": [
    "mensaje3_transformado = transformador.transform([mensaje3])"
   ]
  },
  {
   "cell_type": "code",
   "execution_count": 94,
   "id": "2635f52c",
   "metadata": {},
   "outputs": [
    {
     "name": "stdout",
     "output_type": "stream",
     "text": [
      "  (0, 4055)\t2\n",
      "  (0, 4611)\t1\n",
      "  (0, 5243)\t1\n",
      "  (0, 6184)\t1\n",
      "  (0, 6201)\t1\n",
      "  (0, 7161)\t1\n",
      "  (0, 9523)\t2\n"
     ]
    }
   ],
   "source": [
    "print(mensaje3_transformado) #<- acá se ve que palabras hay, segun el elemento que se le asignó anteriormente."
   ]
  },
  {
   "cell_type": "code",
   "execution_count": 95,
   "id": "a9d71823",
   "metadata": {},
   "outputs": [
    {
     "data": {
      "text/plain": [
       "'U'"
      ]
     },
     "execution_count": 95,
     "metadata": {},
     "output_type": "execute_result"
    }
   ],
   "source": [
    "transformador.get_feature_names()[4055]"
   ]
  },
  {
   "cell_type": "code",
   "execution_count": 96,
   "id": "1e71e5b8",
   "metadata": {},
   "outputs": [
    {
     "data": {
      "text/plain": [
       "'say'"
      ]
     },
     "execution_count": 96,
     "metadata": {},
     "output_type": "execute_result"
    }
   ],
   "source": [
    "transformador.get_feature_names()[9523]"
   ]
  },
  {
   "cell_type": "markdown",
   "id": "35424ca3",
   "metadata": {},
   "source": [
    "# Prediccion"
   ]
  },
  {
   "cell_type": "code",
   "execution_count": 97,
   "id": "1a7fbec8",
   "metadata": {},
   "outputs": [],
   "source": [
    "from sklearn.feature_extraction.text import TfidfTransformer\n",
    "from sklearn.ensemble import RandomForestClassifier\n",
    "from sklearn.model_selection import train_test_split\n",
    "from sklearn.pipeline import Pipeline #<- para ejectuar varias instancias al mismo tiempo\n",
    "from sklearn.metrics import classification_report"
   ]
  },
  {
   "cell_type": "code",
   "execution_count": 98,
   "id": "d2a16a2f",
   "metadata": {},
   "outputs": [],
   "source": [
    "#dividimos los mensajes   m -> mensaje, e -> etiqueta\n",
    "m_train, m_test, e_train , e_test = train_test_split(mensajes_dataframe[\"mensaje\"],mensajes_dataframe[\"etiqueta\"], test_size=0.3)"
   ]
  },
  {
   "cell_type": "code",
   "execution_count": 100,
   "id": "c7dad401",
   "metadata": {},
   "outputs": [],
   "source": [
    "# distintos pasos que tiene que seguir para ser entrenado\n",
    "pipeline = Pipeline([\n",
    "    (\"vectorizar\",CountVectorizer(analyzer=procesar_texto)),\n",
    "    (\"transformar\",TfidfTransformer()),\n",
    "    (\"clasificar\",RandomForestClassifier())\n",
    "])"
   ]
  },
  {
   "cell_type": "code",
   "execution_count": 101,
   "id": "7617fac5",
   "metadata": {},
   "outputs": [
    {
     "data": {
      "text/plain": [
       "Pipeline(steps=[('vectorizar',\n",
       "                 CountVectorizer(analyzer=<function procesar_texto at 0x000002010B211160>)),\n",
       "                ('transformar', TfidfTransformer()),\n",
       "                ('clasificar', RandomForestClassifier())])"
      ]
     },
     "execution_count": 101,
     "metadata": {},
     "output_type": "execute_result"
    }
   ],
   "source": [
    "pipeline.fit(m_train,e_train)"
   ]
  },
  {
   "cell_type": "code",
   "execution_count": 102,
   "id": "eff29400",
   "metadata": {},
   "outputs": [],
   "source": [
    "predicciones = pipeline.predict(m_test)"
   ]
  },
  {
   "cell_type": "code",
   "execution_count": 105,
   "id": "cd7c0b1b",
   "metadata": {},
   "outputs": [
    {
     "name": "stdout",
     "output_type": "stream",
     "text": [
      "              precision    recall  f1-score   support\n",
      "\n",
      "         ham       0.97      1.00      0.99      1447\n",
      "        spam       1.00      0.82      0.90       225\n",
      "\n",
      "    accuracy                           0.98      1672\n",
      "   macro avg       0.99      0.91      0.94      1672\n",
      "weighted avg       0.98      0.98      0.97      1672\n",
      "\n"
     ]
    }
   ],
   "source": [
    "print(classification_report(e_test, predicciones))"
   ]
  },
  {
   "cell_type": "code",
   "execution_count": null,
   "id": "76d0392f",
   "metadata": {},
   "outputs": [],
   "source": []
  }
 ],
 "metadata": {
  "kernelspec": {
   "display_name": "Python 3",
   "language": "python",
   "name": "python3"
  },
  "language_info": {
   "codemirror_mode": {
    "name": "ipython",
    "version": 3
   },
   "file_extension": ".py",
   "mimetype": "text/x-python",
   "name": "python",
   "nbconvert_exporter": "python",
   "pygments_lexer": "ipython3",
   "version": "3.8.8"
  }
 },
 "nbformat": 4,
 "nbformat_minor": 5
}
