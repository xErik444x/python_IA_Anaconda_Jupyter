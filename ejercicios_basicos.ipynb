{
 "cells": [
  {
   "cell_type": "code",
   "execution_count": 6,
   "id": "1abd1d57",
   "metadata": {},
   "outputs": [],
   "source": [
    "frase = \"Hola, este es un curso basico de python\""
   ]
  },
  {
   "cell_type": "code",
   "execution_count": 10,
   "id": "c78f59b7",
   "metadata": {
    "scrolled": true
   },
   "outputs": [
    {
     "name": "stdout",
     "output_type": "stream",
     "text": [
      "['Hola,', 'este', 'es', 'un', 'curso', 'basico', 'de', 'python']\n"
     ]
    }
   ],
   "source": [
    "palabras = frase.split()\n",
    "print (palabras)"
   ]
  },
  {
   "cell_type": "code",
   "execution_count": 11,
   "id": "f72b50ad",
   "metadata": {},
   "outputs": [
    {
     "name": "stdout",
     "output_type": "stream",
     "text": [
      "La frase tiene un total de: 8 palabras.\n"
     ]
    }
   ],
   "source": [
    "print(\"La frase tiene un total de: \"+ str(len(palabras)) + \" palabras.\")"
   ]
  },
  {
   "cell_type": "code",
   "execution_count": null,
   "id": "e0d02d4a",
   "metadata": {},
   "outputs": [],
   "source": []
  },
  {
   "cell_type": "code",
   "execution_count": null,
   "id": "f9f1bfa6",
   "metadata": {},
   "outputs": [],
   "source": [
    "#Ejercicio2\n",
    "#Si es mayor, lo agrega a una nueva lista."
   ]
  },
  {
   "cell_type": "code",
   "execution_count": 12,
   "id": "24d1fa8f",
   "metadata": {},
   "outputs": [],
   "source": [
    "lista = [1,-1,4,-15,9,7,6,-3,2,-20]"
   ]
  },
  {
   "cell_type": "code",
   "execution_count": 13,
   "id": "8dcb6aec",
   "metadata": {},
   "outputs": [],
   "source": [
    "def returnSiEsPositivo(n):\n",
    "    if(n>=0):\n",
    "        return n"
   ]
  },
  {
   "cell_type": "code",
   "execution_count": 15,
   "id": "20107996",
   "metadata": {},
   "outputs": [
    {
     "data": {
      "text/plain": [
       "1"
      ]
     },
     "execution_count": 15,
     "metadata": {},
     "output_type": "execute_result"
    }
   ],
   "source": [
    "returnSiEsPositivo(1)"
   ]
  },
  {
   "cell_type": "code",
   "execution_count": 19,
   "id": "511ff0a0",
   "metadata": {},
   "outputs": [],
   "source": [
    "lista2 = list(filter(returnSiEsPositivo,lista))"
   ]
  },
  {
   "cell_type": "code",
   "execution_count": 20,
   "id": "e871014a",
   "metadata": {},
   "outputs": [
    {
     "name": "stdout",
     "output_type": "stream",
     "text": [
      "[1, 4, 9, 7, 6, 2]\n"
     ]
    }
   ],
   "source": [
    "print(lista2)"
   ]
  },
  {
   "cell_type": "code",
   "execution_count": null,
   "id": "0b45a5b1",
   "metadata": {},
   "outputs": [],
   "source": []
  },
  {
   "cell_type": "code",
   "execution_count": null,
   "id": "da16f61c",
   "metadata": {},
   "outputs": [],
   "source": [
    "#Ejercicio3\n",
    "#una nueva lista utilizando conjuntos donde no se repitan los items."
   ]
  },
  {
   "cell_type": "code",
   "execution_count": 22,
   "id": "d76dabe9",
   "metadata": {},
   "outputs": [],
   "source": [
    "listaItems = [\"manzana\",\"manzana\",\"banana\",\"melon\",\"banana\",\"sandia\"]"
   ]
  },
  {
   "cell_type": "code",
   "execution_count": 23,
   "id": "abdf9bf4",
   "metadata": {},
   "outputs": [],
   "source": [
    "listaItemsSinRepeticion = set(listaItems) #el set transforma la lista en un conjunto, en los conjuntos, los items no se repiten"
   ]
  },
  {
   "cell_type": "code",
   "execution_count": 24,
   "id": "1d26ba2b",
   "metadata": {},
   "outputs": [
    {
     "name": "stdout",
     "output_type": "stream",
     "text": [
      "{'sandia', 'banana', 'manzana', 'melon'}\n"
     ]
    }
   ],
   "source": [
    "print(listaItemsSinRepeticion)"
   ]
  },
  {
   "cell_type": "code",
   "execution_count": null,
   "id": "0ebb49b0",
   "metadata": {},
   "outputs": [],
   "source": []
  },
  {
   "cell_type": "code",
   "execution_count": null,
   "id": "ce2e7b27",
   "metadata": {},
   "outputs": [],
   "source": [
    "#Ejercicio 4\n",
    "#Crear una funcion que devuelva la division de 2 numeros\n",
    "#luego utilizar la funcion map en una lista para crear una nueva lista.\n"
   ]
  },
  {
   "cell_type": "code",
   "execution_count": 25,
   "id": "27ebc422",
   "metadata": {},
   "outputs": [],
   "source": [
    "listaADividir = [20,18,8,4,10,40,6]"
   ]
  },
  {
   "cell_type": "code",
   "execution_count": 26,
   "id": "7ddf9ac3",
   "metadata": {},
   "outputs": [],
   "source": [
    "def dividir_entre_dos(n):\n",
    "    return(n/2)"
   ]
  },
  {
   "cell_type": "code",
   "execution_count": 27,
   "id": "3f6d48b7",
   "metadata": {},
   "outputs": [],
   "source": [
    "listaDividida = list(map(dividir_entre_dos,listaADividir))"
   ]
  },
  {
   "cell_type": "code",
   "execution_count": 28,
   "id": "76ad1583",
   "metadata": {},
   "outputs": [
    {
     "name": "stdout",
     "output_type": "stream",
     "text": [
      "[20, 18, 8, 4, 10, 40, 6]\n",
      "[10.0, 9.0, 4.0, 2.0, 5.0, 20.0, 3.0]\n"
     ]
    }
   ],
   "source": [
    "print(listaADividir)\n",
    "print(listaDividida)"
   ]
  },
  {
   "cell_type": "code",
   "execution_count": null,
   "id": "4a9622fb",
   "metadata": {},
   "outputs": [],
   "source": []
  }
 ],
 "metadata": {
  "kernelspec": {
   "display_name": "Python 3",
   "language": "python",
   "name": "python3"
  },
  "language_info": {
   "codemirror_mode": {
    "name": "ipython",
    "version": 3
   },
   "file_extension": ".py",
   "mimetype": "text/x-python",
   "name": "python",
   "nbconvert_exporter": "python",
   "pygments_lexer": "ipython3",
   "version": "3.8.8"
  }
 },
 "nbformat": 4,
 "nbformat_minor": 5
}
