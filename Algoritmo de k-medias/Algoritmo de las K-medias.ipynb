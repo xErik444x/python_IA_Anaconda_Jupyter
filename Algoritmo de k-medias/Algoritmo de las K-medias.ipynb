{
 "cells": [
  {
   "cell_type": "markdown",
   "id": "c2db590b",
   "metadata": {},
   "source": [
    "# Algoritmo de las K-medias\n",
    "\n",
    "> Lo que se busca es agrupar puntos en grupos, no predecir algo."
   ]
  },
  {
   "cell_type": "code",
   "execution_count": 2,
   "id": "7d88e2ce",
   "metadata": {},
   "outputs": [],
   "source": [
    "import pandas as pd\n",
    "import numpy as np\n",
    "import seaborn as sns\n",
    "import matplotlib.pyplot as plt"
   ]
  },
  {
   "cell_type": "code",
   "execution_count": 3,
   "id": "3f17dbe9",
   "metadata": {},
   "outputs": [],
   "source": [
    "from sklearn.datasets import make_blobs\n",
    "#crea grupos, ejemplos aleatorios"
   ]
  },
  {
   "cell_type": "code",
   "execution_count": 7,
   "id": "98865901",
   "metadata": {},
   "outputs": [],
   "source": [
    "datos = make_blobs(n_samples=200,n_features=2,centers=4)\n",
    "                     # n_features son la cantidad de caracteristicas, en este caso queremos dos, X y Y para poder representarlos\n",
    "                        # centers es la cantidad de grupos que va a tener"
   ]
  },
  {
   "cell_type": "code",
   "execution_count": 8,
   "id": "a6d807bd",
   "metadata": {},
   "outputs": [
    {
     "data": {
      "text/plain": [
       "(array([[ -9.70156971,   8.87669916],\n",
       "        [ -8.30681867,   8.81041759],\n",
       "        [  5.03224219,   3.26661237],\n",
       "        [  5.31803959,  -0.64896186],\n",
       "        [  2.51104075,  -4.5168087 ],\n",
       "        [  1.21270398,  -2.84520898],\n",
       "        [  3.58289439,  -6.06188321],\n",
       "        [  2.94825608,  -5.23742174],\n",
       "        [  3.78328508,   1.37186343],\n",
       "        [  5.6736502 ,  -4.90327802],\n",
       "        [  4.59732316,   2.30208085],\n",
       "        [ -9.21752787,  -0.25518922],\n",
       "        [  4.44563185,   2.64737053],\n",
       "        [  3.30110919,  -5.45741032],\n",
       "        [  3.23571103,  -5.90704158],\n",
       "        [  4.20883777,  -0.11731653],\n",
       "        [  2.4092663 ,  -5.80899325],\n",
       "        [  3.90828575,  -0.30124771],\n",
       "        [ -9.45260043,  -1.36303539],\n",
       "        [  0.70633816,  -4.82830825],\n",
       "        [ -9.06138325,  -0.97291511],\n",
       "        [ -8.63533168,   0.09449945],\n",
       "        [ -8.60927363,  -0.14941405],\n",
       "        [  5.91040867,  -0.24693838],\n",
       "        [ -8.3141513 ,   0.86587145],\n",
       "        [  4.99174722,   0.21972736],\n",
       "        [-10.68615024,   0.84385525],\n",
       "        [  3.99586449,  -5.19199   ],\n",
       "        [  3.93720805,  -5.26623705],\n",
       "        [  3.14365798,  -3.64741925],\n",
       "        [  4.93634274,   1.70206501],\n",
       "        [ -8.7923737 ,   0.07463774],\n",
       "        [ -8.41809961,   1.08680499],\n",
       "        [ -9.13950161,  -0.14621063],\n",
       "        [ -9.82041032,   0.87967632],\n",
       "        [  3.93103854,   0.8781895 ],\n",
       "        [ -8.02475432,  -1.37202489],\n",
       "        [ -9.43901474,   0.19882697],\n",
       "        [ -9.77189552,   9.08774372],\n",
       "        [ -9.03768339,   8.67004895],\n",
       "        [  2.84597078,  -4.98355383],\n",
       "        [ -7.9664695 ,  13.15405949],\n",
       "        [ -8.33073034,  10.79667054],\n",
       "        [ -6.34304976,   1.40718612],\n",
       "        [  2.3079982 ,  -3.31014507],\n",
       "        [ -9.07785477,   1.79780881],\n",
       "        [ -9.50289508,   0.06917687],\n",
       "        [ -8.66083177,  10.61030889],\n",
       "        [  3.31511136,  -0.01502756],\n",
       "        [  3.28969981,  -5.09008496],\n",
       "        [ -7.76029227,   8.99689043],\n",
       "        [  4.13047923,   0.62674064],\n",
       "        [  4.18901465,  -4.44944224],\n",
       "        [  2.96038348,  -3.88632793],\n",
       "        [  4.32287851,  -3.52355089],\n",
       "        [ -9.71862891,   9.63203138],\n",
       "        [  3.1728268 ,  -3.57346664],\n",
       "        [ -8.93541212,   1.87113931],\n",
       "        [  3.52707938,  -6.75018593],\n",
       "        [  4.36187963,  -0.53438617],\n",
       "        [  3.73431154,  -3.24850091],\n",
       "        [ -8.09543809,   9.16898373],\n",
       "        [  4.26069097,  -0.2875068 ],\n",
       "        [  5.56172211,   0.28323333],\n",
       "        [ -9.14022996,  10.72909694],\n",
       "        [  4.00979357,  -5.39593827],\n",
       "        [ -9.0362995 ,  11.39167856],\n",
       "        [ -8.42124982,  -0.35939671],\n",
       "        [-10.17459788,   0.52409061],\n",
       "        [-10.14019048,   9.92524663],\n",
       "        [ -9.23582621,   9.27250037],\n",
       "        [  4.74299388,  -0.49497496],\n",
       "        [  4.34048302,  -0.45273577],\n",
       "        [ -8.012587  ,   9.62828718],\n",
       "        [-10.22010451,   9.92191695],\n",
       "        [  5.24279617,   0.87610687],\n",
       "        [ -9.35199248,   0.24211553],\n",
       "        [ -9.09909958,   0.78039735],\n",
       "        [ -8.10648464,   0.95906998],\n",
       "        [  3.70644863,  -6.75220931],\n",
       "        [  3.9037491 ,  -3.86152658],\n",
       "        [  4.679108  ,   0.98998584],\n",
       "        [ -8.8972022 ,   1.55305831],\n",
       "        [  4.72802078,   2.02459457],\n",
       "        [ -9.23734577,  -0.76841019],\n",
       "        [ -9.47531073,  10.06906909],\n",
       "        [  2.1922961 ,   0.15252606],\n",
       "        [  6.16789682,   1.56718108],\n",
       "        [  6.59878407,  -0.80508442],\n",
       "        [ -9.24074991,   2.10638992],\n",
       "        [  2.99856986,  -3.58980829],\n",
       "        [ -9.58106605,   9.79172338],\n",
       "        [  0.09743239,  -5.78706467],\n",
       "        [  3.47983005,  -3.00711843],\n",
       "        [  4.48706603,   0.48251845],\n",
       "        [  3.78086652,  -4.97119415],\n",
       "        [ -9.58496061,   0.6222159 ],\n",
       "        [ -9.63156389,  -1.79336373],\n",
       "        [  5.88900008,  -0.57818904],\n",
       "        [  5.88528881,   1.86406198],\n",
       "        [  5.02696576,  -1.01416416],\n",
       "        [  5.45635474,  -0.53133531],\n",
       "        [ -7.98437259,   9.92524146],\n",
       "        [ -8.56894178,   9.52123307],\n",
       "        [  3.15046595,  -3.56104636],\n",
       "        [  5.0048117 ,  -0.8682454 ],\n",
       "        [ -9.05843697,  10.32777043],\n",
       "        [-10.3097072 ,   8.46541417],\n",
       "        [  3.86725353,  -4.89731994],\n",
       "        [ -7.89610644,   9.99312136],\n",
       "        [-10.43204166,  10.63192709],\n",
       "        [ -8.88203353,   9.15102461],\n",
       "        [ -9.26564983,  10.76338709],\n",
       "        [ -7.1748265 ,   9.27668082],\n",
       "        [ -9.48882351,  11.73420021],\n",
       "        [ -9.72501257,   2.50882754],\n",
       "        [  2.7033897 ,  -3.43113135],\n",
       "        [  4.33226274,  -4.90938562],\n",
       "        [ -8.11902332,   9.97523013],\n",
       "        [  5.83140804,   1.63510044],\n",
       "        [ -8.92658906,  -0.48224609],\n",
       "        [  5.40806167,   0.77246847],\n",
       "        [  5.95735881,   0.36120755],\n",
       "        [ -9.02509553,   9.32211052],\n",
       "        [  4.60576986,   1.61061783],\n",
       "        [ -8.57945523,   9.34021295],\n",
       "        [ -9.95998064,  -0.04446388],\n",
       "        [ -9.98894404,  -0.57063688],\n",
       "        [  6.01166471,  -1.3412962 ],\n",
       "        [  2.69330023,  -4.10879358],\n",
       "        [ -7.44608848,   0.66544497],\n",
       "        [ -9.61544307,  -0.38823092],\n",
       "        [  4.74241309,  -4.75003093],\n",
       "        [  3.76774101,  -4.51864036],\n",
       "        [  0.68876935,  -3.48634192],\n",
       "        [  5.16763147,   1.76025887],\n",
       "        [  2.30763014,  -5.36831843],\n",
       "        [ -8.95400239,   9.94453757],\n",
       "        [  3.38959466,   1.55674141],\n",
       "        [-11.44931818,   8.77165074],\n",
       "        [-10.75920751,  11.10886292],\n",
       "        [ -7.86571974,   0.61326986],\n",
       "        [  6.19274507,  -5.475315  ],\n",
       "        [ -9.96357651,   9.59557025],\n",
       "        [  4.64883904,   1.13313756],\n",
       "        [ -8.90875342,   2.75699287],\n",
       "        [  5.51199064,  -1.12445233],\n",
       "        [  4.65021879,   0.04957186],\n",
       "        [  1.94450698,  -4.8092314 ],\n",
       "        [  2.74517611,  -3.43491422],\n",
       "        [ -8.26022321,   9.51997896],\n",
       "        [  2.94892833,  -4.961034  ],\n",
       "        [ -9.03175158,  10.97814936],\n",
       "        [  3.20174426,  -4.36739591],\n",
       "        [-10.5411172 ,   9.60858271],\n",
       "        [  4.93541356,   1.76098997],\n",
       "        [ -8.87849603,   0.47095285],\n",
       "        [  5.98690313,   0.37897763],\n",
       "        [-10.13875012,   1.24791352],\n",
       "        [ -9.19979524,  11.39056366],\n",
       "        [ -8.85589156,   0.74253385],\n",
       "        [ -7.66306295,   2.24141049],\n",
       "        [  1.03506711,  -5.11852217],\n",
       "        [  4.12148433,  -4.69256123],\n",
       "        [ -8.73380885,   8.90610829],\n",
       "        [  2.85481417,  -3.8332508 ],\n",
       "        [ -8.62720546,   9.34046684],\n",
       "        [  4.49456408,   1.93732313],\n",
       "        [  5.68055906,   0.3696845 ],\n",
       "        [  5.72453043,  -1.0172828 ],\n",
       "        [ -7.19639194,   0.43664869],\n",
       "        [ -8.84963691,   9.90702283],\n",
       "        [  4.65247935,  -1.06770048],\n",
       "        [ -7.69609122,   7.72792842],\n",
       "        [ -9.63497866,   0.62209784],\n",
       "        [  2.79890035,  -3.68035203],\n",
       "        [ -8.96287316,   9.8215251 ],\n",
       "        [ -6.913071  ,   9.43452645],\n",
       "        [-11.81287148,   0.13340861],\n",
       "        [ -7.46547757,  -0.36694513],\n",
       "        [ -8.98508343,   0.71004622],\n",
       "        [  2.24456961,  -5.63320501],\n",
       "        [ -9.9289725 ,  -0.21945159],\n",
       "        [  6.08182296,  -0.39751446],\n",
       "        [  3.33679208,  -4.63856824],\n",
       "        [  6.14190933,   1.22778689],\n",
       "        [ -8.37607374,   0.97999026],\n",
       "        [ -7.78208912,   8.72111356],\n",
       "        [  5.1908513 ,   1.94325173],\n",
       "        [ -8.10250039,   1.87944473],\n",
       "        [ -7.70479347,  -1.33924345],\n",
       "        [ -7.94014597,  -0.37701319],\n",
       "        [ -7.83288246,   0.02910093],\n",
       "        [ -8.93949817,  10.53550694],\n",
       "        [ -9.08714125,   9.9717822 ],\n",
       "        [  2.95516398,  -5.95313974],\n",
       "        [ -8.81179606,   9.41059514],\n",
       "        [  4.66911241,   1.23539531],\n",
       "        [ -9.21039266,  11.38217562],\n",
       "        [  3.78673967,  -4.2033773 ]]),\n",
       " array([2, 2, 3, 3, 0, 0, 0, 0, 3, 0, 3, 1, 3, 0, 0, 3, 0, 3, 1, 0, 1, 1,\n",
       "        1, 3, 1, 3, 1, 0, 0, 0, 3, 1, 1, 1, 1, 3, 1, 1, 2, 2, 0, 2, 2, 1,\n",
       "        0, 1, 1, 2, 3, 0, 2, 3, 0, 0, 0, 2, 0, 1, 0, 3, 0, 2, 3, 3, 2, 0,\n",
       "        2, 1, 1, 2, 2, 3, 3, 2, 2, 3, 1, 1, 1, 0, 0, 3, 1, 3, 1, 2, 3, 3,\n",
       "        3, 1, 0, 2, 0, 0, 3, 0, 1, 1, 3, 3, 3, 3, 2, 2, 0, 3, 2, 2, 0, 2,\n",
       "        2, 2, 2, 2, 2, 1, 0, 0, 2, 3, 1, 3, 3, 2, 3, 2, 1, 1, 3, 0, 1, 1,\n",
       "        0, 0, 0, 3, 0, 2, 3, 2, 2, 1, 0, 2, 3, 1, 3, 3, 0, 0, 2, 0, 2, 0,\n",
       "        2, 3, 1, 3, 1, 2, 1, 1, 0, 0, 2, 0, 2, 3, 3, 3, 1, 2, 3, 2, 1, 0,\n",
       "        2, 2, 1, 1, 1, 0, 1, 3, 0, 3, 1, 2, 3, 1, 1, 1, 1, 2, 2, 0, 2, 3,\n",
       "        2, 0]))"
      ]
     },
     "execution_count": 8,
     "metadata": {},
     "output_type": "execute_result"
    }
   ],
   "source": [
    "datos"
   ]
  },
  {
   "cell_type": "code",
   "execution_count": 9,
   "id": "8ce146b9",
   "metadata": {},
   "outputs": [
    {
     "data": {
      "text/plain": [
       "array([2, 2, 3, 3, 0, 0, 0, 0, 3, 0, 3, 1, 3, 0, 0, 3, 0, 3, 1, 0, 1, 1,\n",
       "       1, 3, 1, 3, 1, 0, 0, 0, 3, 1, 1, 1, 1, 3, 1, 1, 2, 2, 0, 2, 2, 1,\n",
       "       0, 1, 1, 2, 3, 0, 2, 3, 0, 0, 0, 2, 0, 1, 0, 3, 0, 2, 3, 3, 2, 0,\n",
       "       2, 1, 1, 2, 2, 3, 3, 2, 2, 3, 1, 1, 1, 0, 0, 3, 1, 3, 1, 2, 3, 3,\n",
       "       3, 1, 0, 2, 0, 0, 3, 0, 1, 1, 3, 3, 3, 3, 2, 2, 0, 3, 2, 2, 0, 2,\n",
       "       2, 2, 2, 2, 2, 1, 0, 0, 2, 3, 1, 3, 3, 2, 3, 2, 1, 1, 3, 0, 1, 1,\n",
       "       0, 0, 0, 3, 0, 2, 3, 2, 2, 1, 0, 2, 3, 1, 3, 3, 0, 0, 2, 0, 2, 0,\n",
       "       2, 3, 1, 3, 1, 2, 1, 1, 0, 0, 2, 0, 2, 3, 3, 3, 1, 2, 3, 2, 1, 0,\n",
       "       2, 2, 1, 1, 1, 0, 1, 3, 0, 3, 1, 2, 3, 1, 1, 1, 1, 2, 2, 0, 2, 3,\n",
       "       2, 0])"
      ]
     },
     "execution_count": 9,
     "metadata": {},
     "output_type": "execute_result"
    }
   ],
   "source": [
    "datos[1] #<- en el 1 están los grupos."
   ]
  },
  {
   "cell_type": "code",
   "execution_count": 11,
   "id": "3beba8be",
   "metadata": {},
   "outputs": [
    {
     "data": {
      "text/plain": [
       "<matplotlib.collections.PathCollection at 0x157f87964f0>"
      ]
     },
     "execution_count": 11,
     "metadata": {},
     "output_type": "execute_result"
    },
    {
     "data": {
      "image/png": "[encoded data removed]",
      "text/plain": [
       "<Figure size 432x288 with 1 Axes>"
      ]
     },
     "metadata": {
      "needs_background": "light"
     },
     "output_type": "display_data"
    }
   ],
   "source": [
    "plt.scatter(datos[0][:,0], datos[0][:,1])\n",
    "                    #primer colum.   #segunda"
   ]
  },
  {
   "cell_type": "code",
   "execution_count": 12,
   "id": "9b8f2aa6",
   "metadata": {},
   "outputs": [],
   "source": [
    "from sklearn.cluster import KMeans"
   ]
  },
  {
   "cell_type": "code",
   "execution_count": 13,
   "id": "2b7cecf0",
   "metadata": {},
   "outputs": [],
   "source": [
    "modelo = KMeans(n_clusters=4)"
   ]
  },
  {
   "cell_type": "code",
   "execution_count": 14,
   "id": "56e74e37",
   "metadata": {},
   "outputs": [
    {
     "data": {
      "text/plain": [
       "KMeans(n_clusters=4)"
      ]
     },
     "execution_count": 14,
     "metadata": {},
     "output_type": "execute_result"
    }
   ],
   "source": [
    "modelo.fit(datos[0])"
   ]
  },
  {
   "cell_type": "code",
   "execution_count": 15,
   "id": "c28f8480",
   "metadata": {},
   "outputs": [
    {
     "data": {
      "text/plain": [
       "array([[ 4.9575123 ,  0.54286021],\n",
       "       [-8.97498165,  9.86075149],\n",
       "       [-8.92335869,  0.42093426],\n",
       "       [ 3.14808823, -4.63367988]])"
      ]
     },
     "execution_count": 15,
     "metadata": {},
     "output_type": "execute_result"
    }
   ],
   "source": [
    "modelo.cluster_centers_"
   ]
  },
  {
   "cell_type": "code",
   "execution_count": 16,
   "id": "8b01dc21",
   "metadata": {},
   "outputs": [
    {
     "data": {
      "text/plain": [
       "array([1, 1, 0, 0, 3, 3, 3, 3, 0, 3, 0, 2, 0, 3, 3, 0, 3, 0, 2, 3, 2, 2,\n",
       "       2, 0, 2, 0, 2, 3, 3, 3, 0, 2, 2, 2, 2, 0, 2, 2, 1, 1, 3, 1, 1, 2,\n",
       "       3, 2, 2, 1, 0, 3, 1, 0, 3, 3, 3, 1, 3, 2, 3, 0, 3, 1, 0, 0, 1, 3,\n",
       "       1, 2, 2, 1, 1, 0, 0, 1, 1, 0, 2, 2, 2, 3, 3, 0, 2, 0, 2, 1, 0, 0,\n",
       "       0, 2, 3, 1, 3, 3, 0, 3, 2, 2, 0, 0, 0, 0, 1, 1, 3, 0, 1, 1, 3, 1,\n",
       "       1, 1, 1, 1, 1, 2, 3, 3, 1, 0, 2, 0, 0, 1, 0, 1, 2, 2, 0, 3, 2, 2,\n",
       "       3, 3, 3, 0, 3, 1, 0, 1, 1, 2, 3, 1, 0, 2, 0, 0, 3, 3, 1, 3, 1, 3,\n",
       "       1, 0, 2, 0, 2, 1, 2, 2, 3, 3, 1, 3, 1, 0, 0, 0, 2, 1, 0, 1, 2, 3,\n",
       "       1, 1, 2, 2, 2, 3, 2, 0, 3, 0, 2, 1, 0, 2, 2, 2, 2, 1, 1, 3, 1, 0,\n",
       "       1, 3])"
      ]
     },
     "execution_count": 16,
     "metadata": {},
     "output_type": "execute_result"
    }
   ],
   "source": [
    "modelo.labels_ #<- ver las agrupaciones"
   ]
  },
  {
   "cell_type": "code",
   "execution_count": 17,
   "id": "73f3e075",
   "metadata": {},
   "outputs": [
    {
     "data": {
      "text/plain": [
       "array([2, 2, 3, 3, 0, 0, 0, 0, 3, 0, 3, 1, 3, 0, 0, 3, 0, 3, 1, 0, 1, 1,\n",
       "       1, 3, 1, 3, 1, 0, 0, 0, 3, 1, 1, 1, 1, 3, 1, 1, 2, 2, 0, 2, 2, 1,\n",
       "       0, 1, 1, 2, 3, 0, 2, 3, 0, 0, 0, 2, 0, 1, 0, 3, 0, 2, 3, 3, 2, 0,\n",
       "       2, 1, 1, 2, 2, 3, 3, 2, 2, 3, 1, 1, 1, 0, 0, 3, 1, 3, 1, 2, 3, 3,\n",
       "       3, 1, 0, 2, 0, 0, 3, 0, 1, 1, 3, 3, 3, 3, 2, 2, 0, 3, 2, 2, 0, 2,\n",
       "       2, 2, 2, 2, 2, 1, 0, 0, 2, 3, 1, 3, 3, 2, 3, 2, 1, 1, 3, 0, 1, 1,\n",
       "       0, 0, 0, 3, 0, 2, 3, 2, 2, 1, 0, 2, 3, 1, 3, 3, 0, 0, 2, 0, 2, 0,\n",
       "       2, 3, 1, 3, 1, 2, 1, 1, 0, 0, 2, 0, 2, 3, 3, 3, 1, 2, 3, 2, 1, 0,\n",
       "       2, 2, 1, 1, 1, 0, 1, 3, 0, 3, 1, 2, 3, 1, 1, 1, 1, 2, 2, 0, 2, 3,\n",
       "       2, 0])"
      ]
     },
     "execution_count": 17,
     "metadata": {},
     "output_type": "execute_result"
    }
   ],
   "source": [
    "datos[1] #<- agrupacion original"
   ]
  },
  {
   "cell_type": "code",
   "execution_count": 19,
   "id": "5e4acd3c",
   "metadata": {},
   "outputs": [
    {
     "data": {
      "text/plain": [
       "Text(0.5, 1.0, 'Agrupación original')"
      ]
     },
     "execution_count": 19,
     "metadata": {},
     "output_type": "execute_result"
    },
    {
     "data": {
      "image/png": "[encoded data removed]",
      "text/plain": [
       "<Figure size 864x288 with 2 Axes>"
      ]
     },
     "metadata": {
      "needs_background": "light"
     },
     "output_type": "display_data"
    }
   ],
   "source": [
    "fig, (ax1,ax2) = plt.subplots(1,2, figsize=(12,4))\n",
    "\n",
    "ax1.scatter(datos[0][:,0],datos[0][:,1],c=modelo.labels_)\n",
    "ax1.set_title(\"Algoritmo de K-Medias\")\n",
    "\n",
    "ax2.scatter(datos[0][:,0],datos[0][:,1],c=datos[1])\n",
    "ax2.set_title(\"Agrupación original\")"
   ]
  },
  {
   "cell_type": "code",
   "execution_count": null,
   "id": "00b981ef",
   "metadata": {},
   "outputs": [],
   "source": []
  }
 ],
 "metadata": {
  "kernelspec": {
   "display_name": "Python 3",
   "language": "python",
   "name": "python3"
  },
  "language_info": {
   "codemirror_mode": {
    "name": "ipython",
    "version": 3
   },
   "file_extension": ".py",
   "mimetype": "text/x-python",
   "name": "python",
   "nbconvert_exporter": "python",
   "pygments_lexer": "ipython3",
   "version": "3.8.8"
  }
 },
 "nbformat": 4,
 "nbformat_minor": 5
}
