{
 "cells": [
  {
   "cell_type": "code",
   "execution_count": 1,
   "id": "28ba562a",
   "metadata": {},
   "outputs": [],
   "source": [
    "import numpy as np"
   ]
  },
  {
   "cell_type": "markdown",
   "id": "7e6b6c2f",
   "metadata": {},
   "source": [
    "## Creando un array de una dimension"
   ]
  },
  {
   "cell_type": "code",
   "execution_count": 2,
   "id": "0fb334cd",
   "metadata": {},
   "outputs": [],
   "source": [
    "lista = [1,2,3,4]"
   ]
  },
  {
   "cell_type": "code",
   "execution_count": 3,
   "id": "ce117b1d",
   "metadata": {},
   "outputs": [],
   "source": [
    "array = np.array(lista)"
   ]
  },
  {
   "cell_type": "code",
   "execution_count": 4,
   "id": "0f36ca5a",
   "metadata": {},
   "outputs": [
    {
     "data": {
      "text/plain": [
       "array([1, 2, 3, 4])"
      ]
     },
     "execution_count": 4,
     "metadata": {},
     "output_type": "execute_result"
    }
   ],
   "source": [
    "array"
   ]
  },
  {
   "cell_type": "markdown",
   "id": "0b89cd80",
   "metadata": {},
   "source": [
    "## array de 2 dimensiones (matriz)"
   ]
  },
  {
   "cell_type": "code",
   "execution_count": 5,
   "id": "48196cee",
   "metadata": {},
   "outputs": [],
   "source": [
    "lista2 = [[1,2,3],[4,5,6],[7,8,9]]"
   ]
  },
  {
   "cell_type": "code",
   "execution_count": 6,
   "id": "55708784",
   "metadata": {},
   "outputs": [
    {
     "data": {
      "text/plain": [
       "[[1, 2, 3], [4, 5, 6], [7, 8, 9]]"
      ]
     },
     "execution_count": 6,
     "metadata": {},
     "output_type": "execute_result"
    }
   ],
   "source": [
    "lista2"
   ]
  },
  {
   "cell_type": "code",
   "execution_count": 7,
   "id": "eb2d52aa",
   "metadata": {},
   "outputs": [],
   "source": [
    "array2 = np.array(lista2)"
   ]
  },
  {
   "cell_type": "code",
   "execution_count": 8,
   "id": "15632b11",
   "metadata": {},
   "outputs": [
    {
     "data": {
      "text/plain": [
       "array([[1, 2, 3],\n",
       "       [4, 5, 6],\n",
       "       [7, 8, 9]])"
      ]
     },
     "execution_count": 8,
     "metadata": {},
     "output_type": "execute_result"
    }
   ],
   "source": [
    "array2"
   ]
  },
  {
   "cell_type": "code",
   "execution_count": null,
   "id": "a12edddc",
   "metadata": {},
   "outputs": [],
   "source": []
  },
  {
   "cell_type": "markdown",
   "id": "38bb312b",
   "metadata": {},
   "source": [
    "# Arrays, arange, zeros, ones, linspace , eye"
   ]
  },
  {
   "cell_type": "code",
   "execution_count": null,
   "id": "07947329",
   "metadata": {},
   "outputs": [],
   "source": []
  },
  {
   "cell_type": "code",
   "execution_count": 9,
   "id": "79764d0f",
   "metadata": {},
   "outputs": [],
   "source": [
    "array = np.arange(5) "
   ]
  },
  {
   "cell_type": "code",
   "execution_count": 10,
   "id": "1b872871",
   "metadata": {},
   "outputs": [
    {
     "data": {
      "text/plain": [
       "array([0, 1, 2, 3, 4])"
      ]
     },
     "execution_count": 10,
     "metadata": {},
     "output_type": "execute_result"
    }
   ],
   "source": [
    "array"
   ]
  },
  {
   "cell_type": "code",
   "execution_count": null,
   "id": "2dcc6f31",
   "metadata": {},
   "outputs": [],
   "source": []
  },
  {
   "cell_type": "markdown",
   "id": "8b10b8e4",
   "metadata": {},
   "source": [
    "## numpy tiene una funcion (arange) para generar un array con numeros."
   ]
  },
  {
   "cell_type": "code",
   "execution_count": 11,
   "id": "b75a27da",
   "metadata": {},
   "outputs": [
    {
     "data": {
      "text/plain": [
       "array([2, 3, 4, 5, 6, 7, 8, 9])"
      ]
     },
     "execution_count": 11,
     "metadata": {},
     "output_type": "execute_result"
    }
   ],
   "source": [
    "np.arange(2,10) "
   ]
  },
  {
   "cell_type": "code",
   "execution_count": 12,
   "id": "5b13f4f3",
   "metadata": {},
   "outputs": [
    {
     "data": {
      "text/plain": [
       "array([ 6,  8, 10, 12, 14, 16, 18, 20, 22, 24, 26, 28, 30, 32, 34, 36, 38])"
      ]
     },
     "execution_count": 12,
     "metadata": {},
     "output_type": "execute_result"
    }
   ],
   "source": [
    "np.arange(6,40,2)  #de 2 en 2"
   ]
  },
  {
   "cell_type": "code",
   "execution_count": null,
   "id": "5fd4dce7",
   "metadata": {},
   "outputs": [],
   "source": []
  },
  {
   "cell_type": "markdown",
   "id": "e03fd54e",
   "metadata": {},
   "source": [
    "## Zeros\n",
    "> genera matrices con 0."
   ]
  },
  {
   "cell_type": "code",
   "execution_count": 13,
   "id": "1fc35f8d",
   "metadata": {},
   "outputs": [
    {
     "data": {
      "text/plain": [
       "array([0., 0., 0.])"
      ]
     },
     "execution_count": 13,
     "metadata": {},
     "output_type": "execute_result"
    }
   ],
   "source": [
    "np.zeros(3) #genera un array con 3 elementos en 0"
   ]
  },
  {
   "cell_type": "code",
   "execution_count": 14,
   "id": "f03b6b93",
   "metadata": {},
   "outputs": [
    {
     "data": {
      "text/plain": [
       "array([[0., 0., 0., 0.],\n",
       "       [0., 0., 0., 0.],\n",
       "       [0., 0., 0., 0.]])"
      ]
     },
     "execution_count": 14,
     "metadata": {},
     "output_type": "execute_result"
    }
   ],
   "source": [
    "np.zeros((3,4)) #array de 2 dimensiones,con 3 filas y 4 columnas"
   ]
  },
  {
   "cell_type": "code",
   "execution_count": 15,
   "id": "d57c75cb",
   "metadata": {},
   "outputs": [],
   "source": [
    "#lo de zeros aplica tambien para np.ones"
   ]
  },
  {
   "cell_type": "code",
   "execution_count": 16,
   "id": "a813301c",
   "metadata": {},
   "outputs": [
    {
     "data": {
      "text/plain": [
       "array([1., 1., 1., 1.])"
      ]
     },
     "execution_count": 16,
     "metadata": {},
     "output_type": "execute_result"
    }
   ],
   "source": [
    "np.ones(4)"
   ]
  },
  {
   "cell_type": "code",
   "execution_count": 17,
   "id": "83152eb8",
   "metadata": {},
   "outputs": [
    {
     "data": {
      "text/plain": [
       "array([[1., 1., 1., 1., 1.],\n",
       "       [1., 1., 1., 1., 1.]])"
      ]
     },
     "execution_count": 17,
     "metadata": {},
     "output_type": "execute_result"
    }
   ],
   "source": [
    "np.ones((2,5))"
   ]
  },
  {
   "cell_type": "markdown",
   "id": "cc2bcd38",
   "metadata": {},
   "source": [
    "## Linspace\n",
    "> genera una matriz con numeros que van de un punto a otro, especificando un final."
   ]
  },
  {
   "cell_type": "code",
   "execution_count": 18,
   "id": "f2b63f51",
   "metadata": {},
   "outputs": [
    {
     "data": {
      "text/plain": [
       "array([5.        , 5.06122449, 5.12244898, 5.18367347, 5.24489796,\n",
       "       5.30612245, 5.36734694, 5.42857143, 5.48979592, 5.55102041,\n",
       "       5.6122449 , 5.67346939, 5.73469388, 5.79591837, 5.85714286,\n",
       "       5.91836735, 5.97959184, 6.04081633, 6.10204082, 6.16326531,\n",
       "       6.2244898 , 6.28571429, 6.34693878, 6.40816327, 6.46938776,\n",
       "       6.53061224, 6.59183673, 6.65306122, 6.71428571, 6.7755102 ,\n",
       "       6.83673469, 6.89795918, 6.95918367, 7.02040816, 7.08163265,\n",
       "       7.14285714, 7.20408163, 7.26530612, 7.32653061, 7.3877551 ,\n",
       "       7.44897959, 7.51020408, 7.57142857, 7.63265306, 7.69387755,\n",
       "       7.75510204, 7.81632653, 7.87755102, 7.93877551, 8.        ])"
      ]
     },
     "execution_count": 18,
     "metadata": {},
     "output_type": "execute_result"
    }
   ],
   "source": [
    "np.linspace(5,8,50) #de 5 hasta 8 y 50 elementos entre el 5 y el 8"
   ]
  },
  {
   "cell_type": "markdown",
   "id": "6d992e29",
   "metadata": {},
   "source": [
    "## Eye\n",
    "> genera una matriz cuadra, con el mismo numero en filas y columnas."
   ]
  },
  {
   "cell_type": "code",
   "execution_count": 19,
   "id": "f989a0ea",
   "metadata": {},
   "outputs": [
    {
     "data": {
      "text/plain": [
       "array([[1., 0., 0., 0., 0.],\n",
       "       [0., 1., 0., 0., 0.],\n",
       "       [0., 0., 1., 0., 0.],\n",
       "       [0., 0., 0., 1., 0.],\n",
       "       [0., 0., 0., 0., 1.]])"
      ]
     },
     "execution_count": 19,
     "metadata": {},
     "output_type": "execute_result"
    }
   ],
   "source": [
    "np.eye(5) #5 filas y 5 columnas, los elementos intermedios son 1"
   ]
  },
  {
   "cell_type": "code",
   "execution_count": null,
   "id": "d6d71c63",
   "metadata": {},
   "outputs": [],
   "source": []
  },
  {
   "cell_type": "markdown",
   "id": "3f9aa1e2",
   "metadata": {},
   "source": [
    "# Arrays - numeros aleatorios - rand y randn"
   ]
  },
  {
   "cell_type": "markdown",
   "id": "73f7db27",
   "metadata": {},
   "source": [
    "\n",
    "## Rand\n",
    "> Genera numeros aleatorios del 0 al 1"
   ]
  },
  {
   "cell_type": "code",
   "execution_count": 20,
   "id": "91b6ce0f",
   "metadata": {},
   "outputs": [
    {
     "data": {
      "text/plain": [
       "array([0.30148895, 0.95923378, 0.86069456, 0.54673857, 0.33856239])"
      ]
     },
     "execution_count": 20,
     "metadata": {},
     "output_type": "execute_result"
    }
   ],
   "source": [
    "np.random.rand(5)"
   ]
  },
  {
   "cell_type": "markdown",
   "id": "16196e85",
   "metadata": {},
   "source": [
    "> Dos dimensiones:"
   ]
  },
  {
   "cell_type": "code",
   "execution_count": 21,
   "id": "5834cfa7",
   "metadata": {},
   "outputs": [
    {
     "data": {
      "text/plain": [
       "array([[0.71643846, 0.03817908, 0.02423344],\n",
       "       [0.83754074, 0.6856679 , 0.48855519]])"
      ]
     },
     "execution_count": 21,
     "metadata": {},
     "output_type": "execute_result"
    }
   ],
   "source": [
    "np.random.rand(2,3)"
   ]
  },
  {
   "cell_type": "markdown",
   "id": "bebb2039",
   "metadata": {},
   "source": [
    "## Randn\n",
    "> incluye negativos y positivos sin limite (osae que no va de 0 a 1)."
   ]
  },
  {
   "cell_type": "code",
   "execution_count": null,
   "id": "ce2de17a",
   "metadata": {},
   "outputs": [],
   "source": []
  },
  {
   "cell_type": "markdown",
   "id": "10230821",
   "metadata": {},
   "source": [
    "## Numeros aleatorios enteros\n",
    "\n",
    "* Randint -> Necesita 2 parametros el primero es desde donde y el segundo hasta donde va a hacer el random.\n",
    "             Tambien, se le puede asignar un 3er parametro para establecer una cantidad de numeros aleatorios."
   ]
  },
  {
   "cell_type": "code",
   "execution_count": 22,
   "id": "9093cfd5",
   "metadata": {},
   "outputs": [
    {
     "data": {
      "text/plain": [
       "2"
      ]
     },
     "execution_count": 22,
     "metadata": {},
     "output_type": "execute_result"
    }
   ],
   "source": [
    "np.random.randint(1,4) "
   ]
  },
  {
   "cell_type": "code",
   "execution_count": 23,
   "id": "5d86cfb7",
   "metadata": {},
   "outputs": [
    {
     "data": {
      "text/plain": [
       "array([ 5,  1, 10,  5, 16])"
      ]
     },
     "execution_count": 23,
     "metadata": {},
     "output_type": "execute_result"
    }
   ],
   "source": [
    "np.random.randint(1,20,5)  #5 numeros aleatorios del 1 al 20"
   ]
  },
  {
   "cell_type": "code",
   "execution_count": null,
   "id": "f2408047",
   "metadata": {},
   "outputs": [],
   "source": []
  },
  {
   "cell_type": "markdown",
   "id": "9ec58765",
   "metadata": {},
   "source": [
    "## Cambiar tamaño de los array con Reshape"
   ]
  },
  {
   "cell_type": "code",
   "execution_count": 24,
   "id": "83e14116",
   "metadata": {},
   "outputs": [],
   "source": [
    "array = np.random.randint(1,100,25)"
   ]
  },
  {
   "cell_type": "code",
   "execution_count": 25,
   "id": "7a5823b4",
   "metadata": {},
   "outputs": [
    {
     "data": {
      "text/plain": [
       "array([58, 16, 95,  1, 99, 84, 84, 97, 75, 81, 98, 30,  5, 71, 26, 57, 73,\n",
       "       19, 17, 36, 12, 53, 20, 11, 52])"
      ]
     },
     "execution_count": 25,
     "metadata": {},
     "output_type": "execute_result"
    }
   ],
   "source": [
    "array"
   ]
  },
  {
   "cell_type": "code",
   "execution_count": 26,
   "id": "c80e8dca",
   "metadata": {},
   "outputs": [],
   "source": [
    "matriz = array.reshape(5,5) \n",
    "#para utilizar el reshape, se le debe asignar la cantidad de filas y columnas respectivas a la cantidad de numeros."
   ]
  },
  {
   "cell_type": "code",
   "execution_count": 27,
   "id": "ba6f0f5f",
   "metadata": {},
   "outputs": [
    {
     "data": {
      "text/plain": [
       "array([[58, 16, 95,  1, 99],\n",
       "       [84, 84, 97, 75, 81],\n",
       "       [98, 30,  5, 71, 26],\n",
       "       [57, 73, 19, 17, 36],\n",
       "       [12, 53, 20, 11, 52]])"
      ]
     },
     "execution_count": 27,
     "metadata": {},
     "output_type": "execute_result"
    }
   ],
   "source": [
    "matriz"
   ]
  },
  {
   "cell_type": "code",
   "execution_count": 28,
   "id": "bf74475c",
   "metadata": {},
   "outputs": [],
   "source": [
    "matriz = np.random.randint(1,100,21).reshape(3,7) "
   ]
  },
  {
   "cell_type": "code",
   "execution_count": 29,
   "id": "e68c8c3d",
   "metadata": {},
   "outputs": [
    {
     "data": {
      "text/plain": [
       "array([[26, 53, 26, 35, 79, 81,  5],\n",
       "       [ 5, 91, 47, 59, 45, 19,  7],\n",
       "       [90, 97, 94, 10,  9,  9, 92]])"
      ]
     },
     "execution_count": 29,
     "metadata": {},
     "output_type": "execute_result"
    }
   ],
   "source": [
    "matriz"
   ]
  },
  {
   "cell_type": "markdown",
   "id": "edcb753b",
   "metadata": {},
   "source": [
    "## Max y Min"
   ]
  },
  {
   "cell_type": "code",
   "execution_count": 30,
   "id": "0a8514b0",
   "metadata": {},
   "outputs": [],
   "source": [
    "array = np.random.randint(1,100,50)"
   ]
  },
  {
   "cell_type": "code",
   "execution_count": 31,
   "id": "4570bcd2",
   "metadata": {},
   "outputs": [
    {
     "data": {
      "text/plain": [
       "array([85, 45, 96, 16, 28, 69, 22, 50, 53, 20, 11, 50, 24, 73, 39, 57, 60,\n",
       "       87, 51, 16, 42, 61, 75, 45, 96, 53, 32, 87, 63, 82, 53, 34, 29, 36,\n",
       "       98, 45, 51, 68, 32, 99, 30, 21, 63, 44, 48, 99,  2, 97, 40, 17])"
      ]
     },
     "execution_count": 31,
     "metadata": {},
     "output_type": "execute_result"
    }
   ],
   "source": [
    "array"
   ]
  },
  {
   "cell_type": "code",
   "execution_count": 32,
   "id": "9e817cbb",
   "metadata": {},
   "outputs": [
    {
     "data": {
      "text/plain": [
       "99"
      ]
     },
     "execution_count": 32,
     "metadata": {},
     "output_type": "execute_result"
    }
   ],
   "source": [
    "valor_maximo = array.max()\n",
    "valor_maximo"
   ]
  },
  {
   "cell_type": "code",
   "execution_count": 33,
   "id": "f770e839",
   "metadata": {},
   "outputs": [
    {
     "data": {
      "text/plain": [
       "39"
      ]
     },
     "execution_count": 33,
     "metadata": {},
     "output_type": "execute_result"
    }
   ],
   "source": [
    "posicion_valor_maximo = array.argmax()\n",
    "posicion_valor_maximo"
   ]
  },
  {
   "cell_type": "code",
   "execution_count": 34,
   "id": "832b6ac9",
   "metadata": {},
   "outputs": [
    {
     "data": {
      "text/plain": [
       "2"
      ]
     },
     "execution_count": 34,
     "metadata": {},
     "output_type": "execute_result"
    }
   ],
   "source": [
    "valor_minimo = array.min()\n",
    "valor_minimo"
   ]
  },
  {
   "cell_type": "code",
   "execution_count": 35,
   "id": "301c5fbb",
   "metadata": {},
   "outputs": [
    {
     "data": {
      "text/plain": [
       "46"
      ]
     },
     "execution_count": 35,
     "metadata": {},
     "output_type": "execute_result"
    }
   ],
   "source": [
    "posicion_valor_minimo = array.argmin()\n",
    "posicion_valor_minimo"
   ]
  },
  {
   "cell_type": "markdown",
   "id": "6524259a",
   "metadata": {},
   "source": [
    "# Indexación en arrays\n",
    "> indexación -> acceder a los elementos de forma individual."
   ]
  },
  {
   "cell_type": "code",
   "execution_count": 36,
   "id": "47687459",
   "metadata": {},
   "outputs": [],
   "source": [
    "import numpy as np"
   ]
  },
  {
   "cell_type": "code",
   "execution_count": 37,
   "id": "3db11e8d",
   "metadata": {},
   "outputs": [
    {
     "data": {
      "text/plain": [
       "array([0, 1, 2, 3, 4, 5, 6, 7, 8, 9])"
      ]
     },
     "execution_count": 37,
     "metadata": {},
     "output_type": "execute_result"
    }
   ],
   "source": [
    "array = np.arange(0,10)\n",
    "array"
   ]
  },
  {
   "cell_type": "code",
   "execution_count": 38,
   "id": "df557631",
   "metadata": {},
   "outputs": [
    {
     "data": {
      "text/plain": [
       "0"
      ]
     },
     "execution_count": 38,
     "metadata": {},
     "output_type": "execute_result"
    }
   ],
   "source": [
    "array[0]"
   ]
  },
  {
   "cell_type": "code",
   "execution_count": 39,
   "id": "09ac72eb",
   "metadata": {},
   "outputs": [
    {
     "data": {
      "text/plain": [
       "9"
      ]
     },
     "execution_count": 39,
     "metadata": {},
     "output_type": "execute_result"
    }
   ],
   "source": [
    "array[-1] #ultima posición"
   ]
  },
  {
   "cell_type": "code",
   "execution_count": 40,
   "id": "e276089e",
   "metadata": {},
   "outputs": [
    {
     "data": {
      "text/plain": [
       "array([2, 3])"
      ]
     },
     "execution_count": 40,
     "metadata": {},
     "output_type": "execute_result"
    }
   ],
   "source": [
    "array[2:4] # de la 2 a la 4 - 1"
   ]
  },
  {
   "cell_type": "code",
   "execution_count": 41,
   "id": "d48f9145",
   "metadata": {},
   "outputs": [
    {
     "data": {
      "text/plain": [
       "array([0, 1, 2, 3, 4, 5, 6, 7, 8, 9])"
      ]
     },
     "execution_count": 41,
     "metadata": {},
     "output_type": "execute_result"
    }
   ],
   "source": [
    "array[:] #todo el array"
   ]
  },
  {
   "cell_type": "code",
   "execution_count": 42,
   "id": "57023cce",
   "metadata": {},
   "outputs": [
    {
     "data": {
      "text/plain": [
       "array([5, 6, 7, 8, 9])"
      ]
     },
     "execution_count": 42,
     "metadata": {},
     "output_type": "execute_result"
    }
   ],
   "source": [
    "array[5:] #de la pos 5 a la final"
   ]
  },
  {
   "cell_type": "code",
   "execution_count": 43,
   "id": "c94957fc",
   "metadata": {},
   "outputs": [
    {
     "data": {
      "text/plain": [
       "array([0, 1, 2, 3])"
      ]
     },
     "execution_count": 43,
     "metadata": {},
     "output_type": "execute_result"
    }
   ],
   "source": [
    "array[:4] #del inicio al 4 - 1"
   ]
  },
  {
   "cell_type": "markdown",
   "id": "51cabe30",
   "metadata": {},
   "source": [
    "### copias del array"
   ]
  },
  {
   "cell_type": "code",
   "execution_count": 44,
   "id": "13ce3b13",
   "metadata": {},
   "outputs": [
    {
     "data": {
      "text/plain": [
       "array([0, 1, 2, 3, 4, 5, 6, 7, 8, 9])"
      ]
     },
     "execution_count": 44,
     "metadata": {},
     "output_type": "execute_result"
    }
   ],
   "source": [
    "array2 = array.copy()\n",
    "array2"
   ]
  },
  {
   "cell_type": "markdown",
   "id": "6c4b9bbf",
   "metadata": {},
   "source": [
    "## Indexación en 2 dimensiones"
   ]
  },
  {
   "cell_type": "code",
   "execution_count": 45,
   "id": "859c59f9",
   "metadata": {},
   "outputs": [
    {
     "data": {
      "text/plain": [
       "array([[1, 2, 3],\n",
       "       [3, 4, 6],\n",
       "       [7, 8, 9]])"
      ]
     },
     "execution_count": 45,
     "metadata": {},
     "output_type": "execute_result"
    }
   ],
   "source": [
    "array = np.array([[1,2,3],[3,4,6],[7,8,9]])\n",
    "array"
   ]
  },
  {
   "cell_type": "code",
   "execution_count": 46,
   "id": "44ff8c32",
   "metadata": {},
   "outputs": [
    {
     "data": {
      "text/plain": [
       "array([1, 2, 3])"
      ]
     },
     "execution_count": 46,
     "metadata": {},
     "output_type": "execute_result"
    }
   ],
   "source": [
    "array[0]"
   ]
  },
  {
   "cell_type": "code",
   "execution_count": 47,
   "id": "36361084",
   "metadata": {},
   "outputs": [
    {
     "data": {
      "text/plain": [
       "array([[1, 2, 3],\n",
       "       [3, 4, 6]])"
      ]
     },
     "execution_count": 47,
     "metadata": {},
     "output_type": "execute_result"
    }
   ],
   "source": [
    "array[:2]"
   ]
  },
  {
   "cell_type": "code",
   "execution_count": 48,
   "id": "a1b6c0f1",
   "metadata": {},
   "outputs": [
    {
     "data": {
      "text/plain": [
       "1"
      ]
     },
     "execution_count": 48,
     "metadata": {},
     "output_type": "execute_result"
    }
   ],
   "source": [
    "array[0][0] #primera fila y primera columna"
   ]
  },
  {
   "cell_type": "code",
   "execution_count": 49,
   "id": "b0cdd968",
   "metadata": {},
   "outputs": [
    {
     "data": {
      "text/plain": [
       "1"
      ]
     },
     "execution_count": 49,
     "metadata": {},
     "output_type": "execute_result"
    }
   ],
   "source": [
    "array[0,0] #primera fila y primera columna"
   ]
  },
  {
   "cell_type": "markdown",
   "id": "98803abb",
   "metadata": {},
   "source": [
    "## Seleccionar elementos de un array según una condición."
   ]
  },
  {
   "cell_type": "code",
   "execution_count": 50,
   "id": "b3443262",
   "metadata": {},
   "outputs": [
    {
     "data": {
      "text/plain": [
       "array([0, 1, 2, 3, 4, 5, 6, 7, 8, 9])"
      ]
     },
     "execution_count": 50,
     "metadata": {},
     "output_type": "execute_result"
    }
   ],
   "source": [
    "array = np.arange(0,10)\n",
    "array"
   ]
  },
  {
   "cell_type": "code",
   "execution_count": 51,
   "id": "f055a5e2",
   "metadata": {},
   "outputs": [
    {
     "data": {
      "text/plain": [
       "array([False, False, False, False, False, False,  True,  True,  True,\n",
       "        True])"
      ]
     },
     "execution_count": 51,
     "metadata": {},
     "output_type": "execute_result"
    }
   ],
   "source": [
    "condicion = array > 5\n",
    "condicion"
   ]
  },
  {
   "cell_type": "code",
   "execution_count": 52,
   "id": "9ab072ee",
   "metadata": {},
   "outputs": [
    {
     "data": {
      "text/plain": [
       "array([6, 7, 8, 9])"
      ]
     },
     "execution_count": 52,
     "metadata": {},
     "output_type": "execute_result"
    }
   ],
   "source": [
    "array[condicion]"
   ]
  },
  {
   "cell_type": "code",
   "execution_count": 53,
   "id": "4e16a351",
   "metadata": {},
   "outputs": [],
   "source": [
    "arrayConCondicion = array[condicion]"
   ]
  },
  {
   "cell_type": "code",
   "execution_count": 54,
   "id": "9ebd6a3c",
   "metadata": {},
   "outputs": [
    {
     "data": {
      "text/plain": [
       "array([6, 7, 8, 9])"
      ]
     },
     "execution_count": 54,
     "metadata": {},
     "output_type": "execute_result"
    }
   ],
   "source": [
    "arrayConCondicion"
   ]
  },
  {
   "cell_type": "code",
   "execution_count": 55,
   "id": "5d4c1c65",
   "metadata": {},
   "outputs": [
    {
     "data": {
      "text/plain": [
       "array([0, 1, 2, 3, 4, 5])"
      ]
     },
     "execution_count": 55,
     "metadata": {},
     "output_type": "execute_result"
    }
   ],
   "source": [
    "array[array<6]"
   ]
  },
  {
   "cell_type": "code",
   "execution_count": 56,
   "id": "775dfde4",
   "metadata": {},
   "outputs": [
    {
     "data": {
      "text/plain": [
       "array([0, 2, 4, 6, 8])"
      ]
     },
     "execution_count": 56,
     "metadata": {},
     "output_type": "execute_result"
    }
   ],
   "source": [
    "array[ array % 2 == 0] #todos los pares"
   ]
  },
  {
   "cell_type": "markdown",
   "id": "64b69461",
   "metadata": {},
   "source": [
    "## Operaciones sobre los Arrays"
   ]
  },
  {
   "cell_type": "code",
   "execution_count": 57,
   "id": "9024079e",
   "metadata": {},
   "outputs": [
    {
     "data": {
      "text/plain": [
       "array([0, 1, 2, 3, 4, 5, 6, 7, 8, 9])"
      ]
     },
     "execution_count": 57,
     "metadata": {},
     "output_type": "execute_result"
    }
   ],
   "source": [
    "array = np.arange(0,10)\n",
    "array"
   ]
  },
  {
   "cell_type": "code",
   "execution_count": 58,
   "id": "a2fc8adf",
   "metadata": {},
   "outputs": [
    {
     "data": {
      "text/plain": [
       "array([ 0,  2,  4,  6,  8, 10, 12, 14, 16, 18])"
      ]
     },
     "execution_count": 58,
     "metadata": {},
     "output_type": "execute_result"
    }
   ],
   "source": [
    "array + array"
   ]
  },
  {
   "cell_type": "code",
   "execution_count": 59,
   "id": "24310fcd",
   "metadata": {},
   "outputs": [
    {
     "data": {
      "text/plain": [
       "array([0, 0, 0, 0, 0, 0, 0, 0, 0, 0])"
      ]
     },
     "execution_count": 59,
     "metadata": {},
     "output_type": "execute_result"
    }
   ],
   "source": [
    "array - array"
   ]
  },
  {
   "cell_type": "code",
   "execution_count": 60,
   "id": "880daaf2",
   "metadata": {},
   "outputs": [
    {
     "data": {
      "text/plain": [
       "array([  0, 100, 200, 300, 400, 500, 600, 700, 800, 900])"
      ]
     },
     "execution_count": 60,
     "metadata": {},
     "output_type": "execute_result"
    }
   ],
   "source": [
    "array * 100"
   ]
  },
  {
   "cell_type": "code",
   "execution_count": 61,
   "id": "5cc1ce3b",
   "metadata": {},
   "outputs": [
    {
     "data": {
      "text/plain": [
       "array([-1,  0,  1,  2,  3,  4,  5,  6,  7,  8])"
      ]
     },
     "execution_count": 61,
     "metadata": {},
     "output_type": "execute_result"
    }
   ],
   "source": [
    "array -1"
   ]
  },
  {
   "cell_type": "code",
   "execution_count": 62,
   "id": "f9d0058a",
   "metadata": {},
   "outputs": [
    {
     "data": {
      "text/plain": [
       "array([ 5,  6,  7,  8,  9, 10, 11, 12, 13, 14])"
      ]
     },
     "execution_count": 62,
     "metadata": {},
     "output_type": "execute_result"
    }
   ],
   "source": [
    "array2 = np.arange(5,15)\n",
    "array2"
   ]
  },
  {
   "cell_type": "code",
   "execution_count": 63,
   "id": "21d90b36",
   "metadata": {},
   "outputs": [
    {
     "data": {
      "text/plain": [
       "array([ 5,  7,  9, 11, 13, 15, 17, 19, 21, 23])"
      ]
     },
     "execution_count": 63,
     "metadata": {},
     "output_type": "execute_result"
    }
   ],
   "source": [
    "array2 + array"
   ]
  },
  {
   "cell_type": "code",
   "execution_count": 64,
   "id": "ba85fc4d",
   "metadata": {},
   "outputs": [
    {
     "data": {
      "text/plain": [
       "array([2.23606798, 2.44948974, 2.64575131, 2.82842712, 3.        ,\n",
       "       3.16227766, 3.31662479, 3.46410162, 3.60555128, 3.74165739])"
      ]
     },
     "execution_count": 64,
     "metadata": {},
     "output_type": "execute_result"
    }
   ],
   "source": [
    "np.sqrt(array2) #raiz cuadrada de cada elemento del array2"
   ]
  },
  {
   "cell_type": "markdown",
   "id": "6f5d91d3",
   "metadata": {},
   "source": [
    "# Ejercicios\n",
    "> crear una lista de numeros secuenciales de 10 a 39.\n",
    "\n",
    "> convertir la lista en una matriz de 2 dimensiones (3 filas x 10 columnas)\n",
    "\n",
    "> mostrar en pantalla el valor de la esquina superior derecha"
   ]
  },
  {
   "cell_type": "code",
   "execution_count": 65,
   "id": "41cb47f9",
   "metadata": {},
   "outputs": [
    {
     "data": {
      "text/plain": [
       "array([10, 11, 12, 13, 14, 15, 16, 17, 18, 19, 20, 21, 22, 23, 24, 25, 26,\n",
       "       27, 28, 29, 30, 31, 32, 33, 34, 35, 36, 37, 38, 39])"
      ]
     },
     "execution_count": 65,
     "metadata": {},
     "output_type": "execute_result"
    }
   ],
   "source": [
    "lista = np.arange(10,40)\n",
    "lista"
   ]
  },
  {
   "cell_type": "code",
   "execution_count": 66,
   "id": "474d351b",
   "metadata": {},
   "outputs": [
    {
     "data": {
      "text/plain": [
       "array([[10, 11, 12, 13, 14, 15, 16, 17, 18, 19],\n",
       "       [20, 21, 22, 23, 24, 25, 26, 27, 28, 29],\n",
       "       [30, 31, 32, 33, 34, 35, 36, 37, 38, 39]])"
      ]
     },
     "execution_count": 66,
     "metadata": {},
     "output_type": "execute_result"
    }
   ],
   "source": [
    "matriz_de_dos_dimensiones = lista.reshape(3,10)\n",
    "matriz_de_dos_dimensiones"
   ]
  },
  {
   "cell_type": "code",
   "execution_count": 67,
   "id": "b91be5d1",
   "metadata": {},
   "outputs": [
    {
     "name": "stdout",
     "output_type": "stream",
     "text": [
      "Valor de la ezquina superior derecha: 19\n"
     ]
    }
   ],
   "source": [
    "print(\"Valor de la ezquina superior derecha: \"+ str(matriz_de_dos_dimensiones[0,-1]))"
   ]
  },
  {
   "cell_type": "markdown",
   "id": "0b0995d4",
   "metadata": {},
   "source": [
    "> Crea un array de una dimension con 9 valores enteros aleatorios entre 0 y 100.\n",
    "> Convierte ese array en una matriz de 2 dimensiones, 3 filas y 3 columnas.\n",
    "> Muestra en pantalla el valor del elemento de la matriz de la esquina inferior derecha."
   ]
  },
  {
   "cell_type": "code",
   "execution_count": 68,
   "id": "aad1e014",
   "metadata": {},
   "outputs": [
    {
     "data": {
      "text/plain": [
       "array([97, 80, 56, 95, 81, 96, 53, 10, 67])"
      ]
     },
     "execution_count": 68,
     "metadata": {},
     "output_type": "execute_result"
    }
   ],
   "source": [
    "lista_ejer_2 = np.random.randint(0,100,9)\n",
    "lista_ejer_2"
   ]
  },
  {
   "cell_type": "code",
   "execution_count": 69,
   "id": "a0132611",
   "metadata": {},
   "outputs": [
    {
     "data": {
      "text/plain": [
       "array([[97, 80, 56],\n",
       "       [95, 81, 96],\n",
       "       [53, 10, 67]])"
      ]
     },
     "execution_count": 69,
     "metadata": {},
     "output_type": "execute_result"
    }
   ],
   "source": [
    "lista_ejer_2 = lista_ejer_2.reshape(3,3)\n",
    "lista_ejer_2"
   ]
  },
  {
   "cell_type": "code",
   "execution_count": 70,
   "id": "5046dd3f",
   "metadata": {},
   "outputs": [
    {
     "name": "stdout",
     "output_type": "stream",
     "text": [
      "valor del elemento de la matriz de la esquina inferior derecha: 67\n"
     ]
    }
   ],
   "source": [
    "print(\"valor del elemento de la matriz de la esquina inferior derecha: \"+ str(lista_ejer_2[-1,-1]))"
   ]
  }
 ],
 "metadata": {
  "kernelspec": {
   "display_name": "Python 3",
   "language": "python",
   "name": "python3"
  },
  "language_info": {
   "codemirror_mode": {
    "name": "ipython",
    "version": 3
   },
   "file_extension": ".py",
   "mimetype": "text/x-python",
   "name": "python",
   "nbconvert_exporter": "python",
   "pygments_lexer": "ipython3",
   "version": "3.8.8"
  },
  "widgets": {
   "application/vnd.jupyter.widget-state+json": {
    "state": {},
    "version_major": 2,
    "version_minor": 0
   }
  }
 },
 "nbformat": 4,
 "nbformat_minor": 5
}
